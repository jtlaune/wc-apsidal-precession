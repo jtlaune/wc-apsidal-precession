{
 "cells": [
  {
   "cell_type": "code",
   "execution_count": 1,
   "metadata": {},
   "outputs": [
    {
     "name": "stdout",
     "output_type": "stream",
     "text": [
      "IPython console for SymPy 1.12 (Python 3.12.0-64-bit) (ground types: python)\n",
      "\n",
      "These commands were executed:\n",
      ">>> from sympy import *\n",
      ">>> x, y, z, t = symbols('x y z t')\n",
      ">>> k, m, n = symbols('k m n', integer=True)\n",
      ">>> f, g, h = symbols('f g h', cls=Function)\n",
      ">>> init_printing()\n",
      "\n",
      "Documentation can be found at https://docs.sympy.org/1.12/\n",
      "\n"
     ]
    }
   ],
   "source": [
    "from sympy import init_session\n",
    "import matplotlib as mpl\n",
    "import matplotlib.pyplot as plt\n",
    "from mpl_styles import analytic\n",
    "import numpy as npy\n",
    "import scipy as sp\n",
    "%matplotlib widget\n",
    "import os, glob, pathlib\n",
    "from loky import get_reusable_executor\n",
    "import dill as pickle\n",
    "from sympy.utilities.lambdify import lambdastr\n",
    "init_session()"
   ]
  },
  {
   "cell_type": "code",
   "execution_count": 2,
   "metadata": {},
   "outputs": [],
   "source": [
    "EXPRS = {}"
   ]
  },
  {
   "cell_type": "code",
   "execution_count": 3,
   "metadata": {},
   "outputs": [],
   "source": [
    "def term_simplify(expr):\n",
    "    run = 0\n",
    "    for arg in expr.args:\n",
    "        run += arg.simplify()\n",
    "    return(run)\n",
    "def term_multiply(expr, mult):\n",
    "    run = 0\n",
    "    for term in expr.args:\n",
    "        run += term*mult\n",
    "    term_simplify(run)\n",
    "    return(run)"
   ]
  },
  {
   "cell_type": "code",
   "execution_count": 4,
   "metadata": {},
   "outputs": [],
   "source": [
    "# Positive constant\n",
    "G, M, mp, ep, b, bp, j, mup, tm, b1_3_2, b2_3_2 = symbols(\"G M m_p e_p beta beta_p j mu_p tau_m b_{3/2}^{(1)}(\\\\alpha_0) b_{3/2}^{(2)}(\\\\alpha_0)\", positive=True)\n",
    "# Precession frequencies\n",
    "om, omp = symbols(\"omega omega_p\")\n",
    "# Functions of time\n",
    "ap, lp, np, a, e, l, pom, th, thp, alpha = symbols(\"a_p lambda_p n_p a e lambda varpi theta theta_p alpha\") \n",
    "# Actions\n",
    "Gam, Lam = symbols(\"Gamma Lambda\", positive=True)\n",
    "# Derivatives\n",
    "dth, dthp = symbols(r\"\\dot\\theta \\dot\\theta_p\")"
   ]
  },
  {
   "cell_type": "code",
   "execution_count": 5,
   "metadata": {},
   "outputs": [],
   "source": [
    "EXPRS[thp] =  (j + 1) * l - j * lp - omp * t\n",
    "EXPRS[th] = (j + 1) * l - j * lp - pom"
   ]
  },
  {
   "cell_type": "code",
   "execution_count": 6,
   "metadata": {},
   "outputs": [
    {
     "data": {
      "image/png": "[encoded data removed]",
      "text/latex": [
       "$\\displaystyle - \\frac{\\sqrt{G} \\sqrt{M} \\sqrt{a} e^{2} \\omega}{2} - \\frac{G M}{2 a} - \\frac{G \\beta e m_{p} \\cos{\\left(\\theta \\right)}}{a_{p}} + \\frac{G \\beta_{p} e_{p} m_{p} \\cos{\\left(\\theta_{p} \\right)}}{a_{p}}$"
      ],
      "text/plain": [
       "            2                                               \n",
       "  √G⋅√M⋅√a⋅e ⋅ω   G⋅M   G⋅β⋅e⋅mₚ⋅cos(θ)   G⋅βₚ⋅eₚ⋅mₚ⋅cos(θₚ)\n",
       "- ───────────── - ─── - ─────────────── + ──────────────────\n",
       "        2         2⋅a          aₚ                 aₚ        "
      ]
     },
     "execution_count": 6,
     "metadata": {},
     "output_type": "execute_result"
    }
   ],
   "source": [
    "H_expr = - G*M/(2*a) - Rational(1,2)*sqrt(G*M*a)*e**2*om + G*mp/ap*bp*ep*cos(thp) - G*mp/ap*b*e*cos(th)\n",
    "H_expr"
   ]
  },
  {
   "cell_type": "code",
   "execution_count": 7,
   "metadata": {},
   "outputs": [
    {
     "data": {
      "image/png": "[encoded data removed]",
      "text/latex": [
       "$\\displaystyle - \\frac{G^{2} M^{2}}{2 \\Lambda^{2}} - \\frac{\\sqrt{2} G \\sqrt{\\Gamma} \\beta m_{p} \\cos{\\left(\\theta \\right)}}{\\sqrt{\\Lambda} a_{p}} + \\frac{G \\beta_{p} e_{p} m_{p} \\cos{\\left(\\theta_{p} \\right)}}{a_{p}} - \\Gamma \\omega$"
      ],
      "text/plain": [
       "   2  2                                                 \n",
       "  G ⋅M    √2⋅G⋅√Γ⋅β⋅mₚ⋅cos(θ)   G⋅βₚ⋅eₚ⋅mₚ⋅cos(θₚ)      \n",
       "- ───── - ─────────────────── + ────────────────── - Γ⋅ω\n",
       "      2          √Λ⋅aₚ                  aₚ              \n",
       "   2⋅Λ                                                  "
      ]
     },
     "execution_count": 7,
     "metadata": {},
     "output_type": "execute_result"
    }
   ],
   "source": [
    "H = H_expr.subs(\n",
    "    {\n",
    "        Rational(1, 2) * sqrt(G * M * a) * e**2: Gam,\n",
    "        e: sqrt(2 * Gam / Lam),\n",
    "        a: Lam**2 / (G * M),\n",
    "    }\n",
    ")\n",
    "H = term_simplify(H)\n",
    "H"
   ]
  },
  {
   "cell_type": "code",
   "execution_count": 8,
   "metadata": {},
   "outputs": [],
   "source": [
    "def diff(expr, var):\n",
    "    run = expr.diff(var)\n",
    "    for key in EXPRS.keys():\n",
    "        run += expr.diff(key)*EXPRS[key].diff(var)\n",
    "    return(run)"
   ]
  },
  {
   "cell_type": "markdown",
   "metadata": {},
   "source": [
    "Right now, keeping ALL terms, and removing $\\mathcal O(\\mu_p^2)$ in the Latex document"
   ]
  },
  {
   "cell_type": "code",
   "execution_count": 9,
   "metadata": {},
   "outputs": [
    {
     "data": {
      "image/png": "[encoded data removed]",
      "text/latex": [
       "$\\displaystyle \\frac{a a_{p} b_{3/2}^{(1)}(\\alpha_0) e^{2} \\mu_{p} n^{2}}{8} - \\frac{a a_{p} b_{3/2}^{(2)}(\\alpha_0) e e_{p} \\mu_{p} n^{2} \\cos{\\left(\\omega_{p} t - \\varpi \\right)}}{4}$"
      ],
      "text/plain": [
       "                               2     2                                        \n",
       "a⋅aₚ⋅b_{3/2}_0)__{(1)}(\\alpha⋅e ⋅μₚ⋅n    a⋅aₚ⋅b_{3/2}_0)__{(2)}(\\alpha⋅e⋅eₚ⋅μₚ\n",
       "────────────────────────────────────── - ─────────────────────────────────────\n",
       "                  8                                                  4        \n",
       "\n",
       "  2                  \n",
       "⋅n ⋅cos(ωₚ⋅t - varpi)\n",
       "─────────────────────\n",
       "                     "
      ]
     },
     "execution_count": 9,
     "metadata": {},
     "output_type": "execute_result"
    }
   ],
   "source": [
    "R = mup*n**2*a**2*Rational(1,8)*(ap/a)*b1_3_2*e**2 - mup*n**2*a**2*Rational(1,4)*(ap/a)*b2_3_2*e*ep*cos(omp*t-pom)\n",
    "R"
   ]
  },
  {
   "cell_type": "markdown",
   "metadata": {},
   "source": [
    "# EOMs"
   ]
  },
  {
   "cell_type": "markdown",
   "metadata": {},
   "source": [
    "## $\\dot \\Lambda$"
   ]
  },
  {
   "cell_type": "code",
   "execution_count": null,
   "metadata": {},
   "outputs": [],
   "source": [
    "Lamdot = (\n",
    "    -diff(H, l)\n",
    "    .subs(mp, mup * M)\n",
    "    .subs({sqrt(Gam): sqrt(Lam / 2) * e})\n",
    "    .subs({Lam: sqrt(G * M * a)})\n",
    "    .subs({sqrt(G * M): n * a ** Rational(3, 2)})\n",
    ")\n",
    "Lamdot"
   ]
  },
  {
   "cell_type": "markdown",
   "metadata": {},
   "source": [
    "## $\\dot n$"
   ]
  },
  {
   "cell_type": "code",
   "execution_count": null,
   "metadata": {},
   "outputs": [],
   "source": [
    "ndot = term_multiply(Lamdot, -3 * n**2 * a / (G * M))\n",
    "ndot = (\n",
    "    ndot.subs({sqrt(2 * Gam / Lam): e})\n",
    "    .subs({sqrt(Gam): sqrt(Lam / 2) * e})\n",
    "    .subs({Lam: sqrt(G * M * a)})\n",
    "    .subs({sqrt(G * M): n * a ** Rational(3, 2)})\n",
    ")\n",
    "ndot"
   ]
  },
  {
   "cell_type": "markdown",
   "metadata": {},
   "source": [
    "## $\\dot a$"
   ]
  },
  {
   "cell_type": "code",
   "execution_count": null,
   "metadata": {},
   "outputs": [],
   "source": [
    "adot = term_multiply(Lamdot, 2/(n*a))\n",
    "adot"
   ]
  },
  {
   "cell_type": "markdown",
   "metadata": {},
   "source": [
    "## $\\dot \\Gamma$"
   ]
  },
  {
   "cell_type": "code",
   "execution_count": null,
   "metadata": {},
   "outputs": [],
   "source": [
    "Gamdot = (\n",
    "    diff(H, pom)\n",
    "    .subs(mp, mup * M)\n",
    "    .subs({sqrt(Gam): sqrt(Lam / 2) * e})\n",
    "    .subs({Lam: sqrt(G * M * a)})\n",
    "    .subs({sqrt(G * M): n * a ** Rational(3, 2)})\n",
    ")\n",
    "Gamdot"
   ]
  },
  {
   "cell_type": "markdown",
   "metadata": {},
   "source": [
    "## $\\dot e$"
   ]
  },
  {
   "cell_type": "code",
   "execution_count": null,
   "metadata": {},
   "outputs": [],
   "source": [
    "edot = Gamdot/(Lam*e) - term_multiply(Lamdot, Rational(1,2)/Lam*e)\n",
    "edot = edot.subs({sqrt(2*Gam/Lam):e})\n",
    "edot = edot.subs({Lam:sqrt(G*M*a)}).subs({sqrt(G*M):n*a**Rational(3,2)})\n",
    "edot"
   ]
  },
  {
   "cell_type": "markdown",
   "metadata": {},
   "source": [
    "## $\\dot \\varpi$"
   ]
  },
  {
   "cell_type": "code",
   "execution_count": null,
   "metadata": {},
   "outputs": [],
   "source": [
    "pomdot = (\n",
    "    (-diff(H, Gam))\n",
    "    .subs(mp, mup * M)\n",
    "    .subs({sqrt(Gam): sqrt(Lam / 2) * e})\n",
    "    .subs({Lam: sqrt(G * M * a)})\n",
    "    .subs({sqrt(G * M): n * a ** Rational(3, 2)})\n",
    ")\n",
    "pomdot"
   ]
  },
  {
   "cell_type": "markdown",
   "metadata": {},
   "source": [
    "## $\\dot \\lambda$"
   ]
  },
  {
   "cell_type": "code",
   "execution_count": null,
   "metadata": {},
   "outputs": [],
   "source": [
    "ldot = (\n",
    "    diff(H, Lam)\n",
    "    .subs(mp, mup * M)\n",
    "    .subs({sqrt(Gam): sqrt(Lam / 2) * e})\n",
    "    .subs({Lam: sqrt(G * M * a)})\n",
    "    .subs({sqrt(G * M): n * a ** Rational(3, 2)})\n",
    ")\n",
    "\n",
    "ldot"
   ]
  },
  {
   "cell_type": "markdown",
   "metadata": {},
   "source": [
    "## $\\dot \\theta_p$"
   ]
  },
  {
   "cell_type": "code",
   "execution_count": null,
   "metadata": {},
   "outputs": [],
   "source": [
    "thpdot = term_multiply(ldot,(j+1)) - j*np - omp\n",
    "thpdot"
   ]
  },
  {
   "cell_type": "code",
   "execution_count": null,
   "metadata": {},
   "outputs": [],
   "source": [
    "print(latex(thpdot))"
   ]
  },
  {
   "cell_type": "markdown",
   "metadata": {},
   "source": [
    "## $\\ddot\\lambda$"
   ]
  },
  {
   "cell_type": "code",
   "execution_count": null,
   "metadata": {},
   "outputs": [],
   "source": [
    "ldot"
   ]
  },
  {
   "cell_type": "code",
   "execution_count": null,
   "metadata": {},
   "outputs": [],
   "source": [
    "lddot = (\n",
    "    (\n",
    "        diff(ldot, th) * dth \n",
    "        +term_multiply(adot,diff(ldot, a))\n",
    "        +term_multiply(edot,diff(ldot, e))\n",
    "        +term_multiply(ndot,diff(ldot, n).args[0])\n",
    "        +term_multiply(ndot,diff(ldot, n).args[1])\n",
    "        +diff(ldot,ap)*(-2*ap/(3*tm))\n",
    "    )\n",
    ") \n",
    "lddot"
   ]
  },
  {
   "cell_type": "code",
   "execution_count": null,
   "metadata": {},
   "outputs": [],
   "source": [
    "#lddot = (lddot + O(mup**2)).removeO() # first order in mu_p since theres not 1/e terms\n",
    "#lddot"
   ]
  },
  {
   "cell_type": "markdown",
   "metadata": {},
   "source": [
    "## $\\ddot\\varpi$"
   ]
  },
  {
   "cell_type": "code",
   "execution_count": null,
   "metadata": {},
   "outputs": [],
   "source": [
    "pomdot"
   ]
  },
  {
   "cell_type": "code",
   "execution_count": null,
   "metadata": {},
   "outputs": [],
   "source": [
    "pomddot = (\n",
    "    (\n",
    "        diff(pomdot, th) * dth \n",
    "        +term_multiply(adot,diff(pomdot, a))\n",
    "        +term_multiply(edot,diff(pomdot, e))\n",
    "        +term_multiply(ndot,diff(pomdot, n))\n",
    "        +diff(pomdot,ap)*(-2*ap/(3*tm))\n",
    "    )\n",
    ") \n",
    "pomddot"
   ]
  },
  {
   "cell_type": "markdown",
   "metadata": {},
   "source": [
    "## $\\ddot\\theta_p$"
   ]
  },
  {
   "cell_type": "code",
   "execution_count": null,
   "metadata": {},
   "outputs": [],
   "source": [
    "thpddot = term_multiply(lddot,(j+1)) - j*np/tm\n",
    "thpddot"
   ]
  },
  {
   "cell_type": "code",
   "execution_count": null,
   "metadata": {},
   "outputs": [],
   "source": [
    "print(latex(thpddot.subs(a/ap,alpha**(-1))))"
   ]
  },
  {
   "cell_type": "markdown",
   "metadata": {},
   "source": [
    "## $\\ddot\\theta$"
   ]
  },
  {
   "cell_type": "code",
   "execution_count": null,
   "metadata": {},
   "outputs": [],
   "source": [
    "thddot = thpddot - pomddot\n",
    "thddot"
   ]
  },
  {
   "cell_type": "code",
   "execution_count": null,
   "metadata": {},
   "outputs": [],
   "source": [
    "thddot.collect(dth)"
   ]
  },
  {
   "cell_type": "markdown",
   "metadata": {},
   "source": [
    "## $\\dot\\varpi_{\\rm sec}$"
   ]
  },
  {
   "cell_type": "code",
   "execution_count": null,
   "metadata": {},
   "outputs": [],
   "source": [
    "pomdsec = term_multiply(diff(R,e),1/(n*a**2*e))\n",
    "pomdsec"
   ]
  },
  {
   "cell_type": "markdown",
   "metadata": {},
   "source": [
    "## $\\dot e_{\\rm sec}$"
   ]
  },
  {
   "cell_type": "code",
   "execution_count": null,
   "metadata": {},
   "outputs": [],
   "source": [
    "edsec = -diff(R,pom)/(n*a**2*e)\n",
    "edsec"
   ]
  },
  {
   "cell_type": "markdown",
   "metadata": {},
   "source": [
    "# Solutions to algebraic $\\dot X, \\dot P = 0$ equations"
   ]
  },
  {
   "cell_type": "markdown",
   "metadata": {},
   "source": [
    "Using units $n=1$"
   ]
  },
  {
   "cell_type": "code",
   "execution_count": null,
   "metadata": {},
   "outputs": [],
   "source": [
    "soln = ndot.subs({ap:alpha*a,n:1})\n",
    "soln"
   ]
  },
  {
   "cell_type": "code",
   "execution_count": null,
   "metadata": {},
   "outputs": [],
   "source": [
    "sole = edot.subs({ap:alpha*a,n:1})\n",
    "sole"
   ]
  },
  {
   "cell_type": "code",
   "execution_count": null,
   "metadata": {},
   "outputs": [],
   "source": [
    "solpom = pomdot.subs({ap:alpha*a,n:1})\n",
    "solpom"
   ]
  },
  {
   "cell_type": "code",
   "execution_count": null,
   "metadata": {},
   "outputs": [],
   "source": [
    "solthp = thpdot.subs({ap:alpha*a,n:1,np:alpha**Rational(-3,2)})\n",
    "solthp"
   ]
  },
  {
   "cell_type": "code",
   "execution_count": null,
   "metadata": {},
   "outputs": [],
   "source": [
    "solth = solthp + omp - solpom\n",
    "solth"
   ]
  },
  {
   "cell_type": "code",
   "execution_count": null,
   "metadata": {},
   "outputs": [],
   "source": [
    "params = {\n",
    "    j: 2,\n",
    "    om: 0,\n",
    "    omp: 0,\n",
    "    mup: 1e-3,\n",
    "    bp: 1.5455341716765871,\n",
    "    b: 1.8956507412695471,\n",
    "    alpha: 0.7631428283688879-0.001,\n",
    "    ep: 0.01\n",
    "}\n",
    "funs = [iterfun.subs(params) for iterfun in [soln, sole, solthp]]"
   ]
  },
  {
   "cell_type": "code",
   "execution_count": null,
   "metadata": {},
   "outputs": [],
   "source": [
    "funs"
   ]
  },
  {
   "cell_type": "code",
   "execution_count": null,
   "metadata": {},
   "outputs": [],
   "source": [
    "xp = [e,thp,th]"
   ]
  },
  {
   "cell_type": "code",
   "execution_count": null,
   "metadata": {},
   "outputs": [],
   "source": [
    "funcl = lambdify(xp,funs)\n",
    "def func(x0):\n",
    "    return(funcl(*x0))"
   ]
  },
  {
   "cell_type": "code",
   "execution_count": null,
   "metadata": {},
   "outputs": [],
   "source": [
    "func([0.01,0.764,0.9*npy.pi])"
   ]
  },
  {
   "cell_type": "code",
   "execution_count": null,
   "metadata": {},
   "outputs": [],
   "source": [
    "jacs = []\n",
    "for fun in funs:\n",
    "    run = []\n",
    "    for xit in xp:\n",
    "        run += [fun.diff(xit)]\n",
    "    jacs += [run]\n",
    "jacs"
   ]
  },
  {
   "cell_type": "code",
   "execution_count": null,
   "metadata": {},
   "outputs": [],
   "source": [
    "jacl = lambdify(xp,jacs)\n",
    "def jac(x0):\n",
    "    return(jacl(*x0))"
   ]
  },
  {
   "cell_type": "code",
   "execution_count": null,
   "metadata": {},
   "outputs": [],
   "source": [
    "jac([0.01,0.764,0.9*npy.pi])"
   ]
  },
  {
   "cell_type": "code",
   "execution_count": null,
   "metadata": {},
   "outputs": [],
   "source": [
    "sol = sp.optimize.root(func, [0.001,1.,2.], method=\"krylov\", jac=jac, tol=1e-12)\n",
    "sol"
   ]
  },
  {
   "cell_type": "code",
   "execution_count": null,
   "metadata": {},
   "outputs": [],
   "source": [
    "sol.x[2] / npy.pi"
   ]
  },
  {
   "cell_type": "markdown",
   "metadata": {},
   "source": [
    "# Right hand side for numerical integrations"
   ]
  },
  {
   "cell_type": "code",
   "execution_count": null,
   "metadata": {},
   "outputs": [],
   "source": [
    "Eq(np,exp(-t/tm))"
   ]
  },
  {
   "cell_type": "code",
   "execution_count": null,
   "metadata": {},
   "outputs": [],
   "source": [
    "TMVAL = 2 * npy.pi * 1e6\n",
    "convs = {}\n",
    "convs = {ap: n ** Rational(2, 3) / np ** Rational(2, 3) * a, th: thp + omp * t - pom}\n",
    "params = {}\n",
    "params = {\n",
    "    j: 2,\n",
    "    mup: 5e-5,\n",
    "    bp: 1.5455341716765871,\n",
    "    b: 1.8956507412695471,\n",
    "    #ep: 0.1,\n",
    "    b1_3_2: 9.222398400061197,\n",
    "    b2_3_2: 8.002091900497529,\n",
    "}\n",
    "\n",
    "alpha0val = (params[j] / (params[j] + 1)) ** (2.0 / 3)\n",
    "#params[omp] = 0\n",
    "#params[om] = params[omp] * alpha0val**3.5\n",
    "\n",
    "\n",
    "funs = [\n",
    "    iterfun.subs(convs).subs(params)\n",
    "    for iterfun in [ndot, edot + edsec, pomdot + pomdsec, thpdot]\n",
    "]\n",
    "funs"
   ]
  },
  {
   "cell_type": "code",
   "execution_count": null,
   "metadata": {},
   "outputs": [],
   "source": [
    "xp = [n, e, pom, thp, np, t]"
   ]
  },
  {
   "cell_type": "code",
   "execution_count": null,
   "metadata": {},
   "outputs": [],
   "source": [
    "lambdastr(xp, funs).replace(\"math\", \"npy\")"
   ]
  },
  {
   "cell_type": "code",
   "execution_count": null,
   "metadata": {},
   "outputs": [],
   "source": [
    "funcl = lambdify(xp, funs)\n",
    "\n",
    "\n",
    "def func(t, x0):\n",
    "    npval = npy.exp(-t/TMVAL)\n",
    "    #npval = 1 - t / TMVAL\n",
    "    return funcl(*x0, npval, t)"
   ]
  },
  {
   "cell_type": "code",
   "execution_count": null,
   "metadata": {},
   "outputs": [],
   "source": [
    "teval = npy.linspace(0, 2 * npy.pi * 7.5e5, 10000)\n",
    "sol = sp.integrate.solve_ivp(\n",
    "    func,\n",
    "    [teval[0], teval[-1]],\n",
    "    [1/1.55, 0.001, 1, 2],\n",
    "    t_eval=teval,\n",
    "    rtol=1e-9,\n",
    "    #atol=1e-9,\n",
    "    method=\"DOP853\",\n",
    ")"
   ]
  },
  {
   "cell_type": "code",
   "execution_count": null,
   "metadata": {},
   "outputs": [],
   "source": [
    "fig, ax = plt.subplots()\n",
    "#ax.plot(sol.t,sol.y[0,:])\n",
    "ax.plot(sol.t,sol.y[0,:]/npy.exp(-sol.t/TMVAL))\n",
    "#ax.plot(sol.t,sol.y[1,:])\n",
    "#ax.scatter(sol.t,sol.y[2,:]%(2*npy.pi))\n",
    "#ax.scatter(sol.t,sol.y[3,:]%(2*npy.pi))\n",
    "#ax.scatter(sol.t,(sol.y[3,:]+params[omp]*sol.t-sol.y[2,:])%(2*npy.pi))"
   ]
  },
  {
   "cell_type": "markdown",
   "metadata": {},
   "source": [
    "# Physical sources of apsidal precession"
   ]
  },
  {
   "cell_type": "code",
   "execution_count": 39,
   "metadata": {},
   "outputs": [],
   "source": [
    "MUJUP = 9.55e-4\n",
    "MUURN = 4.366e-5\n",
    "MUSAT = 2.858e-4\n",
    "SMAJUP = 5.20\n",
    "SMAURN = 9.54\n",
    "SMASAT = 19.19"
   ]
  },
  {
   "cell_type": "code",
   "execution_count": 40,
   "metadata": {},
   "outputs": [],
   "source": [
    "def nep_omp_np(smaext, muext):\n",
    "    SMANEP = 30.07\n",
    "    return 0.75 * muext * (smaext / SMANEP) ** 2"
   ]
  },
  {
   "cell_type": "code",
   "execution_count": 41,
   "metadata": {},
   "outputs": [],
   "source": [
    "alpha0val = (2 / (2 + 1)) ** (2.0 / 3)"
   ]
  },
  {
   "cell_type": "code",
   "execution_count": 42,
   "metadata": {},
   "outputs": [
    {
     "data": {
      "image/png": "[encoded data removed]",
      "text/latex": [
       "$\\displaystyle 6.85234416098428 \\cdot 10^{-5}$"
      ],
      "text/plain": [
       "6.852344160984275e-05"
      ]
     },
     "execution_count": 42,
     "metadata": {},
     "output_type": "execute_result"
    }
   ],
   "source": [
    "DPOM_GPS = (nep_omp_np(SMAJUP,MUJUP)+nep_omp_np(SMASAT,MUSAT)+nep_omp_np(SMAURN,MUURN))*(1-alpha0val**(3.5))\n",
    "DPOM_GPS"
   ]
  },
  {
   "cell_type": "markdown",
   "metadata": {},
   "source": [
    "# Grid of capture outcomes"
   ]
  },
  {
   "cell_type": "code",
   "execution_count": 44,
   "metadata": {},
   "outputs": [],
   "source": [
    "TMVAL = 2*npy.pi*1e6\n",
    "with open(\"results_mup5e-5_tm2pi1e6_n1.55_omalpha0val3.5_chaos.pkl\", \"rb\") as f:\n",
    "    jobs, results = pickle.load(f)"
   ]
  },
  {
   "cell_type": "code",
   "execution_count": 45,
   "metadata": {},
   "outputs": [],
   "source": [
    "outcomes = []\n",
    "for ind, result in enumerate(results):\n",
    "    if ind % 100 == 0:\n",
    "        outcomes += [0]\n",
    "    params = jobs[ind]\n",
    "    nRatio = results[ind].y[0,-1]/npy.exp(-results[ind].t[-1]/TMVAL)\n",
    "    if len(result.t_events[0]) == 0:\n",
    "        outcomes[-1] = outcomes[-1] + 1\n",
    "outcomes = [outcome/100 for outcome in outcomes]"
   ]
  },
  {
   "cell_type": "code",
   "execution_count": 46,
   "metadata": {},
   "outputs": [],
   "source": [
    "joblist = [jobs[100*i] for i in range(len(outcomes))]"
   ]
  },
  {
   "cell_type": "code",
   "execution_count": 47,
   "metadata": {},
   "outputs": [],
   "source": [
    "with open(\"results_mup5e-5_tm2pi1e6_n1.55_omalpha0val3.5_chaos_extended.pkl\", \"rb\") as f:\n",
    "    jobs, results = pickle.load(f)"
   ]
  },
  {
   "cell_type": "code",
   "execution_count": 48,
   "metadata": {},
   "outputs": [],
   "source": [
    "outcomes_extended = []\n",
    "for ind, result in enumerate(results):\n",
    "    if ind % 100 == 0:\n",
    "        outcomes_extended += [0]\n",
    "    params = jobs[ind]\n",
    "    nRatio = results[ind].y[0,-1]/npy.exp(-results[ind].t[-1]/TMVAL)\n",
    "    if len(result.t_events[0]) == 0:\n",
    "        outcomes_extended[-1] = outcomes_extended[-1] + 1\n",
    "outcomes_extended = [outcome/100 for outcome in outcomes_extended]"
   ]
  },
  {
   "cell_type": "code",
   "execution_count": 49,
   "metadata": {},
   "outputs": [
    {
     "data": {
      "image/png": "[encoded data removed]",
      "text/latex": [
       "$\\displaystyle \\left[ 0.000495174150178298, \\  4.22835807457155 \\cdot 10^{-5}, \\  0.000495174150178298, \\  4.22835807457155 \\cdot 10^{-5}, \\  0.000495174150178298, \\  4.22835807457155 \\cdot 10^{-5}, \\  4.22835807457155 \\cdot 10^{-5}, \\  4.22835807457155 \\cdot 10^{-5}, \\  4.22835807457155 \\cdot 10^{-5}, \\  4.22835807457155 \\cdot 10^{-5}, \\  0.000495174150178298, \\  0.000495174150178298, \\  0.000495174150178298, \\  0.000495174150178298, \\  1.23560214786038 \\cdot 10^{-5}, \\  1.23560214786038 \\cdot 10^{-5}, \\  1.23560214786038 \\cdot 10^{-5}, \\  1.23560214786038 \\cdot 10^{-5}, \\  1.23560214786038 \\cdot 10^{-5}, \\  1.23560214786038 \\cdot 10^{-5}, \\  1.23560214786038 \\cdot 10^{-5}, \\  0.000144698777335039, \\  0.000144698777335039, \\  0.000144698777335039, \\  0.000144698777335039, \\  0.000144698777335039, \\  0.000144698777335039, \\  0.000144698777335039\\right]$"
      ],
      "text/plain": [
       "[0.0004951741501782977, 4.228358074571549e-05, 0.0004951741501782977, 4.228358\n",
       "074571549e-05, 0.0004951741501782977, 4.228358074571549e-05, 4.228358074571549\n",
       "e-05, 4.228358074571549e-05, 4.228358074571549e-05, 4.228358074571549e-05, 0.0\n",
       "004951741501782977, 0.0004951741501782977, 0.0004951741501782977, 0.0004951741\n",
       "501782977, 1.2356021478603767e-05, 1.2356021478603767e-05, 1.2356021478603767e\n",
       "-05, 1.2356021478603767e-05, 1.2356021478603767e-05, 1.2356021478603767e-05, 1\n",
       ".2356021478603767e-05, 0.00014469877733503864, 0.00014469877733503864, 0.00014\n",
       "469877733503864, 0.00014469877733503864, 0.00014469877733503864, 0.00014469877\n",
       "733503864, 0.00014469877733503864]"
      ]
     },
     "execution_count": 49,
     "metadata": {},
     "output_type": "execute_result"
    }
   ],
   "source": [
    "joblist = joblist + [jobs[100*i] for i in range(len(outcomes_extended))]\n",
    "eplist = [job[1] for job in joblist]\n",
    "Domextlist = [job[2]-job[3] for job in joblist]\n",
    "Domextlist"
   ]
  },
  {
   "cell_type": "code",
   "execution_count": 50,
   "metadata": {},
   "outputs": [],
   "source": [
    "outcomes = outcomes + outcomes_extended"
   ]
  },
  {
   "cell_type": "code",
   "execution_count": 51,
   "metadata": {},
   "outputs": [],
   "source": [
    "with open(\"results_mup5e-5_tm2pi1e6_n1.55_omalpha0val3.5.pkl\", \"rb\") as f:\n",
    "    jobs, results = pickle.load(f)"
   ]
  },
  {
   "cell_type": "code",
   "execution_count": 52,
   "metadata": {},
   "outputs": [
    {
     "name": "stdout",
     "output_type": "stream",
     "text": [
      "(558, 0.095, 0.0, 0.0)\n",
      "(475, 0.08, 4.8634927841792366e-05, 1.888289905175526e-05)\n",
      "(490, 0.08, 0.0006789879531914857, 0.0002636224940886073)\n"
     ]
    }
   ],
   "source": [
    "#fig, ax = plt.subplots()\n",
    "ind = 465 + 3*31\n",
    "print(jobs[ind])\n",
    "#ax.plot(results[ind].t,results[ind].y[0,:]/npy.exp(-results[ind].t/TMVAL))\n",
    "#ax.scatter(results[ind].t,(results[ind].y[3,:]+jobs[ind][2]*results[ind].t-results[ind].y[2,:])%(2*npy.pi))\n",
    "ind = 475 #+ 4*31\n",
    "print(jobs[ind])\n",
    "#ax.plot(results[ind].t,results[ind].y[0,:]/npy.exp(-results[ind].t/TMVAL))\n",
    "#ax.scatter(results[ind].t,(results[ind].y[3,:]+jobs[ind][2]*results[ind].t-results[ind].y[2,:])%(2*npy.pi))\n",
    "ind = 490 #+ 4*31\n",
    "print(jobs[ind])\n",
    "#ax.plot(results[ind].t,results[ind].y[0,:]/npy.exp(-results[ind].t/TMVAL))\n",
    "#ax.scatter(results[ind].t,(results[ind].y[3,:]+jobs[ind][2]*results[ind].t-results[ind].y[2,:])%(2*npy.pi))\n"
   ]
  },
  {
   "cell_type": "code",
   "execution_count": 53,
   "metadata": {},
   "outputs": [
    {
     "data": {
      "image/png": "[encoded data removed]",
      "text/latex": [
       "$\\displaystyle \\left( 112, \\  205, \\  298, \\  391, \\  484, \\  577\\right)$"
      ],
      "text/plain": [
       "(112, 205, 298, 391, 484, 577)"
      ]
     },
     "execution_count": 53,
     "metadata": {},
     "output_type": "execute_result"
    }
   ],
   "source": [
    "212, 398, 584,\n",
    "198, 384, 570, \n",
    "98, 191, 284, 377, 470, 563,\n",
    "112, 205, 298, 391, 484, 577"
   ]
  },
  {
   "cell_type": "code",
   "execution_count": 54,
   "metadata": {},
   "outputs": [
    {
     "name": "stdout",
     "output_type": "stream",
     "text": [
      "[12, 105, 198, 291, 384, 477, 570]\n",
      "[26, 119, 212, 305, 398, 491, 584]\n",
      "[5, 98, 191, 284, 377, 470, 563]\n",
      "[19, 112, 205, 298, 391, 484, 577]\n"
     ]
    }
   ],
   "source": [
    "print([12+i*93 for i in range(7)])\n",
    "print([26+i*93 for i in range(7)])\n",
    "print([5+i*93 for i in range(7)])\n",
    "print([19+i*93 for i in range(7)])"
   ]
  },
  {
   "cell_type": "code",
   "execution_count": 55,
   "metadata": {},
   "outputs": [
    {
     "data": {
      "image/png": "[encoded data removed]",
      "text/latex": [
       "$\\displaystyle 22$"
      ],
      "text/plain": [
       "22"
      ]
     },
     "execution_count": 55,
     "metadata": {},
     "output_type": "execute_result"
    }
   ],
   "source": [
    "len([12, 198, 384, 570,26, 212, 398, 584,5, 98, 191, 284, 377, 470, 563,19, 112, 205, 298, 391, 484, 577])"
   ]
  },
  {
   "cell_type": "code",
   "execution_count": 56,
   "metadata": {},
   "outputs": [
    {
     "data": {
      "image/png": "[encoded data removed]",
      "text/latex": [
       "$\\displaystyle 19$"
      ],
      "text/plain": [
       "19"
      ]
     },
     "execution_count": 56,
     "metadata": {},
     "output_type": "execute_result"
    }
   ],
   "source": [
    "112-93"
   ]
  },
  {
   "cell_type": "code",
   "execution_count": 57,
   "metadata": {},
   "outputs": [
    {
     "data": {
      "image/png": "[encoded data removed]",
      "text/latex": [
       "$\\displaystyle \\left( 491, \\  477\\right)$"
      ],
      "text/plain": [
       "(491, 477)"
      ]
     },
     "execution_count": 57,
     "metadata": {},
     "output_type": "execute_result"
    }
   ],
   "source": [
    "119,105\n",
    "305,291\n",
    "491,477"
   ]
  },
  {
   "cell_type": "code",
   "execution_count": 63,
   "metadata": {},
   "outputs": [
    {
     "name": "stderr",
     "output_type": "stream",
     "text": [
      "/var/folders/rv/30_ngz5x5l5djjdvflk_6wwm0000gn/T/ipykernel_23790/4182262876.py:61: UserWarning: This figure includes Axes that are not compatible with tight_layout, so results might be incorrect.\n",
      "  fig.tight_layout()\n"
     ]
    },
    {
     "data": {
      "application/vnd.jupyter.widget-view+json": {
       "model_id": "f582beb3ce594c218da61f890423dae0",
       "version_major": 2,
       "version_minor": 0
      },
      "image/png": "[encoded data removed]",
      "text/html": [
       "\n",
       "            <div style=\"display: inline-block;\">\n",
       "                <div class=\"jupyter-widgets widget-label\" style=\"text-align: center;\">\n",
       "                    Figure\n",
       "                </div>\n",
       "                <img src='data:image/png;base64,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' width=650.0/>\n",
       "            </div>\n",
       "        "
      ],
      "text/plain": [
       "Canvas(toolbar=Toolbar(toolitems=[('Home', 'Reset original view', 'home', 'home'), ('Back', 'Back to previous …"
      ]
     },
     "metadata": {},
     "output_type": "display_data"
    }
   ],
   "source": [
    "fig = plt.figure(figsize=(6.5,4.5)) \n",
    "gs = fig.add_gridspec(2, 2,height_ratios=[10,1]) \n",
    "ax1 = fig.add_subplot(gs[0, 0]) \n",
    "ax2 = fig.add_subplot(gs[1, 0]) \n",
    "ax3 = fig.add_subplot(gs[0, 1])\n",
    "\n",
    "leg1 = False\n",
    "leg2 = False\n",
    "for ind, result in enumerate(results):\n",
    "    params = jobs[ind]\n",
    "    nRatio = results[ind].y[0,-1]/npy.exp(-results[ind].t[-1]/TMVAL)\n",
    "    if nRatio > 0.8:\n",
    "        if not leg1:\n",
    "            leg1 = True\n",
    "            ax1.scatter(params[1],params[2]-params[3],c=\"r\",label=\"Escape\")\n",
    "        else:\n",
    "            ax1.scatter(params[1],params[2]-params[3],c=\"r\")\n",
    "            #ax1.text(params[1],params[2]-params[3],params[0])\n",
    "    else:\n",
    "        if not leg2:\n",
    "            leg2 = True\n",
    "            ax1.scatter(params[1],params[2]-params[3],c=\"k\",label=\"Capture\")\n",
    "        else:\n",
    "            ax1.scatter(params[1],params[2]-params[3],c=\"k\")\n",
    "            #ax1.text(params[1],params[2]-params[3],params[0])\n",
    "    #ax1.text(params[1],params[2]-params[3],f\"{ind}\")\n",
    "ax1.set_yscale(\"log\")#,linthresh=5e-6,linscale=0.05)\n",
    "ax1.set_xticks([])\n",
    "ax1.set_ylabel(r\"$\\Delta\\omega_{\\rm ext}/n_{\\rm p,0}$\")\n",
    "ax1.axhline(y=DPOM_GPS,c=\"c\",ls=\"--\",lw=3)\n",
    "ax1.legend(bbox_to_anchor=[0.3,1])\n",
    "\n",
    "for ind, result in enumerate(results):\n",
    "    params = jobs[ind]\n",
    "    nRatio = results[ind].y[0,-1]/npy.exp(-results[ind].t[-1]/TMVAL)\n",
    "    if params[2]-params[3] == 0:\n",
    "        if nRatio > 0.8:\n",
    "            ax2.scatter(params[1],params[2]-params[3],c=\"r\")\n",
    "        else:\n",
    "            ax2.scatter(params[1],params[2]-params[3],c=\"k\")\n",
    "ax2.set_yticks([0])\n",
    "ax2.set_xlabel(r\"$e_{\\rm p}$\")\n",
    "\n",
    "\n",
    "cs = ax3.scatter(eplist, Domextlist,c=outcomes)\n",
    "cb_ax = fig.add_axes([0.55,0.86,.39,.03])\n",
    "fig.colorbar(cs,orientation='horizontal',cax=cb_ax)\n",
    "cb_ax.xaxis.set_ticks_position('top')\n",
    "cb_ax.set_title(r\"Capture Probability\")\n",
    "for i, outcome in enumerate(outcomes):\n",
    "    ax3.text(eplist[i]+0.002, Domextlist[i]*1.05,f\"{outcome}\",size=5)\n",
    "\n",
    "ax3.set_xlim(ax2.get_xlim())\n",
    "\n",
    "ax3.set_yscale(\"log\")\n",
    "ax3.set_ylim(ax1.get_ylim())\n",
    "ax3.set_yticks([])\n",
    "ax3.set_yticks([],minor=True)\n",
    "ax3.set_xlabel(r\"$e_{\\rm p}$\")\n",
    "\n",
    "fig.tight_layout()\n",
    "fig.subplots_adjust(wspace=0,hspace=0)"
   ]
  },
  {
   "cell_type": "code",
   "execution_count": 64,
   "metadata": {},
   "outputs": [],
   "source": [
    "fig.savefig(\"/Users/jtlaune/Desktop/grid.svg\")"
   ]
  },
  {
   "cell_type": "code",
   "execution_count": null,
   "metadata": {},
   "outputs": [],
   "source": []
  }
 ],
 "metadata": {
  "kernelspec": {
   "display_name": "Python 3",
   "language": "python",
   "name": "python3"
  },
  "language_info": {
   "codemirror_mode": {
    "name": "ipython",
    "version": 3
   },
   "file_extension": ".py",
   "mimetype": "text/x-python",
   "name": "python",
   "nbconvert_exporter": "python",
   "pygments_lexer": "ipython3",
   "version": "3.12.0"
  }
 },
 "nbformat": 4,
 "nbformat_minor": 2
}
