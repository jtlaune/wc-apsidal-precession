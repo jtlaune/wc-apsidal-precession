{
 "cells": [
  {
   "cell_type": "markdown",
   "metadata": {},
   "source": [
    "**Todos**\n",
    "- [ ] Revisit separatrix crossing calculation\n",
    "\n",
    "To-run list:\n",
    "- [x] $\\mu_p=5e-5$ random capture grid\n",
    "- [x] $\\mu_p=5e-5$ random capture grid w/ $\\beta_p=0$\n",
    "    - NEED TO FIX: $\\varpi_0$ not randomly selected\n",
    "- [x] $\\mu_p=5e-5$ random capture grid w/ no secular effects"
   ]
  },
  {
   "cell_type": "markdown",
   "metadata": {},
   "source": [
    "Wanting to plot $\\phi$ over time next"
   ]
  },
  {
   "cell_type": "markdown",
   "metadata": {},
   "source": [
    "- Right now, the random grid has $\\varpi_0=0$ and a random $\\theta_{p,0}$.. May need to check this?"
   ]
  },
  {
   "cell_type": "markdown",
   "metadata": {},
   "source": [
    "# Preamble"
   ]
  },
  {
   "cell_type": "code",
   "execution_count": 1,
   "metadata": {},
   "outputs": [
    {
     "name": "stdout",
     "output_type": "stream",
     "text": [
      "IPython console for SymPy 1.12 (Python 3.12.0-64-bit) (ground types: python)\n",
      "\n",
      "These commands were executed:\n",
      ">>> from sympy import *\n",
      ">>> x, y, z, t = symbols('x y z t')\n",
      ">>> k, m, n = symbols('k m n', integer=True)\n",
      ">>> f, g, h = symbols('f g h', cls=Function)\n",
      ">>> init_printing()\n",
      "\n",
      "Documentation can be found at https://docs.sympy.org/1.12/\n",
      "\n",
      "IPython console for SymPy 1.12 (Python 3.12.0-64-bit) (ground types: python)\n",
      "\n",
      "These commands were executed:\n",
      ">>> from sympy import *\n",
      ">>> x, y, z, t = symbols('x y z t')\n",
      ">>> k, m, n = symbols('k m n', integer=True)\n",
      ">>> f, g, h = symbols('f g h', cls=Function)\n",
      ">>> init_printing()\n",
      "\n",
      "Documentation can be found at https://docs.sympy.org/1.12/\n",
      "\n"
     ]
    }
   ],
   "source": [
    "from sympy import init_session\n",
    "import matplotlib as mpl\n",
    "import matplotlib.pyplot as plt\n",
    "from mpl_styles import analytic\n",
    "import numpy as npy\n",
    "import scipy as sp\n",
    "from scipy.optimize import brentq\n",
    "%matplotlib widget\n",
    "import os, glob, pathlib\n",
    "from loky import get_reusable_executor\n",
    "import dill as pickle\n",
    "from sympy.utilities.lambdify import lambdastr\n",
    "import subprocess\n",
    "init_session()\n",
    "def save_to_clipboard(dpi=300):\n",
    "    plt.savefig(\"/tmp/clipboard.png\", format=\"png\", bbox_inches=\"tight\", dpi=dpi)\n",
    "    subprocess.run(\n",
    "        [\n",
    "            \"osascript\",\n",
    "            \"-e\",\n",
    "            f'set the clipboard to (read (POSIX file \"/tmp/clipboard.png\") as «class PNGf»)',\n",
    "        ]\n",
    "    )\n",
    "init_session()"
   ]
  },
  {
   "cell_type": "code",
   "execution_count": 2,
   "metadata": {},
   "outputs": [],
   "source": [
    "EXPRS = {}"
   ]
  },
  {
   "cell_type": "code",
   "execution_count": 3,
   "metadata": {},
   "outputs": [],
   "source": [
    "def term_simplify(expr):\n",
    "    run = 0\n",
    "    for arg in expr.args:\n",
    "        run += arg.simplify()\n",
    "    return(run)\n",
    "\n",
    "def term_multiply(expr, mult):\n",
    "    run = 0\n",
    "    for term in expr.args:\n",
    "        run += term*mult\n",
    "    term_simplify(run)\n",
    "    return(run)"
   ]
  },
  {
   "cell_type": "code",
   "execution_count": 4,
   "metadata": {},
   "outputs": [],
   "source": [
    "# Positive constant\n",
    "G, M, mp, ep, b, bp, j, mup, tm, b1_3_2, b2_3_2 = symbols(\"G M m_p e_p beta beta_p j mu_p tau_m b_{3/2}^{(1)}(\\\\alpha_0) b_{3/2}^{(2)}(\\\\alpha_0)\", positive=True)\n",
    "# Precession frequencies\n",
    "om, omp = symbols(\"omega omega_p\")\n",
    "# Functions of time\n",
    "ap, lp, np, a, l, pom, th, thp, alpha = symbols(\"a_p lambda_p n_p a lambda varpi theta theta_p alpha\") \n",
    "# Positive functions of time\n",
    "e = symbols(\"e\", positive=True)\n",
    "# Actions\n",
    "Gam, Lam = symbols(\"Gamma Lambda\", positive=True)\n",
    "# Derivatives\n",
    "dth, dthp = symbols(r\"\\dot\\theta \\dot\\theta_p\")"
   ]
  },
  {
   "cell_type": "code",
   "execution_count": 5,
   "metadata": {},
   "outputs": [],
   "source": [
    "EXPRS[thp] =  (j + 1) * l - j * lp - omp * t\n",
    "EXPRS[th] = (j + 1) * l - j * lp - pom"
   ]
  },
  {
   "cell_type": "code",
   "execution_count": 6,
   "metadata": {},
   "outputs": [
    {
     "data": {
      "image/png": "[encoded data removed]",
      "text/latex": [
       "$\\displaystyle - \\frac{\\sqrt{G} \\sqrt{M} \\sqrt{a} e^{2} \\omega}{2} - \\frac{G M}{2 a} - \\frac{G \\beta e m_{p} \\cos{\\left(\\theta \\right)}}{a_{p}} + \\frac{G \\beta_{p} e_{p} m_{p} \\cos{\\left(\\theta_{p} \\right)}}{a_{p}}$"
      ],
      "text/plain": [
       "            2                                               \n",
       "  √G⋅√M⋅√a⋅e ⋅ω   G⋅M   G⋅β⋅e⋅mₚ⋅cos(θ)   G⋅βₚ⋅eₚ⋅mₚ⋅cos(θₚ)\n",
       "- ───────────── - ─── - ─────────────── + ──────────────────\n",
       "        2         2⋅a          aₚ                 aₚ        "
      ]
     },
     "execution_count": 6,
     "metadata": {},
     "output_type": "execute_result"
    }
   ],
   "source": [
    "H_expr = - G*M/(2*a) - Rational(1,2)*sqrt(G*M*a)*e**2*om + G*mp/ap*bp*ep*cos(thp) - G*mp/ap*b*e*cos(th)\n",
    "H_expr"
   ]
  },
  {
   "cell_type": "code",
   "execution_count": 7,
   "metadata": {},
   "outputs": [
    {
     "data": {
      "image/png": "[encoded data removed]",
      "text/latex": [
       "$\\displaystyle - \\frac{G^{2} M^{2}}{2 \\Lambda^{2}} - \\frac{\\sqrt{2} G \\sqrt{\\Gamma} \\beta m_{p} \\cos{\\left(\\theta \\right)}}{\\sqrt{\\Lambda} a_{p}} + \\frac{G \\beta_{p} e_{p} m_{p} \\cos{\\left(\\theta_{p} \\right)}}{a_{p}} - \\Gamma \\omega$"
      ],
      "text/plain": [
       "   2  2                                                 \n",
       "  G ⋅M    √2⋅G⋅√Γ⋅β⋅mₚ⋅cos(θ)   G⋅βₚ⋅eₚ⋅mₚ⋅cos(θₚ)      \n",
       "- ───── - ─────────────────── + ────────────────── - Γ⋅ω\n",
       "      2          √Λ⋅aₚ                  aₚ              \n",
       "   2⋅Λ                                                  "
      ]
     },
     "execution_count": 7,
     "metadata": {},
     "output_type": "execute_result"
    }
   ],
   "source": [
    "H = H_expr.subs(\n",
    "    {\n",
    "        Rational(1, 2) * sqrt(G * M * a) * e**2: Gam,\n",
    "        e: sqrt(2 * Gam / Lam),\n",
    "        a: Lam**2 / (G * M),\n",
    "    }\n",
    ")\n",
    "H = term_simplify(H)\n",
    "H"
   ]
  },
  {
   "cell_type": "code",
   "execution_count": 8,
   "metadata": {},
   "outputs": [],
   "source": [
    "def diff(expr, var):\n",
    "    run = expr.diff(var)\n",
    "    for key in EXPRS.keys():\n",
    "        run += expr.diff(key)*EXPRS[key].diff(var)\n",
    "    return(run)"
   ]
  },
  {
   "cell_type": "markdown",
   "metadata": {},
   "source": [
    "Right now, keeping ALL terms, and removing $\\mathcal O(\\mu_p^2)$ in the Latex document"
   ]
  },
  {
   "cell_type": "code",
   "execution_count": 9,
   "metadata": {},
   "outputs": [
    {
     "data": {
      "image/png": "[encoded data removed]",
      "text/latex": [
       "$\\displaystyle \\frac{a a_{p} b_{3/2}^{(1)}(\\alpha_0) e^{2} \\mu_{p} n^{2}}{8} - \\frac{a a_{p} b_{3/2}^{(2)}(\\alpha_0) e e_{p} \\mu_{p} n^{2} \\cos{\\left(\\omega_{p} t - \\varpi \\right)}}{4}$"
      ],
      "text/plain": [
       "                               2     2                                        \n",
       "a⋅aₚ⋅b_{3/2}_0)__{(1)}(\\alpha⋅e ⋅μₚ⋅n    a⋅aₚ⋅b_{3/2}_0)__{(2)}(\\alpha⋅e⋅eₚ⋅μₚ\n",
       "────────────────────────────────────── - ─────────────────────────────────────\n",
       "                  8                                                  4        \n",
       "\n",
       "  2                  \n",
       "⋅n ⋅cos(ωₚ⋅t - varpi)\n",
       "─────────────────────\n",
       "                     "
      ]
     },
     "execution_count": 9,
     "metadata": {},
     "output_type": "execute_result"
    }
   ],
   "source": [
    "R = mup*n**2*a**2*Rational(1,8)*(ap/a)*b1_3_2*e**2 - mup*n**2*a**2*Rational(1,4)*(ap/a)*b2_3_2*e*ep*cos(omp*t-pom)\n",
    "R"
   ]
  },
  {
   "cell_type": "markdown",
   "metadata": {},
   "source": [
    "## Physical sources of apsidal precession"
   ]
  },
  {
   "cell_type": "code",
   "execution_count": 10,
   "metadata": {},
   "outputs": [
    {
     "data": {
      "image/png": "[encoded data removed]",
      "text/latex": [
       "$\\displaystyle 6.85234416098428 \\cdot 10^{-5}$"
      ],
      "text/plain": [
       "6.852344160984275e-05"
      ]
     },
     "execution_count": 10,
     "metadata": {},
     "output_type": "execute_result"
    }
   ],
   "source": [
    "MUJUP = 9.55e-4\n",
    "MUURN = 4.366e-5\n",
    "MUSAT = 2.858e-4\n",
    "SMAJUP = 5.20\n",
    "SMAURN = 9.54\n",
    "SMASAT = 19.19\n",
    "def nep_omp_np(smaext, muext):\n",
    "    SMANEP = 30.07\n",
    "    return 0.75 * muext * (smaext / SMANEP) ** 2\n",
    "alpha0val = (2 / (2 + 1)) ** (2.0 / 3)\n",
    "0.75*(1-alpha0val**3.5)\n",
    "DPOM_GPS = (nep_omp_np(SMAJUP,MUJUP)+nep_omp_np(SMASAT,MUSAT)+nep_omp_np(SMAURN,MUURN))*(1-alpha0val**(3.5))\n",
    "DPOM_GPS"
   ]
  },
  {
   "cell_type": "markdown",
   "metadata": {},
   "source": [
    "# EOMs"
   ]
  },
  {
   "cell_type": "markdown",
   "metadata": {},
   "source": [
    "## $\\dot \\Lambda$"
   ]
  },
  {
   "cell_type": "code",
   "execution_count": 11,
   "metadata": {},
   "outputs": [
    {
     "data": {
      "image/png": "[encoded data removed]",
      "text/latex": [
       "$\\displaystyle - \\frac{a^{3} \\beta e \\mu_{p} n^{2} \\left(j + 1\\right) \\sin{\\left(\\theta \\right)}}{a_{p}} + \\frac{a^{3} \\beta_{p} e_{p} \\mu_{p} n^{2} \\left(j + 1\\right) \\sin{\\left(\\theta_{p} \\right)}}{a_{p}}$"
      ],
      "text/plain": [
       "   3         2                   3           2                \n",
       "  a ⋅β⋅e⋅μₚ⋅n ⋅(j + 1)⋅sin(θ)   a ⋅βₚ⋅eₚ⋅μₚ⋅n ⋅(j + 1)⋅sin(θₚ)\n",
       "- ─────────────────────────── + ──────────────────────────────\n",
       "               aₚ                             aₚ              "
      ]
     },
     "execution_count": 11,
     "metadata": {},
     "output_type": "execute_result"
    }
   ],
   "source": [
    "Lamdot = (\n",
    "    -diff(H, l)\n",
    "    .subs(mp, mup * M)\n",
    "    .subs({sqrt(Gam): sqrt(Lam / 2) * e})\n",
    "    .subs({Lam: sqrt(G * M * a)})\n",
    "    .subs({sqrt(G * M): n * a ** Rational(3, 2)})\n",
    ")\n",
    "Lamdot"
   ]
  },
  {
   "cell_type": "markdown",
   "metadata": {},
   "source": [
    "## $\\dot n$"
   ]
  },
  {
   "cell_type": "code",
   "execution_count": 12,
   "metadata": {},
   "outputs": [
    {
     "data": {
      "image/png": "[encoded data removed]",
      "text/latex": [
       "$\\displaystyle \\frac{3 a \\beta e \\mu_{p} n^{2} \\left(j + 1\\right) \\sin{\\left(\\theta \\right)}}{a_{p}} - \\frac{3 a \\beta_{p} e_{p} \\mu_{p} n^{2} \\left(j + 1\\right) \\sin{\\left(\\theta_{p} \\right)}}{a_{p}}$"
      ],
      "text/plain": [
       "            2                                2                \n",
       "3⋅a⋅β⋅e⋅μₚ⋅n ⋅(j + 1)⋅sin(θ)   3⋅a⋅βₚ⋅eₚ⋅μₚ⋅n ⋅(j + 1)⋅sin(θₚ)\n",
       "──────────────────────────── - ───────────────────────────────\n",
       "             aₚ                               aₚ              "
      ]
     },
     "execution_count": 12,
     "metadata": {},
     "output_type": "execute_result"
    }
   ],
   "source": [
    "ndot = term_multiply(Lamdot, -3 * n**2 * a / (G * M))\n",
    "ndot = (\n",
    "    ndot.subs({sqrt(2 * Gam / Lam): e})\n",
    "    .subs({sqrt(Gam): sqrt(Lam / 2) * e})\n",
    "    .subs({Lam: sqrt(G * M * a)})\n",
    "    .subs({sqrt(G * M): n * a ** Rational(3, 2)})\n",
    ")\n",
    "ndot"
   ]
  },
  {
   "cell_type": "markdown",
   "metadata": {},
   "source": [
    "## $\\dot a$"
   ]
  },
  {
   "cell_type": "code",
   "execution_count": 13,
   "metadata": {},
   "outputs": [
    {
     "data": {
      "image/png": "[encoded data removed]",
      "text/latex": [
       "$\\displaystyle - \\frac{2 a^{2} \\beta e \\mu_{p} n \\left(j + 1\\right) \\sin{\\left(\\theta \\right)}}{a_{p}} + \\frac{2 a^{2} \\beta_{p} e_{p} \\mu_{p} n \\left(j + 1\\right) \\sin{\\left(\\theta_{p} \\right)}}{a_{p}}$"
      ],
      "text/plain": [
       "     2                              2                           \n",
       "  2⋅a ⋅β⋅e⋅μₚ⋅n⋅(j + 1)⋅sin(θ)   2⋅a ⋅βₚ⋅eₚ⋅μₚ⋅n⋅(j + 1)⋅sin(θₚ)\n",
       "- ──────────────────────────── + ───────────────────────────────\n",
       "               aₚ                               aₚ              "
      ]
     },
     "execution_count": 13,
     "metadata": {},
     "output_type": "execute_result"
    }
   ],
   "source": [
    "adot = term_multiply(Lamdot, 2/(n*a))\n",
    "adot"
   ]
  },
  {
   "cell_type": "markdown",
   "metadata": {},
   "source": [
    "## $\\dot \\Gamma$"
   ]
  },
  {
   "cell_type": "code",
   "execution_count": 14,
   "metadata": {},
   "outputs": [
    {
     "data": {
      "image/png": "[encoded data removed]",
      "text/latex": [
       "$\\displaystyle - \\frac{a^{3} \\beta e \\mu_{p} n^{2} \\sin{\\left(\\theta \\right)}}{a_{p}}$"
      ],
      "text/plain": [
       "  3         2        \n",
       "-a ⋅β⋅e⋅μₚ⋅n ⋅sin(θ) \n",
       "─────────────────────\n",
       "          aₚ         "
      ]
     },
     "execution_count": 14,
     "metadata": {},
     "output_type": "execute_result"
    }
   ],
   "source": [
    "Gamdot = (\n",
    "    diff(H, pom)\n",
    "    .subs(mp, mup * M)\n",
    "    .subs({sqrt(Gam): sqrt(Lam / 2) * e})\n",
    "    .subs({Lam: sqrt(G * M * a)})\n",
    "    .subs({sqrt(G * M): n * a ** Rational(3, 2)})\n",
    ")\n",
    "Gamdot"
   ]
  },
  {
   "cell_type": "markdown",
   "metadata": {},
   "source": [
    "## $\\dot e$"
   ]
  },
  {
   "cell_type": "code",
   "execution_count": 15,
   "metadata": {},
   "outputs": [
    {
     "data": {
      "image/png": "[encoded data removed]",
      "text/latex": [
       "$\\displaystyle \\frac{a \\beta e^{2} \\mu_{p} n \\left(j + 1\\right) \\sin{\\left(\\theta \\right)}}{2 a_{p}} - \\frac{a \\beta \\mu_{p} n \\sin{\\left(\\theta \\right)}}{a_{p}} - \\frac{a \\beta_{p} e e_{p} \\mu_{p} n \\left(j + 1\\right) \\sin{\\left(\\theta_{p} \\right)}}{2 a_{p}}$"
      ],
      "text/plain": [
       "     2                                                                       \n",
       "a⋅β⋅e ⋅μₚ⋅n⋅(j + 1)⋅sin(θ)   a⋅β⋅μₚ⋅n⋅sin(θ)   a⋅βₚ⋅e⋅eₚ⋅μₚ⋅n⋅(j + 1)⋅sin(θₚ)\n",
       "────────────────────────── - ─────────────── - ──────────────────────────────\n",
       "           2⋅aₚ                     aₚ                      2⋅aₚ             "
      ]
     },
     "execution_count": 15,
     "metadata": {},
     "output_type": "execute_result"
    }
   ],
   "source": [
    "edot = Gamdot/(Lam*e) - term_multiply(Lamdot, Rational(1,2)/Lam*e)\n",
    "edot = edot.subs({sqrt(2*Gam/Lam):e})\n",
    "edot = edot.subs({Lam:sqrt(G*M*a)}).subs({sqrt(G*M):n*a**Rational(3,2)})\n",
    "edot"
   ]
  },
  {
   "cell_type": "markdown",
   "metadata": {},
   "source": [
    "## $\\dot \\varpi$"
   ]
  },
  {
   "cell_type": "code",
   "execution_count": 16,
   "metadata": {},
   "outputs": [
    {
     "data": {
      "image/png": "[encoded data removed]",
      "text/latex": [
       "$\\displaystyle \\frac{a \\beta \\mu_{p} n \\cos{\\left(\\theta \\right)}}{a_{p} e} + \\omega$"
      ],
      "text/plain": [
       "a⋅β⋅μₚ⋅n⋅cos(θ)    \n",
       "─────────────── + ω\n",
       "      aₚ⋅e         "
      ]
     },
     "execution_count": 16,
     "metadata": {},
     "output_type": "execute_result"
    }
   ],
   "source": [
    "pomdot = (\n",
    "    (-diff(H, Gam))\n",
    "    .subs(mp, mup * M)\n",
    "    .subs({sqrt(Gam): sqrt(Lam / 2) * e})\n",
    "    .subs({Lam: sqrt(G * M * a)})\n",
    "    .subs({sqrt(G * M): n * a ** Rational(3, 2)})\n",
    ")\n",
    "pomdot"
   ]
  },
  {
   "cell_type": "markdown",
   "metadata": {},
   "source": [
    "## $\\dot \\lambda$"
   ]
  },
  {
   "cell_type": "code",
   "execution_count": 17,
   "metadata": {},
   "outputs": [
    {
     "data": {
      "image/png": "[encoded data removed]",
      "text/latex": [
       "$\\displaystyle \\frac{a \\beta e \\mu_{p} n \\cos{\\left(\\theta \\right)}}{2 a_{p}} + n$"
      ],
      "text/plain": [
       "a⋅β⋅e⋅μₚ⋅n⋅cos(θ)    \n",
       "───────────────── + n\n",
       "       2⋅aₚ          "
      ]
     },
     "execution_count": 17,
     "metadata": {},
     "output_type": "execute_result"
    }
   ],
   "source": [
    "ldot = (\n",
    "    diff(H, Lam)\n",
    "    .subs(mp, mup * M)\n",
    "    .subs({sqrt(Gam): sqrt(Lam / 2) * e})\n",
    "    .subs({Lam: sqrt(G * M * a)})\n",
    "    .subs({sqrt(G * M): n * a ** Rational(3, 2)})\n",
    ")\n",
    "\n",
    "ldot"
   ]
  },
  {
   "cell_type": "markdown",
   "metadata": {},
   "source": [
    "## $\\dot \\theta_p$"
   ]
  },
  {
   "cell_type": "markdown",
   "metadata": {},
   "source": [
    "## $\\ddot\\lambda$"
   ]
  },
  {
   "cell_type": "code",
   "execution_count": 18,
   "metadata": {},
   "outputs": [
    {
     "data": {
      "image/png": "[encoded data removed]",
      "text/latex": [
       "$\\displaystyle \\frac{a \\beta e \\mu_{p} n \\cos{\\left(\\theta \\right)}}{2 a_{p}} + n$"
      ],
      "text/plain": [
       "a⋅β⋅e⋅μₚ⋅n⋅cos(θ)    \n",
       "───────────────── + n\n",
       "       2⋅aₚ          "
      ]
     },
     "execution_count": 18,
     "metadata": {},
     "output_type": "execute_result"
    }
   ],
   "source": [
    "ldot"
   ]
  },
  {
   "cell_type": "code",
   "execution_count": 19,
   "metadata": {},
   "outputs": [
    {
     "data": {
      "image/png": "[encoded data removed]",
      "text/latex": [
       "$\\displaystyle - \\frac{\\dot\\theta a \\beta e \\mu_{p} n \\sin{\\left(\\theta \\right)}}{2 a_{p}} + \\frac{3 a^{2} \\beta^{2} e^{2} \\mu_{p}^{2} n^{2} \\left(j + 1\\right) \\sin{\\left(\\theta \\right)} \\cos{\\left(\\theta \\right)}}{4 a_{p}^{2}} - \\frac{a^{2} \\beta^{2} \\mu_{p}^{2} n^{2} \\sin{\\left(\\theta \\right)} \\cos{\\left(\\theta \\right)}}{2 a_{p}^{2}} - \\frac{3 a^{2} \\beta \\beta_{p} e e_{p} \\mu_{p}^{2} n^{2} \\left(j + 1\\right) \\sin{\\left(\\theta_{p} \\right)} \\cos{\\left(\\theta \\right)}}{4 a_{p}^{2}} + \\frac{3 a \\beta e \\mu_{p} n^{2} \\left(j + 1\\right) \\sin{\\left(\\theta \\right)}}{a_{p}} + \\frac{a \\beta e \\mu_{p} n \\cos{\\left(\\theta \\right)}}{3 a_{p} \\tau_{m}} - \\frac{3 a \\beta_{p} e_{p} \\mu_{p} n^{2} \\left(j + 1\\right) \\sin{\\left(\\theta_{p} \\right)}}{a_{p}}$"
      ],
      "text/plain": [
       "                                    2  2  2   2  2                          2 \n",
       "  \\dot\\theta⋅a⋅β⋅e⋅μₚ⋅n⋅sin(θ)   3⋅a ⋅β ⋅e ⋅μₚ ⋅n ⋅(j + 1)⋅sin(θ)⋅cos(θ)   a ⋅\n",
       "- ──────────────────────────── + ─────────────────────────────────────── - ───\n",
       "              2⋅aₚ                                    2                       \n",
       "                                                  4⋅aₚ                        \n",
       "\n",
       " 2   2  2                    2             2  2                               \n",
       "β ⋅μₚ ⋅n ⋅sin(θ)⋅cos(θ)   3⋅a ⋅β⋅βₚ⋅e⋅eₚ⋅μₚ ⋅n ⋅(j + 1)⋅sin(θₚ)⋅cos(θ)   3⋅a⋅β\n",
       "─────────────────────── - ──────────────────────────────────────────── + ─────\n",
       "           2                                     2                            \n",
       "       2⋅aₚ                                  4⋅aₚ                             \n",
       "\n",
       "       2                                                    2                \n",
       "⋅e⋅μₚ⋅n ⋅(j + 1)⋅sin(θ)   a⋅β⋅e⋅μₚ⋅n⋅cos(θ)   3⋅a⋅βₚ⋅eₚ⋅μₚ⋅n ⋅(j + 1)⋅sin(θₚ)\n",
       "─────────────────────── + ───────────────── - ───────────────────────────────\n",
       "        aₚ                     3⋅aₚ⋅τₘ                       aₚ              \n",
       "                                                                             "
      ]
     },
     "execution_count": 19,
     "metadata": {},
     "output_type": "execute_result"
    }
   ],
   "source": [
    "lddot = (\n",
    "    (\n",
    "        diff(ldot, th) * dth \n",
    "        +term_multiply(adot,diff(ldot, a))\n",
    "        +term_multiply(edot,diff(ldot, e))\n",
    "        +term_multiply(ndot,diff(ldot, n).args[0])\n",
    "        +term_multiply(ndot,diff(ldot, n).args[1])\n",
    "        +diff(ldot,ap)*(-2*ap/(3*tm))\n",
    "    )\n",
    ") \n",
    "lddot"
   ]
  },
  {
   "cell_type": "code",
   "execution_count": 20,
   "metadata": {},
   "outputs": [],
   "source": [
    "#lddot = (lddot + O(mup**2)).removeO() # first order in mu_p since theres not 1/e terms\n",
    "#lddot"
   ]
  },
  {
   "cell_type": "code",
   "execution_count": 21,
   "metadata": {},
   "outputs": [
    {
     "data": {
      "image/png": "[encoded data removed]",
      "text/latex": [
       "$\\displaystyle \\frac{a \\beta e \\mu_{p} n \\left(j + 1\\right) \\cos{\\left(\\theta \\right)}}{2 a_{p}} - j n_{p} + n \\left(j + 1\\right) - \\omega_{p}$"
      ],
      "text/plain": [
       "a⋅β⋅e⋅μₚ⋅n⋅(j + 1)⋅cos(θ)                        \n",
       "───────────────────────── - j⋅nₚ + n⋅(j + 1) - ωₚ\n",
       "           2⋅aₚ                                  "
      ]
     },
     "execution_count": 21,
     "metadata": {},
     "output_type": "execute_result"
    }
   ],
   "source": [
    "thpdot = term_multiply(ldot,(j+1)) - j*np - omp\n",
    "thpdot"
   ]
  },
  {
   "cell_type": "code",
   "execution_count": 22,
   "metadata": {},
   "outputs": [
    {
     "name": "stdout",
     "output_type": "stream",
     "text": [
      "\\frac{a \\beta e \\mu_{p} n \\left(j + 1\\right) \\cos{\\left(\\theta \\right)}}{2 a_{p}} - j n_{p} + n \\left(j + 1\\right) - \\omega_{p}\n"
     ]
    }
   ],
   "source": [
    "print(latex(thpdot))"
   ]
  },
  {
   "cell_type": "markdown",
   "metadata": {},
   "source": [
    "## $\\ddot\\theta_p$"
   ]
  },
  {
   "cell_type": "code",
   "execution_count": 23,
   "metadata": {},
   "outputs": [
    {
     "data": {
      "image/png": "[encoded data removed]",
      "text/latex": [
       "$\\displaystyle - \\frac{3 a \\beta_{p} e_{p} \\mu_{p} n^{2} \\left(j + 1\\right)^{2} \\sin{\\left(\\theta_{p} \\right)}}{a_{p}} - \\frac{j n_{p}}{\\tau_{m}}$"
      ],
      "text/plain": [
       "                2        2               \n",
       "  3⋅a⋅βₚ⋅eₚ⋅μₚ⋅n ⋅(j + 1) ⋅sin(θₚ)   j⋅nₚ\n",
       "- ──────────────────────────────── - ────\n",
       "                 aₚ                   τₘ "
      ]
     },
     "execution_count": 23,
     "metadata": {},
     "output_type": "execute_result"
    }
   ],
   "source": [
    "thpddot = term_multiply(lddot,(j+1)) - j*np/tm\n",
    "thpddot.subs(b,0)"
   ]
  },
  {
   "cell_type": "code",
   "execution_count": 24,
   "metadata": {},
   "outputs": [
    {
     "name": "stdout",
     "output_type": "stream",
     "text": [
      "- \\frac{\\dot\\theta \\beta e \\mu_{p} n \\left(j + 1\\right) \\sin{\\left(\\theta \\right)}}{2 \\alpha} - \\frac{j n_{p}}{\\tau_{m}} + \\frac{3 \\beta e \\mu_{p} n^{2} \\left(j + 1\\right)^{2} \\sin{\\left(\\theta \\right)}}{\\alpha} + \\frac{\\beta e \\mu_{p} n \\left(j + 1\\right) \\cos{\\left(\\theta \\right)}}{3 \\alpha \\tau_{m}} - \\frac{3 \\beta_{p} e_{p} \\mu_{p} n^{2} \\left(j + 1\\right)^{2} \\sin{\\left(\\theta_{p} \\right)}}{\\alpha} + \\frac{3 \\beta^{2} e^{2} \\mu_{p}^{2} n^{2} \\left(j + 1\\right)^{2} \\sin{\\left(\\theta \\right)} \\cos{\\left(\\theta \\right)}}{4 \\alpha^{2}} - \\frac{\\beta^{2} \\mu_{p}^{2} n^{2} \\left(j + 1\\right) \\sin{\\left(\\theta \\right)} \\cos{\\left(\\theta \\right)}}{2 \\alpha^{2}} - \\frac{3 \\beta \\beta_{p} e e_{p} \\mu_{p}^{2} n^{2} \\left(j + 1\\right)^{2} \\sin{\\left(\\theta_{p} \\right)} \\cos{\\left(\\theta \\right)}}{4 \\alpha^{2}}\n"
     ]
    }
   ],
   "source": [
    "print(latex(thpddot.subs(a/ap,alpha**(-1))))"
   ]
  },
  {
   "cell_type": "markdown",
   "metadata": {},
   "source": [
    "## $\\dot\\varpi_{\\rm sec}$"
   ]
  },
  {
   "cell_type": "code",
   "execution_count": 25,
   "metadata": {},
   "outputs": [
    {
     "data": {
      "image/png": "[encoded data removed]",
      "text/latex": [
       "$\\displaystyle \\frac{a_{p} b_{3/2}^{(1)}(\\alpha_0) \\mu_{p} n}{4 a} - \\frac{a_{p} b_{3/2}^{(2)}(\\alpha_0) e_{p} \\mu_{p} n \\cos{\\left(\\omega_{p} t - \\varpi \\right)}}{4 a e}$"
      ],
      "text/plain": [
       "aₚ⋅b_{3/2}_0)__{(1)}(\\alpha⋅μₚ⋅n   aₚ⋅b_{3/2}_0)__{(2)}(\\alpha⋅eₚ⋅μₚ⋅n⋅cos(ωₚ⋅\n",
       "──────────────────────────────── - ───────────────────────────────────────────\n",
       "              4⋅a                                          4⋅a⋅e              \n",
       "\n",
       "t - varpi)\n",
       "──────────\n",
       "          "
      ]
     },
     "execution_count": 25,
     "metadata": {},
     "output_type": "execute_result"
    }
   ],
   "source": [
    "pomdsec = term_multiply(diff(R,e),1/(n*a**2*e))\n",
    "pomdsec"
   ]
  },
  {
   "cell_type": "markdown",
   "metadata": {},
   "source": [
    "## $\\dot e_{\\rm sec}$"
   ]
  },
  {
   "cell_type": "code",
   "execution_count": 26,
   "metadata": {},
   "outputs": [
    {
     "data": {
      "image/png": "[encoded data removed]",
      "text/latex": [
       "$\\displaystyle \\frac{a_{p} b_{3/2}^{(2)}(\\alpha_0) e_{p} \\mu_{p} n \\sin{\\left(\\omega_{p} t - \\varpi \\right)}}{4 a}$"
      ],
      "text/plain": [
       "aₚ⋅b_{3/2}_0)__{(2)}(\\alpha⋅eₚ⋅μₚ⋅n⋅sin(ωₚ⋅t - varpi)\n",
       "─────────────────────────────────────────────────────\n",
       "                         4⋅a                         "
      ]
     },
     "execution_count": 26,
     "metadata": {},
     "output_type": "execute_result"
    }
   ],
   "source": [
    "edsec = -diff(R,pom)/(n*a**2*e)\n",
    "edsec"
   ]
  },
  {
   "cell_type": "markdown",
   "metadata": {},
   "source": [
    "# Right hand side for numerical integrations"
   ]
  },
  {
   "cell_type": "code",
   "execution_count": null,
   "metadata": {},
   "outputs": [],
   "source": []
  },
  {
   "cell_type": "code",
   "execution_count": null,
   "metadata": {},
   "outputs": [],
   "source": [
    "Eq(np,exp(-t/tm))"
   ]
  },
  {
   "cell_type": "code",
   "execution_count": null,
   "metadata": {},
   "outputs": [],
   "source": [
    "TMVAL = 2 * npy.pi * 1e6\n",
    "convs = {}\n",
    "convs = {ap: n ** Rational(2, 3) / np ** Rational(2, 3) * a, th: thp + omp * t - pom}\n",
    "params = {}\n",
    "params = {\n",
    "    j: 2,\n",
    "    mup: 5e-5,\n",
    "    bp: 1.5455341716765871,\n",
    "    b: 1.8956507412695471,\n",
    "    b1_3_2: 12.08476062046314,\n",
    "    b2_3_2: 10.485706741948807,\n",
    "}\n",
    "\n",
    "alpha0val = (params[j] / (params[j] + 1)) ** (2.0 / 3)\n",
    "# params[omp] = 0\n",
    "# params[om] = params[omp] * alpha0val**3.5\n",
    "\n",
    "\n",
    "funs = [\n",
    "    iterfun.subs(convs).subs(params)\n",
    "    for iterfun in [ndot, edot + edsec, pomdot + pomdsec, thpdot]\n",
    "]\n",
    "funs"
   ]
  },
  {
   "cell_type": "code",
   "execution_count": null,
   "metadata": {},
   "outputs": [],
   "source": [
    "xp = [n, e, pom, thp, np, t]"
   ]
  },
  {
   "cell_type": "code",
   "execution_count": null,
   "metadata": {},
   "outputs": [],
   "source": [
    "lambdastr(xp, funs).replace(\"math\", \"npy\")"
   ]
  },
  {
   "cell_type": "code",
   "execution_count": null,
   "metadata": {},
   "outputs": [],
   "source": [
    "funcl = lambdify(xp, funs)\n",
    "\n",
    "\n",
    "def func(t, x0):\n",
    "    npval = npy.exp(-t/TMVAL)\n",
    "    #npval = 1 - t / TMVAL\n",
    "    return funcl(*x0, npval, t)"
   ]
  },
  {
   "cell_type": "code",
   "execution_count": null,
   "metadata": {},
   "outputs": [],
   "source": [
    "#teval = npy.linspace(0, 2 * npy.pi * 7.5e5, 10000)\n",
    "#sol = sp.integrate.solve_ivp(\n",
    "#    func,\n",
    "#    [teval[0], teval[-1]],\n",
    "#    [1/1.55, 0.001, 1, 2],\n",
    "#    t_eval=teval,\n",
    "#    rtol=1e-9,\n",
    "#    #atol=1e-9,\n",
    "#    method=\"DOP853\",\n",
    "#)"
   ]
  },
  {
   "cell_type": "code",
   "execution_count": null,
   "metadata": {},
   "outputs": [],
   "source": [
    "#fig, ax = plt.subplots()\n",
    "#ax.plot(sol.t,sol.y[0,:])\n",
    "#ax.plot(sol.t,sol.y[0,:]/npy.exp(-sol.t/TMVAL))\n",
    "#ax.plot(sol.t,sol.y[1,:])\n",
    "#ax.scatter(sol.t,sol.y[2,:]%(2*npy.pi))\n",
    "#ax.scatter(sol.t,sol.y[3,:]%(2*npy.pi))\n",
    "#ax.scatter(sol.t,(sol.y[3,:]+params[omp]*sol.t-sol.y[2,:])%(2*npy.pi))"
   ]
  },
  {
   "cell_type": "markdown",
   "metadata": {},
   "source": [
    "## Single grid and chaos grid"
   ]
  },
  {
   "cell_type": "code",
   "execution_count": null,
   "metadata": {},
   "outputs": [],
   "source": [
    "TMVAL = 2*npy.pi*1e6\n",
    "with open(\"results_mup5e-5_tm2pi1e6_n1.55_omalpha0val3.5_chaos_hidens.pkl\", \"rb\") as f:\n",
    "    jobs, results = pickle.load(f)"
   ]
  },
  {
   "cell_type": "code",
   "execution_count": null,
   "metadata": {},
   "outputs": [],
   "source": [
    "outcomes = []\n",
    "for ind, result in enumerate(results):\n",
    "    if ind % 100 == 0:\n",
    "        outcomes += [0]\n",
    "    params = jobs[ind]\n",
    "    nRatio = results[ind].y[0,-1]/npy.exp(-results[ind].t[-1]/TMVAL)\n",
    "    if len(result.t_events[0]) == 0:\n",
    "        outcomes[-1] = outcomes[-1] + 1\n",
    "outcomes = [outcome/100 for outcome in outcomes]"
   ]
  },
  {
   "cell_type": "code",
   "execution_count": null,
   "metadata": {},
   "outputs": [],
   "source": [
    "joblist = [jobs[100*i] for i in range(len(outcomes))]"
   ]
  },
  {
   "cell_type": "code",
   "execution_count": null,
   "metadata": {},
   "outputs": [],
   "source": [
    "#joblist = joblist + [jobs[100*i] for i in range(len(outcomes_extended))]\n",
    "eplist = [job[1] for job in joblist]\n",
    "Domextlist = [job[2]-job[3] for job in joblist]\n",
    "indlist = [job[0] for job in joblist]\n",
    "Domextlist"
   ]
  },
  {
   "cell_type": "code",
   "execution_count": null,
   "metadata": {},
   "outputs": [],
   "source": [
    "with open(\"results_mup5e-5_tm2pi1e6_n1.55_omalpha0val3.5.pkl\", \"rb\") as f:\n",
    "    jobs, results = pickle.load(f)"
   ]
  },
  {
   "cell_type": "code",
   "execution_count": null,
   "metadata": {},
   "outputs": [],
   "source": [
    "212, 398, 584,\n",
    "198, 384, 570, \n",
    "98, 191, 284, 377, 470, 563,\n",
    "112, 205, 298, 391, 484, 577\n",
    "119,105\n",
    "305,291\n",
    "491,477"
   ]
  },
  {
   "cell_type": "code",
   "execution_count": null,
   "metadata": {},
   "outputs": [],
   "source": [
    "with open(\"singles_mup5e-5_tm2pi1e6_n1.55_omalpha0val3.5.pkl\", \"rb\") as f:\n",
    "    jobssingle, _ = pickle.load(f)\n",
    "epsingle = [j[1] for j in jobssingle]\n",
    "Dpomsingle = [j[2]-j[3] for j in jobssingle]"
   ]
  },
  {
   "cell_type": "code",
   "execution_count": null,
   "metadata": {},
   "outputs": [],
   "source": [
    "jobssingle"
   ]
  },
  {
   "cell_type": "code",
   "execution_count": null,
   "metadata": {},
   "outputs": [],
   "source": [
    "fig = plt.figure(figsize=(6.5,4.5)) \n",
    "gs = fig.add_gridspec(2, 2,height_ratios=[10,1]) \n",
    "ax1 = fig.add_subplot(gs[0, 0]) \n",
    "ax2 = fig.add_subplot(gs[1, 0]) \n",
    "ax3 = fig.add_subplot(gs[0, 1])\n",
    "\n",
    "leg1 = False\n",
    "leg2 = False\n",
    "for ind, result in enumerate(results):\n",
    "    params = jobs[ind]\n",
    "    nRatio = results[ind].y[0,-1]/npy.exp(-results[ind].t[-1]/TMVAL)\n",
    "    if nRatio > 0.8:\n",
    "        if not leg1:\n",
    "            leg1 = True\n",
    "            ax1.scatter(params[1],params[2]-params[3],c=\"r\",label=\"Escape\")\n",
    "        else:\n",
    "            ax1.scatter(params[1],params[2]-params[3],c=\"r\")\n",
    "            #ax1.text(params[1],params[2]-params[3],params[0])\n",
    "    else:\n",
    "        if not leg2:\n",
    "            leg2 = True\n",
    "            ax1.scatter(params[1],params[2]-params[3],c=\"k\",label=\"Capture\")\n",
    "        else:\n",
    "            ax1.scatter(params[1],params[2]-params[3],c=\"k\")\n",
    "            #ax1.text(params[1],params[2]-params[3],params[0])\n",
    "    #ax1.text(params[1],params[2]-params[3],f\"{ind}\")\n",
    "#ax1.scatter(epsingle,Dpomsingle,c=\"c\",marker=\"x\")\n",
    "ax1.set_yscale(\"log\")#,linthresh=5e-6,linscale=0.05)\n",
    "ax1.set_xticks([])\n",
    "ax1.set_ylabel(r\"$\\Delta\\omega_{\\rm ext}/n_{\\rm p,0}$\")\n",
    "ax1.axhline(y=DPOM_GPS,c=\"c\",ls=\"--\",lw=3)\n",
    "ax1.legend(bbox_to_anchor=[0.3,1])\n",
    "\n",
    "for ind, result in enumerate(results):\n",
    "    params = jobs[ind]\n",
    "    nRatio = results[ind].y[0,-1]/npy.exp(-results[ind].t[-1]/TMVAL)\n",
    "    if params[2]-params[3] == 0:\n",
    "        if nRatio > 0.8:\n",
    "            ax2.scatter(params[1],params[2]-params[3],c=\"r\")\n",
    "        else:\n",
    "            ax2.scatter(params[1],params[2]-params[3],c=\"k\")\n",
    "        #ax2.text(params[1],params[2]-params[3],f\"{ind}\")\n",
    "ax2.set_yticks([0])\n",
    "ax2.set_xlabel(r\"$e_{\\rm p}$\")\n",
    "#ax2.scatter(epsingle[2],Dpomsingle[2],c=\"c\",marker=\"x\")\n",
    "\n",
    "#x = npy.linspace(0.01,0.1,1000)\n",
    "#ax1.plot(x,5e-5**(4./3)/x**2/12)\n",
    "#ax1.axvline(x=(5e-5)**(1./3))\n",
    "#ax1.axhline(y=5e-5**(2./3))\n",
    "\n",
    "cs = ax3.scatter(eplist, Domextlist,c=outcomes)\n",
    "cb_ax = fig.add_axes([0.55,0.86,.39,.03])\n",
    "fig.colorbar(cs,orientation='horizontal',cax=cb_ax)\n",
    "cb_ax.xaxis.set_ticks_position('top')\n",
    "cb_ax.set_title(r\"Capture Probability\")\n",
    "for i, outcome in enumerate(outcomes):\n",
    "    ax3.text(eplist[i]+0.002, Domextlist[i]*1.05,f\"{outcome}\",size=5)\n",
    "    ax3.text(eplist[i]+0.002, Domextlist[i]*0.9,f\"{indlist[i]}\",size=5)\n",
    "\n",
    "ax3.set_xlim(ax2.get_xlim())\n",
    "\n",
    "ax3.set_yscale(\"log\")\n",
    "ax3.set_ylim(ax1.get_ylim())\n",
    "ax3.set_yticks([])\n",
    "ax3.set_yticks([],minor=True)\n",
    "ax3.set_xlabel(r\"$e_{\\rm p}$\")\n",
    "\n",
    "fig.tight_layout()\n",
    "fig.subplots_adjust(wspace=0,hspace=0)"
   ]
  },
  {
   "cell_type": "code",
   "execution_count": null,
   "metadata": {},
   "outputs": [],
   "source": [
    "291, 298"
   ]
  },
  {
   "cell_type": "code",
   "execution_count": null,
   "metadata": {},
   "outputs": [],
   "source": [
    "jobs[279]"
   ]
  },
  {
   "cell_type": "code",
   "execution_count": null,
   "metadata": {},
   "outputs": [],
   "source": [
    "fig.savefig(\"/Users/jtlaune/Desktop/grid.svg\")"
   ]
  },
  {
   "cell_type": "markdown",
   "metadata": {},
   "source": [
    "# Random grids"
   ]
  },
  {
   "cell_type": "markdown",
   "metadata": {},
   "source": [
    "- atol & rtol = 1e-9\n",
    "- $T_m = 2\\pi\\times10^6$\n",
    "- $\\mu_p=5\\times10^{-5}$\n",
    "\n",
    "Start $n_p/n = 1.55$ and decrease $n_p$ to resonance crossing. \n",
    "\n",
    "\"Escape\" is the condition $n/n_p=0.8$ in the integration and exits the integration if crossed. \n",
    "\n",
    "Capture = no event."
   ]
  },
  {
   "cell_type": "markdown",
   "metadata": {},
   "source": [
    "Currently re-running all random grids. Realized had $\\mu_p=1e-4$, and had secular coefficients wrong. $\\mu_p$ has been fixed.\n",
    "\n",
    "Currently, the \"standard\" and \"no sec\" grids has a randomly selected $\\varpi_0$, but the \"no bp\" runs do not. Need to change the latter to be in line with the former."
   ]
  },
  {
   "cell_type": "markdown",
   "metadata": {},
   "source": [
    "## Standard"
   ]
  },
  {
   "cell_type": "code",
   "execution_count": null,
   "metadata": {},
   "outputs": [],
   "source": [
    "TMVAL = 2*npy.pi*1e6\n",
    "with open(\"results_mup5e-5_tm2pi1e6_n1.55_omalpha0val3.5_random10000.pkl\", \"rb\") as f:\n",
    "    jobs, results = pickle.load(f)"
   ]
  },
  {
   "cell_type": "code",
   "execution_count": null,
   "metadata": {},
   "outputs": [],
   "source": [
    "N_jobs = len(results)\n",
    "eps = npy.zeros(N_jobs)\n",
    "omps = npy.zeros(N_jobs)\n",
    "oms = npy.zeros(N_jobs)\n",
    "outcomes = npy.zeros(N_jobs)\n",
    "X = npy.zeros((N_jobs,2))\n",
    "\n",
    "for i in range(N_jobs):\n",
    "    eps[i] = jobs[i][1]\n",
    "    omps[i] = jobs[i][2]\n",
    "    oms[i] = jobs[i][3]\n",
    "    X[i,0]= jobs[i][1]\n",
    "    X[i,1]= npy.log10(jobs[i][2])\n",
    "    if len(results[i].t_events[0]) > 0:\n",
    "        outcomes[i] = 1\n",
    "print(npy.sum(outcomes))"
   ]
  },
  {
   "cell_type": "code",
   "execution_count": null,
   "metadata": {},
   "outputs": [],
   "source": [
    "fig, ax = plt.subplots()\n",
    "ax.scatter(eps,omps-oms,c=outcomes,s=1)\n",
    "ax.set_yscale(\"log\")\n",
    "ax.set_ylabel(r\"$\\Delta\\varpi_{\\rm ext}/n_{\\rm p,0}$\")\n",
    "ax.set_xlabel(r\"$e_{\\rm p}$\")\n",
    "ax.set_title(r\"$\\mu_p=5\\times 10^{-5}$\")\n",
    "ax.axhline(y=DPOM_GPS,c=\"c\",ls=\"--\",lw=4,label=\"Giant planets on neptune\")\n",
    "#fig.savefig(\"Neptune Capture.png\",dpi=300,bbox_inches=\"tight\")\n",
    "ax.legend()"
   ]
  },
  {
   "cell_type": "markdown",
   "metadata": {},
   "source": [
    "### KNN"
   ]
  },
  {
   "cell_type": "code",
   "execution_count": null,
   "metadata": {},
   "outputs": [],
   "source": [
    "from sklearn.neighbors import KNeighborsClassifier\n",
    "from sklearn.model_selection import train_test_split\n",
    "from sklearn.preprocessing import StandardScaler\n",
    "from sklearn.inspection import DecisionBoundaryDisplay\n",
    "from sklearn.metrics import confusion_matrix, ConfusionMatrixDisplay"
   ]
  },
  {
   "cell_type": "code",
   "execution_count": null,
   "metadata": {},
   "outputs": [],
   "source": [
    "scaler = StandardScaler(with_mean=True, with_std=True, copy=True)\n",
    "scaler.fit(X)\n",
    "X_std = scaler.transform(X)"
   ]
  },
  {
   "cell_type": "code",
   "execution_count": null,
   "metadata": {},
   "outputs": [],
   "source": [
    "X_train, X_test, y_train, y_test = train_test_split(\n",
    "    X_std, outcomes, test_size=0.2, random_state=42\n",
    ")"
   ]
  },
  {
   "cell_type": "code",
   "execution_count": null,
   "metadata": {},
   "outputs": [],
   "source": [
    "DecisionBoundaryDisplay.from_estimator?"
   ]
  },
  {
   "cell_type": "code",
   "execution_count": null,
   "metadata": {},
   "outputs": [],
   "source": [
    "knn = KNeighborsClassifier(n_neighbors=3)\n",
    "knn.fit(X_train,y_train)\n",
    "disp = DecisionBoundaryDisplay.from_estimator(\n",
    "    knn, X_train, response_method=\"predict\", alpha=0.3, grid_resolution=1000\n",
    ")\n",
    "disp.ax_.scatter(X_train[:, 0], X_train[:, 1],c=y_train,s=0.1)\n",
    "ax.set_ylims(())"
   ]
  },
  {
   "cell_type": "code",
   "execution_count": null,
   "metadata": {},
   "outputs": [],
   "source": [
    "disp = ConfusionMatrixDisplay(confusion_matrix(knn.predict(X_test), y_test))\n",
    "disp.plot()\n",
    "plt.show()"
   ]
  },
  {
   "cell_type": "markdown",
   "metadata": {},
   "source": [
    "## No Bp and No Sec investigation"
   ]
  },
  {
   "cell_type": "markdown",
   "metadata": {},
   "source": [
    "- These were ran by setting beta_p = 0 for nobp, and b1_3_2=b2_3_2=0 for no secular"
   ]
  },
  {
   "cell_type": "markdown",
   "metadata": {},
   "source": [
    "### No bp"
   ]
  },
  {
   "cell_type": "code",
   "execution_count": null,
   "metadata": {},
   "outputs": [],
   "source": [
    "TMVAL = 2*npy.pi*1e6\n",
    "with open(\"results_mup5e-5_tm2pi1e6_n1.55_omalpha0val3.5_random10000_nobp.pkl\", \"rb\") as f:\n",
    "    jobs, results = pickle.load(f)\n",
    "\n",
    "N_jobs = len(results)\n",
    "eps = npy.zeros(N_jobs)\n",
    "omps = npy.zeros(N_jobs)\n",
    "oms = npy.zeros(N_jobs)\n",
    "outcomes = npy.zeros(N_jobs)\n",
    "X = npy.zeros((N_jobs,2))\n",
    "\n",
    "for i in range(N_jobs):\n",
    "    eps[i] = jobs[i][1]\n",
    "    omps[i] = jobs[i][2]\n",
    "    oms[i] = jobs[i][3]\n",
    "    X[i,0]= jobs[i][1]\n",
    "    X[i,1]= npy.log10(jobs[i][2])\n",
    "    if len(results[i].t_events[0]) > 0:\n",
    "        outcomes[i] = 1\n",
    "print(npy.sum(outcomes))"
   ]
  },
  {
   "cell_type": "code",
   "execution_count": null,
   "metadata": {},
   "outputs": [],
   "source": [
    "fig, ax = plt.subplots()\n",
    "ax.scatter(eps,omps-oms,c=outcomes,s=1)\n",
    "ax.set_yscale(\"log\")\n",
    "ax.set_ylabel(r\"$\\Delta\\varpi_{\\rm ext}/n_{\\rm p,0}$\")\n",
    "ax.set_xlabel(r\"$e_{\\rm p}$\")\n",
    "ax.set_title(r\"$\\mu_p=5\\times 10^{-5}$, $\\beta_p=0$\")\n",
    "ax.axhline(y=DPOM_GPS,c=\"c\",ls=\"--\",lw=4,label=\"Giant planets on neptune\")\n",
    "ax.legend()\n",
    "#fig.savefig(\"Neptune Capture Nobp.png\",dpi=300,bbox_inches=\"tight\")"
   ]
  },
  {
   "cell_type": "markdown",
   "metadata": {},
   "source": [
    "### No sec"
   ]
  },
  {
   "cell_type": "code",
   "execution_count": null,
   "metadata": {},
   "outputs": [],
   "source": [
    "TMVAL = 2*npy.pi*1e6\n",
    "with open(\"results_mup5e-5_tm2pi1e6_n1.55_omalpha0val3.5_random10000_nosec.pkl\", \"rb\") as f:\n",
    "    jobs, results = pickle.load(f)\n",
    "\n",
    "N_jobs = len(results)\n",
    "eps = npy.zeros(N_jobs)\n",
    "omps = npy.zeros(N_jobs)\n",
    "oms = npy.zeros(N_jobs)\n",
    "outcomes = npy.zeros(N_jobs)\n",
    "X = npy.zeros((N_jobs,2))\n",
    "\n",
    "for i in range(N_jobs):\n",
    "    eps[i] = jobs[i][1]\n",
    "    omps[i] = jobs[i][2]\n",
    "    oms[i] = jobs[i][3]\n",
    "    X[i,0]= jobs[i][1]\n",
    "    X[i,1]= npy.log10(jobs[i][2])\n",
    "    if len(results[i].t_events[0]) > 0:\n",
    "        outcomes[i] = 1\n",
    "print(npy.sum(outcomes))"
   ]
  },
  {
   "cell_type": "code",
   "execution_count": null,
   "metadata": {},
   "outputs": [],
   "source": [
    "fig, ax = plt.subplots()\n",
    "ax.scatter(eps,omps-oms,c=outcomes,s=1)\n",
    "ax.set_yscale(\"log\")\n",
    "ax.set_ylabel(r\"$\\Delta\\varpi_{\\rm ext}/n_{\\rm p,0}$\")\n",
    "ax.set_xlabel(r\"$e_{\\rm p}$\")\n",
    "ax.set_title(r\"$\\mu_p=5\\times 10^{-5}$, no secular interactions\")\n",
    "ax.axhline(y=DPOM_GPS,c=\"c\",ls=\"--\",lw=4,label=\"Giant planets on neptune\")\n",
    "ax.legend()\n",
    "#fig.savefig(\"Neptune Capture Nosec.png\",dpi=300,bbox_inches=\"tight\")"
   ]
  },
  {
   "cell_type": "markdown",
   "metadata": {},
   "source": [
    "## Individual Runs"
   ]
  },
  {
   "cell_type": "markdown",
   "metadata": {},
   "source": [
    "## Plotting function"
   ]
  },
  {
   "cell_type": "code",
   "execution_count": null,
   "metadata": {},
   "outputs": [],
   "source": [
    "def plot(results, ind, fig, axes, color, t1, t2):\n",
    "    t_ind1 = 0\n",
    "    t_ind2 = -1\n",
    "    t_ind1 = npy.where(results[ind].t > t1)[0][0]\n",
    "    t_ind2 = npy.where(results[ind].t > t2)[0][0]\n",
    "\n",
    "    tint = results[ind].t[t_ind1:t_ind2]\n",
    "    nint = results[ind].y[0, t_ind1:t_ind2]\n",
    "    npint = npy.exp(-results[ind].t[t_ind1:t_ind2] / TMVAL)\n",
    "    eint = results[ind].y[1, t_ind1:t_ind2]\n",
    "    pomint = results[ind].y[2, t_ind1:t_ind2]\n",
    "    thpint = results[ind].y[3, t_ind1:t_ind2]\n",
    "    alphaint = (nint / npint) ** (2.0 / 3)\n",
    "    bint = 1.8956507412695471\n",
    "    mupint = 5e-5\n",
    "    ompint = jobs[ind][2]\n",
    "    omint = jobs[ind][3]\n",
    "    aint = nint**(2./3)\n",
    "\n",
    "    print(jobs[ind])\n",
    "    ax = axes[0]\n",
    "    ax.set_ylabel(r\"$n/n_{\\rm p}$\")\n",
    "    ax.scatter(\n",
    "        tint,\n",
    "        nint / npint,\n",
    "        #aint,\n",
    "        s=0.01,\n",
    "        c=color,\n",
    "    )\n",
    "    #ax.scatter(\n",
    "    #    tint,\n",
    "    #    nint*aint**2*(1-0.5*(2+1)*eint**2),\n",
    "    #    s=0.01,\n",
    "    #    c=\"c\",\n",
    "    #)\n",
    "\n",
    "    ax = axes[1]\n",
    "    ax.set_ylabel(r\"$\\theta$\")\n",
    "    ax.scatter(\n",
    "        tint,\n",
    "        (thpint + ompint * tint - pomint) % (2 * npy.pi),\n",
    "        s=0.01,\n",
    "        c=color,\n",
    "    )\n",
    "\n",
    "    ax = axes[2]\n",
    "    ax.set_ylabel(r\"$\\theta_{\\rm p}$\")\n",
    "    ax.scatter(\n",
    "        tint,\n",
    "        thpint % (2 * npy.pi),\n",
    "        s=0.01,\n",
    "        c=color,\n",
    "    )\n",
    "\n",
    "    #ax = axes[3]\n",
    "    #ax.set_ylabel(r\"$\\varpi$\")\n",
    "    #ax.scatter(\n",
    "    #    tint,\n",
    "    #    pomint % (2 * npy.pi),\n",
    "    #    s=0.01,\n",
    "    #    c=color,\n",
    "    #)\n",
    "\n",
    "    ax = axes[3]\n",
    "    ax.set_ylabel(r\"$\\varpi_{\\rm p}-\\varpi$\")\n",
    "    ax.scatter(\n",
    "        tint,\n",
    "        (ompint * tint - pomint) % (2 * npy.pi),\n",
    "        s=0.01,\n",
    "        c=color,\n",
    "    )\n",
    "    #ax.axhline(y=npy.pi,c=\"c\",ls=\"--\")\n",
    "    #ax.axhline(y=3*npy.pi/2,c=\"m\",ls=\"--\")\n",
    "    #ax.axhline(y=npy.pi/2,c=\"m\",ls=\"--\")\n",
    "\n",
    "    ax = axes[4]\n",
    "    ax.set_ylabel(r\"$e$\")\n",
    "    ax.scatter(\n",
    "        tint,\n",
    "        eint,\n",
    "        s=0.01,\n",
    "        c=color,\n",
    "    )\n",
    "    # lims = ax.get_ylim()\n",
    "    # ax.plot(tint, -mupint*bint*nint*alphaint**(-1)/(3*nint-2*npint-omint))\n",
    "    # ax.set_ylim(lims)\n",
    "\n",
    "    for ax in axes:\n",
    "        ax.set_xlim((tint[0], tint[-1]))\n",
    "    for ax in axes[1:4]:\n",
    "        ax.set_ylim((0, 2 * npy.pi))\n",
    "    for ax in axes[:-1]:\n",
    "        ax.set_xticklabels([])\n",
    "    axes[-1].set_xlabel(r\"$n_{\\rm p}t$\")\n",
    "    axes[4].set_ylim(bottom=0)\n",
    "    fig.subplots_adjust(hspace=0.1)\n",
    "\n",
    "def moving_average(u, t, T):\n",
    "    dt = npy.diff(t)[0]\n",
    "    NT = int(T/dt)\n",
    "    NS = npy.ones(NT)/NT\n",
    "    out = npy.apply_along_axis(npy.convolve, axis=0, arr=u, v=NS, mode='same')\n",
    "    return(out)"
   ]
  },
  {
   "cell_type": "code",
   "execution_count": null,
   "metadata": {},
   "outputs": [],
   "source": []
  },
  {
   "cell_type": "markdown",
   "metadata": {},
   "source": [
    "# One degree of freedom $\\theta$"
   ]
  },
  {
   "cell_type": "markdown",
   "metadata": {},
   "source": [
    "Throughout, I basically treat $\\Gamma=\\frac12\\sqrt{GMa_0}e^2$ and $a_0$ is the SMA corresponding to $(j+1)n=jn_p$. There should be a slight difference in $a_0$ when things are precessing, but i don't think it impacts the dynamics beyond shifting the resonance center (i.e., its a second order effect everywhere else). Should probably incorporate it somehow into the definition of $k$.. or maybe do everything for $\\omega=0$ and then shift the separatrix up in $n-\\theta$ space?"
   ]
  },
  {
   "cell_type": "markdown",
   "metadata": {},
   "source": [
    "I believe I have now accounted for it with the definition of $a_{\\rm c}$, no?"
   ]
  },
  {
   "cell_type": "markdown",
   "metadata": {},
   "source": [
    "### $H$ and $a_c$"
   ]
  },
  {
   "cell_type": "code",
   "execution_count": 64,
   "metadata": {},
   "outputs": [
    {
     "data": {
      "image/png": "[encoded data removed]",
      "text/latex": [
       "$\\displaystyle - \\frac{G^{2} M^{2}}{2 \\Lambda^{2}} - \\frac{\\sqrt{2} G \\sqrt{\\Gamma} \\beta m_{p} \\cos{\\left(\\theta \\right)}}{\\sqrt{\\Lambda} a_{p}} + \\frac{G \\beta_{p} e_{p} m_{p} \\cos{\\left(\\theta_{p} \\right)}}{a_{p}} - \\Gamma \\omega$"
      ],
      "text/plain": [
       "   2  2                                                 \n",
       "  G ⋅M    √2⋅G⋅√Γ⋅β⋅mₚ⋅cos(θ)   G⋅βₚ⋅eₚ⋅mₚ⋅cos(θₚ)      \n",
       "- ───── - ─────────────────── + ────────────────── - Γ⋅ω\n",
       "      2          √Λ⋅aₚ                  aₚ              \n",
       "   2⋅Λ                                                  "
      ]
     },
     "execution_count": 64,
     "metadata": {},
     "output_type": "execute_result"
    }
   ],
   "source": [
    "H"
   ]
  },
  {
   "cell_type": "markdown",
   "metadata": {},
   "source": [
    "Define $a_c\\longleftrightarrow n_c$ by the relation\n",
    "$$\n",
    "(j+1)n_c-jn_p-\\omega=0\n",
    "$$"
   ]
  },
  {
   "cell_type": "markdown",
   "metadata": {},
   "source": [
    "Is this definition square with an apsidally precessing resonance?"
   ]
  },
  {
   "cell_type": "code",
   "execution_count": 65,
   "metadata": {},
   "outputs": [
    {
     "data": {
      "image/png": "[encoded data removed]",
      "text/latex": [
       "$\\displaystyle a_{c} = a_{p} \\left(j + 1\\right)^{\\frac{2}{3}} \\left(\\frac{1}{j + n_{p} \\omega}\\right)^{\\frac{2}{3}}$"
      ],
      "text/plain": [
       "                                2/3\n",
       "                  2/3 ⎛   1    ⎞   \n",
       "a_{c} = aₚ⋅(j + 1)   ⋅⎜────────⎟   \n",
       "                      ⎝j + nₚ⋅ω⎠   "
      ]
     },
     "metadata": {},
     "output_type": "display_data"
    }
   ],
   "source": [
    "ac = symbols(r\"a_{c}\", positive=True)\n",
    "display(Eq(ac, ap * ((j + 1) / (j+om*np)) ** Rational(2, 3)))"
   ]
  },
  {
   "cell_type": "markdown",
   "metadata": {},
   "source": [
    "Suppose $\\Lambda\\simeq\\sqrt{GMa_c}$ in denominator of resonant term."
   ]
  },
  {
   "cell_type": "code",
   "execution_count": 66,
   "metadata": {},
   "outputs": [
    {
     "data": {
      "image/png": "[encoded data removed]",
      "text/latex": [
       "$\\displaystyle - \\frac{\\sqrt{2} G^{\\frac{3}{4}} \\sqrt{\\Gamma} M^{\\frac{3}{4}} \\beta \\mu_{p} \\cos{\\left(j \\lambda_{p} - \\lambda \\left(j + 1\\right) + \\varpi \\right)}}{a_{p} \\sqrt[4]{a_{c}}} - \\frac{G^{2} M^{2}}{2 \\Lambda^{2}} - \\Gamma \\omega$"
      ],
      "text/plain": [
       "      3/4     3/4                                       2  2      \n",
       "  √2⋅G   ⋅√Γ⋅M   ⋅β⋅μₚ⋅cos(j⋅λₚ - λ⋅(j + 1) + varpi)   G ⋅M       \n",
       "- ────────────────────────────────────────────────── - ───── - Γ⋅ω\n",
       "                        4 _______                          2      \n",
       "                     aₚ⋅╲╱ a_{c}                        2⋅Λ       "
      ]
     },
     "execution_count": 66,
     "metadata": {},
     "output_type": "execute_result"
    }
   ],
   "source": [
    "Hth = H.subs(\n",
    "    {bp: 0, \n",
    "    th: (j + 1) * l - j * lp - pom, \n",
    "    ap * sqrt(Lam): ap * (G * M * ac)**Rational(1,4),\n",
    "    mp: M*mup}\n",
    ")\n",
    "Hth"
   ]
  },
  {
   "cell_type": "markdown",
   "metadata": {},
   "source": [
    "### Generating function 0"
   ]
  },
  {
   "cell_type": "code",
   "execution_count": 67,
   "metadata": {},
   "outputs": [
    {
     "data": {
      "image/png": "[encoded data removed]",
      "text/latex": [
       "$\\displaystyle \\Gamma_{r} \\omega t - \\Gamma_{r} \\varpi$"
      ],
      "text/plain": [
       "\\Gammaᵣ⋅ω⋅t - \\Gammaᵣ⋅varpi"
      ]
     },
     "metadata": {},
     "output_type": "display_data"
    }
   ],
   "source": [
    "Gr, pomr = symbols(r\"\\Gamma_r \\varpi_r\")\n",
    "S0 = Gr*om*t - Gr*pom\n",
    "display(S0)"
   ]
  },
  {
   "cell_type": "code",
   "execution_count": 68,
   "metadata": {},
   "outputs": [
    {
     "data": {
      "image/png": "[encoded data removed]",
      "text/latex": [
       "$\\displaystyle - \\varpi_{r} = \\omega t - \\varpi$"
      ],
      "text/plain": [
       "-\\varpiᵣ = ω⋅t - varpi"
      ]
     },
     "metadata": {},
     "output_type": "display_data"
    },
    {
     "data": {
      "image/png": "[encoded data removed]",
      "text/latex": [
       "$\\displaystyle \\Gamma = \\Gamma_{r}$"
      ],
      "text/plain": [
       "Γ = \\Gammaᵣ"
      ]
     },
     "metadata": {},
     "output_type": "display_data"
    }
   ],
   "source": [
    "display(Eq(-pomr,S0.diff(Gr)))\n",
    "display(Eq(Gam,-S0.diff(pom)))"
   ]
  },
  {
   "cell_type": "markdown",
   "metadata": {},
   "source": [
    "Time dependent part of $S_r$"
   ]
  },
  {
   "cell_type": "code",
   "execution_count": 69,
   "metadata": {},
   "outputs": [
    {
     "data": {
      "image/png": "[encoded data removed]",
      "text/latex": [
       "$\\displaystyle \\Gamma_{r} \\omega$"
      ],
      "text/plain": [
       "\\Gammaᵣ⋅ω"
      ]
     },
     "execution_count": 69,
     "metadata": {},
     "output_type": "execute_result"
    }
   ],
   "source": [
    "S0.diff(t)"
   ]
  },
  {
   "cell_type": "code",
   "execution_count": 70,
   "metadata": {},
   "outputs": [
    {
     "data": {
      "image/png": "[encoded data removed]",
      "text/latex": [
       "$\\displaystyle \\varpi_{r} + \\omega t$"
      ],
      "text/plain": [
       "\\varpiᵣ + ω⋅t"
      ]
     },
     "execution_count": 70,
     "metadata": {},
     "output_type": "execute_result"
    }
   ],
   "source": [
    "solve(Eq(-pomr,S0.diff(Gr)),pom)[0]"
   ]
  },
  {
   "cell_type": "code",
   "execution_count": 71,
   "metadata": {},
   "outputs": [
    {
     "data": {
      "image/png": "[encoded data removed]",
      "text/latex": [
       "$\\displaystyle - \\frac{\\sqrt{2} G^{\\frac{3}{4}} \\sqrt{\\Gamma} M^{\\frac{3}{4}} \\beta \\mu_{p} \\cos{\\left(\\varpi_{r} + j \\lambda_{p} - \\lambda \\left(j + 1\\right) + \\omega t \\right)}}{a_{p} \\sqrt[4]{a_{c}}} - \\frac{G^{2} M^{2}}{2 \\Lambda^{2}}$"
      ],
      "text/plain": [
       "      3/4     3/4                                               2  2\n",
       "  √2⋅G   ⋅√Γ⋅M   ⋅β⋅μₚ⋅cos(\\varpiᵣ + j⋅λₚ - λ⋅(j + 1) + ω⋅t)   G ⋅M \n",
       "- ────────────────────────────────────────────────────────── - ─────\n",
       "                            4 _______                              2\n",
       "                         aₚ⋅╲╱ a_{c}                            2⋅Λ "
      ]
     },
     "metadata": {},
     "output_type": "display_data"
    }
   ],
   "source": [
    "Hthr = Hth.subs({\n",
    "    pom: solve(Eq(-pomr,S0.diff(Gr)),pom)[0]\n",
    "}) + S0.diff(t).subs({Gr:solve(Eq(Gam,-S0.diff(pom)),Gr)[0] })\n",
    "display(Hthr)"
   ]
  },
  {
   "cell_type": "code",
   "execution_count": 72,
   "metadata": {},
   "outputs": [
    {
     "data": {
      "image/png": "[encoded data removed]",
      "text/latex": [
       "$\\displaystyle - \\frac{G M \\beta e \\mu_{p} \\cos{\\left(\\varpi_{r} + j \\lambda_{p} - \\lambda \\left(j + 1\\right) + \\omega t \\right)}}{a_{p}} - \\frac{G M}{2 a}$"
      ],
      "text/plain": [
       "  G⋅M⋅β⋅e⋅μₚ⋅cos(\\varpiᵣ + j⋅λₚ - λ⋅(j + 1) + ω⋅t)   G⋅M\n",
       "- ──────────────────────────────────────────────── - ───\n",
       "                         aₚ                          2⋅a"
      ]
     },
     "metadata": {},
     "output_type": "display_data"
    }
   ],
   "source": [
    "display(\n",
    "    Hthr.subs({Gam: Rational(1, 2) * sqrt(G * M * ac) * e**2, Lam: sqrt(G * M * a)})\n",
    ")"
   ]
  },
  {
   "cell_type": "markdown",
   "metadata": {},
   "source": [
    "### Generating function 1"
   ]
  },
  {
   "cell_type": "code",
   "execution_count": 73,
   "metadata": {},
   "outputs": [
    {
     "data": {
      "image/png": "[encoded data removed]",
      "text/latex": [
       "$\\displaystyle \\sqrt{G} \\sqrt{M} \\sqrt{a_{c}} \\lambda + \\Lambda' \\left(- \\frac{j \\lambda_{p}}{j + 1} + \\lambda - \\frac{\\omega t}{j + 1}\\right)$"
      ],
      "text/plain": [
       "        _______              ⎛   j⋅λₚ        ω⋅t ⎞\n",
       "√G⋅√M⋅╲╱ a_{c} ⋅λ + \\Lambda'⋅⎜- ───── + λ - ─────⎟\n",
       "                             ⎝  j + 1       j + 1⎠"
      ]
     },
     "metadata": {},
     "output_type": "display_data"
    }
   ],
   "source": [
    "L1, l1 = symbols(r\"\\Lambda' \\lambda'\")\n",
    "S1 = L1 * (l - j * lp / (j + 1) -om*t/(j+1)) + l * sqrt(G * M * ac)\n",
    "display(S1)"
   ]
  },
  {
   "cell_type": "code",
   "execution_count": 74,
   "metadata": {},
   "outputs": [
    {
     "data": {
      "image/png": "[encoded data removed]",
      "text/latex": [
       "$\\displaystyle \\lambda' = - \\frac{j \\lambda_{p}}{j + 1} + \\lambda - \\frac{\\omega t}{j + 1}$"
      ],
      "text/plain": [
       "              j⋅λₚ        ω⋅t \n",
       "\\lambda' = - ───── + λ - ─────\n",
       "             j + 1       j + 1"
      ]
     },
     "metadata": {},
     "output_type": "display_data"
    },
    {
     "data": {
      "image/png": "[encoded data removed]",
      "text/latex": [
       "$\\displaystyle \\Lambda = \\sqrt{G} \\sqrt{M} \\sqrt{a_{c}} + \\Lambda'$"
      ],
      "text/plain": [
       "            _______           \n",
       "Λ = √G⋅√M⋅╲╱ a_{c}  + \\Lambda'"
      ]
     },
     "metadata": {},
     "output_type": "display_data"
    }
   ],
   "source": [
    "display(Eq(l1,S1.diff(L1)))\n",
    "display(Eq(Lam,S1.diff(l)))"
   ]
  },
  {
   "cell_type": "markdown",
   "metadata": {},
   "source": [
    "This way, $\\Lambda'$ is small near resonance."
   ]
  },
  {
   "cell_type": "markdown",
   "metadata": {},
   "source": [
    "Time dependence of generating function $S'$."
   ]
  },
  {
   "cell_type": "code",
   "execution_count": 75,
   "metadata": {},
   "outputs": [
    {
     "data": {
      "image/png": "[encoded data removed]",
      "text/latex": [
       "$\\displaystyle - \\frac{\\Lambda' j n_{p}}{j + 1} - \\frac{\\Lambda' \\omega}{j + 1}$"
      ],
      "text/plain": [
       "  \\Lambda'⋅j⋅nₚ   \\Lambda'⋅ω\n",
       "- ───────────── - ──────────\n",
       "      j + 1         j + 1   "
      ]
     },
     "metadata": {},
     "output_type": "display_data"
    }
   ],
   "source": [
    "display(S1.diff(lp)*np + S1.diff(t))"
   ]
  },
  {
   "cell_type": "code",
   "execution_count": 76,
   "metadata": {},
   "outputs": [
    {
     "data": {
      "image/png": "[encoded data removed]",
      "text/latex": [
       "$\\displaystyle - \\frac{\\sqrt{2} G^{\\frac{3}{4}} \\sqrt{\\Gamma} M^{\\frac{3}{4}} \\beta \\mu_{p} \\cos{\\left(\\lambda' j + \\lambda' - \\varpi_{r} \\right)}}{a_{p} \\sqrt[4]{a_{c}}} - \\frac{G M}{2 a_{c}} - \\frac{3 \\Lambda'^{2}}{2 a_{c}^{2}} + \\Lambda' \\left(\\frac{\\sqrt{G} \\sqrt{M}}{a_{c}^{\\frac{3}{2}}} - \\frac{j n_{p}}{j + 1} - \\frac{\\omega}{j + 1}\\right)$"
      ],
      "text/plain": [
       "      3/4     3/4                                                             \n",
       "  √2⋅G   ⋅√Γ⋅M   ⋅β⋅μₚ⋅cos(\\lambda'⋅j + \\lambda' - \\varpiᵣ)     G⋅M     3⋅\\Lam\n",
       "- ───────────────────────────────────────────────────────── - ─────── - ──────\n",
       "                            4 _______                         2⋅a_{c}         \n",
       "                         aₚ⋅╲╱ a_{c}                                      2⋅a_\n",
       "\n",
       "    2                                      \n",
       "bda'             ⎛ √G⋅√M      j⋅nₚ     ω  ⎞\n",
       "───── + \\Lambda'⋅⎜──────── - ───── - ─────⎟\n",
       "   2             ⎜     3/2   j + 1   j + 1⎟\n",
       "{c}              ⎝a_{c}                   ⎠"
      ]
     },
     "execution_count": 76,
     "metadata": {},
     "output_type": "execute_result"
    }
   ],
   "source": [
    "Hth1 = (\n",
    "    Hthr.subs({l: solve(l1 - S1.diff(L1), l)[0], Lam: S1.diff(l)})\n",
    "    + S1.diff(lp) * np\n",
    "    + S1.diff(t)\n",
    ")\n",
    "Hth1 = Hth1.taylor_term(0, L1) + Hth1.taylor_term(1, L1) + Hth1.taylor_term(2, L1)\n",
    "Hth1"
   ]
  },
  {
   "cell_type": "markdown",
   "metadata": {},
   "source": [
    "We see the terms linear in $\\Lambda'$ cancel out based on the definition of $a_{\\rm c}$."
   ]
  },
  {
   "cell_type": "code",
   "execution_count": 77,
   "metadata": {},
   "outputs": [
    {
     "data": {
      "image/png": "[encoded data removed]",
      "text/latex": [
       "$\\displaystyle \\frac{j n_{p}}{j + 1} + \\frac{\\omega}{j + 1}$"
      ],
      "text/plain": [
       " j⋅nₚ     ω  \n",
       "───── + ─────\n",
       "j + 1   j + 1"
      ]
     },
     "execution_count": 77,
     "metadata": {},
     "output_type": "execute_result"
    }
   ],
   "source": [
    "(np*(j+om/np)/(j+1)).expand()"
   ]
  },
  {
   "cell_type": "code",
   "execution_count": 78,
   "metadata": {},
   "outputs": [
    {
     "data": {
      "image/png": "[encoded data removed]",
      "text/latex": [
       "$\\displaystyle - \\frac{\\sqrt{2} G^{\\frac{3}{4}} \\sqrt{\\Gamma} M^{\\frac{3}{4}} \\beta \\mu_{p} \\cos{\\left(\\lambda' j + \\lambda' - \\varpi_{r} \\right)}}{a_{p} \\sqrt[4]{a_{c}}} - \\frac{G M}{2 a_{c}} - \\frac{3 \\Lambda'^{2}}{2 a_{c}^{2}}$"
      ],
      "text/plain": [
       "      3/4     3/4                                                             \n",
       "  √2⋅G   ⋅√Γ⋅M   ⋅β⋅μₚ⋅cos(\\lambda'⋅j + \\lambda' - \\varpiᵣ)     G⋅M     3⋅\\Lam\n",
       "- ───────────────────────────────────────────────────────── - ─────── - ──────\n",
       "                            4 _______                         2⋅a_{c}         \n",
       "                         aₚ⋅╲╱ a_{c}                                      2⋅a_\n",
       "\n",
       "    2\n",
       "bda' \n",
       "─────\n",
       "   2 \n",
       "{c}  "
      ]
     },
     "execution_count": 78,
     "metadata": {},
     "output_type": "execute_result"
    }
   ],
   "source": [
    "Hth1 = Hth1.subs(\n",
    "    {sqrt(G * M) / ac ** Rational(3, 2): (np * (j + om / np) / (j + 1)).expand()}\n",
    ")\n",
    "Hth1"
   ]
  },
  {
   "cell_type": "markdown",
   "metadata": {},
   "source": [
    "### Generating function 2"
   ]
  },
  {
   "cell_type": "code",
   "execution_count": 79,
   "metadata": {},
   "outputs": [
    {
     "data": {
      "image/png": "[encoded data removed]",
      "text/latex": [
       "$\\displaystyle \\Gamma'' \\left(\\lambda' \\left(j + 1\\right) - \\varpi_{r}\\right) + \\Lambda'' \\lambda'$"
      ],
      "text/plain": [
       "\\Gamma''⋅(\\lambda'⋅(j + 1) - \\varpiᵣ) + \\Lambda''⋅\\lambda'"
      ]
     },
     "metadata": {},
     "output_type": "display_data"
    }
   ],
   "source": [
    "L2, l2, G2 = symbols(r\"\\Lambda'' \\lambda'' \\Gamma''\")\n",
    "S2 = G2 * ((j + 1) * l1 - pomr) + L2 * l1\n",
    "display(S2)"
   ]
  },
  {
   "cell_type": "code",
   "execution_count": 80,
   "metadata": {},
   "outputs": [
    {
     "data": {
      "image/png": "[encoded data removed]",
      "text/latex": [
       "$\\displaystyle \\Gamma = \\Gamma''$"
      ],
      "text/plain": [
       "Γ = \\Gamma''"
      ]
     },
     "metadata": {},
     "output_type": "display_data"
    },
    {
     "data": {
      "image/png": "[encoded data removed]",
      "text/latex": [
       "$\\displaystyle \\Lambda' = \\Gamma'' \\left(j + 1\\right) + \\Lambda''$"
      ],
      "text/plain": [
       "\\Lambda' = \\Gamma''⋅(j + 1) + \\Lambda''"
      ]
     },
     "metadata": {},
     "output_type": "display_data"
    },
    {
     "data": {
      "image/png": "[encoded data removed]",
      "text/latex": [
       "$\\displaystyle \\theta = \\lambda' \\left(j + 1\\right) - \\varpi_{r}$"
      ],
      "text/plain": [
       "θ = \\lambda'⋅(j + 1) - \\varpiᵣ"
      ]
     },
     "metadata": {},
     "output_type": "display_data"
    },
    {
     "data": {
      "image/png": "[encoded data removed]",
      "text/latex": [
       "$\\displaystyle \\lambda'' = \\lambda'$"
      ],
      "text/plain": [
       "\\lambda'' = \\lambda'"
      ]
     },
     "metadata": {},
     "output_type": "display_data"
    }
   ],
   "source": [
    "display(Eq(Gam, -S2.diff(pomr)))\n",
    "display(Eq(L1, S2.diff(l1)))\n",
    "display(Eq(th, S2.diff(G2)))\n",
    "display(Eq(l2, S2.diff(L2)))"
   ]
  },
  {
   "cell_type": "markdown",
   "metadata": {},
   "source": [
    "Check $\\theta$ is indeed $=\\theta$ as defined at the beginning of the paper."
   ]
  },
  {
   "cell_type": "code",
   "execution_count": 81,
   "metadata": {},
   "outputs": [
    {
     "data": {
      "image/png": "[encoded data removed]",
      "text/latex": [
       "$\\displaystyle - j \\lambda_{p} + \\lambda \\left(j + 1\\right) - \\varpi$"
      ],
      "text/plain": [
       "-j⋅λₚ + λ⋅(j + 1) - varpi"
      ]
     },
     "execution_count": 81,
     "metadata": {},
     "output_type": "execute_result"
    }
   ],
   "source": [
    "term_simplify(S2.diff(G2).subs(l1,S1.diff(L1))).subs(pomr,-S0.diff(Gr))"
   ]
  },
  {
   "cell_type": "markdown",
   "metadata": {},
   "source": [
    "Success"
   ]
  },
  {
   "cell_type": "code",
   "execution_count": 82,
   "metadata": {},
   "outputs": [
    {
     "data": {
      "image/png": "[encoded data removed]",
      "text/latex": [
       "$\\displaystyle - \\frac{\\sqrt{2} G^{\\frac{3}{4}} M^{\\frac{3}{4}} \\sqrt{\\Gamma''} \\beta \\mu_{p} \\cos{\\left(\\theta \\right)}}{a_{p} \\sqrt[4]{a_{c}}} - \\frac{G M}{2 a_{c}} - \\frac{3 \\left(\\Gamma'' \\left(j + 1\\right) + \\Lambda''\\right)^{2}}{2 a_{c}^{2}}$"
      ],
      "text/plain": [
       "      3/4  3/4   __________                                                   \n",
       "  √2⋅G   ⋅M   ⋅╲╱ \\Gamma'' ⋅β⋅μₚ⋅cos(θ)     G⋅M     3⋅(\\Gamma''⋅(j + 1) + \\Lam\n",
       "- ───────────────────────────────────── - ─────── - ──────────────────────────\n",
       "                  4 _______               2⋅a_{c}                       2     \n",
       "               aₚ⋅╲╱ a_{c}                                       2⋅a_{c}      \n",
       "\n",
       "      2\n",
       "bda'') \n",
       "───────\n",
       "       \n",
       "       "
      ]
     },
     "execution_count": 82,
     "metadata": {},
     "output_type": "execute_result"
    }
   ],
   "source": [
    "Hth2 = Hth1.subs(\n",
    "    {\n",
    "        Gam: -S2.diff(pomr),\n",
    "        L1: S2.diff(l1),\n",
    "        pomr: solve(th - S2.diff(G2), pomr)[0],\n",
    "    }\n",
    ")\n",
    "Hth2"
   ]
  },
  {
   "cell_type": "markdown",
   "metadata": {},
   "source": [
    "### Conserved quantity"
   ]
  },
  {
   "cell_type": "markdown",
   "metadata": {},
   "source": [
    "$\\Lambda''$ is a conserved quantity."
   ]
  },
  {
   "cell_type": "code",
   "execution_count": 83,
   "metadata": {},
   "outputs": [
    {
     "data": {
      "image/png": "[encoded data removed]",
      "text/latex": [
       "$\\displaystyle \\Lambda'' = - \\Gamma'' \\left(j + 1\\right) + \\Lambda'$"
      ],
      "text/plain": [
       "\\Lambda'' = -\\Gamma''⋅(j + 1) + \\Lambda'"
      ]
     },
     "execution_count": 83,
     "metadata": {},
     "output_type": "execute_result"
    }
   ],
   "source": [
    "Eq(L2, solve(L1 - S2.diff(l1), L2)[0].collect(G2).collect(j+1))"
   ]
  },
  {
   "cell_type": "code",
   "execution_count": 84,
   "metadata": {},
   "outputs": [
    {
     "data": {
      "image/png": "[encoded data removed]",
      "text/latex": [
       "$\\displaystyle a = a_{c} \\left(\\frac{\\delta{a}}{a_{c}} + 1\\right)$"
      ],
      "text/plain": [
       "          ⎛\\delta{a}    ⎞\n",
       "a = a_{c}⋅⎜───────── + 1⎟\n",
       "          ⎝  a_{c}      ⎠"
      ]
     },
     "metadata": {},
     "output_type": "display_data"
    }
   ],
   "source": [
    "da = symbols(r\"\\delta{a}\")\n",
    "display(Eq(a,ac*(1+da/ac)))"
   ]
  },
  {
   "cell_type": "code",
   "execution_count": 85,
   "metadata": {},
   "outputs": [
    {
     "data": {
      "image/png": "[encoded data removed]",
      "text/latex": [
       "$\\displaystyle \\Lambda' = - \\sqrt{G} \\sqrt{M} \\sqrt{a_{c}} + \\Lambda$"
      ],
      "text/plain": [
       "                     _______    \n",
       "\\Lambda' = - √G⋅√M⋅╲╱ a_{c}  + Λ"
      ]
     },
     "metadata": {},
     "output_type": "display_data"
    },
    {
     "data": {
      "image/png": "[encoded data removed]",
      "text/latex": [
       "$\\displaystyle \\Lambda' = \\frac{\\sqrt{G} \\sqrt{M} \\delta{a}}{2 \\sqrt{a_{c}}}$"
      ],
      "text/plain": [
       "           √G⋅√M⋅\\delta{a}\n",
       "\\Lambda' = ───────────────\n",
       "                 _______  \n",
       "             2⋅╲╱ a_{c}   "
      ]
     },
     "metadata": {},
     "output_type": "display_data"
    }
   ],
   "source": [
    "display(Eq(L1,Lam-sqrt(G*M*ac)))\n",
    "display(Eq(L1,(sqrt(G*M*ac*(1+da/ac))-sqrt(G*M*ac)).taylor_term(1,da)))"
   ]
  },
  {
   "cell_type": "markdown",
   "metadata": {},
   "source": [
    "Here we assume $\\Gamma''\\approx\\frac12\\sqrt{GMa_0}e^2$ in the definition of $\\Lambda''$ and $k$... is this reasonable?"
   ]
  },
  {
   "cell_type": "code",
   "execution_count": 86,
   "metadata": {},
   "outputs": [
    {
     "data": {
      "image/png": "[encoded data removed]",
      "text/latex": [
       "$\\displaystyle \\Lambda'' = \\frac{\\sqrt{G} \\sqrt{M} \\sqrt{a_{c}} \\left(\\frac{\\delta{a}}{a_{c}} - e^{2} \\left(j + 1\\right)\\right)}{2}$"
      ],
      "text/plain": [
       "                    _______ ⎛\\delta{a}    2        ⎞\n",
       "            √G⋅√M⋅╲╱ a_{c} ⋅⎜───────── - e ⋅(j + 1)⎟\n",
       "                            ⎝  a_{c}               ⎠\n",
       "\\Lambda'' = ────────────────────────────────────────\n",
       "                               2                    "
      ]
     },
     "metadata": {},
     "output_type": "display_data"
    }
   ],
   "source": [
    "display(Eq(L2,\n",
    "term_multiply(solve(L1 - S2.diff(l1), L2)[0].collect(G2).collect(j + 1).subs(\n",
    "    {\n",
    "        G2: Rational(1, 2) * sqrt(G * M * ac) * e**2,\n",
    "        L1: (sqrt(G*M*ac*(1+da/ac))-sqrt(G*M*ac)).taylor_term(1,da),\n",
    "    }\n",
    ").collect(Rational(1,2)*sqrt(G*M*ac))\n",
    ", 2/sqrt(G*M*ac))\n",
    "*sqrt(G*M*ac)/2)\n",
    ")"
   ]
  },
  {
   "cell_type": "code",
   "execution_count": 87,
   "metadata": {},
   "outputs": [
    {
     "data": {
      "image/png": "[encoded data removed]",
      "text/latex": [
       "$\\displaystyle \\Lambda'' = \\frac{\\sqrt{G} \\sqrt{M} \\sqrt{a_{c}} k}{2}$"
      ],
      "text/plain": [
       "                    _______  \n",
       "            √G⋅√M⋅╲╱ a_{c} ⋅k\n",
       "\\Lambda'' = ─────────────────\n",
       "                    2        "
      ]
     },
     "metadata": {},
     "output_type": "display_data"
    }
   ],
   "source": [
    "display(Eq(L2, Rational(1,2)*sqrt(G*M*ac)*k))"
   ]
  },
  {
   "cell_type": "code",
   "execution_count": 88,
   "metadata": {},
   "outputs": [
    {
     "data": {
      "image/png": "[encoded data removed]",
      "text/latex": [
       "$\\displaystyle k = \\frac{\\delta{a}}{a_{c}} - e^{2} \\left(j + 1\\right)$"
      ],
      "text/plain": [
       "    \\delta{a}    2        \n",
       "k = ───────── - e ⋅(j + 1)\n",
       "      a_{c}               "
      ]
     },
     "metadata": {},
     "output_type": "display_data"
    }
   ],
   "source": [
    "\n",
    "display(Eq(k,\n",
    "term_multiply(solve(L1 - S2.diff(l1), L2)[0].collect(G2).collect(j + 1).subs(\n",
    "    {\n",
    "        G2: Rational(1, 2) * sqrt(G * M * ac) * e**2,\n",
    "        L1: (sqrt(G*M*ac*(1+da/ac))-sqrt(G*M*ac)).taylor_term(1,da),\n",
    "    }\n",
    ").collect(Rational(1,2)*sqrt(G*M*ac)),1/(Rational(1,2)*sqrt(G*M*ac)))\n",
    "))"
   ]
  },
  {
   "cell_type": "markdown",
   "metadata": {},
   "source": [
    "### Final Hamiltonian"
   ]
  },
  {
   "cell_type": "markdown",
   "metadata": {},
   "source": [
    "Separate the Hamiltonian into \"radial\" and resonant parts."
   ]
  },
  {
   "cell_type": "code",
   "execution_count": 89,
   "metadata": {},
   "outputs": [
    {
     "data": {
      "image/png": "[encoded data removed]",
      "text/latex": [
       "$\\displaystyle - \\frac{G M}{2 a_{c}} - \\frac{3 \\Lambda''^{2}}{2 a_{c}^{2}}$"
      ],
      "text/plain": [
       "                       2\n",
       "    G⋅M     3⋅\\Lambda'' \n",
       "- ─────── - ────────────\n",
       "  2⋅a_{c}            2  \n",
       "              2⋅a_{c}   "
      ]
     },
     "metadata": {},
     "output_type": "display_data"
    },
    {
     "data": {
      "image/png": "[encoded data removed]",
      "text/latex": [
       "$\\displaystyle - \\frac{3 \\Gamma''^{2} \\left(j + 1\\right)^{2}}{2 a_{c}^{2}} - \\frac{3 \\Gamma'' \\Lambda'' \\left(2 j + 2\\right)}{2 a_{c}^{2}}$"
      ],
      "text/plain": [
       "            2        2                                 \n",
       "  3⋅\\Gamma'' ⋅(j + 1)    3⋅\\Gamma''⋅\\Lambda''⋅(2⋅j + 2)\n",
       "- ──────────────────── - ──────────────────────────────\n",
       "               2                           2           \n",
       "        2⋅a_{c}                     2⋅a_{c}            "
      ]
     },
     "metadata": {},
     "output_type": "display_data"
    },
    {
     "data": {
      "image/png": "[encoded data removed]",
      "text/latex": [
       "$\\displaystyle - \\frac{\\sqrt{2} G^{\\frac{3}{4}} M^{\\frac{3}{4}} \\sqrt{\\Gamma''} \\beta \\mu_{p} \\cos{\\left(\\theta \\right)}}{a_{p} \\sqrt[4]{a_{c}}}$"
      ],
      "text/plain": [
       "     3/4  3/4   __________             \n",
       "-√2⋅G   ⋅M   ⋅╲╱ \\Gamma'' ⋅β⋅μₚ⋅cos(θ) \n",
       "───────────────────────────────────────\n",
       "                 4 _______             \n",
       "              aₚ⋅╲╱ a_{c}              "
      ]
     },
     "metadata": {},
     "output_type": "display_data"
    }
   ],
   "source": [
    "Hth2rad = Hth2.subs({b:0})\n",
    "Hth2const = Hth2rad.taylor_term(0,G2)\n",
    "Hth2res = Hth2-Hth2rad\n",
    "Hth2rad = Hth2rad.taylor_term(1,G2) + Hth2rad.taylor_term(2,G2)\n",
    "display(Hth2const)\n",
    "display(Hth2rad)\n",
    "display(Hth2res)"
   ]
  },
  {
   "cell_type": "code",
   "execution_count": 90,
   "metadata": {},
   "outputs": [
    {
     "data": {
      "image/png": "[encoded data removed]",
      "text/latex": [
       "$\\displaystyle - \\frac{\\sqrt{2} G^{\\frac{3}{4}} M^{\\frac{3}{4}} \\sqrt{\\Gamma''} \\beta \\mu_{p} \\cos{\\left(\\theta \\right)}}{a_{p} \\sqrt[4]{a_{c}}} - \\frac{3 \\sqrt{G} \\sqrt{M} \\Gamma'' k \\left(2 j + 2\\right)}{4 a_{c}^{\\frac{3}{2}}} - \\frac{3 \\Gamma''^{2} \\left(j + 1\\right)^{2}}{2 a_{c}^{2}}$"
      ],
      "text/plain": [
       "      3/4  3/4   __________                                                   \n",
       "  √2⋅G   ⋅M   ⋅╲╱ \\Gamma'' ⋅β⋅μₚ⋅cos(θ)   3⋅√G⋅√M⋅\\Gamma''⋅k⋅(2⋅j + 2)   3⋅\\Ga\n",
       "- ───────────────────────────────────── - ──────────────────────────── - ─────\n",
       "                  4 _______                               3/2                 \n",
       "               aₚ⋅╲╱ a_{c}                         4⋅a_{c}                    \n",
       "\n",
       "     2        2\n",
       "mma'' ⋅(j + 1) \n",
       "───────────────\n",
       "        2      \n",
       " 2⋅a_{c}       "
      ]
     },
     "execution_count": 90,
     "metadata": {},
     "output_type": "execute_result"
    }
   ],
   "source": [
    "Hthf = (Hth2rad + Hth2res).subs(\n",
    "    {\n",
    "        L2: Rational(1, 2) * sqrt(G * M * ac) * k,\n",
    "        #sqrt(G * M / a0): sqrt(alpha0) * np * ap,\n",
    "        #k:k/sqrt(G*M)*a0**Rational(3,2)*j*np*2/(2*j+2)\n",
    "    }\n",
    ")\n",
    "Hthf"
   ]
  },
  {
   "cell_type": "code",
   "execution_count": 91,
   "metadata": {},
   "outputs": [
    {
     "data": {
      "image/png": "[encoded data removed]",
      "text/latex": [
       "$\\displaystyle - \\frac{\\sqrt{2} G^{\\frac{3}{4}} M^{\\frac{3}{4}} \\beta \\mu_{p} \\cos{\\left(\\theta \\right)}}{2 \\sqrt{\\Gamma''} a_{p} \\sqrt[4]{a_{c}}} - \\frac{3 \\sqrt{G} \\sqrt{M} k \\left(2 j + 2\\right)}{4 a_{c}^{\\frac{3}{2}}} - \\frac{3 \\Gamma'' \\left(j + 1\\right)^{2}}{a_{c}^{2}}$"
      ],
      "text/plain": [
       "        3/4  3/4                                                        2\n",
       "    √2⋅G   ⋅M   ⋅β⋅μₚ⋅cos(θ)    3⋅√G⋅√M⋅k⋅(2⋅j + 2)   3⋅\\Gamma''⋅(j + 1) \n",
       "- ─────────────────────────── - ─────────────────── - ───────────────────\n",
       "      __________    4 _______               3/2                   2      \n",
       "  2⋅╲╱ \\Gamma'' ⋅aₚ⋅╲╱ a_{c}         4⋅a_{c}                 a_{c}       "
      ]
     },
     "execution_count": 91,
     "metadata": {},
     "output_type": "execute_result"
    }
   ],
   "source": [
    "Hthf.diff(G2)"
   ]
  },
  {
   "cell_type": "code",
   "execution_count": null,
   "metadata": {},
   "outputs": [],
   "source": []
  },
  {
   "cell_type": "markdown",
   "metadata": {},
   "source": [
    "Now set the $\\Gamma''=\\frac12\\sqrt{GMa_c}e^2$... Is this reasonable?"
   ]
  },
  {
   "cell_type": "code",
   "execution_count": 92,
   "metadata": {},
   "outputs": [],
   "source": [
    "def term_expand(expr):\n",
    "    run = 0\n",
    "    for arg in expr.args:\n",
    "        run += arg.expand()\n",
    "    return(run)"
   ]
  },
  {
   "cell_type": "markdown",
   "metadata": {},
   "source": [
    "THis expression is nicer but gives weird time units:"
   ]
  },
  {
   "cell_type": "code",
   "execution_count": 93,
   "metadata": {},
   "outputs": [
    {
     "data": {
      "image/png": "[encoded data removed]",
      "text/latex": [
       "$\\displaystyle - \\frac{3 a_{p} e^{4} \\left(j + 1\\right)^{2}}{8 a_{c}} - \\frac{3 a_{p} e^{2} k \\left(2 j + 2\\right)}{8 a_{c}} - \\beta e \\mu_{p} \\cos{\\left(\\theta \\right)}$"
      ],
      "text/plain": [
       "        4        2         2                            \n",
       "  3⋅aₚ⋅e ⋅(j + 1)    3⋅aₚ⋅e ⋅k⋅(2⋅j + 2)                \n",
       "- ──────────────── - ─────────────────── - β⋅e⋅μₚ⋅cos(θ)\n",
       "      8⋅a_{c}              8⋅a_{c}                      "
      ]
     },
     "execution_count": 93,
     "metadata": {},
     "output_type": "execute_result"
    }
   ],
   "source": [
    "term_multiply(Hthf.subs({G2: Rational(1, 2)*sqrt(G*M*ac) * e**2}), 1/(G*M/ap))"
   ]
  },
  {
   "cell_type": "code",
   "execution_count": 94,
   "metadata": {},
   "outputs": [],
   "source": [
    "def term_cancel(expr):\n",
    "    run = 0\n",
    "    for arg in expr.args:\n",
    "        run += arg.cancel().factor()\n",
    "    return(run)"
   ]
  },
  {
   "cell_type": "markdown",
   "metadata": {},
   "source": [
    "Units of $n_p$:"
   ]
  },
  {
   "cell_type": "code",
   "execution_count": 95,
   "metadata": {},
   "outputs": [
    {
     "data": {
      "image/png": "[encoded data removed]",
      "text/latex": [
       "$\\displaystyle - \\frac{2 \\sqrt{a_{p}} \\beta e \\mu_{p} \\cos{\\left(\\theta \\right)}}{\\sqrt{a_{c}}} - \\frac{3 e^{4} \\left(j + 1\\right) \\left(j + \\frac{\\omega}{n_{p}}\\right)}{4} - \\frac{3 e^{2} k \\left(j + \\frac{\\omega}{n_{p}}\\right)}{2}$"
      ],
      "text/plain": [
       "                              4         ⎛    ω ⎞      2   ⎛    ω ⎞\n",
       "      ____                 3⋅e ⋅(j + 1)⋅⎜j + ──⎟   3⋅e ⋅k⋅⎜j + ──⎟\n",
       "  2⋅╲╱ aₚ ⋅β⋅e⋅μₚ⋅cos(θ)                ⎝    nₚ⎠          ⎝    nₚ⎠\n",
       "- ────────────────────── - ───────────────────── - ───────────────\n",
       "          _______                    4                    2       \n",
       "        ╲╱ a_{c}                                                  "
      ]
     },
     "execution_count": 95,
     "metadata": {},
     "output_type": "execute_result"
    }
   ],
   "source": [
    "term_cancel(term_multiply(\n",
    "    Hthf.subs({G2: Rational(1, 2) * sqrt(G * M * ac) * e**2}),\n",
    "    1 / (G * M / ap / sqrt(ap / ac) / 2),\n",
    ")).subs(\n",
    "    {\n",
    "        ap ** Rational(3, 2) / ac ** Rational(3, 2): (j+om/np)/(j+1),\n",
    "    }\n",
    ")"
   ]
  },
  {
   "cell_type": "markdown",
   "metadata": {},
   "source": [
    "### Scaled Hamiltonian and $k_{\\rm sep}$"
   ]
  },
  {
   "cell_type": "code",
   "execution_count": 96,
   "metadata": {},
   "outputs": [
    {
     "data": {
      "image/png": "[encoded data removed]",
      "text/latex": [
       "$\\displaystyle - \\frac{2 \\sqrt{a_{p}} \\beta e \\mu_{p} \\cos{\\left(\\theta \\right)}}{\\sqrt{a_{c}}} - \\frac{3 e^{4} \\left(j + 1\\right) \\left(j + \\frac{\\omega}{n_{p}}\\right)}{4} - \\frac{3 e^{2} k \\left(j + \\frac{\\omega}{n_{p}}\\right)}{2}$"
      ],
      "text/plain": [
       "                              4         ⎛    ω ⎞      2   ⎛    ω ⎞\n",
       "      ____                 3⋅e ⋅(j + 1)⋅⎜j + ──⎟   3⋅e ⋅k⋅⎜j + ──⎟\n",
       "  2⋅╲╱ aₚ ⋅β⋅e⋅μₚ⋅cos(θ)                ⎝    nₚ⎠          ⎝    nₚ⎠\n",
       "- ────────────────────── - ───────────────────── - ───────────────\n",
       "          _______                    4                    2       \n",
       "        ╲╱ a_{c}                                                  "
      ]
     },
     "execution_count": 96,
     "metadata": {},
     "output_type": "execute_result"
    }
   ],
   "source": [
    "H_scaled0 = -(Rational(3,4)*(j+1)*(j+om/np)*e**4).collect(Rational(3,4)) - ((Rational(3,2)*(j+om/np)*k)*e**2).collect(Rational(3,2)) - 2*sqrt(ap/ac)*b*mup*e*cos(th)\n",
    "H_scaled0"
   ]
  },
  {
   "cell_type": "code",
   "execution_count": 97,
   "metadata": {},
   "outputs": [
    {
     "data": {
      "image/png": "[encoded data removed]",
      "text/latex": [
       "$\\displaystyle - \\frac{\\sqrt{a_{p}} \\beta \\mu_{p} \\cos{\\left(\\theta \\right)}}{\\sqrt{a_{c}} e} - \\frac{3 e^{2} \\left(j + 1\\right) \\left(j + \\frac{\\omega}{n_{p}}\\right)}{2} - \\frac{3 k \\left(j + \\frac{\\omega}{n_{p}}\\right)}{2}$"
      ],
      "text/plain": [
       "                          2         ⎛    ω ⎞       ⎛    ω ⎞\n",
       "    ____               3⋅e ⋅(j + 1)⋅⎜j + ──⎟   3⋅k⋅⎜j + ──⎟\n",
       "  ╲╱ aₚ ⋅β⋅μₚ⋅cos(θ)                ⎝    nₚ⎠       ⎝    nₚ⎠\n",
       "- ────────────────── - ───────────────────── - ────────────\n",
       "       _______                   2                  2      \n",
       "     ╲╱ a_{c} ⋅e                                           "
      ]
     },
     "execution_count": 97,
     "metadata": {},
     "output_type": "execute_result"
    }
   ],
   "source": [
    "thdot = term_multiply(H_scaled0.diff(e),1/(2*e))\n",
    "thdot"
   ]
  },
  {
   "cell_type": "markdown",
   "metadata": {},
   "source": [
    "The below expression agrees with $\\dot e$ in paper once you change to units of $n$ (assuming $n_p/n=\\alpha^{3/2}\\simeq\\alpha_0^{3/2}$)"
   ]
  },
  {
   "cell_type": "code",
   "execution_count": 98,
   "metadata": {},
   "outputs": [
    {
     "data": {
      "image/png": "[encoded data removed]",
      "text/latex": [
       "$\\displaystyle - \\frac{2 \\sqrt{a_{p}} \\beta e \\mu_{p} \\sin{\\left(\\theta \\right)}}{\\sqrt{a_{c}}}$"
      ],
      "text/plain": [
       "     ____               \n",
       "-2⋅╲╱ aₚ ⋅β⋅e⋅μₚ⋅sin(θ) \n",
       "────────────────────────\n",
       "         _______        \n",
       "       ╲╱ a_{c}         "
      ]
     },
     "execution_count": 98,
     "metadata": {},
     "output_type": "execute_result"
    }
   ],
   "source": [
    "-H_scaled0.diff(th)"
   ]
  },
  {
   "cell_type": "markdown",
   "metadata": {},
   "source": [
    "Must solve this equation to find stable values of $e$ as a function of $k$... first finding critical value of $k$"
   ]
  },
  {
   "cell_type": "code",
   "execution_count": 99,
   "metadata": {},
   "outputs": [
    {
     "data": {
      "image/png": "[encoded data removed]",
      "text/latex": [
       "$\\displaystyle - \\frac{\\sqrt{a_{p}} \\beta \\mu_{p}}{\\sqrt{a_{c}}} - \\frac{3 e^{3} \\left(j + 1\\right) \\left(j + \\frac{\\omega}{n_{p}}\\right)}{2} - \\frac{3 e k \\left(j + \\frac{\\omega}{n_{p}}\\right)}{2}$"
      ],
      "text/plain": [
       "                   3         ⎛    ω ⎞         ⎛    ω ⎞\n",
       "    ____        3⋅e ⋅(j + 1)⋅⎜j + ──⎟   3⋅e⋅k⋅⎜j + ──⎟\n",
       "  ╲╱ aₚ ⋅β⋅μₚ                ⎝    nₚ⎠         ⎝    nₚ⎠\n",
       "- ─────────── - ───────────────────── - ──────────────\n",
       "     _______              2                   2       \n",
       "   ╲╱ a_{c}                                           "
      ]
     },
     "metadata": {},
     "output_type": "display_data"
    }
   ],
   "source": [
    "thdot_poly = term_multiply(thdot,e).subs(th, 0)#term_multiply(thdot, -j*e / (3 * j * (j + 1) / 2)).subs(th, 0)\n",
    "display(thdot_poly)"
   ]
  },
  {
   "cell_type": "code",
   "execution_count": null,
   "metadata": {},
   "outputs": [],
   "source": []
  },
  {
   "cell_type": "code",
   "execution_count": 100,
   "metadata": {},
   "outputs": [
    {
     "data": {
      "image/png": "[encoded data removed]",
      "text/latex": [
       "$\\displaystyle \\frac{\\sqrt[3]{3} \\left(- 243 \\cdot 3^{\\frac{2}{3}} k^{3} \\omega^{4} \\left(\\frac{1}{\\omega + 2}\\right)^{\\frac{2}{3}} - 1944 \\cdot 3^{\\frac{2}{3}} k^{3} \\omega^{3} \\left(\\frac{1}{\\omega + 2}\\right)^{\\frac{2}{3}} - 5832 \\cdot 3^{\\frac{2}{3}} k^{3} \\omega^{2} \\left(\\frac{1}{\\omega + 2}\\right)^{\\frac{2}{3}} - 7776 \\cdot 3^{\\frac{2}{3}} k^{3} \\omega \\left(\\frac{1}{\\omega + 2}\\right)^{\\frac{2}{3}} - 3888 \\cdot 3^{\\frac{2}{3}} k^{3} \\left(\\frac{1}{\\omega + 2}\\right)^{\\frac{2}{3}} - 1.96474160494983 \\cdot 10^{-5} \\omega^{2} - 7.85896641979934 \\cdot 10^{-5} \\omega - 7.85896641979934 \\cdot 10^{-5}\\right)}{12 \\left(\\frac{1}{\\omega + 2}\\right)^{\\frac{2}{3}}}$"
      ],
      "text/plain": [
       "      ⎛                        2/3                          2/3               \n",
       "3 ___ ⎜       2/3  3  4 ⎛  1  ⎞            2/3  3  3 ⎛  1  ⎞            2/3  3\n",
       "╲╱ 3 ⋅⎜- 243⋅3   ⋅k ⋅ω ⋅⎜─────⎟    - 1944⋅3   ⋅k ⋅ω ⋅⎜─────⎟    - 5832⋅3   ⋅k \n",
       "      ⎝                 ⎝ω + 2⎠                      ⎝ω + 2⎠                  \n",
       "──────────────────────────────────────────────────────────────────────────────\n",
       "                                                                              \n",
       "                                                                              \n",
       "                                                                              \n",
       "                                                                              \n",
       "\n",
       "           2/3                         2/3                       2/3          \n",
       "  2 ⎛  1  ⎞            2/3  3   ⎛  1  ⎞            2/3  3 ⎛  1  ⎞             \n",
       "⋅ω ⋅⎜─────⎟    - 7776⋅3   ⋅k ⋅ω⋅⎜─────⎟    - 3888⋅3   ⋅k ⋅⎜─────⎟    - 1.96474\n",
       "    ⎝ω + 2⎠                     ⎝ω + 2⎠                   ⎝ω + 2⎠             \n",
       "──────────────────────────────────────────────────────────────────────────────\n",
       "                                  2/3                                         \n",
       "                           ⎛  1  ⎞                                            \n",
       "                        12⋅⎜─────⎟                                            \n",
       "                           ⎝ω + 2⎠                                            \n",
       "\n",
       "                                                             ⎞\n",
       "              2                                              ⎟\n",
       "160494983e-5⋅ω  - 7.85896641979934e-5⋅ω - 7.85896641979934e-5⎟\n",
       "                                                             ⎠\n",
       "──────────────────────────────────────────────────────────────\n",
       "                                                              \n",
       "                                                              \n",
       "                                                              \n",
       "                                                              "
      ]
     },
     "metadata": {},
     "output_type": "display_data"
    }
   ],
   "source": [
    "expr1 = (\n",
    "    discriminant(thdot_poly, e)\n",
    "    .subs(\n",
    "        {\n",
    "            j: 2,\n",
    "            np: 1,\n",
    "            ac: ap * ((j + 1) / (j + om)) ** Rational(2, 3),\n",
    "            b: 1.8956507412695471,\n",
    "        }\n",
    "    )\n",
    "    .subs(\n",
    "        {\n",
    "            ap: 1,\n",
    "            mup: 5e-5,\n",
    "        }\n",
    "    )\n",
    ")\n",
    "display(expr1)"
   ]
  },
  {
   "cell_type": "markdown",
   "metadata": {},
   "source": [
    "Now for the $\\omega=0$ critical value. Is it worth it to solve for general $\\omega$ and $\\mu_{\\rm p}$?"
   ]
  },
  {
   "cell_type": "code",
   "execution_count": 101,
   "metadata": {},
   "outputs": [
    {
     "data": {
      "image/png": "[encoded data removed]",
      "text/latex": [
       "$\\displaystyle \\sqrt[3]{3} \\left(- 243 \\cdot 3^{\\frac{2}{3}} k^{3} \\omega^{4} \\left(\\frac{1}{\\omega + 2}\\right)^{\\frac{2}{3}} - 1944 \\cdot 3^{\\frac{2}{3}} k^{3} \\omega^{3} \\left(\\frac{1}{\\omega + 2}\\right)^{\\frac{2}{3}} - 5832 \\cdot 3^{\\frac{2}{3}} k^{3} \\omega^{2} \\left(\\frac{1}{\\omega + 2}\\right)^{\\frac{2}{3}} - 7776 \\cdot 3^{\\frac{2}{3}} k^{3} \\omega \\left(\\frac{1}{\\omega + 2}\\right)^{\\frac{2}{3}} - 3888 \\cdot 3^{\\frac{2}{3}} k^{3} \\left(\\frac{1}{\\omega + 2}\\right)^{\\frac{2}{3}} - 1.96474160494983 \\cdot 10^{-5} \\omega^{2} - 7.85896641979934 \\cdot 10^{-5} \\omega - 7.85896641979934 \\cdot 10^{-5}\\right)$"
      ],
      "text/plain": [
       "      ⎛                        2/3                          2/3               \n",
       "3 ___ ⎜       2/3  3  4 ⎛  1  ⎞            2/3  3  3 ⎛  1  ⎞            2/3  3\n",
       "╲╱ 3 ⋅⎜- 243⋅3   ⋅k ⋅ω ⋅⎜─────⎟    - 1944⋅3   ⋅k ⋅ω ⋅⎜─────⎟    - 5832⋅3   ⋅k \n",
       "      ⎝                 ⎝ω + 2⎠                      ⎝ω + 2⎠                  \n",
       "\n",
       "           2/3                         2/3                       2/3          \n",
       "  2 ⎛  1  ⎞            2/3  3   ⎛  1  ⎞            2/3  3 ⎛  1  ⎞             \n",
       "⋅ω ⋅⎜─────⎟    - 7776⋅3   ⋅k ⋅ω⋅⎜─────⎟    - 3888⋅3   ⋅k ⋅⎜─────⎟    - 1.96474\n",
       "    ⎝ω + 2⎠                     ⎝ω + 2⎠                   ⎝ω + 2⎠             \n",
       "\n",
       "                                                             ⎞\n",
       "              2                                              ⎟\n",
       "160494983e-5⋅ω  - 7.85896641979934e-5⋅ω - 7.85896641979934e-5⎟\n",
       "                                                             ⎠"
      ]
     },
     "execution_count": 101,
     "metadata": {},
     "output_type": "execute_result"
    }
   ],
   "source": [
    "funcl = fraction(expr1)[0]\n",
    "funcl"
   ]
  },
  {
   "cell_type": "code",
   "execution_count": 103,
   "metadata": {},
   "outputs": [
    {
     "data": {
      "image/png": "[encoded data removed]",
      "text/latex": [
       "$\\displaystyle -0.00248932538600893$"
      ],
      "text/plain": [
       "-0.00248932538600893"
      ]
     },
     "execution_count": 103,
     "metadata": {},
     "output_type": "execute_result"
    }
   ],
   "source": [
    "nsolve(funcl.subs({om:0}),k,1e-3)"
   ]
  },
  {
   "cell_type": "markdown",
   "metadata": {},
   "source": [
    "This expression agrees with the equation in the paper when you put in $\\alpha_0$"
   ]
  },
  {
   "cell_type": "code",
   "execution_count": 104,
   "metadata": {},
   "outputs": [
    {
     "data": {
      "image/png": "[encoded data removed]",
      "text/latex": [
       "$\\displaystyle \\left[ -1.54257043767021 \\cdot 10^{-8}\\right]$"
      ],
      "text/plain": [
       "[-1.54257043767021e-8]"
      ]
     },
     "execution_count": 104,
     "metadata": {},
     "output_type": "execute_result"
    }
   ],
   "source": [
    "solve(expr1.subs(om,0),k**3)"
   ]
  },
  {
   "cell_type": "markdown",
   "metadata": {},
   "source": [
    "Testing nsolve against analytic:"
   ]
  },
  {
   "cell_type": "code",
   "execution_count": 105,
   "metadata": {},
   "outputs": [
    {
     "name": "stdout",
     "output_type": "stream",
     "text": [
      "0.00248932538600894\n"
     ]
    }
   ],
   "source": [
    "om0kcrit = (\n",
    "    -solve(expr1.subs(om, 0), k**3)[0]\n",
    "    .subs(\n",
    "        {\n",
    "            j: 2,\n",
    "            np: 1,\n",
    "            ac: ap * ((j + 1) / (j + om)) ** Rational(2, 3),\n",
    "            b: 1.8956507412695471,\n",
    "        }\n",
    "    )\n",
    "    .subs(\n",
    "        {\n",
    "            ap: 1,\n",
    "            mup: 5e-5,\n",
    "        }\n",
    "    )\n",
    ") ** (1.0 / 3)\n",
    "print(om0kcrit)"
   ]
  },
  {
   "cell_type": "markdown",
   "metadata": {},
   "source": [
    "Success"
   ]
  },
  {
   "cell_type": "markdown",
   "metadata": {},
   "source": [
    "### Dependence of $k_{\\rm crit}$ on $\\omega$"
   ]
  },
  {
   "cell_type": "markdown",
   "metadata": {},
   "source": [
    "$k_{\\rm crit}$ depends very weakly on $\\omega$, even up to values of $0.1$ and negative values."
   ]
  },
  {
   "cell_type": "code",
   "execution_count": null,
   "metadata": {},
   "outputs": [],
   "source": [
    "plt.clf()\n",
    "omcritvals = npy.logspace(-6, -1, 100)\n",
    "\n",
    "kcrits = npy.zeros(len(omcritvals))\n",
    "for it, omval in enumerate(omcritvals):\n",
    "    kcrits[it] = nsolve(funcl.subs({om: omval}), k, 1e-3)\n",
    "plt.plot(omcritvals,kcrits)\n",
    "\n",
    "kcrits = npy.zeros(len(omcritvals))\n",
    "for it, omval in enumerate(-omcritvals):\n",
    "    kcrits[it] = nsolve(funcl.subs({om: omval}), k, 1e-3)\n",
    "\n",
    "plt.plot(-omcritvals,kcrits)\n",
    "\n",
    "plt.axhline(y=-om0kcrit)\n",
    "plt.show()"
   ]
  },
  {
   "cell_type": "markdown",
   "metadata": {},
   "source": [
    "### Plotting Runs with $e_{\\rm p}=0$ to compare to approximate Hamiltonian"
   ]
  },
  {
   "cell_type": "markdown",
   "metadata": {},
   "source": [
    "    bp: 1.5455341716765871,"
   ]
  },
  {
   "cell_type": "code",
   "execution_count": null,
   "metadata": {},
   "outputs": [],
   "source": [
    "TMVAL = 2*npy.pi*1e6\n",
    "with open(\"ep0_mup5e-5_tm2pi1e6_n1.6_omalpha0val3.5.pkl\", \"rb\") as f:\n",
    "    jobs, results = pickle.load(f)"
   ]
  },
  {
   "cell_type": "code",
   "execution_count": null,
   "metadata": {},
   "outputs": [],
   "source": [
    "jobs"
   ]
  },
  {
   "cell_type": "code",
   "execution_count": null,
   "metadata": {},
   "outputs": [],
   "source": [
    "def func(t):\n",
    "    if t > 2 * npy.pi * 3e5:\n",
    "        npval = npy.exp(-2 * npy.pi * 3e5 / TMVAL)\n",
    "    else:\n",
    "        npval = npy.exp(-t / TMVAL)\n",
    "    return npval"
   ]
  },
  {
   "cell_type": "code",
   "execution_count": null,
   "metadata": {},
   "outputs": [],
   "source": [
    "ind=0\n",
    "#t1 = 2.4e5\n",
    "#t2 = 2.6e5\n",
    "t_ind1 = 0\n",
    "t_ind2 = -1\n",
    "#t_ind1 = npy.where(results[ind].t > t1)[0][0]\n",
    "#t_ind2 = npy.where(results[ind].t > t2)[0][0]\n",
    "tint = results[ind].t[t_ind1:t_ind2]\n",
    "nint = results[ind].y[0, t_ind1:t_ind2]\n",
    "npint = npy.array([func(tval) for tval in tint])\n",
    "eint = results[ind].y[1, t_ind1:t_ind2]\n",
    "pomint = results[ind].y[2, t_ind1:t_ind2]\n",
    "thpint = results[ind].y[3, t_ind1:t_ind2]\n",
    "ompint = jobs[ind][2]\n",
    "omint = jobs[ind][3]\n",
    "alphaint = (nint / npint) ** (2.0 / 3)\n",
    "bint = 1.8956507412695471\n",
    "aint = nint**(-2./3)"
   ]
  },
  {
   "cell_type": "code",
   "execution_count": null,
   "metadata": {},
   "outputs": [],
   "source": [
    "#t1 = 2.46874e5#2.2e5\n",
    "#t2 = 2.47005e5\n",
    "#no_prec = [(thpint + ompint*tint - pomint) %(2*npy.pi), aint]\n",
    "\n",
    "#t1 = 2.56917e5\n",
    "#t2 = 2.57045e5\n",
    "#prec = [(thpint + ompint*tint - pomint) %(2*npy.pi), aint]"
   ]
  },
  {
   "cell_type": "code",
   "execution_count": null,
   "metadata": {},
   "outputs": [],
   "source": [
    "-1.83*5e-5**(2./3)"
   ]
  },
  {
   "cell_type": "code",
   "execution_count": null,
   "metadata": {},
   "outputs": [],
   "source": [
    "fig, ax = plt.subplots()\n",
    "#ax.scatter(prec[0], prec[1])\n",
    "#ax.scatter(no_prec[0], no_prec[1])\n",
    "#ax.scatter((thpint + ompint*tint - pomint) %(2*npy.pi), aint, c=tint)\n",
    "ax.twinx().scatter(tint, (thpint + ompint*tint - pomint) %(2*npy.pi), c=\"orange\",s=0.01)\n",
    "#ax.scatter(tint,(thpint + ompint*tint - pomint) %(2*npy.pi),s=0.01)\n",
    "kint = aint/((npint*2/3)**(-2./3))-1-3*eint**2\n",
    "#daint = aint/((npint*2/3)**(-2./3))-1\n",
    "ax.scatter(tint,kint,s=0.01 )#- npy.average(kint[-1000:]),s=0.01)\n",
    "#ax.scatter(tint,nint/npint,s=0.01)\n",
    "#ax.scatter(tint,daint,s=0.01)\n",
    "#ax.scatter(tint,eint,s=0.01)\n",
    "ax.axhline(y=0.0024837,c=\"r\")\n",
    "#ax.axhline(y=2/3)\n",
    "#ax.twinx().scatter(tint,eint,s=0.01,c=\"orange\")# - npy.average(daint[-1000:]),s=0.01)\n",
    "#ax.scatter(tint,3*eint**2 - npy.average(3*eint[-1000:]**2),s=0.01)\n",
    "#ax.set_ylim(0,2*npy.pi)\n",
    "#ax.scatter(tint,results[1].y[0, t_ind1:t_ind2]-results[0].y[0, t_ind1:t_ind2],s=0.1)"
   ]
  },
  {
   "cell_type": "code",
   "execution_count": null,
   "metadata": {},
   "outputs": [],
   "source": [
    "fig, ax = plt.subplots()\n",
    "t1, t2 = npy.where(tint>23e4)[0][0], npy.where(tint>36e4)[0][0]\n",
    "#ax.scatter(tint,(npint)**(-2./3))\n",
    "ax.scatter((thpint + ompint*tint - pomint)[t1:t2] %(2*npy.pi), aint[t1:t2]/(npint[t1:t2])**(-2./3), c=tint[t1:t2])\n",
    "#ax.scatter((thpint)[t1:t2] %(2*npy.pi), aint[t1:t2], c=tint[t1:t2])"
   ]
  },
  {
   "cell_type": "code",
   "execution_count": null,
   "metadata": {},
   "outputs": [],
   "source": [
    "(3/2)**(2/3)"
   ]
  },
  {
   "cell_type": "code",
   "execution_count": null,
   "metadata": {},
   "outputs": [],
   "source": [
    "jobs[1][3]/4"
   ]
  },
  {
   "cell_type": "code",
   "execution_count": null,
   "metadata": {},
   "outputs": [],
   "source": [
    "prec-no_prec"
   ]
  },
  {
   "cell_type": "code",
   "execution_count": null,
   "metadata": {},
   "outputs": [],
   "source": [
    "fig.show()"
   ]
  },
  {
   "cell_type": "code",
   "execution_count": null,
   "metadata": {},
   "outputs": [],
   "source": []
  },
  {
   "cell_type": "code",
   "execution_count": null,
   "metadata": {},
   "outputs": [],
   "source": [
    "alpha0val = (2 / 3) ** (2.0 / 3)\n",
    "epvals = npy.linspace(5e-3,0.1,20)\n",
    "ompvals = npy.zeros(31)\n",
    "ompvals[1:] = npy.logspace(-5, -2.7865, 30)\n",
    "samples = []\n",
    "for i, epval in enumerate(epvals):\n",
    "    for k, ompval in enumerate(ompvals):\n",
    "        samples = samples + [(len(ompvals) * i + k, epval, ompval, ompval * alpha0val**3.5)]\n",
    "\n",
    "\n",
    "selects =[12, 198, 384, 570,26, 212, 398, 584,5, 98, 191, 284, 377, 470, 563,19, 112, 205, 298, 391, 484, 577] + [119,105,305,291,491,477] \n",
    "jobs = []\n",
    "for select in selects:\n",
    "    for sampind, thetap0 in enumerate(npy.linspace(0,2*npy.pi,100,endpoint=False)):\n",
    "        jobs = jobs + [(*samples[select], thetap0, sampind)]\n",
    "\n",
    "for i in range(0,20,3):\n",
    "    for k in range(5,30,7):\n",
    "        ind = len(ompvals)*i+k\n",
    "        print(ind, ind in selects)"
   ]
  },
  {
   "cell_type": "code",
   "execution_count": null,
   "metadata": {},
   "outputs": [],
   "source": [
    "ls = []\n",
    "for i in range(0,20,2):\n",
    "    for k in range(5,30,3):\n",
    "        ls = ls + [len(ompvals)*i+k]\n",
    "print(ls)"
   ]
  },
  {
   "cell_type": "code",
   "execution_count": null,
   "metadata": {},
   "outputs": [],
   "source": [
    "len(ls)"
   ]
  },
  {
   "cell_type": "markdown",
   "metadata": {},
   "source": [
    "# Separatrix crossing"
   ]
  },
  {
   "cell_type": "markdown",
   "metadata": {},
   "source": [
    "- Confirmed numerically the definitions of the separatrix, $k$, $k_{crit}$, and $H_{sep}$\n",
    "- For this section, need to run Preamble, EOMs above, and Symbols & expressions below"
   ]
  },
  {
   "cell_type": "markdown",
   "metadata": {},
   "source": [
    "## Symbols & expressions"
   ]
  },
  {
   "cell_type": "code",
   "execution_count": 238,
   "metadata": {},
   "outputs": [],
   "source": [
    "from scipy.optimize import minimize "
   ]
  },
  {
   "cell_type": "code",
   "execution_count": 27,
   "metadata": {},
   "outputs": [
    {
     "data": {
      "image/png": "[encoded data removed]",
      "text/latex": [
       "$\\displaystyle e^{4} \\left(- \\frac{3 j}{4} - \\frac{3}{4}\\right) \\left(j + \\frac{\\omega}{n_{p}}\\right) - \\frac{3 e^{2} k \\left(j + \\frac{\\omega}{n_{p}}\\right)}{2} - \\frac{2 \\sqrt{a_{p}} \\beta e \\mu_{p} \\cos{\\left(\\theta \\right)}}{\\sqrt{a_{c}}}$"
      ],
      "text/plain": [
       "                             2   ⎛    ω ⎞                         \n",
       "                          3⋅e ⋅k⋅⎜j + ──⎟       ____              \n",
       " 4 ⎛  3⋅j   3⎞ ⎛    ω ⎞          ⎝    nₚ⎠   2⋅╲╱ aₚ ⋅β⋅e⋅μₚ⋅cos(θ)\n",
       "e ⋅⎜- ─── - ─⎟⋅⎜j + ──⎟ - ─────────────── - ──────────────────────\n",
       "   ⎝   4    4⎠ ⎝    nₚ⎠          2                   _____        \n",
       "                                                   ╲╱ a_c         "
      ]
     },
     "execution_count": 27,
     "metadata": {},
     "output_type": "execute_result"
    }
   ],
   "source": [
    "ac = symbols(\"a_c\",positive=True)\n",
    "H_simp_expr = (\n",
    "    -Rational(3, 4) * (j + 1) * (j + om / np) * e**4\n",
    "    - Rational(3, 2) * k * (j + om / np) * e**2\n",
    "    - 2 * b * sqrt(ap / ac) * mup * e * cos(th)\n",
    ")\n",
    "H_simp_expr"
   ]
  },
  {
   "cell_type": "code",
   "execution_count": 28,
   "metadata": {},
   "outputs": [
    {
     "data": {
      "image/png": "[encoded data removed]",
      "text/latex": [
       "$\\displaystyle \\left\\{a_{c}, a_{p}, \\beta, e, j, k, \\mu_{p}, n_{p}, \\omega, \\theta\\right\\}$"
      ],
      "text/plain": [
       "{a_c, aₚ, β, e, j, k, μₚ, nₚ, ω, θ}"
      ]
     },
     "execution_count": 28,
     "metadata": {},
     "output_type": "execute_result"
    }
   ],
   "source": [
    "H_simp_expr.free_symbols"
   ]
  },
  {
   "cell_type": "code",
   "execution_count": 29,
   "metadata": {},
   "outputs": [
    {
     "data": {
      "image/png": "[encoded data removed]",
      "text/latex": [
       "$\\displaystyle k = - e^{2} \\left(j + 1\\right) + \\frac{a - a_{c}}{a_{c}}$"
      ],
      "text/plain": [
       "       2           a - a_c\n",
       "k = - e ⋅(j + 1) + ───────\n",
       "                     a_c  "
      ]
     },
     "execution_count": 29,
     "metadata": {},
     "output_type": "execute_result"
    }
   ],
   "source": [
    "k_expr = (a-ac)/ac - (j+1)*e**2\n",
    "Eq(k,k_expr)"
   ]
  },
  {
   "cell_type": "code",
   "execution_count": 30,
   "metadata": {},
   "outputs": [
    {
     "data": {
      "image/png": "[encoded data removed]",
      "text/latex": [
       "$\\displaystyle \\left[ - \\frac{\\sqrt{a - a_{c} k - a_{c}}}{\\sqrt{a_{c}} \\sqrt{j + 1}}, \\  \\frac{\\sqrt{a - a_{c} k - a_{c}}}{\\sqrt{a_{c}} \\sqrt{j + 1}}\\right]$"
      ],
      "text/plain": [
       "⎡   _________________     _________________⎤\n",
       "⎢-╲╱ a - a_c⋅k - a_c    ╲╱ a - a_c⋅k - a_c ⎥\n",
       "⎢─────────────────────, ───────────────────⎥\n",
       "⎢    _____   _______       _____   _______ ⎥\n",
       "⎣  ╲╱ a_c ⋅╲╱ j + 1      ╲╱ a_c ⋅╲╱ j + 1  ⎦"
      ]
     },
     "execution_count": 30,
     "metadata": {},
     "output_type": "execute_result"
    }
   ],
   "source": [
    "solve(Eq(k,k_expr),e)"
   ]
  },
  {
   "cell_type": "code",
   "execution_count": 31,
   "metadata": {},
   "outputs": [
    {
     "data": {
      "image/png": "[encoded data removed]",
      "text/latex": [
       "$\\displaystyle \\frac{\\sqrt{a - a_{c} k - a_{c}}}{\\sqrt{a_{c}} \\sqrt{j + 1}}$"
      ],
      "text/plain": [
       "  _________________\n",
       "╲╱ a - a_c⋅k - a_c \n",
       "───────────────────\n",
       "   _____   _______ \n",
       " ╲╱ a_c ⋅╲╱ j + 1  "
      ]
     },
     "execution_count": 31,
     "metadata": {},
     "output_type": "execute_result"
    }
   ],
   "source": [
    "e_expr_a_k = solve(Eq(k,k_expr),e)[1]\n",
    "e_expr_a_k"
   ]
  },
  {
   "cell_type": "markdown",
   "metadata": {},
   "source": [
    "## Single capture run"
   ]
  },
  {
   "cell_type": "markdown",
   "metadata": {},
   "source": [
    "### Integrate"
   ]
  },
  {
   "cell_type": "code",
   "execution_count": null,
   "metadata": {},
   "outputs": [],
   "source": [
    "TMVAL = 2 * npy.pi * 1e6\n",
    "convs = {}\n",
    "convs = {ap: n ** Rational(2, 3) / np ** Rational(2, 3) * a, th: thp + omp * t - pom}\n",
    "params = {}\n",
    "params = {\n",
    "    j: 2,\n",
    "    mup: 5e-5,\n",
    "    bp: 1.5455341716765871,\n",
    "    b: 1.8956507412695471,\n",
    "    b1_3_2: 12.08476062046314,\n",
    "    b2_3_2: 10.485706741948807,\n",
    "    ep: 0.0\n",
    "}\n",
    "\n",
    "alpha0val = (params[j] / (params[j] + 1)) ** (2.0 / 3)\n",
    "params[omp] = 0\n",
    "params[om] = params[omp] * alpha0val**3.5\n",
    "\n",
    "\n",
    "funs = [\n",
    "    iterfun.subs(convs).subs(params)\n",
    "    for iterfun in [ndot, edot + edsec, pomdot + pomdsec, thpdot]\n",
    "]\n",
    "funs"
   ]
  },
  {
   "cell_type": "code",
   "execution_count": null,
   "metadata": {},
   "outputs": [],
   "source": [
    "xp = [n, e, pom, thp, np, t]"
   ]
  },
  {
   "cell_type": "code",
   "execution_count": null,
   "metadata": {},
   "outputs": [],
   "source": [
    "T_TURNOFF = 2.5e5\n",
    "funcl = lambdify(xp, funs)\n",
    "def func(t, x0):\n",
    "    if t < T_TURNOFF: \n",
    "        npval = npy.exp(-t/TMVAL)\n",
    "    else:\n",
    "        npval = npy.exp(-T_TURNOFF/TMVAL)\n",
    "    return funcl(*x0, npval, t)"
   ]
  },
  {
   "cell_type": "code",
   "execution_count": null,
   "metadata": {},
   "outputs": [],
   "source": [
    "teval = npy.linspace(0, 2 * npy.pi * 0.5e5, 10000)\n",
    "sol = sp.integrate.solve_ivp(\n",
    "    func,\n",
    "    [teval[0], teval[-1]],\n",
    "    [1/1.55, 0.001, 1, 2],\n",
    "    t_eval=teval,\n",
    "    rtol=1e-9,\n",
    "    #atol=1e-9,\n",
    "    method=\"DOP853\",\n",
    ")"
   ]
  },
  {
   "cell_type": "code",
   "execution_count": null,
   "metadata": {},
   "outputs": [],
   "source": [
    "a_vals = sol.y[0, :] ** (-2.0 / 3)\n",
    "np_vals = npy.exp(-sol.t / TMVAL)\n",
    "np_vals[npy.where(sol.t > T_TURNOFF)] = npy.exp(-T_TURNOFF / TMVAL)\n",
    "\n",
    "ap_vals = np_vals ** (-2.0 / 3)\n",
    "nc_vals = (params[om] + params[j] * np_vals) / (params[j] + 1)\n",
    "ac_vals = nc_vals ** (-2.0 / 3)\n",
    "e_vals = sol.y[1, :]\n",
    "th_vals = (sol.y[3, :] + params[omp] * sol.t - sol.y[2, :]) % (2 * npy.pi)\n",
    "k_vals = (a_vals - ac_vals) / ac_vals - (params[j] + 1) * e_vals**2\n",
    "k_crit = -(\n",
    "    (3 * (params[j] + 1) * ap_vals * params[b] ** 2 / (params[j] ** 2 * ac_vals))\n",
    "    ** (1.0 / 3)\n",
    ") * params[mup] ** (2.0 / 3)\n",
    "\n",
    "H_vals = (\n",
    "    -0.75 * (params[j] + 1) * (params[j] + params[om] / np_vals) * e_vals**4\n",
    "    - 1.5 * k_vals * (params[j] + params[om] / np_vals) * e_vals**2\n",
    "    - 2\n",
    "    * params[b]\n",
    "    * npy.sqrt(ap_vals / ac_vals)\n",
    "    * params[mup]\n",
    "    * e_vals\n",
    "    * npy.cos(th_vals)\n",
    ")"
   ]
  },
  {
   "cell_type": "markdown",
   "metadata": {},
   "source": [
    "### Evolution plot"
   ]
  },
  {
   "cell_type": "code",
   "execution_count": null,
   "metadata": {},
   "outputs": [],
   "source": [
    "plt.clf()\n",
    "plt.figure(figsize=(5, 7))\n",
    "\n",
    "plt.subplot(5, 1, 1)\n",
    "plt.ylabel(r\"$k$\")\n",
    "plt.plot(sol.t, k_vals, c=\"k\")\n",
    "plt.axhline(y=k_vals[-1], c=\"cyan\", ls=\"--\", label=r\"$k=$\"+f\"{k_vals[-1]:0.2e}\")\n",
    "plt.legend()\n",
    "\n",
    "plt.subplot(5, 1, 2)\n",
    "plt.ylabel(r\"$\\theta$\")\n",
    "plt.ylim(0, 2 * npy.pi)\n",
    "plt.scatter(\n",
    "    sol.t, (sol.y[3, :] + params[omp] * sol.t - sol.y[2, :]) % (2 * npy.pi), c=\"k\", s=2\n",
    ")\n",
    "\n",
    "plt.subplot(5, 1, 3)\n",
    "plt.ylabel(r\"$\\theta_p$\")\n",
    "plt.ylim(0, 2 * npy.pi)\n",
    "plt.scatter(sol.t, sol.y[3, :] % (2 * npy.pi), c=\"k\", s=2)\n",
    "\n",
    "plt.subplot(5, 1, 4)\n",
    "plt.ylabel(r\"$e$\")\n",
    "plt.plot(sol.t, sol.y[1, :], c=\"k\")\n",
    "plt.ylim((0,npy.max(sol.y[1,:])))\n",
    "\n",
    "plt.subplot(5, 1, 5)\n",
    "plt.ylabel(r\"$H$\")\n",
    "plt.plot(sol.t, H_vals, c=\"k\")\n",
    "plt.axhline(y=H_vals[-1], c=\"cyan\", ls=\"--\", label=r\"$H=$\"+f\"{H_vals[-1]:0.2e}\")\n",
    "plt.legend()\n",
    "plt.xlabel(r\"$n_p t$\")\n",
    "plt.tight_layout()\n",
    "for _ in plt.gcf().axes:\n",
    "    _.set_xlim(sol.t[0], sol.t[-1])\n",
    "save_to_clipboard()"
   ]
  },
  {
   "cell_type": "markdown",
   "metadata": {},
   "source": [
    "### Hamiltonian Level Curve Plotting at a certain time index"
   ]
  },
  {
   "cell_type": "code",
   "execution_count": null,
   "metadata": {},
   "outputs": [],
   "source": [
    "snap_index = -1"
   ]
  },
  {
   "cell_type": "code",
   "execution_count": null,
   "metadata": {},
   "outputs": [],
   "source": [
    "H_simp_expr_plugin = H_simp_expr.subs(\n",
    "    {\n",
    "        ac: ac_vals[snap_index],\n",
    "        ap: ap_vals[snap_index],\n",
    "        b: params[b],\n",
    "        j: params[j],\n",
    "        k: k_vals[snap_index],\n",
    "        mup: params[mup],\n",
    "        om: params[om],\n",
    "    }\n",
    ")\n",
    "H_simp_expr_plugin"
   ]
  },
  {
   "cell_type": "code",
   "execution_count": null,
   "metadata": {},
   "outputs": [],
   "source": [
    "e_grid, th_grid = npy.meshgrid(npy.linspace(0.001,0.1,1000), npy.pi+npy.linspace(-npy.pi,npy.pi,1000))\n",
    "H_func = lambdify([th,e],H_simp_expr_plugin)"
   ]
  },
  {
   "cell_type": "code",
   "execution_count": null,
   "metadata": {},
   "outputs": [],
   "source": [
    "thdot = H_simp_expr_plugin.diff(e)/(2*e)\n",
    "thdot"
   ]
  },
  {
   "cell_type": "code",
   "execution_count": null,
   "metadata": {},
   "outputs": [],
   "source": [
    "# Hamiltonian level curve on x-axis\n",
    "#plt.clf()\n",
    "#plt.plot(-e_grid[0,:],(lambda x: lambdify([th,e],thdot*e)(npy.pi,x))(e_grid[0,:]))\n",
    "#plt.plot(e_grid[0,:],(lambda x: lambdify([th,e],thdot*e)(0,x))(e_grid[0,:]))\n",
    "#plt.show()"
   ]
  },
  {
   "cell_type": "code",
   "execution_count": null,
   "metadata": {},
   "outputs": [],
   "source": [
    "root0 = brentq((lambda x: lambdify([th,e],thdot*e)(npy.pi,x)), 0.001,0.1)\n",
    "root1 = brentq((lambda x: lambdify([th,e],thdot*e)(0,x)), 0.005,0.02)\n",
    "root2 = brentq((lambda x: lambdify([th,e],thdot*e)(0,x)), 0.02,0.1)"
   ]
  },
  {
   "cell_type": "code",
   "execution_count": null,
   "metadata": {},
   "outputs": [],
   "source": [
    "root2"
   ]
  },
  {
   "cell_type": "code",
   "execution_count": null,
   "metadata": {},
   "outputs": [],
   "source": [
    "# Value of k\n",
    "display(k_vals[snap_index])\n",
    "# Value of H for separatrix at this k\n",
    "H_sep_val = H_simp_expr_plugin.subs({th:0,e:root2})\n",
    "display(H_sep_val)\n",
    "# Current value of H\n",
    "display(H_vals[snap_index])"
   ]
  },
  {
   "cell_type": "code",
   "execution_count": null,
   "metadata": {},
   "outputs": [],
   "source": [
    "plt.clf()\n",
    "ind_plot = npy.where(sol.t > T_PLOT)\n",
    "e_vals = sol.y[1, :][ind_plot]\n",
    "th_vals = (\n",
    "    sol.y[3, :][ind_plot] + params[omp] * sol.t[ind_plot] - sol.y[2, :][ind_plot]\n",
    ") % (2 * npy.pi)\n",
    "plt.title(r\"$k=$\"+f\"{k_vals[snap_index]:0.2e}\")\n",
    "plt.scatter(e_vals * npy.cos(th_vals), e_vals * npy.sin(th_vals), s=2, c=\"k\")\n",
    "plt.contour(\n",
    "    e_grid * npy.cos(th_grid),\n",
    "    e_grid * npy.sin(th_grid),\n",
    "    H_func(th_grid, e_grid),\n",
    "    levels=sorted([H_vals[snap_index],H_sep_val]),\n",
    "    colors=[\"red\",\"cyan\"],\n",
    "    #linestyles=[\"--\",\"--\"],\n",
    ")\n",
    "# plt.colorbar()\n",
    "plt.tight_layout()\n",
    "plt.show()"
   ]
  },
  {
   "cell_type": "code",
   "execution_count": null,
   "metadata": {},
   "outputs": [],
   "source": [
    "# e as a function of k and a\n",
    "e_func = lambdify(e,e_expr_a_k.subs({ac:ac_vals[snap_index],j:params[j],k:k_vals[snap_index]}))\n",
    "e_func"
   ]
  },
  {
   "cell_type": "code",
   "execution_count": null,
   "metadata": {},
   "outputs": [],
   "source": [
    "# H(a,th;k)\n",
    "H_a_th = H_simp_expr_plugin.subs({e:e_expr_a_k}).subs({ac:ac_vals[snap_index],j:params[j],k:k_vals[snap_index]})\n",
    "H_a_th_func = lambdify([th,a],H_a_th)\n",
    "display(H_a_th)"
   ]
  },
  {
   "cell_type": "code",
   "execution_count": null,
   "metadata": {},
   "outputs": [],
   "source": [
    "a_grid, th_a_grid = npy.meshgrid(npy.linspace(1.33,1.36,1000),npy.linspace(0,2*npy.pi,1000))"
   ]
  },
  {
   "cell_type": "code",
   "execution_count": null,
   "metadata": {},
   "outputs": [],
   "source": [
    "T_PLOT = 3e5\n",
    "plt.clf()\n",
    "plt.figure(figsize=(3,3))\n",
    "a_vals = (sol.y[0, :][ind_plot])**(-2./3)\n",
    "th_vals = (\n",
    "    sol.y[3, :][ind_plot] + params[omp] * sol.t[ind_plot] - sol.y[2, :][ind_plot]\n",
    ") % (2 * npy.pi)\n",
    "plt.scatter(th_vals,a_vals, s=2, c=\"k\")\n",
    "levels = [H_sep_val,H_vals[snap_index]]\n",
    "#levels = npy.linspace(float(H_sep_val),H_vals[snap_index],10)\n",
    "cs = plt.contour(\n",
    "    th_a_grid,\n",
    "    a_grid,\n",
    "    H_a_th_func(th_a_grid, a_grid),\n",
    "    levels=levels,\n",
    "    colors=[\"red\",\"cyan\"],\n",
    "    linestyles=[\"--\",\"--\"],\n",
    ")\n",
    "labels=[r\"$H=H_{\\rm sep}$\"+f\"{H_sep_val}\",r\"$H=$\"+f\"{H_vals[snap_index]}\"]\n",
    "plt.title(r\"$k=$\"+f\"{k_vals[snap_index]:0.2e}\")\n",
    "plt.axhline(y=ac_vals[snap_index])\n",
    "# plt.colorbar()\n",
    "plt.legend()\n",
    "plt.tight_layout()\n",
    "plt.show()\n",
    "save_to_clipboard()"
   ]
  },
  {
   "cell_type": "markdown",
   "metadata": {},
   "source": [
    "## Single run hand placed"
   ]
  },
  {
   "cell_type": "code",
   "execution_count": null,
   "metadata": {},
   "outputs": [],
   "source": [
    "params = {}\n",
    "params = {\n",
    "    j: 2,\n",
    "    mup: 5e-5,\n",
    "    bp: 1.5455341716765871,\n",
    "    b: 1.8956507412695471,\n",
    "    b1_3_2: 12.08476062046314,\n",
    "    b2_3_2: 10.485706741948807,\n",
    "    ep: 0.0\n",
    "}\n",
    "\n",
    "alpha0val = (params[j] / (params[j] + 1)) ** (2.0 / 3)\n",
    "params[omp] = 0\n",
    "params[om] = params[omp] * alpha0val**3.5"
   ]
  },
  {
   "cell_type": "code",
   "execution_count": null,
   "metadata": {},
   "outputs": [],
   "source": [
    "\n",
    "ap_sel =1.026880764932741 #ap_vals[-1]\n",
    "print(ap_sel)\n",
    "ac_sel = 1.34559446378806 #ac_vals[-1]\n",
    "print(ac_sel)\n",
    "k_sel = -0.004662043471396658#k_vals[-1]\n",
    "print(k_sel)\n",
    "np_sel =0.9609924410332833 #np_vals[-1]\n",
    "print(np_sel)\n",
    "pomp_sel = 0 #params[omp]*sol.t[-1]\n",
    "print(pomp_sel)"
   ]
  },
  {
   "cell_type": "code",
   "execution_count": null,
   "metadata": {},
   "outputs": [],
   "source": [
    "H_e_th_sel = H_simp_expr.subs({\n",
    "    j: params[j],\n",
    "    om: params[om],\n",
    "    mup: params[mup],\n",
    "    ap: ap_sel,\n",
    "    k: k_sel,\n",
    "    b: params[b],\n",
    "    ac: ac_sel,\n",
    "})\n",
    "H_e_th_sel_func = lambdify([th,e],H_e_th_sel)\n",
    "H_e_th_sel\n"
   ]
  },
  {
   "cell_type": "code",
   "execution_count": null,
   "metadata": {},
   "outputs": [],
   "source": [
    "H_a_th_sel = H_simp_expr.subs({e:e_expr_a_k}).subs({\n",
    "    j: params[j],\n",
    "    om: params[om],\n",
    "    mup: params[mup],\n",
    "    ap: ap_sel,\n",
    "    k: k_sel,\n",
    "    b: params[b],\n",
    "    ac: ac_sel,\n",
    "})\n",
    "H_a_th_sel_func = lambdify([th,a],H_a_th_sel)\n",
    "H_a_th_sel"
   ]
  },
  {
   "cell_type": "code",
   "execution_count": null,
   "metadata": {},
   "outputs": [],
   "source": [
    "\n",
    "thdot_sel = H_e_th_sel.diff(e)/(2*e)\n",
    "thdot_sel\n"
   ]
  },
  {
   "cell_type": "code",
   "execution_count": null,
   "metadata": {},
   "outputs": [],
   "source": [
    "\n",
    "root0 = brentq((lambda x: lambdify([th,e],thdot_sel*e)(npy.pi,x)), 0.001,0.1)\n",
    "root1 = brentq((lambda x: lambdify([th,e],thdot_sel*e)(0,x)), 0.005,0.02)\n",
    "root2 = brentq((lambda x: lambdify([th,e],thdot_sel*e)(0,x)), 0.02,0.1)"
   ]
  },
  {
   "cell_type": "code",
   "execution_count": null,
   "metadata": {},
   "outputs": [],
   "source": [
    "print(root0)\n",
    "print(root1)\n",
    "print(root2)"
   ]
  },
  {
   "cell_type": "code",
   "execution_count": null,
   "metadata": {},
   "outputs": [],
   "source": [
    "# Value of H for separatrix at this k\n",
    "H_sep_val = H_e_th_sel.subs({th:0,e:root2})\n",
    "display(H_sep_val)"
   ]
  },
  {
   "cell_type": "code",
   "execution_count": null,
   "metadata": {},
   "outputs": [],
   "source": [
    "H_val_sel = 5e-6\n",
    "th_sel = npy.pi+1"
   ]
  },
  {
   "cell_type": "code",
   "execution_count": null,
   "metadata": {},
   "outputs": [],
   "source": [
    "H_val_sel"
   ]
  },
  {
   "cell_type": "code",
   "execution_count": null,
   "metadata": {},
   "outputs": [],
   "source": [
    "e_grid, th_grid = npy.meshgrid(npy.linspace(0.001,0.1,1000), npy.pi+npy.linspace(-npy.pi,npy.pi,1000))"
   ]
  },
  {
   "cell_type": "code",
   "execution_count": null,
   "metadata": {},
   "outputs": [],
   "source": [
    "plt.clf()\n",
    "#plt.plot(-e_grid[0,:],H_e_th_sel_func(npy.pi,e_grid[0,:]))\n",
    "#plt.plot(e_grid[0,:],H_e_th_sel_func(0,e_grid[0,:]))\n",
    "plt.plot(e_grid[0,:],H_e_th_sel_func(th_sel,e_grid[0,:]))\n",
    "plt.axhline(y=H_val_sel)\n",
    "plt.show()"
   ]
  },
  {
   "cell_type": "code",
   "execution_count": null,
   "metadata": {},
   "outputs": [],
   "source": [
    "_ = lambda x: H_e_th_sel_func(th_sel,x)-H_val_sel\n",
    "e0_sel = brentq(_,0.045,0.06)\n",
    "e0_sel"
   ]
  },
  {
   "cell_type": "code",
   "execution_count": null,
   "metadata": {},
   "outputs": [],
   "source": [
    "a0_sel =solve(Eq(k_sel,k_expr.subs({e:e0_sel,ac:ac_sel,j:params[j]})), a)[0]\n",
    "a0_sel"
   ]
  },
  {
   "cell_type": "code",
   "execution_count": null,
   "metadata": {},
   "outputs": [],
   "source": [
    "pom0_sel = 1"
   ]
  },
  {
   "cell_type": "code",
   "execution_count": null,
   "metadata": {},
   "outputs": [],
   "source": [
    "convs = {ap: n ** Rational(2, 3) / np ** Rational(2, 3) * a, th: thp + omp * t - pom}\n",
    "xp = [n, e, pom, thp, np, t]\n",
    "T_TURNOFF = 0\n",
    "funs = [\n",
    "    iterfun.subs(convs).subs(params)\n",
    "    for iterfun in [ndot, edot + edsec, pomdot + pomdsec, thpdot]\n",
    "]\n",
    "funs\n",
    "funcl = lambdify(xp, funs)\n",
    "def func(t, x0):\n",
    "    return funcl(*x0, np_sel, t)\n",
    "teval = npy.linspace(0, 2 * npy.pi * 1e4, 10000)\n",
    "sol = sp.integrate.solve_ivp(\n",
    "    func,\n",
    "    [teval[0], teval[-1]],\n",
    "    [a0_sel**(-3./2), e0_sel, pom0_sel, th_sel-pom0_sel+pomp_sel],\n",
    "    t_eval=teval,\n",
    "    rtol=1e-9,\n",
    "    #atol=1e-9,\n",
    "    method=\"DOP853\",\n",
    ")"
   ]
  },
  {
   "cell_type": "code",
   "execution_count": null,
   "metadata": {},
   "outputs": [],
   "source": [
    "a_vals = sol.y[0, :] ** (-2.0 / 3)\n",
    "\n",
    "ap_vals = np_sel ** (-2.0 / 3)\n",
    "nc_vals = (params[om] + params[j] * np_sel) / (params[j] + 1)\n",
    "ac_vals = nc_vals ** (-2.0 / 3)\n",
    "e_vals = sol.y[1, :]\n",
    "th_vals = (sol.y[3, :] + params[omp] * sol.t - sol.y[2, :]) % (2 * npy.pi)\n",
    "k_vals = (a_vals - ac_vals) / ac_vals - (params[j] + 1) * e_vals**2\n",
    "k_crit = -(\n",
    "    (3 * (params[j] + 1) * ap_vals * params[b] ** 2 / (params[j] ** 2 * ac_vals))\n",
    "    ** (1.0 / 3)\n",
    ") * params[mup] ** (2.0 / 3)\n",
    "\n",
    "H_vals = (\n",
    "    -0.75 * (params[j] + 1) * (params[j] + params[om] / np_sel) * e_vals**4\n",
    "    - 1.5 * k_vals * (params[j] + params[om] / np_sel) * e_vals**2\n",
    "    - 2\n",
    "    * params[b]\n",
    "    * npy.sqrt(ap_vals / ac_vals)\n",
    "    * params[mup]\n",
    "    * e_vals\n",
    "    * npy.cos(th_vals)\n",
    ")"
   ]
  },
  {
   "cell_type": "code",
   "execution_count": null,
   "metadata": {},
   "outputs": [],
   "source": [
    "#plt.clf()\n",
    "#plt.plot(sol.t,H_vals)\n",
    "#plt.show()"
   ]
  },
  {
   "cell_type": "code",
   "execution_count": null,
   "metadata": {},
   "outputs": [],
   "source": [
    "plt.clf()\n",
    "e_vals = sol.y[1, :]\n",
    "th_vals = (\n",
    "    sol.y[3, :] + params[omp] * sol.t - sol.y[2, :]\n",
    ") % (2 * npy.pi)\n",
    "plt.title(r\"$k=$\"+f\"{k_sel:0.2e}\")\n",
    "plt.scatter(e_vals * npy.cos(th_vals), e_vals * npy.sin(th_vals), s=2, c=\"k\")\n",
    "plt.scatter(e_vals[0] * npy.cos(th_vals[0]), e_vals[0] * npy.sin(th_vals[0]), s=2, c=\"r\")\n",
    "plt.contour(\n",
    "    e_grid * npy.cos(th_grid),\n",
    "    e_grid * npy.sin(th_grid),\n",
    "    H_e_th_sel_func(th_grid, e_grid),\n",
    "    levels=sorted([H_sep_val]),\n",
    "    colors=[\"red\",\"cyan\"],\n",
    "    #linestyles=[\"--\",\"--\"],\n",
    ")\n",
    "# plt.colorbar()\n",
    "plt.tight_layout()\n",
    "plt.show()"
   ]
  },
  {
   "cell_type": "code",
   "execution_count": null,
   "metadata": {},
   "outputs": [],
   "source": [
    "a_grid, th_a_grid = npy.meshgrid(npy.linspace(1.33,1.36,1000),npy.linspace(0,2*npy.pi,1000))"
   ]
  },
  {
   "cell_type": "code",
   "execution_count": null,
   "metadata": {},
   "outputs": [],
   "source": [
    "plt.clf()\n",
    "plt.figure(figsize=(3,3))\n",
    "a_vals = (sol.y[0, :])**(-2./3)\n",
    "th_vals = (\n",
    "    sol.y[3, :] + params[omp] * sol.t - sol.y[2, :]\n",
    ") % (2 * npy.pi)\n",
    "plt.scatter(th_vals,a_vals, s=2, c=\"k\")\n",
    "levels = [H_sep_val,H_val_sel]\n",
    "#levels = npy.linspace(float(H_sep_val),H_vals[snap_index],10)\n",
    "cs = plt.contour(\n",
    "    th_a_grid,\n",
    "    a_grid,\n",
    "    H_a_th_sel_func(th_a_grid, a_grid),\n",
    "    levels=levels,\n",
    "    colors=[\"red\",\"cyan\"],\n",
    "    linestyles=[\"--\",\"--\"],\n",
    ")\n",
    "labels=[r\"$H=H_{\\rm sep}$\"+f\"{H_sep_val}\",r\"$H=$\"+f\"{H_val_sel}\"]\n",
    "plt.title(r\"$k=$\"+f\"{k_sel:0.2e}\")\n",
    "plt.axhline(y=ac_sel)\n",
    "# plt.colorbar()\n",
    "plt.legend()\n",
    "plt.tight_layout()\n",
    "plt.show()\n",
    "save_to_clipboard()"
   ]
  },
  {
   "cell_type": "markdown",
   "metadata": {},
   "source": [
    "## Separatrix at k_crit for $\\theta$ vs $\\theta_p$ with $\\Delta\\dot\\varpi_{\\rm ext}=0$"
   ]
  },
  {
   "cell_type": "code",
   "execution_count": 615,
   "metadata": {},
   "outputs": [],
   "source": [
    "params = {}\n",
    "params = {\n",
    "    j: 2,\n",
    "    mup: 5e-5,\n",
    "    bp: 1.5455341716765871,\n",
    "    b: 1.8956507412695471,\n",
    "    b1_3_2: 12.08476062046314,\n",
    "    b2_3_2: 10.485706741948807,\n",
    "    ep: 0.02\n",
    "}\n",
    "alpha0val = (params[j] / (params[j] + 1)) ** (2.0 / 3)\n",
    "params[omp] = 0.05\n",
    "params[om] = 0#params[omp] * alpha0val**3.5"
   ]
  },
  {
   "cell_type": "code",
   "execution_count": 616,
   "metadata": {},
   "outputs": [
    {
     "name": "stdout",
     "output_type": "stream",
     "text": [
      "1\n",
      "1.0\n",
      "0.6666666666666666\n",
      "1.3103706971044484\n"
     ]
    }
   ],
   "source": [
    "np_sel = 1\n",
    "ap_sel = np_sel**(-2./3)\n",
    "nc_sel = (params[j]*np_sel + params[om])/(params[j]+1)\n",
    "ac_sel = nc_sel**(-2./3)\n",
    "pomp_sel = 0\n",
    "print(np_sel)\n",
    "print(ap_sel)\n",
    "print(nc_sel)\n",
    "print(ac_sel)"
   ]
  },
  {
   "cell_type": "code",
   "execution_count": 617,
   "metadata": {},
   "outputs": [
    {
     "data": {
      "image/png": "[encoded data removed]",
      "text/latex": [
       "$\\displaystyle -0.00248932538600893$"
      ],
      "text/plain": [
       "-0.0024893253860089346"
      ]
     },
     "execution_count": 617,
     "metadata": {},
     "output_type": "execute_result"
    }
   ],
   "source": [
    "k_crit = -(\n",
    "    (3 * (params[j] + 1) * ap_sel * params[b] ** 2 / (params[j] ** 2 * ac_sel))\n",
    "    ** (1.0 / 3)\n",
    ") * params[mup] ** (2.0 / 3)\n",
    "k_crit"
   ]
  },
  {
   "cell_type": "code",
   "execution_count": 618,
   "metadata": {},
   "outputs": [
    {
     "data": {
      "image/png": "[encoded data removed]",
      "text/latex": [
       "$\\displaystyle -0.00248932538600893$"
      ],
      "text/plain": [
       "-0.0024893253860089346"
      ]
     },
     "execution_count": 618,
     "metadata": {},
     "output_type": "execute_result"
    }
   ],
   "source": [
    "k_crit = 1.*k_crit\n",
    "k_crit"
   ]
  },
  {
   "cell_type": "markdown",
   "metadata": {},
   "source": [
    "- okay why do these have different numerical values?? \n",
    "- its negative & i put in -ap_sel bc its under a cubed root\n",
    "  - had ap_sel in denom of cubed root instead of ac_sel"
   ]
  },
  {
   "cell_type": "code",
   "execution_count": 619,
   "metadata": {},
   "outputs": [
    {
     "data": {
      "image/png": "[encoded data removed]",
      "text/latex": [
       "$\\displaystyle -0.00248932538600893$"
      ],
      "text/plain": [
       "-0.00248932538600893"
      ]
     },
     "execution_count": 619,
     "metadata": {},
     "output_type": "execute_result"
    }
   ],
   "source": [
    "-solve(discriminant(term_multiply(H_simp_expr.subs({om:0}).diff(e),e)),k)[0].subs({j:params[j],th:0,b:params[b],mup:params[mup],ap:-ap_sel,ac:ac_sel}).evalf()"
   ]
  },
  {
   "cell_type": "code",
   "execution_count": 620,
   "metadata": {},
   "outputs": [
    {
     "data": {
      "image/png": "[encoded data removed]",
      "text/latex": [
       "$\\displaystyle e^{4} \\left(- \\frac{3 j}{4} - \\frac{3}{4}\\right) \\left(j + \\frac{\\omega}{n_{p}}\\right) - \\frac{3 e^{2} k \\left(j + \\frac{\\omega}{n_{p}}\\right)}{2} - \\frac{2 \\sqrt{a_{p}} \\beta e \\mu_{p} \\cos{\\left(\\theta \\right)}}{\\sqrt{a_{c}}}$"
      ],
      "text/plain": [
       "                             2   ⎛    ω ⎞                         \n",
       "                          3⋅e ⋅k⋅⎜j + ──⎟       ____              \n",
       " 4 ⎛  3⋅j   3⎞ ⎛    ω ⎞          ⎝    nₚ⎠   2⋅╲╱ aₚ ⋅β⋅e⋅μₚ⋅cos(θ)\n",
       "e ⋅⎜- ─── - ─⎟⋅⎜j + ──⎟ - ─────────────── - ──────────────────────\n",
       "   ⎝   4    4⎠ ⎝    nₚ⎠          2                   _____        \n",
       "                                                   ╲╱ a_c         "
      ]
     },
     "execution_count": 620,
     "metadata": {},
     "output_type": "execute_result"
    }
   ],
   "source": [
    "H_simp_expr"
   ]
  },
  {
   "cell_type": "code",
   "execution_count": 621,
   "metadata": {},
   "outputs": [
    {
     "data": {
      "image/png": "[encoded data removed]",
      "text/latex": [
       "$\\displaystyle - \\frac{9 e^{4}}{2} + 0.0074679761580268 e^{2} - 0.000165600345553596 e \\cos{\\left(\\theta \\right)}$"
      ],
      "text/plain": [
       "     4                                                        \n",
       "  9⋅e                        2                                \n",
       "- ──── + 0.0074679761580268⋅e  - 0.000165600345553596⋅e⋅cos(θ)\n",
       "   2                                                          "
      ]
     },
     "execution_count": 621,
     "metadata": {},
     "output_type": "execute_result"
    }
   ],
   "source": [
    "H_e_th_sel = H_simp_expr.subs({\n",
    "    j: params[j],\n",
    "    om: params[om],\n",
    "    mup: params[mup],\n",
    "    ap: ap_sel,\n",
    "    k: k_crit,\n",
    "    b: params[b],\n",
    "    ac: ac_sel,\n",
    "    np:np_sel\n",
    "})\n",
    "H_e_th_sel_func = lambdify([th,e],H_e_th_sel)\n",
    "H_e_th_sel"
   ]
  },
  {
   "cell_type": "code",
   "execution_count": 622,
   "metadata": {},
   "outputs": [
    {
     "data": {
      "image/png": "[encoded data removed]",
      "text/latex": [
       "$\\displaystyle \\frac{- 18 e^{3} + 0.0149359523160536 e - 0.000165600345553596 \\cos{\\left(\\theta \\right)}}{2 e}$"
      ],
      "text/plain": [
       "      3                                                     \n",
       "- 18⋅e  + 0.0149359523160536⋅e - 0.000165600345553596⋅cos(θ)\n",
       "────────────────────────────────────────────────────────────\n",
       "                            2⋅e                             "
      ]
     },
     "execution_count": 622,
     "metadata": {},
     "output_type": "execute_result"
    }
   ],
   "source": [
    "thdot_sel = H_e_th_sel.diff(e)/(2*e)\n",
    "thdot_sel"
   ]
  },
  {
   "cell_type": "code",
   "execution_count": 623,
   "metadata": {},
   "outputs": [],
   "source": [
    "#plt.clf()\n",
    "#e_dom = npy.linspace(0.,0.1,1000)\n",
    "#_ = lambda x: lambdify([th,e],thdot_sel*e)(0,x)\n",
    "#plt.plot(e_dom, [_(x) for x in e_dom])\n",
    "#plt.axhline(y=0,c=\"k\")\n",
    "#plt.show()"
   ]
  },
  {
   "cell_type": "code",
   "execution_count": 624,
   "metadata": {},
   "outputs": [],
   "source": [
    "#e_search = npy.linspace(0.0,1,10000)\n",
    "#_ = lambda x: -lambdify([th,e],thdot_sel*e)(0,x)\n",
    "#roots = []\n",
    "#for i in range(len(e_search)-1):\n",
    "#    #root = minimize(_,0.05,bounds=[(0,.1)]).x[0]\n",
    "#    try:\n",
    "#        root = brentq(_,e_search[i],e_search[i+1])\n",
    "#        roots += [root]\n",
    "#    except ValueError:\n",
    "#        pass\n",
    "#root = max(roots)"
   ]
  },
  {
   "cell_type": "code",
   "execution_count": 625,
   "metadata": {},
   "outputs": [
    {
     "data": {
      "image/png": "[encoded data removed]",
      "text/latex": [
       "$\\displaystyle 0.0166263980702673$"
      ],
      "text/plain": [
       "0.016626398070267327"
      ]
     },
     "execution_count": 625,
     "metadata": {},
     "output_type": "execute_result"
    }
   ],
   "source": [
    "root = minimize(_,0.05,bounds=[(0,.1)]).x[0]\n",
    "root"
   ]
  },
  {
   "cell_type": "code",
   "execution_count": 626,
   "metadata": {},
   "outputs": [
    {
     "data": {
      "image/png": "[encoded data removed]",
      "text/latex": [
       "$\\displaystyle -1.03279014620802 \\cdot 10^{-6}$"
      ],
      "text/plain": [
       "-1.03279014620802e-6"
      ]
     },
     "execution_count": 626,
     "metadata": {},
     "output_type": "execute_result"
    }
   ],
   "source": [
    "H_sep_val_sel = H_e_th_sel.subs({e:root,k:k_crit,th:0})\n",
    "H_sep_val_sel"
   ]
  },
  {
   "cell_type": "code",
   "execution_count": 627,
   "metadata": {},
   "outputs": [
    {
     "data": {
      "image/png": "[encoded data removed]",
      "text/latex": [
       "$\\displaystyle \\frac{\\sqrt{a - a_{c} k - a_{c}}}{\\sqrt{a_{c}} \\sqrt{j + 1}}$"
      ],
      "text/plain": [
       "  _________________\n",
       "╲╱ a - a_c⋅k - a_c \n",
       "───────────────────\n",
       "   _____   _______ \n",
       " ╲╱ a_c ⋅╲╱ j + 1  "
      ]
     },
     "execution_count": 627,
     "metadata": {},
     "output_type": "execute_result"
    }
   ],
   "source": [
    "e_expr_a_k"
   ]
  },
  {
   "cell_type": "code",
   "execution_count": 628,
   "metadata": {},
   "outputs": [
    {
     "data": {
      "image/png": "[encoded data removed]",
      "text/latex": [
       "$\\displaystyle 0.00189971081580933 a - 5.51313668496093 \\cdot 10^{-5} \\sqrt{3} \\sqrt{0.76504727998445 a - 1} \\cos{\\left(\\theta \\right)} - 0.49751377298443 \\left(0.76504727998445 a - 1\\right)^{2} - 0.00248312864513151$"
      ],
      "text/plain": [
       "                                                 ________________________     \n",
       "0.00189971081580933⋅a - 5.51313668496093e-5⋅√3⋅╲╱ 0.76504727998445⋅a - 1 ⋅cos(\n",
       "\n",
       "                                              2                      \n",
       "θ) - 0.49751377298443⋅(0.76504727998445⋅a - 1)  - 0.00248312864513151"
      ]
     },
     "execution_count": 628,
     "metadata": {},
     "output_type": "execute_result"
    }
   ],
   "source": [
    "H_a_th_sel = H_simp_expr.subs({e:e_expr_a_k}).subs({\n",
    "    j: params[j],\n",
    "    om: params[om],\n",
    "    mup: params[mup],\n",
    "    ap: ap_sel,\n",
    "    k: k_crit,\n",
    "    b: params[b],\n",
    "    ac: ac_sel,\n",
    "    np:np_sel\n",
    "})\n",
    "H_a_th_sel_func = lambdify([th,a],H_a_th_sel)\n",
    "H_a_th_sel"
   ]
  },
  {
   "cell_type": "markdown",
   "metadata": {},
   "source": [
    "- The separatrix value is correct in e-th space."
   ]
  },
  {
   "cell_type": "code",
   "execution_count": null,
   "metadata": {},
   "outputs": [],
   "source": [
    "th_dom, e_dom = npy.meshgrid(npy.linspace(0,2*npy.pi,1000),npy.linspace(0,0.1,1000))\n",
    "plt.clf()\n",
    "cs = plt.contour(npy.cos(th_dom)*e_dom,npy.sin(th_dom)*e_dom,H_e_th_sel_func(th_dom,e_dom),levels=[H_sep_val_sel]) #,levels=(1+npy.linspace(2,-10,10))*H_sep_val_sel)\n",
    "#plt.clabel(cs, inline=True, fmt=\"%0.3e\")\n",
    "plt.show()"
   ]
  },
  {
   "cell_type": "markdown",
   "metadata": {},
   "source": [
    "- it's just a line in a-th space\n",
    "- Why are there no contours under?"
   ]
  },
  {
   "cell_type": "code",
   "execution_count": 651,
   "metadata": {},
   "outputs": [
    {
     "name": "stderr",
     "output_type": "stream",
     "text": [
      "<lambdifygenerated-120652>:2: RuntimeWarning: invalid value encountered in sqrt\n",
      "  return 0.00189971081580933*a - 5.51313668496093e-5*sqrt(3)*sqrt(0.76504727998445*a - 1)*cos(theta) - 0.49751377298443*(0.76504727998445*a - 1)**2 - 0.00248312864513151\n"
     ]
    },
    {
     "data": {
      "application/vnd.jupyter.widget-view+json": {
       "model_id": "0ab40c2e15c3469b8850c04726e04919",
       "version_major": 2,
       "version_minor": 0
      },
      "image/png": "[encoded data removed]",
      "text/html": [
       "\n",
       "            <div style=\"display: inline-block;\">\n",
       "                <div class=\"jupyter-widgets widget-label\" style=\"text-align: center;\">\n",
       "                    Figure 1\n",
       "                </div>\n",
       "                <img src='data:image/png;base64,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' width=640.0/>\n",
       "            </div>\n",
       "        "
      ],
      "text/plain": [
       "Canvas(toolbar=Toolbar(toolitems=[('Home', 'Reset original view', 'home', 'home'), ('Back', 'Back to previous …"
      ]
     },
     "metadata": {},
     "output_type": "display_data"
    }
   ],
   "source": [
    "th_dom, a_dom = npy.meshgrid(npy.linspace(0,2*npy.pi,1000),npy.linspace(1.27,1.36,1000))\n",
    "plt.clf()\n",
    "#cs = plt.contour(th_dom,a_dom,H_a_th_sel_func(th_dom,a_dom),levels=sorted([H_sep_val_sel]+[x for x in npy.linspace(-4e-5,4e-5,50)])) #,levels=(1+npy.linspace(2,-10,10))*H_sep_val_sel)\n",
    "#cs = plt.contour(th_dom,a_dom,H_a_th_sel_func(th_dom,a_dom),levels=[H_sep_val_sel])\n",
    "#plt.clabel(cs, inline=True, fmt=\"%0.3e\")\n",
    "cs = plt.pcolormesh(th_dom,a_dom,H_a_th_sel_func(th_dom,a_dom))\n",
    "plt.axhline(y=ac_sel)\n",
    "plt.show()"
   ]
  },
  {
   "cell_type": "markdown",
   "metadata": {},
   "source": [
    "## $\\theta_p$ separatrix"
   ]
  },
  {
   "cell_type": "code",
   "execution_count": 631,
   "metadata": {},
   "outputs": [],
   "source": [
    "#params = {}\n",
    "#params = {\n",
    "#    j: 2,\n",
    "#    mup: 5e-5,\n",
    "#    bp: 1.5455341716765871,\n",
    "#    b: 1.8956507412695471,\n",
    "#    b1_3_2: 12.08476062046314,\n",
    "#    b2_3_2: 10.485706741948807,\n",
    "#    ep: 0.02\n",
    "#}\n",
    "#alpha0val = (params[j] / (params[j] + 1)) ** (2.0 / 3)\n",
    "#params[omp] = 0\n",
    "#params[om] = params[omp] * alpha0val**3.5"
   ]
  },
  {
   "cell_type": "code",
   "execution_count": 632,
   "metadata": {},
   "outputs": [
    {
     "data": {
      "image/png": "[encoded data removed]",
      "text/latex": [
       "$\\displaystyle \\dot{\\theta_p}$"
      ],
      "text/plain": [
       "\\dot{\\theta_p}"
      ]
     },
     "execution_count": 632,
     "metadata": {},
     "output_type": "execute_result"
    }
   ],
   "source": [
    "thp_dot = symbols(r\"\\dot{\\theta_p}\")\n",
    "thp_dot"
   ]
  },
  {
   "cell_type": "code",
   "execution_count": 633,
   "metadata": {},
   "outputs": [
    {
     "data": {
      "image/png": "[encoded data removed]",
      "text/latex": [
       "$\\displaystyle - j n_{p} + n \\left(j + 1\\right) - \\omega_{p}$"
      ],
      "text/plain": [
       "-j⋅nₚ + n⋅(j + 1) - ωₚ"
      ]
     },
     "execution_count": 633,
     "metadata": {},
     "output_type": "execute_result"
    }
   ],
   "source": [
    "thp_dot_expr = (j+1)*n-j*np - omp\n",
    "thp_dot_expr"
   ]
  },
  {
   "cell_type": "code",
   "execution_count": 634,
   "metadata": {},
   "outputs": [
    {
     "data": {
      "image/png": "[encoded data removed]",
      "text/latex": [
       "$\\displaystyle n_{c,p}$"
      ],
      "text/plain": [
       "n_{c,p}"
      ]
     },
     "execution_count": 634,
     "metadata": {},
     "output_type": "execute_result"
    }
   ],
   "source": [
    "ncp = symbols(r\"n_{c\\,p}\")\n",
    "ncp"
   ]
  },
  {
   "cell_type": "code",
   "execution_count": 635,
   "metadata": {},
   "outputs": [
    {
     "data": {
      "image/png": "[encoded data removed]",
      "text/latex": [
       "$\\displaystyle \\nu_{p}$"
      ],
      "text/plain": [
       "\\nu_{p}"
      ]
     },
     "execution_count": 635,
     "metadata": {},
     "output_type": "execute_result"
    }
   ],
   "source": [
    "nup = symbols(r\"\\nu_{p}\")\n",
    "nup"
   ]
  },
  {
   "cell_type": "code",
   "execution_count": 636,
   "metadata": {},
   "outputs": [
    {
     "data": {
      "image/png": "[encoded data removed]",
      "text/latex": [
       "$\\displaystyle a_{c,p}$"
      ],
      "text/plain": [
       "a_{c,p}"
      ]
     },
     "execution_count": 636,
     "metadata": {},
     "output_type": "execute_result"
    }
   ],
   "source": [
    "acp = symbols(r\"a_{c\\,p}\")\n",
    "acp"
   ]
  },
  {
   "cell_type": "code",
   "execution_count": 637,
   "metadata": {},
   "outputs": [
    {
     "name": "stdout",
     "output_type": "stream",
     "text": [
      "0.6833333333333333\n",
      "1.0\n",
      "1.2889762908523679\n"
     ]
    }
   ],
   "source": [
    "np_sel = 1\n",
    "ncp_sel = np_sel*((params[j])/(params[j]+1) + params[omp]/np_sel/(params[j]+1))\n",
    "print(ncp_sel)\n",
    "ap_sel = np_sel**(-2./3)\n",
    "print(ap_sel)\n",
    "acp_sel = ncp_sel**(-2./3)\n",
    "print(acp_sel)"
   ]
  },
  {
   "cell_type": "code",
   "execution_count": 638,
   "metadata": {},
   "outputs": [
    {
     "data": {
      "image/png": "[encoded data removed]",
      "text/latex": [
       "$\\displaystyle \\sqrt{3} \\sqrt{\\beta_{p}} \\sqrt{e_{p}} \\sqrt{\\mu_{p}} n_{c,p} \\sqrt{\\frac{a_{c,p}}{a_{p}}} \\left(j + 1\\right)$"
      ],
      "text/plain": [
       "                                    _________        \n",
       "     ____   ____   ____            ╱ a_{c,p}         \n",
       "√3⋅╲╱ βₚ ⋅╲╱ eₚ ⋅╲╱ μₚ ⋅n_{c,p}⋅  ╱  ─────── ⋅(j + 1)\n",
       "                                ╲╱      aₚ           "
      ]
     },
     "execution_count": 638,
     "metadata": {},
     "output_type": "execute_result"
    }
   ],
   "source": [
    "nup_expr = ncp*(3*bp/ap*acp)**Rational(1,2)*(j+1)*sqrt(mup*ep)\n",
    "nup_expr"
   ]
  },
  {
   "cell_type": "code",
   "execution_count": 639,
   "metadata": {},
   "outputs": [],
   "source": [
    "H_p_simp_expr = Rational(1,2)*thp_dot**2 + nup**2*cos(thp)"
   ]
  },
  {
   "cell_type": "markdown",
   "metadata": {},
   "source": [
    "- $\\dot\\theta_p$ is the canonical conjugate momentum to $\\theta_p$"
   ]
  },
  {
   "cell_type": "code",
   "execution_count": 640,
   "metadata": {},
   "outputs": [
    {
     "data": {
      "image/png": "[encoded data removed]",
      "text/latex": [
       "$\\displaystyle \\dot{\\theta_p}$"
      ],
      "text/plain": [
       "\\dot{\\theta_p}"
      ]
     },
     "execution_count": 640,
     "metadata": {},
     "output_type": "execute_result"
    }
   ],
   "source": [
    "H_p_simp_expr.diff(thp_dot)"
   ]
  },
  {
   "cell_type": "code",
   "execution_count": 641,
   "metadata": {},
   "outputs": [
    {
     "data": {
      "image/png": "[encoded data removed]",
      "text/latex": [
       "$\\displaystyle - \\nu_{p}^{2} \\sin{\\left(\\theta_{p} \\right)}$"
      ],
      "text/plain": [
       "        2        \n",
       "-\\nu_{p} ⋅sin(θₚ)"
      ]
     },
     "execution_count": 641,
     "metadata": {},
     "output_type": "execute_result"
    }
   ],
   "source": [
    "H_p_simp_expr.diff(thp)"
   ]
  },
  {
   "cell_type": "markdown",
   "metadata": {},
   "source": [
    "- fixed points at $\\theta_p=0,2\\pi$, $\\dot\\theta_p=0$"
   ]
  },
  {
   "cell_type": "code",
   "execution_count": 642,
   "metadata": {},
   "outputs": [
    {
     "data": {
      "image/png": "[encoded data removed]",
      "text/latex": [
       "$\\displaystyle 2.51161181670952 \\cdot 10^{-5}$"
      ],
      "text/plain": [
       "2.51161181670952e-5"
      ]
     },
     "execution_count": 642,
     "metadata": {},
     "output_type": "execute_result"
    }
   ],
   "source": [
    "H_p_sep_val_sel = H_p_simp_expr.subs({thp_dot:0,thp:0}).subs({nup:nup_expr}).subs({\n",
    "    j:params[j],\n",
    "    bp:params[bp],\n",
    "    acp:acp_sel,\n",
    "    ep:params[ep],\n",
    "    mup:params[mup],\n",
    "    ncp:ncp_sel,\n",
    "    ap:ap_sel,\n",
    "})\n",
    "H_p_sep_val_sel "
   ]
  },
  {
   "cell_type": "code",
   "execution_count": 643,
   "metadata": {},
   "outputs": [
    {
     "data": {
      "image/png": "[encoded data removed]",
      "text/latex": [
       "$\\displaystyle \\frac{9 \\left(a^{-1.5} - 0.683333333333333\\right)^{2}}{2} + 2.51161181670952 \\cdot 10^{-5} \\cos{\\left(\\theta_{p} \\right)}$"
      ],
      "text/plain": [
       "                             2                              \n",
       "  ⎛ -1.5                    ⎞                               \n",
       "9⋅⎝a     - 0.683333333333333⎠                               \n",
       "────────────────────────────── + 2.51161181670952e-5⋅cos(θₚ)\n",
       "              2                                             "
      ]
     },
     "execution_count": 643,
     "metadata": {},
     "output_type": "execute_result"
    }
   ],
   "source": [
    "H_p_a_th_sel = H_p_simp_expr.subs({nup:nup_expr}).subs({thp_dot:thp_dot_expr}).subs({\n",
    "    j:params[j],\n",
    "    bp:params[bp],\n",
    "    acp:acp_sel,\n",
    "    ep:params[ep],\n",
    "    mup:params[mup],\n",
    "    ncp:ncp_sel,\n",
    "    ap:ap_sel,\n",
    "    np:np_sel,\n",
    "    omp:params[omp],\n",
    "    n:a**(-3/2)\n",
    "})\n",
    "H_p_a_th_sel_func = lambdify([thp,a],H_p_a_th_sel)\n",
    "H_p_a_th_sel"
   ]
  },
  {
   "cell_type": "code",
   "execution_count": 644,
   "metadata": {},
   "outputs": [
    {
     "name": "stderr",
     "output_type": "stream",
     "text": [
      "<lambdifygenerated-120652>:2: RuntimeWarning: invalid value encountered in sqrt\n",
      "  return 0.00189971081580933*a - 5.51313668496093e-5*sqrt(3)*sqrt(0.76504727998445*a - 1)*cos(theta) - 0.49751377298443*(0.76504727998445*a - 1)**2 - 0.00248312864513151\n"
     ]
    },
    {
     "data": {
      "application/vnd.jupyter.widget-view+json": {
       "model_id": "0ab40c2e15c3469b8850c04726e04919",
       "version_major": 2,
       "version_minor": 0
      },
      "image/png": "[encoded data removed]",
      "text/html": [
       "\n",
       "            <div style=\"display: inline-block;\">\n",
       "                <div class=\"jupyter-widgets widget-label\" style=\"text-align: center;\">\n",
       "                    Figure 1\n",
       "                </div>\n",
       "                <img src='data:image/png;base64,iVBORw0KGgoAAAANSUhEUgAAAoAAAAHgCAYAAAA10dzkAAAAOXRFWHRTb2Z0d2FyZQBNYXRwbG90bGliIHZlcnNpb24zLjguMiwgaHR0cHM6Ly9tYXRwbG90bGliLm9yZy8g+/7EAAAACXBIWXMAAA9hAAAPYQGoP6dpAAA7z0lEQVR4nO3de3xU9Z3/8fckk0ySSTK5kPtFEaxAReTSn0W01FZdXZeWn261tlW0Wm0XXSu//n6VLa5014qtuuqutwc+ulrYom63grVq1W5FxEstSJSiVRAUCEkIhNxDyCTn98d3z5mZJGguJJPJ9/V8PL6Pc2bm5PCdMJnzPp/vufgcx3EEAAAAayTFuwMAAAAYXQRAAAAAyxAAAQAALEMABAAAsAwBEAAAwDIEQAAAAMsQAAEAACxDAAQAALAMARAAAMAyBEAAAADLEAABAAAsQwAEAACwDAEQAADAMgRAAAAAyxAAAQAALEMABAAAsAwBEAAAwDIEQAAAAMsQAAEAACxDAAQAALAMARAAAMAyBEAAAADLEAABAAAsQwAEAACwDAEQAADAMgRAAAAAyxAAAQAALEMABAAAsAwBEAAAwDIEQAAAAMsQAAEAACxDAAQAALAMARAAAMAyBEAAAADLEAABAAAsQwAEAACwDAEQAADAMgRAAAAAyxAAAQAALEMABAAAsAwBEAAAwDIEQAAAAMsQAAEAACxDAAQAALAMARAAAMAyBEAAAADLEAABAAAsQwAEAACwDAEQAADAMgRAAAAAyxAAAQAALEMABAAAsExCBMANGzZowYIFKi0tlc/n07p16z5x+Y0bN2revHnKz89Xenq6pkyZorvvvrvPco2NjVq8eLFKSkqUlpamqVOn6tlnnx2hdwEAADA2+OPdgYFoa2vTjBkzdOWVV+qiiy761OWDwaCuu+46nXLKKQoGg9q4caOuvfZaBYNBXXPNNZKkI0eO6JxzzlFhYaH+67/+S+Xl5dqzZ4+ysrJG+u0AAADElc9xHCfenRgMn8+ntWvXauHChYP6uQsvvFDBYFCrV6+WJD300EO644479Je//EUpKSkj0FMAAICxKSGGgIdry5Yteu211zR//nzvud/85jeaO3euFi9erKKiIp188sm67bbb1N3dHceeAgAAjLyEGAIeqvLyctXX1yscDmv58uW6+uqrvdd27typP/zhD/rmN7+pZ599Vtu3b9fixYsVDof1j//4j/2ur7OzU52dnd7jnp4eNTQ0KD8/Xz6fb8TfDwAAGD7HcdTS0qLS0lIlJVlRC+vLSTCSnLVr1w5o2Z07dzrvvPOOs3LlSicvL89Zs2aN99qJJ57oVFRUOOFw2HvurrvucoqLi4+6vltuucWRRKPRaDQabRy0PXv2DDmPJLpxXQGcOHGiJGn69Omqq6vT8uXLdemll0qSSkpKlJKSouTkZG/5qVOnqra2VkeOHFFqamqf9S1dulRLlizxHjc1NamyslJ79uxRdnb2CL8bAABwLDQ3N6uiosLqEz/HdQCM5jhOzPDtvHnztGbNGvX09Hjl3w8++EAlJSX9hj9JCgQCCgQCfZ7Pzs4mAAIAkGBsPnwrIQa+W1tbVVVVpaqqKknSrl27VFVVpd27d0sylbnLL7/cW/7+++/X008/re3bt2v79u165JFHdOedd+pb3/qWt8z3vvc9HTx4UDfccIM++OADPfPMM7rtttu0ePHiUX1vAAAAoy0hKoCbNm3SWWed5T12h2EXLVqkRx99VDU1NV4YlMzJGUuXLtWuXbvk9/s1adIk3X777br22mu9ZSoqKvTCCy/oxhtv1CmnnKKysjLdcMMN+uEPfzh6bwwAACAOEu46gGNJc3OzQqGQmpqaGAIGACBBsP1OkCFgAAAAHDsEQAAAAMsQAAEAACxDAAQAALAMARAAAMAyBEAAAADLEAABAAAsQwAEAACwDAEQAADAMgRAAAAAyxAAAQAALEMABAAAsAwBEAAAwDIEQAAAAMsQAAEAACxDAAQAALAMARAAAMAyBEAAAADLEAABAAAsQwAEAACwDAEQAADAMgRAAAAAyxAAAQAALEMABAAAsAwBEAAAwDIEQAAAAMsQAAEAACxDAAQAALAMARAAAMAyBEAAAADLEAABAAAsQwAEAACwDAEQAADAMgRAAAAAyxAAAQAALEMABAAAsAwBEAAAwDIEQAAAAMsQAAEAACxDAAQAALAMARAAAMAyBEAAAADLEAABAAAsQwAEAACwDAEQAADAMgRAAAAAyxAAAQAALEMABAAAsAwBEAAAwDIEQAAAAMsQAAEAACxDAAQAALAMARAAAMAyBEAAAADLEAABAAAsQwAEAACwDAEQAADAMgRAAAAAyxAAAQAALEMABAAAsAwBEAAAwDIEQAAAAMsQAAEAACxDAAQAALAMARAAAMAyBEAAAADLEAABAAAsQwAEAACwDAEQAADAMgRAAAAAyxAAAQAALJMQAXDDhg1asGCBSktL5fP5tG7duk9cfuPGjZo3b57y8/OVnp6uKVOm6O677z7q8o8//rh8Pp8WLlx4bDsOAAAwBvnj3YGBaGtr04wZM3TllVfqoosu+tTlg8GgrrvuOp1yyikKBoPauHGjrr32WgWDQV1zzTUxy3788cf6wQ9+oDPPPHOkug8AADCm+BzHceLdicHw+Xxau3btoKt1F154oYLBoFavXu09193drfnz5+vKK6/UK6+8osbGxk+tLkZrbm5WKBRSU1OTsrOzB9UfAAAQH2y/E2QIeLi2bNmi1157TfPnz495/p/+6Z9UUFCgq666Kk49AwAAGH0JMQQ8VOXl5aqvr1c4HNby5ct19dVXe6+9+uqr+vnPf66qqqoBr6+zs1OdnZ3e4+bm5mPZXQAAgFExriuAr7zyijZt2qSHHnpI99xzjx577DFJUktLi771rW/p4Ycf1oQJEwa8vhUrVigUCnmtoqJipLoOAAAwYqw5BvDWW2/V6tWr9f7776uqqkozZ85UcnKy93pPT48kKSkpSe+//74mTZrUZx39VQArKiqsPoYAAIBEwzGA43wIOJrjOF54mzJlirZu3Rrz+rJly9TS0qJ77733qJW9QCCgQCAw4n0FAAAYSQkRAFtbW7Vjxw7v8a5du1RVVaW8vDxVVlZq6dKlqq6u1qpVqyRJ999/vyorKzVlyhRJ5rqAd955p66//npJUlpamk4++eSYfyMnJ0eS+jwPAAAw3iREANy0aZPOOuss7/GSJUskSYsWLdKjjz6qmpoa7d6923u9p6dHS5cu1a5du+T3+zVp0iTdfvvtuvbaa0e97wAAAGNNwh0DOJZwDAEAAImH7fc4PwsYAAAAfREAAQAALEMABAAAsAwBEAAAwDIEQAAAAMsQAAEAACxDAAQAALAMARAAAMAyBEAAAADLEAABAAAsQwAEAACwDAEQAADAMgRAAAAAyxAAAQAALEMABAAAsAwBEAAAwDIEQAAAAMsQAAEAACxDAAQAALAMARAAAMAyBEAAAADLEAABAAAsQwAEAACwDAEQAADAMgRAAAAAyxAAAQAALEMABAAAsAwBEAAAwDIEQAAAAMsQAAEAACxDAAQAALAMARAAAMAyBEAAAADLEAABAAAsQwAEAACwDAEQAADAMgRAAAAAyxAAAQAALEMABAAAsAwBEAAAwDIEQAAAAMsQAAEAACxDAAQAALAMARAAAMAyBEAAAADLEAABAAAsQwAEAACwDAEQAADAMgRAAAAAyxAAAQAALEMABAAAsAwBEAAAwDIEQAAAAMsQAAEAACxDAAQAALAMARAAAMAyBEAAAADLEAABAAAsQwAEAACwDAEQAADAMgRAAAAAyxAAAQAALEMABAAAsAwBEAAAwDIEQAAAAMsQAAEAACxDAAQAALAMARAAAMAyBEAAAADLEAABAAAsQwAEAACwTEIEwA0bNmjBggUqLS2Vz+fTunXrPnH5jRs3at68ecrPz1d6erqmTJmiu+++O2aZhx9+WGeeeaZyc3OVm5urs88+W2+++eYIvgsAAICxISECYFtbm2bMmKH77rtvQMsHg0Fdd9112rBhg9577z0tW7ZMy5Yt08qVK71l1q9fr0svvVQvvfSSXn/9dVVWVurcc89VdXX1SL0NAACAMcHnOI4T704Mhs/n09q1a7Vw4cJB/dyFF16oYDCo1atX9/t6d3e3cnNzdd999+nyyy8f0Dqbm5sVCoXU1NSk7OzsQfUHAADEB9vvBKkADteWLVv02muvaf78+Uddpr29XV1dXcrLyxvFngEAAIw+f7w7MJLKy8tVX1+vcDis5cuX6+qrrz7qsjfddJPKysp09tlnH3WZzs5OdXZ2eo+bm5uPaX8BAABGw7gOgK+88opaW1v1xhtv6KabbtLkyZN16aWX9lnuZz/7mR577DGtX79eaWlpR13fihUr9OMf/3gkuwwAADDirDkG8NZbb9Xq1av1/vvvxzx/55136tZbb9Xvf/97zZkz5xPX0V8FsKKiwupjCAAASDQcAzjOK4DRHMeJCW+SdMcdd+jWW2/V888//6nhT5ICgYACgcBIdREAAGBUJEQAbG1t1Y4dO7zHu3btUlVVlfLy8lRZWamlS5equrpaq1atkiTdf//9qqys1JQpUySZ6wLeeeeduv766711/OxnP9PNN9+sNWvW6Pjjj1dtba0kKTMzU5mZmaP47gAAAEZXQgTATZs26ayzzvIeL1myRJK0aNEiPfroo6qpqdHu3bu913t6erR06VLt2rVLfr9fkyZN0u23365rr73WW+aBBx7QkSNH9Ld/+7cx/9Ytt9yi5cuXj+wbAgAAiKOEOwZwLOEYAgAAEg/bb0uuAwgAAIAIAiAAAIBlCIAAAACWIQACAABYhgAIAABgmYS4DAwAfKKODqmlxUw7O6XDh820s1M6ckQ6/XTJvc1jVZX07rtSd7cUDptpT0+kXXKJlJ9vlv3Tn6Q//lHy+UxLSoq05GTpggukwkKz7IcfSu+9J6WkmJaaKgUCpqWlSeXlUkaGWdZxzPoAIE4IgABGl+NIra3SoUNSY6PU1BSZXnqpCVaS9Mgj0vr1Jti1tkZaW5vU3i5t2ybl5ZlllyyRHnro6P/mzp3SxIlmfs0a6Y47jr7smWdGAuBzz0m33HL0ZV9/PRIA162TfvCDoy/7wgvSOeeY+YcflhYvNoHQbcGglJlp2vLlJrRK0tat0m9/K2VnS6GQaTk5kWlRkQmZADAIBEAAw9PYKNXUSPX1ph04YNrBg1JDgwlybrXr29+WVq0yVbf+/M3fmFAjmXD1P3f36VdbWyQApqebaWqqqbalpUWqb6mpsdW2E0+UvvQlye83YdNtbmUv+ppg06ZJX/uaCa2OE6kSdneb5v77kglin/ucqTh2dZmpW4U8fNgEPFdHh6k+Njeb1tv/XOxekqlC/sM/HP33sGaNCc6S9PvfSzffbAJsXp40YYKZnzDBtM9/XiorO/q6AFiDC0EPAxeSxLjV0iJVV5tg57baWqmuzoS7Z56JhKqLLpKefPLo6zp0KBLqrrnGVL8kE8yiK1mhkPTYYyaoSNLvfie9846UlRWpjGVmmiCVkWHCWWqqWTYcjgS4RNDRYQJyR0ekotnWFqlynn22VFJiln35ZekXvzBBsakptmLa2Cg99ZR03nlm2X//d+mqq47+70aHxWeeka6+2gTX6FZcbP7tM86QKitH8rcAxA3bbyqAgF26u6X9+6U9e6S9e820utoEu0cfjYS6RYuktWuPvp7GRik318wXFprwVlgoFRREqk1u9ckd0pWkf/5nM6Sam2uqdp90HNx550WCzafxJ9hXWXq6OSZwIObPN60/vfffzznH/L8dPBhpbkX2wAHpuOMiy+7bZ0L9/9wHvY81ayIB8He/k/7+76XSUlNBdFtFhXkfU6bEVk4BjHkJ9q0J4BO1t0sff2za7t3Sd74TCVnXXGOGY8Ph/n/2X/4lcuxbaanZoJeURFpxcaRC5FbeJOmBB6QHHxxY/4qKhv7e0FfvAF1RYdpAXHyxNHu22SGoq4tUeGtrTcV30qTIsh9/LG3fblp/fvlL6RvfMPNvvCHdd58Jj8cdF9vck2AAxB0BEEgkXV2m2uVu+FetMkN5H30k7dpljsGLduGFkSHVtLTIUGlpqanclJWZaXl5bBXt3nvNRnwgOJs1MYVC0qxZA1v2ootMlW/fPlMx3rvXNHc+urJYVWUCYX8KCkyl+a//2jzevVv6y1+kE04w60hJGc47AjAIBEBgrGltlXbsMJcVcadu27PHhDz35INNm6T//M/Yn8/OjlRcDh+OPH/TTdL//b+mmvdpQ6bRw7bAhAlHH4bube5c6ac/NeHOrUZ/9JE5rrS+Pnao+JlnpL/7OzOflGSql5MmRdoll0jHH3+s3w0AEQCB+GhvN+Fu+3bpgw+k664zJztI0g9/aIZVj+bDDyMB8H//b3N5k+OPjzT32LzeSkuP4RsAjmLGDNN6O3TIBMHPfCbyXFqaOZln1y5zQowbGP/wB/P66adHAuBjj5m/ixNPNO0znzHTyZMZWgaGgAAIjIY//MGcKfv++ybw7d4d+/q555rjsSSzUcvPNxu2SZMi0xNOMNPi4sjPnXWWacBYl5vbd+fkyitNcxxz7OGHH5prNrrV75NOiiy7ZYu0caNpvVVWmuswzpxpHtfUmMvwVFQkzpnhwCgjAALD1dlpQt1775n2l7+Y9h//IX32s2aZLVuk+++P/bnc3Eglw71LhWTOtvz+90et+0Dc+XyRk43OOKP/Zb7zHRPw3JNRPvjATA8dMjtU7gW5Jenf/k1ascKcbX3SSeb4xSlTpKlTTZsyheMNYT0CIDBQ7e2mmuCGtV/9SvrRj0y1oqen7/LvvhsJgF/4ghnaPekk0z7zmcjJGb1RsQD6cod+eztwwITB6EMcWlpMwOvoMCelVFXF/syuXZGh5f/+b3Nyy7RpJhwynAxLcCHoYeBCkuPU4cOmgvfnP5vbjf35zybM7dplhnEXLjTLrVtnjsGTzBmVbmXBnc6da856BDD6wmEznOxW5N3q/McfmzOX3R2tSy6JnEjl85ljaqdNk04+2ezAfe1r3GpvHGL7TQUQNguHzXFGOTmR4+p++1vpq1/tv6InmWqf68wzza23pk0zP8/lUICxw+83lfbPfEb6yleOvtyMGeb6h9u2mWrizp2m/fa3pop4ySWRZe+7z5zJPH26CYiTJyfeRciB/0EFcBjYg0gQjmO+4N95R9q6NTJ9911z/N6dd0r/5/+YZbdtM1/seXlm7/+zn41UAqZNiz3OCMD4sn+/+V5wK/8dHea6ha7Zs6W33oo8DgTM98L06eb4xBtuYEcwQbD9pgKI8ebwYTPUk5EROYPwrbekOXP6Xz4jw1x3z3XSSeZ4ICp6gH0KC0374hf7f/2qq0zF0D08pL3dnOC1ZYv0+uuxJ2/deKP5DjnlFPMzU6fGnuwFxBkBEImrtlZ6++3Y9pe/mPvdfu97kWvpTZ1qhnImTjRfxtOnR9oJJ8SedOH3mzMRAaA396LVkjlMZOdOM5qwdWvsySOOI/37v0vNzZHnkpPNscEzZpiLal9zzej1G+gHARBjX3e3uX7ekSPSqaea5w4dOnpQy82NPS4nI8N8EbP3DeBYSUoyxwBOnhw5GcwVDpt7a7/zjmlvv22+s7ZtM+3QodgA+PWvmzv3zJhhvuNOOom78WDEEQAxtrS1mS/MqiozrFJVZfauDx+Wzj5bevFFs1xurvnCTEuL3HnAbWVlfYdvCX8ARktKihkudjmOuW+yO1IxcWLktbo66YknYn8+Lc2MUJx6qnTBBebENOAYIwAifurrzfF27m2jHMdcm+vAgb7LBoPmoq7Rtm/nYq4Axj6fTyovN+2CC2JfS0uTHnrIBMOqKrMD3NYm/elPpgUCkQDY0mIqh6eeak46mTmTS01hyAiAGHmOY67Uv2WLOSGjqspMq6vNnvDOnWY5n8/s9b73nvliO/XUSJs8ue8Fkgl/ABJdKCRde23kcU+PuTyVewHr6BNStm6VHn/cNFdZmTRrlvme/OpXI7eUBD4FARDHVne3CXvRQxxnnx25uXtvfr8Z3nWHaJ95pm+lDwBskZQUuX7hxRfHvlZWJt12W2QnescOsyNdXS09/bS5u5AbAD/80FQWZ80yO9QnnshxhYhBAMTQdXWZa2a99Zap7m3ebIYxOjvNUIUb6iZPljZsMNfSmzkzsrd66qlSVlbsOgl/ANC/446Tli6NPG5piVQK33or9j7Kr75qrnHqCgbN4TazZ5vv4fPO44oHluNC0MNg1YUkDx+WUlMjw7DLlkl33GHOzO0tPd2EwalTzeOGBvPlw+2UAGB0vPGGtGqV2Tl/+21zUetozzwj/fVfm/ktW6Q33zQ759OnW3HSnFXb76OgAoi+2toie5Ru27bNVPs+8xmzTChkwl92dqSq5w41nHRS7GVY8vLi8jYAwFqf/7xpkrkszfvvR47Dfust833tevJJ6dZbzXxyshmtcb/TZ80yVUMLQqFtqAAOw7jbg/jVr6R//EfzRdHfx+KJJyLHpNTVmTtonHACd8wAgET2i19Ia9aYYNjfVRjee89cxFoyZya3tZmd/VBodPt5DI277fcQUAG0yYEDsVW9t94yNzc/7zzzut9v7qQhSaWl5g989uzIXmB5eWRdRUWmAQAS26JFpjmOtHdvZPuwebO53JY78iOZC1y7ZyFPmtS3UpifH5/3gEEjAI53b78tLV9u/ph37+77+qZNkQA4f745LmTWLHMvXACAPXw+qaLCtKNdfLqoyJyM8vHH5kzjDz80o0eSKSK0tkaO9/7zn00g5GSTMYkh4GEYEyVkx5H27Imt6l10kXTlleb1rVvN/W9dkyfH7rHNmWPuqgEAwEAdPNh3RCkYNMePu/7X/zJDxsXFsaNJs2aZkBnHw4fGxPY7zgiAwxC3D1BDgzkD1/2j633MxhVXSI88YubDYenf/i1yooalH3QAwAg7csRcLUIyxYk5c0wg7Onpu+ycOSYcumprTXVxlEIhAZAh4LHLvRr85s0m5B1/vLR4sXktNVX66U8jJ2r4/dK0aZHrO515ZmQ9fr90442j3n0AgGXc8CeZILd5szlh5O23zbx7vdh335UqKyPLOo7ZhvX0xFYKZ8/u/y5QOCaoAA7DMd2DcBxzFtamTZELK7e0RF6fN0/auDHyeNkyU0KfOdMM8XKKPgAgERw+LDU2Ro4137fP3D2qv+vKZmVJ3/mOdNddked6eoYdCqkAUgEcfW5l709/MhfmvPpq87zPJ/2//2f+EFxpaZErt8+bF7se95pNAAAkkrS02BMNS0tNwWPbttgzkN9+2zwffd/3hgYzInbqqWYYefZs6XOfo1I4BFQAh2FAexA1NeaK7G++aULfpk1SU5N5rajIvO4e8/DDH5pQ6Ja+p06NvaAyAAC2CIfNNQizskzok6QXXpD+6q/6LhsKmUD4d38nXXjhp66aCiAVwGOru9tcR++zn408d8kl0iuvxC6XlhbZezlyJHLK/E9/OmpdBQBgTPP7za3pon3pS+bqFps2mSrhpk3mRJOmJum//9tsc13btkn/9E9mBG3ePLPdTU4ezXcwphEAj4VHHpHWrzetqckc2+DuUZx2mnnuc58z83PmmA80lT0AAAbH75dOPtm0K64wz4XDkVB47rmRZdevl/7zP02TpJwc6YtflM4/XzrnnNHt9xjEEPAweCVkSV4BOTtbeumlyH0WHYdbpQEAMNq2bpWeflrasEF6/XWpudl7qTklRaGuLquHgAmAw+AFwEmTlL1okbmjxsyZVPcAABhLwmFzdY3f/U76j/9Q88GDCh08SACMdycSlRcAGxuVncA3xQYAwBqOo+Z331Xo5JOtDoCcM30sMMQLAEBicO95bDkCIAAAgGUIgAAAAJYhAAIAAFiGAAgAAGAZAiAAAIBlCIAAAACWIQACAABYhgAIAABgGQIgAACAZQiAAAAAliEAAgAAWIYACAAAYBkCIAAAgGUIgAAAAJYhAAIAAFiGAAgAAGAZAiAAAIBlCIAAAACWIQACAABYhgAIAABgGQIgAACAZQiAAAAAliEAAgAAWIYACAAAYBkCIAAAgGUIgAAAAJYhAAIAAFgmIQLghg0btGDBApWWlsrn82ndunWfuPzGjRs1b9485efnKz09XVOmTNHdd9/dZ7lf//rXmjZtmgKBgKZNm6a1a9eO0DsAAAAYOxIiALa1tWnGjBm67777BrR8MBjUddddpw0bNui9997TsmXLtGzZMq1cudJb5vXXX9cll1yiyy67TG+//bYuu+wyXXzxxfrjH/84Um8DAABgTPA5juPEuxOD4fP5tHbtWi1cuHBQP3fhhRcqGAxq9erVkqRLLrlEzc3Neu6557xlzjvvPOXm5uqxxx4b0Dqbm5sVCoXU1NSk7OzsQfUHAADEB9vvBKkADteWLVv02muvaf78+d5zr7/+us4999yY5f7qr/5Kr7322lHX09nZqebm5pgGAACQaMZ1ACwvL1cgENCcOXO0ePFiXX311d5rtbW1Kioqilm+qKhItbW1R13fihUrFAqFvFZRUTFifQcAABgp4zoAvvLKK9q0aZMeeugh3XPPPX2Gdn0+X8xjx3H6PBdt6dKlampq8tqePXtGpN8AAAAjyR/vDoykiRMnSpKmT5+uuro6LV++XJdeeqkkqbi4uE+1b//+/X2qgtECgYACgcDIdRgAAGAUjOsKYDTHcdTZ2ek9njt3rl588cWYZV544QWdfvrpo901AACAUZUQFcDW1lbt2LHDe7xr1y5VVVUpLy9PlZWVWrp0qaqrq7Vq1SpJ0v3336/KykpNmTJFkrku4J133qnrr7/eW8cNN9ygL3zhC/rpT3+qr371q3rqqaf0+9//Xhs3bhzdNwcAADDKEiIAbtq0SWeddZb3eMmSJZKkRYsW6dFHH1VNTY12797tvd7T06OlS5dq165d8vv9mjRpkm6//XZde+213jKnn366Hn/8cS1btkw333yzJk2apCeeeEKnnXba6L0xAACAOEi46wCOJVxHCACAxMP226JjAAEAAGAQAAEAACxDAAQAALAMARAAAMAyBEAAAADLEAABAAAsQwAEAACwDAEQAADAMgRAAAAAyxAAAQAALEMABAAAsAwBEAAAwDIEQAAAAMsQAAEAACxDAAQAALAMARAAAMAyBEAAAADLEAABAAAsQwAEAACwjD/eHQCAkeA4jnp6etTd3a3u7m719PT0aY7j9GmfxOfz9WlJSUl9WnJyspKTk5WUlCSfzzdK7xgABo4ACGBIHMfR4cOH1d7ero6ODnV0dKi9vV2HDx/2Hh8+fLhP6+zs9Kbu/JEjR9TZ2akjR470aV1dXd60q6tL4XA4Zj66uWEvHA5/apgbLT6fT36/3wuFfr8/pqWkpCglJSVmPjU11Zv2boFAQKmpqUpLS1MgEFAgEPDm09LS+rT09HSlp6crLS1NGRkZ3uOMjAylpaURUAFLEQCBcc5xHLW1tamlpSWmtba2qrW1NWa+ra0tZj66tbe3q7293Zvv6OgYMyHrWHHDUO9Q5L7Pobxfx3G8wDrW+Hw+LwwGg0FlZGR489EtMzNTmZmZMfNZWVkx89EtGAwSLIExjgAIjGFdXV1qampSU1OTGhsb1djY6D2Obs3NzTHzLS0tam5uVnNzs1pbW9XT0zOi/fT7/V6QcKtN0ZWn6BZdsXJbdGWrv+ZWxqKbWzFzK2ludc2ttEU3d1g2epjWHb51h3IHwx0udoeRo4eV3eFmtxoZ3dwqpVux7F3RjG79VUOjK6VuBTW6otq72hpdiXUrtB0dHQqHw977cIP9gQMHjtnnISkpSZmZmcrOzlZ2draysrKUnZ2tUCikUCgUMx/dcnJylJOT4z1OSUk5Zn0CEIsACIywcDisQ4cO6eDBg2poaNChQ4e8qTvf2NioQ4cOeVN3vq2t7Zj1w90ou1Wa3lWc3hWe3lWg6CqRO3VDn99v11dJ9PF/iSgcDnthMLqqGz2Nbv1ViKOrx9FVZTcIuzsgwxEMBpWTk6Pc3Fzl5uZ68zk5OcrLy/Oed+fz8vKUn5+v3Nxc6z6TwGDxFwIMkOM4am1t1YEDB3Tw4EEdPHgwZr53a2hoUENDw7A3glJkQ+hWSXpXTtyKiltx6V15yc7OVkZGBsNykGQqtu7n4lhyK4pu+IuuRLutd8U6usLtTt0dHzeAVldXD7ov2dnZysvL80Jhf23ChAkx85mZmfyNwBoEQFgrHA6roaFB9fX1/bYDBw70aZ2dnUP+90KhkLdB6l256F3diH4uFApRzUBC8Pl8XsW4pKRkyOsJh8NeGIyuiPeukveupDc0NKipqUmSvMD50UcfDfjfDQQCmjBhQp9WUFDQb8vLy+NvEwmLTy7GDcdx1NLSorq6OtXV1Wn//v2f2BoaGoZ0UH9aWlpM9SC6ipCfn+9VHKKnOTk5bCiAAfL7/d7f02CFw2E1NjaqoaHBq8RHT3tX792pexxldXX1gCuOPp9PeXl5Kiws/MRWVFSkoqIiZWVlUWHEmOFzxttpfKOoublZoVBITU1Nx3woBYbjOGpqalJtba3q6uq8ae9WW1ur/fv3D6lCl5eX1+/evbvn37saEAwGR+CdAogX90x5NxC6zR0J6G+EoKGhYdD/TiAQUGFhoYqLi71QGN3c54uLixUKhQiLI4jtNwFwWPgADV1nZ6fq6upUU1Oj2tpab+q2mpoaL9gNNtRlZmZ6e91H2yMvKChQYWGh8vPzqcwBGLRwOKyDBw9q//79qq+vP+pIgzsa0draOqj1BwIBLxCWlJSouLjYa+7jkpISFRUVKRAIjNC7HL/YfhMAh4UPUF9tbW2qqanRvn37VFNT02feDXeD3XvOzs6O2Ws+2h50YWGhMjIyRujdAcDQtLe3e4GwvxGM6PnBnjiWl5cXEwpLSkpUWlraZ57Riwi23wTAYbHpA9TR0aF9+/b1aW7Ac1tLS8uA15mamvqJe7fRwyHp6ekj+O4AYOzo6OiIOezlk0ZJjhw5MuD1ZmVlqbS01GtuOOzdbPi+tWn7fTQEwGEYDx+gcDisuro6VVdXa9++fd7UnXcfNzY2DnidGRkZMXuf0Xug0XuoeXl5HOMCAEPkOI4aGhr6jLBEj7q4j9vb2we83pycHJWWlqqsrExlZWVeMHTny8rKVFRUlNCHz4yH7fdwEQCHYax/gJqbm70Q11/bt2+famtrB3yXiPT09Jg9R/fLIHovsqSkhDPdAGAMca+QED1i485XV1fHPN/R0TGgdSYlJam4uDgmKPbXxuK2URr72+/RQAAchnh9gHp6elRfX6+9e/d6YW7v3r3au3ev9u3b5z0/0OHY5ORkFRcXH3Vvz53nrDQAGL8cx1FjY2PMYT39jQrV1taqu7t7QOvMyspSWVmZysvLVVpaqvLycpWXl3vbm/LychUUFIz6XXUIgATAYRmJD1BXV1fMH9qePXtiQt6ePXtUU1Mz4BvLZ2dnx/yxuX+A0XtthYWFSk5OPib9BwCMb93d3dq/f3/MaJJbgIjeXg30ZJaUlBSVlJSooqIiZntVUVERs+06lveGJgASAIdlsB+gjo4O1dTUaO/evdq9e3dMyNuzZ483JDuQ/xKfz6eioqI+e1LR07KyMmVmZh6LtwoAwKC0trbGBMLoqTtfV1c34G2eO+RcUVEREw4rKytVXl6ukpKSAZ/AQgAkAA5L9AcoIyND1dXV2rFjh2pqalRdXa2PPvrI2yvavXu3Dhw4MKD1pqamehW66HJ5eXm5KioqvGPtjuXeEAAAo62rq8s7BnHPnj0xQdGd37dv34DPdp4wYYIqKyu90a7jjz9eZWVlKikp0eTJk1VWVia/308AFAFwWNwP0GCkpaXF7LFEB7voIdnRPh4CAICxqKenJ2bIuXdQdEfUDh8+POB13nLLLfrxj39sdQBM3HO4E8y0adM0b948zZgxw9szqaioIOwBAPAJ3DOOi4uLNXv2bEmRUOiGwX379untt9/Wq6++qnffffdT11lVVTXCvR77qAAOg1sBXL58uf785z/LcRzt3btXO3fuVH19/YDW4ff7YwJh9PxIHfwKAMBY1d/JkG7Ii54Ph8MDWl9BQYFOOOEElZeXy+fzac6cOfr2t7+twsJCqyuABMBh+KRjCNwP8Mcff9znZA+3bF1TUzOoEz56HxMY/bi0tJQTPgAAY1pra6t31nB/lzKrrq4e1IkhJSUl3jax98khxx133FELKBwDSAAcluF+gLq6ulRbW9vvMQ1DOfi19yVf3PnoE0ricb0lAMD41vv6tG4Fr3fIG+ilYT7tZMiysjIVFxcPeXSMAEgAHJbR+AC5f1T97SVF/2EN9KLPfr/fu4tHdDiMvuhzaWmptX8QAIBYzc3NfS4OHR3y3LuJDHRI1r04dO/Ll0UXMEa6WEEAJAAOy1j6ALW0tMTcDSQ6ILrl9oGW1SUpMzOzzx1Bet84vKSkRBkZGSP8zgAAI6G9vT3mNnC9bxHnPtfa2jqg9UVfnza6ehd9E4Ly8nJlZWWN8Dv7dGNp+x0vBMBhSLQPUFdXl+rq6vrcDzh6ft++fQMu0UtSKBTywqAbEHvPFxcXj4k/eACwQUtLi2pra70wV1NT0+98U1PTgNeZnZ0dUxToPYJUVlamoqKihDlhMdG23yOBADgM4/UD5B6kG13u772XOJibhktSMBj0gmFxcXHMvNtKSko0YcIEbksHAL10d3frwIEDqqmpUW1trdfcQBc939bWNuD1pqenx4zsuDvuvQ8LGm8nGY7X7fdgEACHweYPkOM4ampq6rNX6d4oPHovczBfRklJSSosLFRRUZEXDN356GlRUZHy8vI4oQVAwurp6VFDQ4Pq6upUV1en2traPlN3fv/+/erp6RnwuoPBYMyITHFxsXdHjOgRmlAoJJ/PN4LvcmyyefvtIgAOAx+ggWltbfUCYfSeavS0trZW9fX1Az5GUZKSk5O9sBg9dVv044KCAqWlpY3guwQA6fDhw6qvr9f+/fu1f/9+L7z1fuxOu7u7B7xun8+ngoKCmFGT3lO3jbeK3bHG9psAOCx8gI6tcDis+vr6mOENd+83eq+4rq5ODQ0Ng15/VlZWTCDs3SZMmBDzmBNcALS3t6u+vt5rBw4ciHnsNjfgDfSKDNHy8vK8kY3oUY7oQ2SKi4tVUFAgv58beB0LbL+5FRzGEPcSNSUlJZ+6bFdXl7cX3XuPuq6uTvX19d7j+vp6dXV1qaWlRS0tLfrwww8H1J/09HRNmDAhpuXn5/eZui0vL0+ZmZlWDqcAY53jOGptbVVDQ4MOHjzotQMHDvSZRrfBHOvsSklJUUFBgTcSUVBQ0Gekwg15hYWFCXPiBMYXKoDDwB5EYnAcR42NjTF76f3twR84cED79+/XgQMHBnzx7d5SUlK8MOg293Fubq5yc3O9eXeak5OjnJwc9uyBAQiHw2psbFRjY6MOHTqkhoaGmKk7f/DgQTU0NHjt4MGD6urqGtK/mZqaqgkTJqiwsLDPSIHbokcXcnJy2BEc49h+EwCHhQ/Q+OQ4jlpaWvpUAtwKQXSVILqa0NnZOax/NysrywuDOTk5XjgMhULec6FQSKFQSNnZ2d6829LT09noYExzHEcdHR1qamqKac3Nzd68G+7c+UOHDnnPNTY2DmmINVogEIip2kdX993Kfu+WlZXF39Y4w/abADgsfIDgchxH7e3tXhiMrjy47WjVioFeZPXTJCcnKzs7W9nZ2crKyoqZ790yMzO9aXQLBoPeND09nbOsLdfT06OOjg61tbWptbXVm0a3lpYWb9q7NTc3q7m5OWZ+MCc9fJLMzMyjVtWjK/DRlfj8/HxlZGQQ5sD2WxwDCBwTPp9PwWBQwWBQlZWVg/rZrq4uNTU1eZWO3hWP6GpIf5WT5uZm9fT0qLu72wuVx0pGRoaCwWDM1G1uSMzIyFB6errX0tLSYqbufCAQ6DNNTU1VIBDw5lNTU5WSksIGuhfHcdTV1aUjR47oyJEj6uzsVGdnpzd/+PDhPtOOjg51dHR489HPdXR0qL293Qt37e3tXnMfu9ORkJSU5O2g9K5k9656966I5+bmKhQKcdwcMEwEQCDOUlJSvKGmoXAcR21tbd4wWu+qS3+VmejKjdvc6k70Rt8NBaMtJSXFC4RuKIxufr/fm/r9fiUnJ/eZRrekpCQlJSUpOTlZPp/Pe+zz+fpt/XEcp9/W09Ojnp4eOY6j7u5u73F3d3dMC4fDfabhcFhdXV3eNLq5Ye/IkSNDPnbtWMrIyIipErstuqLcu/WuRruHLwSDQUI+EGcEQCDB+Xw+b2NcWlo67PX19PR4FaDoalDvSpHboqtK0S268uQ2t3IVPd/Z2dnn+o9uCBrMRcRt4vP5vMppdEXVnXdb70ps7xZd0Y2u7EZXfd15DgcAxhcCIIAYSUlJXqAcDY7jKBwOxwxvRlfAelfG3OZW0NzWX5UtuhLnVuaiK3ZuBc8NoO5z/YmuDrpVRPc5t6IYXWl0K4/9VSfdyqXbelc43RZdAY0eJvf7/VTQAAwLARBAXPl8Pi/wBIPBeHcHAKxATR8AAMAyBEAAAADLEAABAAAsQwAEAACwDAEQAADAMgRAAAAAyxAAAQAALEMABAAAsAwBEAAAwDIEQAAAAMsQAAEAACxDAAQAALAMARAAAMAyCREAN2zYoAULFqi0tFQ+n0/r1q37xOWffPJJnXPOOSooKFB2drbmzp2r559/vs9y99xzj0466SSlp6eroqJCN954ow4fPjxC7wIAAGBsSIgA2NbWphkzZui+++4b0PIbNmzQOeeco2effVabN2/WWWedpQULFmjLli3eMr/85S9100036ZZbbtF7772nn//853riiSe0dOnSkXobAAAAY4I/3h0YiPPPP1/nn3/+gJe/5557Yh7fdttteuqpp/T0009r5syZkqTXX39d8+bN0ze+8Q1J0vHHH69LL71Ub7755jHrNwAAwFiUEBXA4erp6VFLS4vy8vK858444wxt3rzZC3w7d+7Us88+qwsuuOCo6+ns7FRzc3NMAwAASDQJUQEcrrvuukttbW26+OKLvee+/vWvq76+XmeccYYcx1E4HNb3vvc93XTTTUddz4oVK/TjH/94NLoMAAAwYsZ9BfCxxx7T8uXL9cQTT6iwsNB7fv369frJT36iBx54QG+99ZaefPJJ/fa3v9U///M/H3VdS5cuVVNTk9f27NkzGm8BAADgmBrXFcAnnnhCV111lX71q1/p7LPPjnnt5ptv1mWXXaarr75akjR9+nS1tbXpmmuu0Y9+9CMlJfXNxoFAQIFAYFT6DgAAMFLGbQXwscce0xVXXKE1a9b0e1xfe3t7n5CXnJwsx3HkOM5odRMAAGDUJUQFsLW1VTt27PAe79q1S1VVVcrLy1NlZaWWLl2q6upqrVq1SpIJf5dffrnuvfdeff7zn1dtba0kKT09XaFQSJK0YMEC/cu//Itmzpyp0047TTt27NDNN9+sr3zlK0pOTh79NwkAADBKfE4ClLvWr1+vs846q8/zixYt0qOPPqorrrhCH330kdavXy9J+uIXv6iXX375qMtLUjgc1k9+8hOtXr1a1dXVKigo0IIFC/STn/xEOTk5A+pXc3OzQqGQmpqalJ2dPdS3BwAARhHb7wQJgGMVHyAAABIP2+9xfAwgAAAA+kcABAAAsAwBEAAAwDIEQAAAAMsQAAEAACxDAAQAALAMARAAAMAyBEAAAADLEAABAAAsQwAEAACwDAEQAADAMgRAAAAAyxAAAQAALEMABAAAsAwBEAAAwDIEQAAAAMsQAAEAACxDAAQAALAMARAAAMAyBEAAAADLEAABAAAsQwAEAACwDAEQAADAMgRAAAAAyxAAAQAALEMABAAAsAwBEAAAwDIEQAAAAMsQAAEAACxDAAQAALAMARAAAMAyBEAAAADLEAABAAAs4493BxKZ4ziSpObm5jj3BAAADJS73Xa34zYiAA7DwYMHJUkVFRVx7gkAABislpYWhUKheHcjLgiAw5CXlydJ2r17t7UfoKFqbm5WRUWF9uzZo+zs7Hh3J6Hwuxs6fndDx+9u6PjdDd1I/e4cx1FLS4tKS0uP2ToTDQFwGJKSzCGUoVCIP+ohys7O5nc3RPzuho7f3dDxuxs6fndDNxK/O9sLN5wEAgAAYBkCIAAAgGUIgMMQCAR0yy23KBAIxLsrCYff3dDxuxs6fndDx+9u6PjdDR2/u5Hjc2w+BxoAAMBCVAABAAAsQwAEAACwDAEQAADAMgRAAAAAyxAAh+iBBx7QxIkTlZaWptmzZ+uVV16Jd5cSwoYNG7RgwQKVlpbK5/Np3bp18e5SQlixYoU+97nPKSsrS4WFhVq4cKHef//9eHcrITz44IM65ZRTvAvJzp07V88991y8u5WQVqxYIZ/Pp+9///vx7sqYt3z5cvl8vphWXFwc724ljOrqan3rW99Sfn6+MjIydOqpp2rz5s3x7ta4QgAcgieeeELf//739aMf/UhbtmzRmWeeqfPPP1+7d++Od9fGvLa2Ns2YMUP33XdfvLuSUF5++WUtXrxYb7zxhl588UWFw2Gde+65amtri3fXxrzy8nLdfvvt2rRpkzZt2qQvfelL+upXv6pt27bFu2sJ5U9/+pNWrlypU045Jd5dSRif/exnVVNT47WtW7fGu0sJ4dChQ5o3b55SUlL03HPP6d1339Vdd92lnJyceHdtXOEyMENw2mmnadasWXrwwQe956ZOnaqFCxdqxYoVcexZYvH5fFq7dq0WLlwY764knPr6ehUWFurll1/WF77whXh3J+Hk5eXpjjvu0FVXXRXvriSE1tZWzZo1Sw888IBuvfVWnXrqqbrnnnvi3a0xbfny5Vq3bp2qqqri3ZWEc9NNN+nVV19lZG2EUQEcpCNHjmjz5s0699xzY54/99xz9dprr8WpV7BNU1OTJBNkMHDd3d16/PHH1dbWprlz58a7Owlj8eLFuuCCC3T22WfHuysJZfv27SotLdXEiRP19a9/XTt37ox3lxLCb37zG82ZM0df+9rXVFhYqJkzZ+rhhx+Od7fGHQLgIB04cEDd3d0qKiqKeb6oqEi1tbVx6hVs4jiOlixZojPOOEMnn3xyvLuTELZu3arMzEwFAgF997vf1dq1azVt2rR4dyshPP7443rrrbcY3Rik0047TatWrdLzzz+vhx9+WLW1tTr99NN18ODBeHdtzNu5c6cefPBBnXjiiXr++ef13e9+V3//93+vVatWxbtr44o/3h1IVD6fL+ax4zh9ngNGwnXXXad33nlHGzdujHdXEsZJJ52kqqoqNTY26te//rUWLVqkl19+mRD4Kfbs2aMbbrhBL7zwgtLS0uLdnYRy/vnne/PTp0/X3LlzNWnSJP3iF7/QkiVL4tizsa+np0dz5szRbbfdJkmaOXOmtm3bpgcffFCXX355nHs3flABHKQJEyYoOTm5T7Vv//79faqCwLF2/fXX6ze/+Y1eeukllZeXx7s7CSM1NVWTJ0/WnDlztGLFCs2YMUP33ntvvLs15m3evFn79+/X7Nmz5ff75ff79fLLL+tf//Vf5ff71d3dHe8uJoxgMKjp06dr+/bt8e7KmFdSUtJn52zq1KmcaHmMEQAHKTU1VbNnz9aLL74Y8/yLL76o008/PU69wnjnOI6uu+46Pfnkk/rDH/6giRMnxrtLCc1xHHV2dsa7G2Pel7/8ZW3dulVVVVVemzNnjr75zW+qqqpKycnJ8e5iwujs7NR7772nkpKSeHdlzJs3b16fy1x98MEHOu644+LUo/GJIeAhWLJkiS677DLNmTNHc+fO1cqVK7V7925997vfjXfXxrzW1lbt2LHDe7xr1y5VVVUpLy9PlZWVcezZ2LZ48WKtWbNGTz31lLKysrwKdCgUUnp6epx7N7b9wz/8g84//3xVVFSopaVFjz/+uNavX6/f/e538e7amJeVldXnONNgMKj8/HyOP/0UP/jBD7RgwQJVVlZq//79uvXWW9Xc3KxFixbFu2tj3o033qjTTz9dt912my6++GK9+eabWrlypVauXBnvro0vDobk/vvvd4477jgnNTXVmTVrlvPyyy/Hu0sJ4aWXXnIk9WmLFi2Kd9fGtP5+Z5KcRx55JN5dG/O+/e1ve3+rBQUFzpe//GXnhRdeiHe3Etb8+fOdG264Id7dGPMuueQSp6SkxElJSXFKS0udCy+80Nm2bVu8u5Uwnn76aefkk092AoGAM2XKFGflypXx7tK4w3UAAQAALMMxgAAAAJYhAAIAAFiGAAgAAGAZAiAAAIBlCIAAAACWIQACAABYhgAIAABgGQIgAACAZQiAAAAAliEAAgAAWIYACAAAYBkCIAAAgGUIgAAAAJYhAAIAAFiGAAgAAGAZAiAAAIBlCIAAAACWIQACAABYhgAIAABgGQIgAACAZQiAAAAAliEAAgAAWIYACAAAYBkCIAAAgGUIgAAAAJYhAAIAAFiGAAgAAGAZAiAAAIBlCIAAAACWIQACAABYhgAIAABgmf8PImFcBtcNTZ8AAAAASUVORK5CYII=' width=640.0/>\n",
       "            </div>\n",
       "        "
      ],
      "text/plain": [
       "Canvas(toolbar=Toolbar(toolitems=[('Home', 'Reset original view', 'home', 'home'), ('Back', 'Back to previous …"
      ]
     },
     "metadata": {},
     "output_type": "display_data"
    }
   ],
   "source": [
    "thp_dom, a_dom = npy.meshgrid(npy.linspace(0,2*npy.pi,1000),npy.linspace(1.27,1.36,1000))\n",
    "plt.clf()\n",
    "cs = plt.contour(th_dom,a_dom,H_p_a_th_sel_func(thp_dom,a_dom),levels=[H_p_sep_val_sel],colors=\"k\")\n",
    "cs = plt.contour(th_dom,a_dom,H_a_th_sel_func(th_dom,a_dom),levels=[H_sep_val_sel],colors=\"r\")\n",
    "#plt.clabel(cs, inline=True, fmt=\"%0.3e\")\n",
    "#cs = plt.pcolormesh(th_dom,a_dom,H_p_a_th_sel_func(thp_dom,a_dom))\n",
    "#plt.colorbar(cs)\n",
    "plt.show()"
   ]
  },
  {
   "cell_type": "markdown",
   "metadata": {},
   "source": [
    "Below is at ep=0.02. "
   ]
  },
  {
   "cell_type": "code",
   "execution_count": 645,
   "metadata": {},
   "outputs": [],
   "source": [
    "top = 1.316894\n",
    "bottom = 1.3146949"
   ]
  },
  {
   "cell_type": "code",
   "execution_count": 646,
   "metadata": {},
   "outputs": [
    {
     "data": {
      "text/plain": [
       "'-9.28e-04'"
      ]
     },
     "execution_count": 646,
     "metadata": {},
     "output_type": "execute_result"
    }
   ],
   "source": [
    "f\"{top**(-2./3) - bottom**(-2./3):0.2e}\""
   ]
  },
  {
   "cell_type": "code",
   "execution_count": null,
   "metadata": {},
   "outputs": [],
   "source": []
  }
 ],
 "metadata": {
  "kernelspec": {
   "display_name": "Science",
   "language": "python",
   "name": "python3"
  },
  "language_info": {
   "codemirror_mode": {
    "name": "ipython",
    "version": 3
   },
   "file_extension": ".py",
   "mimetype": "text/x-python",
   "name": "python",
   "nbconvert_exporter": "python",
   "pygments_lexer": "ipython3",
   "version": "3.12.0"
  }
 },
 "nbformat": 4,
 "nbformat_minor": 2
}
