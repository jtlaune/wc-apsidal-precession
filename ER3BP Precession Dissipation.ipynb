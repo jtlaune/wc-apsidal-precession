{
 "cells": [
  {
   "cell_type": "markdown",
   "metadata": {},
   "source": [
    "# Preamble"
   ]
  },
  {
   "cell_type": "code",
   "execution_count": 1,
   "metadata": {},
   "outputs": [],
   "source": [
    "%matplotlib widget"
   ]
  },
  {
   "cell_type": "markdown",
   "metadata": {},
   "source": [
    "# Outer TP Hamiltonian"
   ]
  },
  {
   "cell_type": "code",
   "execution_count": 2,
   "metadata": {},
   "outputs": [
    {
     "name": "stdout",
     "output_type": "stream",
     "text": [
      "IPython console for SymPy 1.12 (Python 3.12.0-64-bit) (ground types: python)\n",
      "\n",
      "These commands were executed:\n",
      ">>> from sympy import *\n",
      ">>> x, y, z, t = symbols('x y z t')\n",
      ">>> k, m, n = symbols('k m n', integer=True)\n",
      ">>> f, g, h = symbols('f g h', cls=Function)\n",
      ">>> init_printing()\n",
      "\n",
      "Documentation can be found at https://docs.sympy.org/1.12/\n",
      "\n"
     ]
    },
    {
     "name": "stderr",
     "output_type": "stream",
     "text": [
      "<>:5: SyntaxWarning: invalid escape sequence '\\,'\n",
      "/var/folders/rv/30_ngz5x5l5djjdvflk_6wwm0000gn/T/ipykernel_91120/1608348942.py:5: SyntaxWarning: invalid escape sequence '\\,'\n",
      "  \"f_1 f_2 f_3 f_4 tau lambda varpi varpi_p gamma \\\\omega_{\\\\rm{ext}} \\\\omega_{\\\\rm{p\\,ext}} theta Theta phi\"\n"
     ]
    }
   ],
   "source": [
    "\n",
    "import os\n",
    "import sympy as sm\n",
    "import scipy as sp\n",
    "import numpy as np\n",
    "import matplotlib as mpl\n",
    "import matplotlib.ticker as ticker\n",
    "\n",
    "from matplotlib import pyplot as plt\n",
    "from mpl_styles import analytic\n",
    "\n",
    "from sympy import init_printing\n",
    "\n",
    "plt.style.use(analytic)\n",
    "init_printing()\n",
    "\n",
    "%run \"symbols.ipynb\"\n"
   ]
  },
  {
   "cell_type": "code",
   "execution_count": 3,
   "metadata": {},
   "outputs": [
    {
     "data": {
      "image/png": "[encoded data removed]",
      "text/latex": [
       "$\\displaystyle - \\frac{G M \\omega_{\\rm{ext}} \\sqrt{a} e^{2}}{2 a_{p}^{\\frac{3}{2}}} - \\frac{G M}{2 a} - \\frac{G m_{p} \\left(e e_{p} f_{3} + f_{4} \\left(e^{2} + e_{p}^{2}\\right)\\right)}{a_{p}} - \\frac{G m_{p} \\left(e f_{2} \\cos{\\left(j \\tau - \\lambda \\left(j + 1\\right) + \\varpi \\right)} + e_{p} f_{1} \\cos{\\left(\\omega_{\\rm{p,ext}} \\tau + j \\tau - \\lambda \\left(j + 1\\right) + \\varpi_{p} \\right)}\\right)}{a_{p}}$"
      ],
      "text/plain": [
       "                            2              ⎛             ⎛ 2     2⎞⎞          \n",
       "  G⋅M⋅\\omega_{\\rm{ext}}⋅√a⋅e    G⋅M   G⋅mₚ⋅⎝e⋅eₚ⋅f₃ + f₄⋅⎝e  + eₚ ⎠⎠   G⋅mₚ⋅(e\n",
       "- ─────────────────────────── - ─── - ────────────────────────────── - ───────\n",
       "                3/2             2⋅a                 aₚ                        \n",
       "            2⋅aₚ                                                              \n",
       "\n",
       "                                                                              \n",
       "⋅f₂⋅cos(j⋅τ - λ⋅(j + 1) + varpi) + eₚ⋅f₁⋅cos(\\omega_{\\rm{p,ext}}⋅τ + j⋅τ - λ⋅(\n",
       "──────────────────────────────────────────────────────────────────────────────\n",
       "                                           aₚ                                 \n",
       "                                                                              \n",
       "\n",
       "                 \n",
       "j + 1) + varpiₚ))\n",
       "─────────────────\n",
       "                 \n",
       "                 "
      ]
     },
     "metadata": {},
     "output_type": "display_data"
    },
    {
     "data": {
      "image/png": "[encoded data removed]",
      "text/latex": [
       "$\\displaystyle - \\frac{\\omega_{\\rm{ext}} \\sqrt{a} e^{2}}{2 \\sqrt{a_{p}}} - e f_{2} \\mu_{p} \\cos{\\left(j \\lambda - j \\tau + \\lambda - \\varpi \\right)} - e_{p} f_{1} \\mu_{p} \\cos{\\left(\\omega_{\\rm{p,ext}} \\tau - j \\lambda + j \\tau - \\lambda + \\varpi_{p} \\right)} - \\frac{a_{p}}{2 a}$"
      ],
      "text/plain": [
       "                        2                                                     \n",
       "  \\omega_{\\rm{ext}}⋅√a⋅e                                                      \n",
       "- ─────────────────────── - e⋅f₂⋅μₚ⋅cos(j⋅λ - j⋅τ + λ - varpi) - eₚ⋅f₁⋅μₚ⋅cos(\n",
       "              ____                                                            \n",
       "          2⋅╲╱ aₚ                                                             \n",
       "\n",
       "                                                     \n",
       "                                                   aₚ\n",
       "\\omega_{\\rm{p,ext}}⋅τ - j⋅λ + j⋅τ - λ + varpiₚ) - ───\n",
       "                                                  2⋅a\n",
       "                                                     "
      ]
     },
     "metadata": {},
     "output_type": "display_data"
    }
   ],
   "source": [
    "\n",
    "H_scale_factor = Gconst * M / a_p\n",
    "t_scale_factor = sqrt(Gconst * M / a_p**3)  # = n_p\n",
    "L_scale_factor = H_scale_factor / t_scale_factor\n",
    "\n",
    "calH = (\n",
    "    -(Gconst * M) / (2 * a)\n",
    "    - Gconst\n",
    "    * m_p\n",
    "    / a_p\n",
    "    * (\n",
    "        e * f2 * sm.cos((j + 1) * l - j * tau - pom)\n",
    "        + e_p * f1 * sm.cos((j + 1) * l - j * tau - pom_p - om_p * tau)\n",
    "    )\n",
    "    - (Gconst * m_p / a_p * (f3 * e * e_p + f4 * (e**2 + e_p**2)))\n",
    "    - Rational(1, 2) * sqrt(Gconst * M * a) * e**2 * om * t_scale_factor\n",
    ")\n",
    "\n",
    "\n",
    "display(calH)\n",
    "calH = (\n",
    "    (calH / H_scale_factor)\n",
    "    .subs(m_p, mu_p * M)\n",
    "    .simplify()\n",
    "    .expand()\n",
    "    .subs({f3: 0, f4: 0})\n",
    "    #.subs(a, a * a_p)\n",
    ")\n",
    "display(calH)"
   ]
  },
  {
   "cell_type": "markdown",
   "metadata": {},
   "source": [
    "# Canonical variables and canonical transformations"
   ]
  },
  {
   "cell_type": "code",
   "execution_count": 4,
   "metadata": {},
   "outputs": [],
   "source": [
    "def is_solve_multiple(sol):\n",
    "    if len(sol) > 1:\n",
    "        print(\n",
    "            f\"Solve for coordinate/momentum is multiple... {sol}, choosing the first solution.\"\n",
    "        )\n",
    "    return sol[0]\n",
    "\n",
    "\n",
    "def F2_canTran(H, F2, q, P, Q, p, t):\n",
    "    \"\"\"\n",
    "    F2: expression for generating function F_2(q,P)\n",
    "\n",
    "    q : list of old canonical coordinates\n",
    "    P : list of new canonical momenta\n",
    "\n",
    "    Q : list of new canonical coordinates\n",
    "    p : list of old canonical momenta\n",
    "    \"\"\"\n",
    "    N = len(q)\n",
    "\n",
    "    for var in [P, Q, p]:\n",
    "        if len(var) != N:\n",
    "            raise Warning(\"Must have same number of new and old variables.\")\n",
    "\n",
    "    Q_qP = []\n",
    "    p_qP = []\n",
    "    for i in range(len(q)):\n",
    "        Q_qP += [F2.diff(P[i])]\n",
    "        p_qP += [F2.diff(q[i])]\n",
    "\n",
    "    P_Qp = []\n",
    "    q_Qp = []\n",
    "    for i in range(N):\n",
    "        sol = solve([p[i] - p_qP[i], Q[i] - Q_qP[i]], [q[i], P[i]])\n",
    "        try:\n",
    "            q_Qp += [sol[q[i]]]\n",
    "            P_Qp += [sol[P[i]]]\n",
    "        except TypeError:\n",
    "            q_Qp += [is_solve_multiple(sol)[0]]\n",
    "            P_Qp += [is_solve_multiple(sol)[1]]\n",
    "\n",
    "    p_QP = []\n",
    "    q_QP = []\n",
    "    for i in range(N):\n",
    "        sol = solve(p[i] - p_qP[i].subs(q[i], q_Qp[i]), p[i])\n",
    "        p_QP += [is_solve_multiple(sol)]\n",
    "\n",
    "        sol = solve(q[i] - q_Qp[i].subs(p[i], p_qP[i]), q[i])\n",
    "        q_QP += [is_solve_multiple(sol)]\n",
    "\n",
    "    Q_qp = []\n",
    "    P_qp = []\n",
    "    for i in range(N):\n",
    "        sol = solve(Q[i] - Q_qP[i].subs(P[i], P_Qp[i]), Q[i])\n",
    "        Q_qp += [is_solve_multiple(sol)]\n",
    "\n",
    "        sol = solve(P[i] - P_Qp[i].subs(Q[i], Q_qP[i]), P[i])\n",
    "        P_qp += [is_solve_multiple(sol)]\n",
    "\n",
    "    new_H = H.copy() + F2.diff(t)\n",
    "    coords = {}\n",
    "    for i in range(N):\n",
    "        new_H = new_H.subs({q[i]: q_QP[i], p[i]: p_QP[i]})\n",
    "        coords[q[i]] = q_QP[i]\n",
    "        coords[p[i]] = p_QP[i]\n",
    "        coords[Q[i]] = Q_qp[i]\n",
    "        coords[P[i]] = P_qp[i]\n",
    "    \n",
    "\n",
    "    return coords, new_H"
   ]
  },
  {
   "cell_type": "code",
   "execution_count": 5,
   "metadata": {},
   "outputs": [],
   "source": [
    "# Not working currently... can't solve for g. Use PB instead to check canonical Cartesian trafo.\n",
    "#X, Y = symbols(\"X Y\")\n",
    "#genFunc = Rational(1, 2) * Y**2 * tan(g)\n",
    "#display(genFunc)\n",
    "#coords, H1 = F2_canTran(H, genFunc, [g], [Y], [X], [G])"
   ]
  },
  {
   "cell_type": "markdown",
   "metadata": {},
   "source": [
    "# CER"
   ]
  },
  {
   "cell_type": "markdown",
   "metadata": {},
   "source": []
  },
  {
   "cell_type": "code",
   "execution_count": 6,
   "metadata": {},
   "outputs": [
    {
     "data": {
      "image/png": "[encoded data removed]",
      "text/latex": [
       "$\\displaystyle - \\frac{\\sqrt{2} \\sqrt{\\Gamma} f_{2} \\mu_{p} \\cos{\\left(\\gamma + \\theta \\right)}}{\\sqrt{\\Theta} \\sqrt{j + 1}} - \\frac{\\Gamma \\omega_{\\rm{ext}}}{\\sqrt{a_{p}}} - \\Theta j - e_{p} f_{1} \\mu_{p} \\cos{\\left(\\omega_{\\rm{p,ext}} \\tau - \\theta + \\varpi_{p} \\right)} - \\frac{a_{p}}{2 \\Theta^{2} \\left(j + 1\\right)^{2}}$"
      ],
      "text/plain": [
       "  √2⋅√Γ⋅f₂⋅μₚ⋅cos(γ + θ)   Γ⋅\\omega_{\\rm{ext}}                                \n",
       "- ────────────────────── - ─────────────────── - Θ⋅j - eₚ⋅f₁⋅μₚ⋅cos(\\omega_{\\r\n",
       "            _______                 ____                                      \n",
       "       √Θ⋅╲╱ j + 1                ╲╱ aₚ                                       \n",
       "\n",
       "                                  aₚ     \n",
       "m{p,ext}}⋅τ - θ + varpiₚ) - ─────────────\n",
       "                               2        2\n",
       "                            2⋅Θ ⋅(j + 1) "
      ]
     },
     "metadata": {},
     "output_type": "display_data"
    }
   ],
   "source": [
    "H = to_canonical(calH)\n",
    "th, Th = symbols(\"theta Theta\")\n",
    "genFunc = Th * ((j + 1) * l - j * tau)\n",
    "coords_thTh, H1 = F2_canTran(H, genFunc, [l], [Th], [th], [L], tau)\n",
    "H1 = H1.simplify()\n",
    "display(H1)"
   ]
  },
  {
   "cell_type": "code",
   "execution_count": 7,
   "metadata": {},
   "outputs": [
    {
     "data": {
      "image/png": "[encoded data removed]",
      "text/latex": [
       "$\\displaystyle - \\Theta j - e_{p} f_{1} \\mu_{p} \\cos{\\left(\\omega_{\\rm{p,ext}} \\tau - \\theta \\right)} - \\frac{1}{2 \\Theta^{2} \\left(j + 1\\right)^{2}}$"
      ],
      "text/plain": [
       "                                                       1      \n",
       "-Θ⋅j - eₚ⋅f₁⋅μₚ⋅cos(\\omega_{\\rm{p,ext}}⋅τ - θ) - ─────────────\n",
       "                                                    2        2\n",
       "                                                 2⋅Θ ⋅(j + 1) "
      ]
     },
     "metadata": {},
     "output_type": "display_data"
    },
    {
     "data": {
      "image/png": "[encoded data removed]",
      "text/latex": [
       "$\\displaystyle \\theta = \\omega_{\\rm{p,ext}} \\tau + \\theta_{1}$"
      ],
      "text/plain": [
       "θ = \\omega_{\\rm{p,ext}}⋅τ + θ₁"
      ]
     },
     "metadata": {},
     "output_type": "display_data"
    },
    {
     "data": {
      "image/png": "[encoded data removed]",
      "text/latex": [
       "$\\displaystyle \\Theta = \\Theta_{1}$"
      ],
      "text/plain": [
       "Θ = Θ₁"
      ]
     },
     "metadata": {},
     "output_type": "display_data"
    },
    {
     "data": {
      "image/png": "[encoded data removed]",
      "text/latex": [
       "$\\displaystyle \\theta_{1} \\left(\\Theta_{2} + \\Theta_{c}\\right)$"
      ],
      "text/plain": [
       "θ₁⋅(Θ₂ + Θ_c)"
      ]
     },
     "metadata": {},
     "output_type": "display_data"
    },
    {
     "data": {
      "image/png": "[encoded data removed]",
      "text/latex": [
       "$\\displaystyle \\theta_{1} = \\theta_{2}$"
      ],
      "text/plain": [
       "θ₁ = θ₂"
      ]
     },
     "metadata": {},
     "output_type": "display_data"
    },
    {
     "data": {
      "image/png": "[encoded data removed]",
      "text/latex": [
       "$\\displaystyle \\Theta_{2} = \\Theta_{1} - \\Theta_{c}$"
      ],
      "text/plain": [
       "Θ₂ = Θ₁ - Θ_c"
      ]
     },
     "metadata": {},
     "output_type": "display_data"
    },
    {
     "data": {
      "image/png": "[encoded data removed]",
      "text/latex": [
       "$\\displaystyle - \\omega_{\\rm{p,ext}} \\left(\\Theta_{2} + \\Theta_{c}\\right) - e_{p} f_{1} \\mu_{p} \\cos{\\left(\\theta_{1} \\right)} - j \\left(\\Theta_{2} + \\Theta_{c}\\right) - \\frac{1}{2 \\left(\\Theta_{2} + \\Theta_{c}\\right)^{2} \\left(j + 1\\right)^{2}}$"
      ],
      "text/plain": [
       "                                                                              \n",
       "-\\omega_{\\rm{p,ext}}⋅(Θ₂ + Θ_c) - eₚ⋅f₁⋅μₚ⋅cos(θ₁) - j⋅(Θ₂ + Θ_c) - ──────────\n",
       "                                                                              \n",
       "                                                                    2⋅(Θ₂ + Θ_\n",
       "\n",
       "1           \n",
       "────────────\n",
       "  2        2\n",
       "c) ⋅(j + 1) "
      ]
     },
     "metadata": {},
     "output_type": "display_data"
    },
    {
     "data": {
      "image/png": "[encoded data removed]",
      "text/latex": [
       "$\\displaystyle \\Theta_{c} = \\frac{1}{\\sqrt[3]{\\omega_{\\rm{p,ext}} + j} \\left(j + 1\\right)^{\\frac{2}{3}}}$"
      ],
      "text/plain": [
       "                        1                   \n",
       "Θ_c = ──────────────────────────────────────\n",
       "      3 _________________________        2/3\n",
       "      ╲╱ \\omega_{\\rm{p,ext}} + j ⋅(j + 1)   "
      ]
     },
     "metadata": {},
     "output_type": "display_data"
    },
    {
     "data": {
      "image/png": "[encoded data removed]",
      "text/latex": [
       "$\\displaystyle 0$"
      ],
      "text/plain": [
       "0"
      ]
     },
     "metadata": {},
     "output_type": "display_data"
    },
    {
     "data": {
      "image/png": "[encoded data removed]",
      "text/latex": [
       "$\\displaystyle \\frac{2 \\sqrt{6} \\sqrt{e_{p}} \\sqrt{\\mu_{p}} \\sqrt{\\frac{f_{1}}{\\left(\\omega_{\\rm{p,ext}} + j\\right)^{\\frac{4}{3}}}}}{3 \\sqrt[3]{j + 1}}$"
      ],
      "text/plain": [
       "                        ______________________________\n",
       "       ____   ____     ╱              f₁              \n",
       "2⋅√6⋅╲╱ eₚ ⋅╲╱ μₚ ⋅   ╱  ──────────────────────────── \n",
       "                     ╱                            4/3 \n",
       "                   ╲╱    (\\omega_{\\rm{p,ext}} + j)    \n",
       "──────────────────────────────────────────────────────\n",
       "                       3 _______                      \n",
       "                     3⋅╲╱ j + 1                       "
      ]
     },
     "metadata": {},
     "output_type": "display_data"
    }
   ],
   "source": [
    "Hcer = H1.subs({f2:0,a_p:1,om:0,pom_p:0})\n",
    "display(Hcer)\n",
    "Th1, th1 = symbols(\"Theta_1 theta_1\")\n",
    "S1 = Th1*(th-om_p*tau)\n",
    "display(Eq(th,solve(th1-S1.diff(Th1),th)[0]))\n",
    "display(Eq(Th,S1.diff(th)))\n",
    "Hcer = Hcer.subs({Th:Th1,th:solve(th1-S1.diff(Th1),th)[0]}) + S1.diff(tau)\n",
    "\n",
    "Th2, th2, Thc = symbols(\"Theta_2 theta_2 Theta_c\")\n",
    "S2 = th1*(Th2+Thc)\n",
    "display(S2)\n",
    "display(Eq(th1, solve(th2-S2.diff(Th2),th1)[0] ))\n",
    "Th2_expr = solve(Th1-S2.diff(th1),Th2)[0]\n",
    "display(Eq(Th2, Th2_expr ))\n",
    "\n",
    "Hcer=Hcer.subs({Th1:solve(Th1-S2.diff(th1),Th1)[0]})\n",
    "display(Hcer)\n",
    "#\n",
    "Thc_expr = 1/(j+om_p)**Rational(1,3)/(j+1)**Rational(2,3)\n",
    "display(Eq(Thc,Thc_expr))\n",
    "display(Hcer.diff(Th2).subs(Th2,0).subs(Thc,Thc_expr))\n",
    "#\n",
    "Hcer0 = Hcer.taylor_term(0,Th2) + Hcer.taylor_term(1,Th2) + Hcer.taylor_term(2,Th2)\n",
    "Hcer0 = Hcer0-Hcer0.args[1]-Hcer0.args[2]-Hcer0.args[3]\n",
    "Hcer0 = Hcer0.subs(Thc,Thc_expr)\n",
    "#Hcer0 = Hcer0 #- Hcer0.args[0]- Hcer0.args[1]- Hcer0.args[2]\n",
    "WTh2 = 2*solve(Hcer0.subs(th1,pi),Th2)[1]\n",
    "display(WTh2)"
   ]
  },
  {
   "cell_type": "code",
   "execution_count": 8,
   "metadata": {},
   "outputs": [
    {
     "data": {
      "image/png": "[encoded data removed]",
      "text/latex": [
       "$\\displaystyle \\frac{\\sqrt{a}}{j + 1} - \\frac{1}{\\sqrt[3]{\\omega_{\\rm{p,ext}} + j} \\left(j + 1\\right)^{\\frac{2}{3}}}$"
      ],
      "text/plain": [
       "  √a                      1                   \n",
       "───── - ──────────────────────────────────────\n",
       "j + 1   3 _________________________        2/3\n",
       "        ╲╱ \\omega_{\\rm{p,ext}} + j ⋅(j + 1)   "
      ]
     },
     "execution_count": 8,
     "metadata": {},
     "output_type": "execute_result"
    }
   ],
   "source": [
    "Th2_expr.subs(Th1,Th).subs(Th,coords_thTh[Th].subs(L,sqrt(a))).subs(Thc,Thc_expr)"
   ]
  },
  {
   "cell_type": "markdown",
   "metadata": {},
   "source": [
    "# LER"
   ]
  },
  {
   "cell_type": "code",
   "execution_count": 9,
   "metadata": {},
   "outputs": [
    {
     "data": {
      "image/png": "[encoded data removed]",
      "text/latex": [
       "$\\displaystyle -1.54553417167659$"
      ],
      "text/plain": [
       "-1.5455341716765871"
      ]
     },
     "execution_count": 9,
     "metadata": {},
     "output_type": "execute_result"
    }
   ],
   "source": [
    "f1val_outside"
   ]
  },
  {
   "cell_type": "code",
   "execution_count": 10,
   "metadata": {},
   "outputs": [
    {
     "data": {
      "image/png": "[encoded data removed]",
      "text/latex": [
       "$\\displaystyle - \\frac{\\sqrt{2} \\sqrt{\\Gamma} f_{2} \\mu_{p} \\cos{\\left(\\gamma + \\theta \\right)}}{\\sqrt{\\Theta} \\sqrt{j + 1}} - \\frac{\\Gamma \\omega_{\\rm{ext}}}{\\sqrt{a_{p}}} - \\Theta j - e_{p} f_{1} \\mu_{p} \\cos{\\left(\\omega_{\\rm{p,ext}} \\tau - \\theta + \\varpi_{p} \\right)} - \\frac{a_{p}}{2 \\Theta^{2} \\left(j + 1\\right)^{2}}$"
      ],
      "text/plain": [
       "  √2⋅√Γ⋅f₂⋅μₚ⋅cos(γ + θ)   Γ⋅\\omega_{\\rm{ext}}                                \n",
       "- ────────────────────── - ─────────────────── - Θ⋅j - eₚ⋅f₁⋅μₚ⋅cos(\\omega_{\\r\n",
       "            _______                 ____                                      \n",
       "       √Θ⋅╲╱ j + 1                ╲╱ aₚ                                       \n",
       "\n",
       "                                  aₚ     \n",
       "m{p,ext}}⋅τ - θ + varpiₚ) - ─────────────\n",
       "                               2        2\n",
       "                            2⋅Θ ⋅(j + 1) "
      ]
     },
     "metadata": {},
     "output_type": "display_data"
    }
   ],
   "source": [
    "H = to_canonical(calH)\n",
    "th, Th = symbols(\"theta Theta\")\n",
    "genFunc = Th * ((j + 1) * l - j * tau)\n",
    "coords_thTh, H1 = F2_canTran(H, genFunc, [l], [Th], [th], [L], tau)\n",
    "H1 = H1.simplify()\n",
    "display(H1)"
   ]
  },
  {
   "cell_type": "code",
   "execution_count": 11,
   "metadata": {},
   "outputs": [
    {
     "data": {
      "image/png": "[encoded data removed]",
      "text/latex": [
       "$\\displaystyle - \\frac{\\sqrt{2} \\sqrt{\\Gamma} f_{2} \\mu_{p} \\cos{\\left(\\gamma + \\theta \\right)}}{\\sqrt{j + 1}} - \\Theta j - \\frac{1}{2 \\Theta^{2} \\left(j + 1\\right)^{2}}$"
      ],
      "text/plain": [
       "  √2⋅√Γ⋅f₂⋅μₚ⋅cos(γ + θ)               1      \n",
       "- ────────────────────── - Θ⋅j - ─────────────\n",
       "          _______                   2        2\n",
       "        ╲╱ j + 1                 2⋅Θ ⋅(j + 1) "
      ]
     },
     "metadata": {},
     "output_type": "display_data"
    },
    {
     "data": {
      "image/png": "[encoded data removed]",
      "text/latex": [
       "$\\displaystyle \\Gamma_{1} \\left(\\gamma + \\theta\\right) + \\Theta_{1} \\theta$"
      ],
      "text/plain": [
       "Γ₁⋅(γ + θ) + Θ₁⋅θ"
      ]
     },
     "metadata": {},
     "output_type": "display_data"
    },
    {
     "data": {
      "image/png": "[encoded data removed]",
      "text/latex": [
       "$\\displaystyle \\theta = \\theta_{1}$"
      ],
      "text/plain": [
       "θ = θ₁"
      ]
     },
     "metadata": {},
     "output_type": "display_data"
    },
    {
     "data": {
      "image/png": "[encoded data removed]",
      "text/latex": [
       "$\\displaystyle \\Theta_{1} = - \\Gamma_{1} + \\Theta$"
      ],
      "text/plain": [
       "Θ₁ = -Γ₁ + Θ"
      ]
     },
     "metadata": {},
     "output_type": "display_data"
    },
    {
     "data": {
      "image/png": "[encoded data removed]",
      "text/latex": [
       "$\\displaystyle \\Theta = \\Gamma_{1} + \\Theta_{1}$"
      ],
      "text/plain": [
       "Θ = Γ₁ + Θ₁"
      ]
     },
     "metadata": {},
     "output_type": "display_data"
    },
    {
     "data": {
      "image/png": "[encoded data removed]",
      "text/latex": [
       "$\\displaystyle \\Gamma = \\Gamma_{1}$"
      ],
      "text/plain": [
       "Γ = Γ₁"
      ]
     },
     "metadata": {},
     "output_type": "display_data"
    },
    {
     "data": {
      "image/png": "[encoded data removed]",
      "text/latex": [
       "$\\displaystyle \\gamma = \\gamma_{1} - \\theta$"
      ],
      "text/plain": [
       "γ = γ₁ - θ"
      ]
     },
     "metadata": {},
     "output_type": "display_data"
    },
    {
     "data": {
      "image/png": "[encoded data removed]",
      "text/latex": [
       "$\\displaystyle \\Gamma_{1} = \\Gamma$"
      ],
      "text/plain": [
       "Γ₁ = Γ"
      ]
     },
     "metadata": {},
     "output_type": "display_data"
    },
    {
     "data": {
      "image/png": "[encoded data removed]",
      "text/latex": [
       "$\\displaystyle - \\frac{\\sqrt{2} \\sqrt{\\Gamma_{1}} f_{2} \\mu_{p} \\cos{\\left(\\gamma_{1} \\right)}}{\\sqrt{j + 1}} - j \\left(\\Gamma_{1} + \\Theta_{1}\\right) - \\frac{1}{2 \\left(\\Gamma_{1} + \\Theta_{1}\\right)^{2} \\left(j + 1\\right)^{2}}$"
      ],
      "text/plain": [
       "       ____                                                    \n",
       "  √2⋅╲╱ Γ₁ ⋅f₂⋅μₚ⋅cos(γ₁)                           1          \n",
       "- ─────────────────────── - j⋅(Γ₁ + Θ₁) - ─────────────────────\n",
       "           _______                                   2        2\n",
       "         ╲╱ j + 1                         2⋅(Γ₁ + Θ₁) ⋅(j + 1) "
      ]
     },
     "metadata": {},
     "output_type": "display_data"
    },
    {
     "data": {
      "image/png": "[encoded data removed]",
      "text/latex": [
       "$\\displaystyle 0$"
      ],
      "text/plain": [
       "0"
      ]
     },
     "metadata": {},
     "output_type": "display_data"
    },
    {
     "data": {
      "image/png": "[encoded data removed]",
      "text/latex": [
       "$\\displaystyle - \\frac{\\sqrt{2} \\sqrt{\\Gamma_{1}} f_{2} \\mu_{p} \\cos{\\left(\\gamma_{1} \\right)}}{\\sqrt{j + 1}} - \\frac{3 \\Gamma_{1}^{2}}{2 \\Theta_{1}^{4} \\left(j + 1\\right)^{2}} + \\frac{\\Gamma_{1} \\left(- 2 j + \\frac{2}{\\Theta_{1}^{3} \\left(j + 1\\right)^{2}}\\right)}{2}$"
      ],
      "text/plain": [
       "                                                ⎛            2      ⎞\n",
       "                                             Γ₁⋅⎜-2⋅j + ────────────⎟\n",
       "       ____                         2           ⎜         3        2⎟\n",
       "  √2⋅╲╱ Γ₁ ⋅f₂⋅μₚ⋅cos(γ₁)       3⋅Γ₁            ⎝       Θ₁ ⋅(j + 1) ⎠\n",
       "- ─────────────────────── - ────────────── + ────────────────────────\n",
       "           _______              4        2              2            \n",
       "         ╲╱ j + 1           2⋅Θ₁ ⋅(j + 1)                            "
      ]
     },
     "metadata": {},
     "output_type": "display_data"
    },
    {
     "name": "stdout",
     "output_type": "stream",
     "text": [
      "- \\frac{\\sqrt{2} \\sqrt{\\Gamma_{1}} f_{2} \\mu_{p} \\cos{\\left(\\gamma_{1} \\right)}}{\\sqrt{j + 1}} - \\frac{3 \\Gamma_{1}^{2}}{2 \\Theta_{1}^{4} \\left(j + 1\\right)^{2}} + \\frac{\\Gamma_{1} \\left(- 2 j + \\frac{2}{\\Theta_{1}^{3} \\left(j + 1\\right)^{2}}\\right)}{2}\n"
     ]
    }
   ],
   "source": [
    "Hler = H1.subs({f1:0,a_p:1,om:0,pom_p:0,f2:f2*sqrt(Th)})\n",
    "display(Hler)\n",
    "\n",
    "G1, g1 = symbols(\"Gamma_1 gamma_1\")\n",
    "S1 = G1 * (th + g) + Th1 * th\n",
    "display(S1)\n",
    "th_expr = solve(th1 - S1.diff(Th1), th)[0]\n",
    "display(Eq(th, th_expr))\n",
    "Th1_expr = solve(Th - S1.diff(th), Th1)[0]\n",
    "display(Eq(Th1, Th1_expr))\n",
    "Th_expr = S1.diff(th)\n",
    "display(Eq(Th, Th_expr))\n",
    "G_expr = S1.diff(g)\n",
    "display(Eq(G, G_expr))\n",
    "\n",
    "g_expr = solve(g1 - S1.diff(G1), g)[0]\n",
    "display(Eq(g, g_expr))\n",
    "G1_expr = solve(G - S1.diff(g), G1)[0]\n",
    "display(Eq(G1, G1_expr))\n",
    "\n",
    "Hler = Hler.subs({g: g_expr, Th: Th_expr, G: G_expr})\n",
    "\n",
    "\n",
    "display(Hler)\n",
    "\n",
    "display(Hler.taylor_term(3, sqrt(G1)))\n",
    "Hler = (\n",
    "    #Hler.taylor_term(0, sqrt(G1))\n",
    "     Hler.taylor_term(1, sqrt(G1))\n",
    "    + Hler.taylor_term(2, sqrt(G1))\n",
    "    + Hler.taylor_term(3, sqrt(G1))\n",
    "    + Hler.taylor_term(4, sqrt(G1))\n",
    ")\n",
    "\n",
    "display(Hler)\n",
    "print(latex(Hler))\n",
    "\n",
    "\n",
    "#X, Y = symbols(\"X,Y\")\n",
    "#Hler = Hler.subs({G1:Rational(1,2)*(X**2+Y**2)})\n",
    "#\n",
    "#display(Hler.diff(Y).subs({X:0}))"
   ]
  },
  {
   "cell_type": "markdown",
   "metadata": {},
   "source": [
    "# Hamiltonian"
   ]
  },
  {
   "cell_type": "code",
   "execution_count": 12,
   "metadata": {},
   "outputs": [
    {
     "data": {
      "image/png": "[encoded data removed]",
      "text/latex": [
       "$\\displaystyle - \\frac{\\sqrt{2} \\sqrt{\\Gamma} f_{2} \\mu_{p} \\cos{\\left(\\gamma + \\theta \\right)}}{\\sqrt{\\Theta} \\sqrt{j + 1}} - \\frac{\\Gamma \\omega_{\\rm{ext}}}{\\sqrt{a_{p}}} - \\Theta j - e_{p} f_{1} \\mu_{p} \\cos{\\left(\\omega_{\\rm{p,ext}} \\tau - \\theta + \\varpi_{p} \\right)} - \\frac{a_{p}}{2 \\Theta^{2} \\left(j + 1\\right)^{2}}$"
      ],
      "text/plain": [
       "  √2⋅√Γ⋅f₂⋅μₚ⋅cos(γ + θ)   Γ⋅\\omega_{\\rm{ext}}                                \n",
       "- ────────────────────── - ─────────────────── - Θ⋅j - eₚ⋅f₁⋅μₚ⋅cos(\\omega_{\\r\n",
       "            _______                 ____                                      \n",
       "       √Θ⋅╲╱ j + 1                ╲╱ aₚ                                       \n",
       "\n",
       "                                  aₚ     \n",
       "m{p,ext}}⋅τ - θ + varpiₚ) - ─────────────\n",
       "                               2        2\n",
       "                            2⋅Θ ⋅(j + 1) "
      ]
     },
     "metadata": {},
     "output_type": "display_data"
    }
   ],
   "source": [
    "H = to_canonical(calH)\n",
    "th, Th = symbols(\"theta Theta\")\n",
    "genFunc = Th * ((j + 1) * l - j * tau)\n",
    "coords_thTh, H1 = F2_canTran(H, genFunc, [l], [Th], [th], [L], tau)\n",
    "H1 = H1.simplify()\n",
    "display(H1)"
   ]
  },
  {
   "cell_type": "code",
   "execution_count": 13,
   "metadata": {},
   "outputs": [
    {
     "data": {
      "image/png": "[encoded data removed]",
      "text/latex": [
       "$\\displaystyle 1$"
      ],
      "text/plain": [
       "1"
      ]
     },
     "metadata": {},
     "output_type": "display_data"
    },
    {
     "data": {
      "image/png": "[encoded data removed]",
      "text/latex": [
       "$\\displaystyle X = \\sqrt{2} \\sqrt{\\Gamma} \\sin{\\left(\\gamma \\right)}$"
      ],
      "text/plain": [
       "X = √2⋅√Γ⋅sin(γ)"
      ]
     },
     "metadata": {},
     "output_type": "display_data"
    },
    {
     "data": {
      "image/png": "[encoded data removed]",
      "text/latex": [
       "$\\displaystyle Y = \\sqrt{2} \\sqrt{\\Gamma} \\cos{\\left(\\gamma \\right)}$"
      ],
      "text/plain": [
       "Y = √2⋅√Γ⋅cos(γ)"
      ]
     },
     "metadata": {},
     "output_type": "display_data"
    }
   ],
   "source": [
    "X, Y = symbols(\"X Y\")\n",
    "PB = PoissonBracket([g], [G])\n",
    "X_gG = sqrt(2*G)*sin(g)\n",
    "Y_gG = sqrt(2*G)*cos(g)\n",
    "# PB(momentum,coordinate) = 1, 0 otherwise\n",
    "display(PB(Y_gG, X_gG).simplify())\n",
    "#sol =  solve([X-X_gG,Y-Y_gG],[g, G])\n",
    "#g_XY = sol[0][0]\n",
    "#G_XY = sol[0][1]\n",
    "g_XY = atan2(X,Y)\n",
    "G_XY = Rational(1,2)*(X**2+Y**2)\n",
    "display(Eq(X,X_gG))\n",
    "display(Eq(Y,Y_gG))"
   ]
  },
  {
   "cell_type": "code",
   "execution_count": 14,
   "metadata": {},
   "outputs": [
    {
     "data": {
      "image/png": "[encoded data removed]",
      "text/latex": [
       "$\\displaystyle - \\frac{\\sqrt{2} \\sqrt{\\Gamma} f_{2} \\mu_{p} \\left(- \\sin{\\left(\\gamma \\right)} \\sin{\\left(\\theta \\right)} + \\cos{\\left(\\gamma \\right)} \\cos{\\left(\\theta \\right)}\\right)}{\\sqrt{\\Theta} \\sqrt{j + 1}} - \\frac{\\Gamma \\omega_{\\rm{ext}}}{\\sqrt{a_{p}}} - \\Theta j - e_{p} f_{1} \\mu_{p} \\left(\\left(\\sin{\\left(\\theta \\right)} \\sin{\\left(\\omega_{\\rm{p,ext}} \\tau \\right)} + \\cos{\\left(\\theta \\right)} \\cos{\\left(\\omega_{\\rm{p,ext}} \\tau \\right)}\\right) \\cos{\\left(\\varpi_{p} \\right)} - \\left(- \\sin{\\left(\\theta \\right)} \\cos{\\left(\\omega_{\\rm{p,ext}} \\tau \\right)} + \\sin{\\left(\\omega_{\\rm{p,ext}} \\tau \\right)} \\cos{\\left(\\theta \\right)}\\right) \\sin{\\left(\\varpi_{p} \\right)}\\right) - \\frac{a_{p}}{2 \\Theta^{2} \\left(j + 1\\right)^{2}}$"
      ],
      "text/plain": [
       "  √2⋅√Γ⋅f₂⋅μₚ⋅(-sin(γ)⋅sin(θ) + cos(γ)⋅cos(θ))   Γ⋅\\omega_{\\rm{ext}}          \n",
       "- ──────────────────────────────────────────── - ─────────────────── - Θ⋅j - e\n",
       "                       _______                            ____                \n",
       "                  √Θ⋅╲╱ j + 1                           ╲╱ aₚ                 \n",
       "\n",
       "                                                                              \n",
       "ₚ⋅f₁⋅μₚ⋅((sin(θ)⋅sin(\\omega_{\\rm{p,ext}}⋅τ) + cos(θ)⋅cos(\\omega_{\\rm{p,ext}}⋅τ\n",
       "                                                                              \n",
       "                                                                              \n",
       "\n",
       "                                                                              \n",
       "))⋅cos(varpiₚ) - (-sin(θ)⋅cos(\\omega_{\\rm{p,ext}}⋅τ) + sin(\\omega_{\\rm{p,ext}}\n",
       "                                                                              \n",
       "                                                                              \n",
       "\n",
       "                                 aₚ     \n",
       "⋅τ)⋅cos(θ))⋅sin(varpiₚ)) - ─────────────\n",
       "                              2        2\n",
       "                           2⋅Θ ⋅(j + 1) "
      ]
     },
     "metadata": {},
     "output_type": "display_data"
    },
    {
     "data": {
      "image/png": "[encoded data removed]",
      "text/latex": [
       "$\\displaystyle - \\Theta j - \\frac{X^{2} \\omega_{\\rm{ext}}}{2 \\sqrt{a_{p}}} - \\frac{Y^{2} \\omega_{\\rm{ext}}}{2 \\sqrt{a_{p}}} - e_{p} f_{1} \\mu_{p} \\cos{\\left(\\omega_{\\rm{p,ext}} \\tau - \\theta + \\varpi_{p} \\right)} - \\frac{a_{p}}{2 \\Theta^{2} \\left(j + 1\\right)^{2}} + \\frac{X f_{2} \\mu_{p} \\sin{\\left(\\theta \\right)}}{\\sqrt{\\Theta} \\sqrt{j + 1}} - \\frac{Y f_{2} \\mu_{p} \\cos{\\left(\\theta \\right)}}{\\sqrt{\\Theta} \\sqrt{j + 1}}$"
      ],
      "text/plain": [
       "        2                      2                                              \n",
       "       X ⋅\\omega_{\\rm{ext}}   Y ⋅\\omega_{\\rm{ext}}                            \n",
       "-Θ⋅j - ──────────────────── - ──────────────────── - eₚ⋅f₁⋅μₚ⋅cos(\\omega_{\\rm{\n",
       "                 ____                   ____                                  \n",
       "             2⋅╲╱ aₚ                2⋅╲╱ aₚ                                   \n",
       "\n",
       "                                                                         \n",
       "                                aₚ        X⋅f₂⋅μₚ⋅sin(θ)   Y⋅f₂⋅μₚ⋅cos(θ)\n",
       "p,ext}}⋅τ - θ + varpiₚ) - ───────────── + ────────────── - ──────────────\n",
       "                             2        2         _______          _______ \n",
       "                          2⋅Θ ⋅(j + 1)     √Θ⋅╲╱ j + 1      √Θ⋅╲╱ j + 1  "
      ]
     },
     "metadata": {},
     "output_type": "display_data"
    }
   ],
   "source": [
    "H2 = expand_trig(H1)\n",
    "display(H2)\n",
    "H_XYthTh = H2.subs(\n",
    "    {\n",
    "        sin(g): X / sqrt(2 * G),\n",
    "        cos(g): Y / sqrt(2 * G),\n",
    "        G: Rational(1, 2) * (X**2 + Y**2),\n",
    "    }\n",
    ").simplify()\n",
    "display(H_XYthTh)"
   ]
  },
  {
   "cell_type": "markdown",
   "metadata": {},
   "source": [
    "# Conserved Quantities"
   ]
  },
  {
   "cell_type": "code",
   "execution_count": 15,
   "metadata": {},
   "outputs": [
    {
     "data": {
      "image/png": "[encoded data removed]",
      "text/latex": [
       "$\\displaystyle K_{1} \\left(\\gamma + \\theta\\right) + K_{2} \\theta$"
      ],
      "text/plain": [
       "K₁⋅(γ + θ) + K₂⋅θ"
      ]
     },
     "execution_count": 15,
     "metadata": {},
     "output_type": "execute_result"
    }
   ],
   "source": [
    "Hcons = H1.subs({f1:0,a_p:1,om:0})\n",
    "K_1, K_2, k_1, k_2 = symbols(\"K_1 K_2 k_1 k_2\")\n",
    "genFunc1 = K_1*(th+g) + K_2*th\n",
    "genFunc1"
   ]
  },
  {
   "cell_type": "code",
   "execution_count": 16,
   "metadata": {},
   "outputs": [
    {
     "data": {
      "image/png": "[encoded data removed]",
      "text/latex": [
       "$\\displaystyle K_{1}$"
      ],
      "text/plain": [
       "K₁"
      ]
     },
     "execution_count": 16,
     "metadata": {},
     "output_type": "execute_result"
    }
   ],
   "source": [
    "genFunc1.diff(g)"
   ]
  },
  {
   "cell_type": "code",
   "execution_count": 17,
   "metadata": {},
   "outputs": [
    {
     "data": {
      "image/png": "[encoded data removed]",
      "text/latex": [
       "$\\displaystyle K_{1} + K_{2}$"
      ],
      "text/plain": [
       "K₁ + K₂"
      ]
     },
     "execution_count": 17,
     "metadata": {},
     "output_type": "execute_result"
    }
   ],
   "source": [
    "genFunc1.diff(th)"
   ]
  },
  {
   "cell_type": "code",
   "execution_count": 18,
   "metadata": {},
   "outputs": [
    {
     "data": {
      "image/png": "[encoded data removed]",
      "text/latex": [
       "$\\displaystyle - \\frac{\\sqrt{2} \\sqrt{K_{1}} f_{2} \\mu_{p} \\cos{\\left(k_{1} \\right)}}{\\sqrt{K_{1} + K_{2}} \\sqrt{j + 1}} - j \\left(K_{1} + K_{2}\\right) - \\frac{1}{2 \\left(K_{1} + K_{2}\\right)^{2} \\left(j + 1\\right)^{2}}$"
      ],
      "text/plain": [
       "       ____                                                    \n",
       "  √2⋅╲╱ K₁ ⋅f₂⋅μₚ⋅cos(k₁)                           1          \n",
       "- ─────────────────────── - j⋅(K₁ + K₂) - ─────────────────────\n",
       "     _________   _______                             2        2\n",
       "   ╲╱ K₁ + K₂ ⋅╲╱ j + 1                   2⋅(K₁ + K₂) ⋅(j + 1) "
      ]
     },
     "execution_count": 18,
     "metadata": {},
     "output_type": "execute_result"
    }
   ],
   "source": [
    "Hcons.subs(Th,genFunc1.diff(th)).subs(G,genFunc1.diff(g)).subs(g,k_1-th)"
   ]
  },
  {
   "cell_type": "code",
   "execution_count": 19,
   "metadata": {},
   "outputs": [
    {
     "data": {
      "image/png": "[encoded data removed]",
      "text/latex": [
       "$\\displaystyle - \\frac{\\sqrt{a} e^{2}}{2} + \\frac{\\sqrt{a}}{j + 1}$"
      ],
      "text/plain": [
       "      2        \n",
       "  √a⋅e      √a \n",
       "- ───── + ─────\n",
       "    2     j + 1"
      ]
     },
     "execution_count": 19,
     "metadata": {},
     "output_type": "execute_result"
    }
   ],
   "source": [
    "K2_expr = (Th-G).subs({G:Rational(1,2)*sqrt(a)*e**2,Th:sqrt(a)/(j+1)})\n",
    "K2_expr"
   ]
  },
  {
   "cell_type": "markdown",
   "metadata": {},
   "source": [
    "# Dissipation"
   ]
  },
  {
   "cell_type": "code",
   "execution_count": 20,
   "metadata": {},
   "outputs": [
    {
     "data": {
      "image/png": "[encoded data removed]",
      "text/latex": [
       "$\\displaystyle - \\frac{a}{T_{m}} - \\frac{2 a e^{2}}{T_{e}}$"
      ],
      "text/plain": [
       "            2\n",
       "  a    2⋅a⋅e \n",
       "- ── - ──────\n",
       "  Tₘ     Tₑ  "
      ]
     },
     "metadata": {},
     "output_type": "display_data"
    },
    {
     "data": {
      "image/png": "[encoded data removed]",
      "text/latex": [
       "$\\displaystyle - \\frac{e}{T_{e}}$"
      ],
      "text/plain": [
       "-e \n",
       "───\n",
       " Tₑ"
      ]
     },
     "metadata": {},
     "output_type": "display_data"
    }
   ],
   "source": [
    "adot_dis = -a/Tm - 2*a*e**2/Te\n",
    "edot_dis = -e/Te\n",
    "display(adot_dis,edot_dis)"
   ]
  },
  {
   "cell_type": "code",
   "execution_count": 21,
   "metadata": {},
   "outputs": [
    {
     "data": {
      "image/png": "[encoded data removed]",
      "text/latex": [
       "$\\displaystyle \\frac{\\Lambda}{j + 1}$"
      ],
      "text/plain": [
       "  Λ  \n",
       "─────\n",
       "j + 1"
      ]
     },
     "execution_count": 21,
     "metadata": {},
     "output_type": "execute_result"
    }
   ],
   "source": [
    "coords_thTh[Th]"
   ]
  },
  {
   "cell_type": "code",
   "execution_count": 22,
   "metadata": {},
   "outputs": [
    {
     "data": {
      "image/png": "[encoded data removed]",
      "text/latex": [
       "$\\displaystyle \\frac{- \\frac{T_{e} \\Theta \\left(j + 1\\right)}{2} - T_{m} \\left(X^{2} + Y^{2}\\right)}{T_{e} T_{m} \\left(j + 1\\right)}$"
      ],
      "text/plain": [
       "  Tₑ⋅Θ⋅(j + 1)      ⎛ 2    2⎞\n",
       "- ──────────── - Tₘ⋅⎝X  + Y ⎠\n",
       "       2                     \n",
       "─────────────────────────────\n",
       "        Tₑ⋅Tₘ⋅(j + 1)        "
      ]
     },
     "metadata": {},
     "output_type": "display_data"
    }
   ],
   "source": [
    "Thdot_dis = to_canonical(to_orbelts(coords_thTh[Th]).diff(a)*adot_dis).subs({G: G_XY, L: coords_thTh[L]}).simplify()\n",
    "display(Thdot_dis)"
   ]
  },
  {
   "cell_type": "code",
   "execution_count": 23,
   "metadata": {},
   "outputs": [
    {
     "data": {
      "image/png": "[encoded data removed]",
      "text/latex": [
       "$\\displaystyle - \\frac{\\frac{X^{2}}{2} + \\frac{Y^{2}}{2}}{2 T_{m}} - \\frac{2 \\left(\\frac{X^{2}}{2} + \\frac{Y^{2}}{2}\\right)}{T_{e}} - \\frac{2 \\left(\\frac{X^{2}}{2} + \\frac{Y^{2}}{2}\\right)^{2}}{T_{e} \\Theta \\left(j + 1\\right)}$"
      ],
      "text/plain": [
       "                                     2\n",
       "   2    2     ⎛ 2    2⎞     ⎛ 2    2⎞ \n",
       "  X    Y      ⎜X    Y ⎟     ⎜X    Y ⎟ \n",
       "  ── + ──   2⋅⎜── + ──⎟   2⋅⎜── + ──⎟ \n",
       "  2    2      ⎝2    2 ⎠     ⎝2    2 ⎠ \n",
       "- ─────── - ─────────── - ────────────\n",
       "    2⋅Tₘ         Tₑ       Tₑ⋅Θ⋅(j + 1)"
      ]
     },
     "metadata": {},
     "output_type": "display_data"
    }
   ],
   "source": [
    "Gdot_dis = (\n",
    "    to_canonical(\n",
    "        (\n",
    "            (Rational(1, 2) * sqrt(a) * e**2).diff(e) * (edot_dis)\n",
    "            + (Rational(1, 2) * sqrt(a) * e**2).diff(a) * (adot_dis)\n",
    "        ).simplify()\n",
    "    )\n",
    "    .simplify()\n",
    "    .subs({G: G_XY, L: coords_thTh[L]})\n",
    ")\n",
    "\n",
    "display(Gdot_dis)"
   ]
  },
  {
   "cell_type": "code",
   "execution_count": 24,
   "metadata": {},
   "outputs": [
    {
     "data": {
      "image/png": "[encoded data removed]",
      "text/latex": [
       "$\\displaystyle - \\frac{X \\left(T_{e} \\Theta \\left(j + 1\\right) + 4 T_{m} \\Theta \\left(j + 1\\right) + 2 T_{m} \\left(X^{2} + Y^{2}\\right)\\right)}{4 T_{e} T_{m} \\Theta \\left(j + 1\\right)}$"
      ],
      "text/plain": [
       "   ⎛                                     ⎛ 2    2⎞⎞ \n",
       "-X⋅⎝Tₑ⋅Θ⋅(j + 1) + 4⋅Tₘ⋅Θ⋅(j + 1) + 2⋅Tₘ⋅⎝X  + Y ⎠⎠ \n",
       "────────────────────────────────────────────────────\n",
       "                 4⋅Tₑ⋅Tₘ⋅Θ⋅(j + 1)                  "
      ]
     },
     "execution_count": 24,
     "metadata": {},
     "output_type": "execute_result"
    }
   ],
   "source": [
    "Xdot_dis = (X_gG.diff(G) * Gdot_dis).subs(\n",
    "    {\n",
    "        sin(g): X / sqrt(2 * G),\n",
    "        cos(g): Y / sqrt(2 * G),\n",
    "        G: Rational(1, 2) * (X**2 + Y**2),\n",
    "    }\n",
    ").simplify()\n",
    "Xdot_dis"
   ]
  },
  {
   "cell_type": "code",
   "execution_count": 25,
   "metadata": {},
   "outputs": [
    {
     "data": {
      "image/png": "[encoded data removed]",
      "text/latex": [
       "$\\displaystyle - \\frac{Y \\left(T_{e} \\Theta \\left(j + 1\\right) + 4 T_{m} \\Theta \\left(j + 1\\right) + 2 T_{m} \\left(X^{2} + Y^{2}\\right)\\right)}{4 T_{e} T_{m} \\Theta \\left(j + 1\\right)}$"
      ],
      "text/plain": [
       "   ⎛                                     ⎛ 2    2⎞⎞ \n",
       "-Y⋅⎝Tₑ⋅Θ⋅(j + 1) + 4⋅Tₘ⋅Θ⋅(j + 1) + 2⋅Tₘ⋅⎝X  + Y ⎠⎠ \n",
       "────────────────────────────────────────────────────\n",
       "                 4⋅Tₑ⋅Tₘ⋅Θ⋅(j + 1)                  "
      ]
     },
     "execution_count": 25,
     "metadata": {},
     "output_type": "execute_result"
    }
   ],
   "source": [
    "Ydot_dis = (Y_gG.diff(G) * Gdot_dis).subs(\n",
    "    {\n",
    "        sin(g): X / sqrt(2 * G),\n",
    "        cos(g): Y / sqrt(2 * G),\n",
    "        G: Rational(1, 2) * (X**2 + Y**2),\n",
    "    }\n",
    ").simplify()\n",
    "Ydot_dis"
   ]
  },
  {
   "cell_type": "code",
   "execution_count": 26,
   "metadata": {},
   "outputs": [
    {
     "data": {
      "image/png": "[encoded data removed]",
      "text/latex": [
       "$\\displaystyle - \\Theta j - \\frac{X^{2} \\omega_{\\rm{ext}}}{2 \\sqrt{a_{p}}} - \\frac{Y^{2} \\omega_{\\rm{ext}}}{2 \\sqrt{a_{p}}} - e_{p} f_{1} \\mu_{p} \\cos{\\left(\\omega_{\\rm{p,ext}} \\tau - \\theta + \\varpi_{p} \\right)} - \\frac{a_{p}}{2 \\Theta^{2} \\left(j + 1\\right)^{2}} + \\frac{X f_{2} \\mu_{p} \\sin{\\left(\\theta \\right)}}{\\sqrt{\\Theta} \\sqrt{j + 1}} - \\frac{Y f_{2} \\mu_{p} \\cos{\\left(\\theta \\right)}}{\\sqrt{\\Theta} \\sqrt{j + 1}}$"
      ],
      "text/plain": [
       "        2                      2                                              \n",
       "       X ⋅\\omega_{\\rm{ext}}   Y ⋅\\omega_{\\rm{ext}}                            \n",
       "-Θ⋅j - ──────────────────── - ──────────────────── - eₚ⋅f₁⋅μₚ⋅cos(\\omega_{\\rm{\n",
       "                 ____                   ____                                  \n",
       "             2⋅╲╱ aₚ                2⋅╲╱ aₚ                                   \n",
       "\n",
       "                                                                         \n",
       "                                aₚ        X⋅f₂⋅μₚ⋅sin(θ)   Y⋅f₂⋅μₚ⋅cos(θ)\n",
       "p,ext}}⋅τ - θ + varpiₚ) - ───────────── + ────────────── - ──────────────\n",
       "                             2        2         _______          _______ \n",
       "                          2⋅Θ ⋅(j + 1)     √Θ⋅╲╱ j + 1      √Θ⋅╲╱ j + 1  "
      ]
     },
     "execution_count": 26,
     "metadata": {},
     "output_type": "execute_result"
    }
   ],
   "source": [
    "H_XYthTh"
   ]
  },
  {
   "cell_type": "code",
   "execution_count": 27,
   "metadata": {},
   "outputs": [
    {
     "data": {
      "image/png": "[encoded data removed]",
      "text/latex": [
       "$\\displaystyle \\frac{- \\frac{T_{e} \\Theta \\left(j + 1\\right)}{2} - T_{m} \\left(X^{2} + Y^{2}\\right)}{T_{e} T_{m} \\left(j + 1\\right)}$"
      ],
      "text/plain": [
       "  Tₑ⋅Θ⋅(j + 1)      ⎛ 2    2⎞\n",
       "- ──────────── - Tₘ⋅⎝X  + Y ⎠\n",
       "       2                     \n",
       "─────────────────────────────\n",
       "        Tₑ⋅Tₘ⋅(j + 1)        "
      ]
     },
     "execution_count": 27,
     "metadata": {},
     "output_type": "execute_result"
    }
   ],
   "source": [
    "Thdot_dis"
   ]
  },
  {
   "cell_type": "code",
   "execution_count": 28,
   "metadata": {},
   "outputs": [
    {
     "name": "stdout",
     "output_type": "stream",
     "text": [
      "-0.381571414184445\n",
      "-0.000335603535758360\n"
     ]
    }
   ],
   "source": [
    "Pv = sqrt(1.31037069710445)/3\n",
    "H = 1/2/Pv**2/9 - Pv*2\n",
    "print(H)\n",
    "print(-0.1*f1val_outside*1e-3/(-1/9/Pv**2 - 2)*6)"
   ]
  },
  {
   "cell_type": "code",
   "execution_count": 29,
   "metadata": {},
   "outputs": [
    {
     "data": {
      "image/png": "[encoded data removed]",
      "text/latex": [
       "$\\displaystyle 1.31081046214355$"
      ],
      "text/plain": [
       "1.3108104621435523"
      ]
     },
     "execution_count": 29,
     "metadata": {},
     "output_type": "execute_result"
    }
   ],
   "source": [
    "1.31037069710445+0.000439765039102399"
   ]
  },
  {
   "cell_type": "code",
   "execution_count": 30,
   "metadata": {},
   "outputs": [
    {
     "name": "stdout",
     "output_type": "stream",
     "text": [
      "- \\Theta j - \\frac{X^{2} \\omega_{\\rm{ext}}}{2 \\sqrt{a_{p}}} - \\frac{Y^{2} \\omega_{\\rm{ext}}}{2 \\sqrt{a_{p}}} - e_{p} f_{1} \\mu_{p} \\cos{\\left(\\omega_{\\rm{p,ext}} \\tau - \\theta + \\varpi_{p} \\right)} - \\frac{a_{p}}{2 \\Theta^{2} \\left(j + 1\\right)^{2}} + \\frac{X f_{2} \\mu_{p} \\sin{\\left(\\theta \\right)}}{\\sqrt{\\Theta} \\sqrt{j + 1}} - \\frac{Y f_{2} \\mu_{p} \\cos{\\left(\\theta \\right)}}{\\sqrt{\\Theta} \\sqrt{j + 1}}\n"
     ]
    }
   ],
   "source": [
    "print(latex(H_XYthTh))"
   ]
  },
  {
   "cell_type": "code",
   "execution_count": 31,
   "metadata": {},
   "outputs": [
    {
     "data": {
      "image/png": "[encoded data removed]",
      "text/latex": [
       "$\\displaystyle \\frac{- \\frac{T_{e} \\Theta j}{2} - \\frac{T_{e} \\Theta}{2} - T_{m} X^{2} - T_{m} Y^{2}}{T_{e} T_{m} \\left(j + 1\\right)}$"
      ],
      "text/plain": [
       "  Tₑ⋅Θ⋅j   Tₑ⋅Θ       2       2\n",
       "- ────── - ──── - Tₘ⋅X  - Tₘ⋅Y \n",
       "    2       2                  \n",
       "───────────────────────────────\n",
       "         Tₑ⋅Tₘ⋅(j + 1)         "
      ]
     },
     "execution_count": 31,
     "metadata": {},
     "output_type": "execute_result"
    }
   ],
   "source": [
    "Thdot_dis.expand().cancel().simplify(deep=True)"
   ]
  },
  {
   "cell_type": "markdown",
   "metadata": {},
   "source": [
    "# Integration functions"
   ]
  },
  {
   "cell_type": "code",
   "execution_count": 32,
   "metadata": {},
   "outputs": [],
   "source": [
    "def orb_elts_from_integration(integration):\n",
    "    y = integration.y\n",
    "    X_vals = y[0, :].astype(float)\n",
    "    Y_vals = y[1, :].astype(float)\n",
    "    th_vals = y[2, :].astype(float) % (2 * np.pi)\n",
    "    th_vals = th_vals - 2 * np.pi * (th_vals > np.pi)\n",
    "    Th_vals = y[3, :].astype(float)\n",
    "    g_func = lambdify([X, Y], g_XY)\n",
    "    G_func = lambdify([X, Y], G_XY)\n",
    "    a_func = lambdify(Th, a_Th)\n",
    "    g_vals = g_func(X_vals, Y_vals)\n",
    "    G_vals = G_func(X_vals, Y_vals)\n",
    "    a_vals = a_func(Th_vals)\n",
    "    return (\n",
    "        integration.t,\n",
    "        -g_vals,\n",
    "        np.sqrt(2 * G_vals / np.sqrt(a_vals)),\n",
    "        a_vals,\n",
    "        th_vals,\n",
    "    )\n",
    "\n",
    "\n",
    "def plugin(expr, params):\n",
    "    return expr.subs(params).evalf()"
   ]
  },
  {
   "cell_type": "code",
   "execution_count": 33,
   "metadata": {},
   "outputs": [],
   "source": [
    "def run(mupval, ompval, omval, epval, events, apfunc):\n",
    "    Xdot_prec = Xdot.subs({mu_p:mupval, om: omval, om_p: ompval, e_p: epval})\n",
    "    Ydot_prec = Ydot.subs({mu_p:mupval, om: omval, om_p: ompval, e_p: epval})\n",
    "    thdot_prec = thdot.subs({mu_p:mupval, om: omval, om_p: ompval, e_p: epval})\n",
    "    Thdot_prec = Thdot.subs({mu_p:mupval, om: omval, om_p: ompval, e_p: epval})\n",
    "\n",
    "    lhs = lambdify(\n",
    "        [a_p, tau, X, Y, th, Th], [Xdot_prec, Ydot_prec, thdot_prec, Thdot_prec]\n",
    "    )\n",
    "\n",
    "    def LHS(t, Y):\n",
    "        return lhs(apfunc(t), t, *Y)\n",
    "\n",
    "    integration = sp.integrate.solve_ivp(\n",
    "        LHS,\n",
    "        tspan,\n",
    "        initVals,\n",
    "        # atol=1e-9,\n",
    "        rtol=1e-9,\n",
    "        t_eval=t_eval,\n",
    "        events=events,\n",
    "        method=\"DOP853\",\n",
    "    )\n",
    "    return integration"
   ]
  },
  {
   "cell_type": "code",
   "execution_count": 34,
   "metadata": {},
   "outputs": [],
   "source": [
    "def solve_ivp(params):\n",
    "    ind, mupval, ompval, omval, epval, events, apfunc = params[0], params[1], params[2], params[3], params[4], params[5], params[6]\n",
    "    print(ind)\n",
    "    sol = run(mupval, ompval, omval, epval, events, apfunc)\n",
    "    t_int, pom_int, e_int, a_int, th_int = orb_elts_from_integration(sol)\n",
    "    data = {}\n",
    "    data[\"t\"] = t_int\n",
    "    data[\"pom\"] = pom_int\n",
    "    data[\"e\"] = e_int\n",
    "    data[\"a\"] = a_int\n",
    "    data[\"th\"] = th_int\n",
    "    occurances = sol.t_events\n",
    "    return (data, params, occurances)"
   ]
  }
 ],
 "metadata": {
  "kernelspec": {
   "display_name": "Python 3",
   "language": "python",
   "name": "python3"
  },
  "language_info": {
   "codemirror_mode": {
    "name": "ipython",
    "version": 3
   },
   "file_extension": ".py",
   "mimetype": "text/x-python",
   "name": "python",
   "nbconvert_exporter": "python",
   "pygments_lexer": "ipython3",
   "version": "3.12.0"
  }
 },
 "nbformat": 4,
 "nbformat_minor": 2
}
