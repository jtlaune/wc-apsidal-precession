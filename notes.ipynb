{
 "cells": [
  {
   "cell_type": "markdown",
   "metadata": {},
   "source": [
    "# Imports & definitions"
   ]
  },
  {
   "cell_type": "code",
   "execution_count": 1,
   "metadata": {},
   "outputs": [],
   "source": [
    "%matplotlib widget"
   ]
  },
  {
   "cell_type": "code",
   "execution_count": 2,
   "metadata": {},
   "outputs": [
    {
     "name": "stdout",
     "output_type": "stream",
     "text": [
      "IPython console for SymPy 1.11.1 (Python 3.11.5-64-bit) (ground types: python)\n",
      "\n",
      "These commands were executed:\n",
      ">>> from sympy import *\n",
      ">>> x, y, z, t = symbols('x y z t')\n",
      ">>> k, m, n = symbols('k m n', integer=True)\n",
      ">>> f, g, h = symbols('f g h', cls=Function)\n",
      ">>> init_printing()\n",
      "\n",
      "Documentation can be found at https://docs.sympy.org/1.11.1/\n",
      "\n"
     ]
    }
   ],
   "source": [
    "import os\n",
    "import sympy as sm\n",
    "import scipy as sp\n",
    "import numpy as np\n",
    "from scipy.special import hyp2f1\n",
    "from matplotlib import pyplot as plt\n",
    "import matplotlib as mpl\n",
    "import matplotlib.ticker as ticker\n",
    "import sys\n",
    "sys.path.append(\"/Users/jtlaune/Notes/notes/code_notebooks/\")\n",
    "from mpl_styles import analytic\n",
    "from sympy import init_printing, init_session\n",
    "init_session()\n",
    "init_printing()\n",
    "\n",
    "def Pochhammer(a, k):\n",
    "    if k == 0:\n",
    "        return 1.0\n",
    "    else:\n",
    "        return (a + k - 1) * Pochhammer(a, k - 1)\n",
    "\n",
    "\n",
    "def b(s, j, alpha):\n",
    "    if j >= 0:  # Eq. 7.87\n",
    "        return (\n",
    "            2\n",
    "            * Pochhammer(s, j)\n",
    "            / Pochhammer(1, j)\n",
    "            * (alpha**j)\n",
    "            * hyp2f1(s, s + j, j + 1, alpha * alpha)\n",
    "        )\n",
    "    else:  # Eq. 6.69\n",
    "        return b(s, -j, alpha)\n",
    "\n",
    "\n",
    "def Db(s, j, alpha):  # Eq. 6.70\n",
    "    aux = (\n",
    "        b(s + 1, j - 1, alpha) - 2 * alpha * b(s + 1, j, alpha) + b(s + 1, j + 1, alpha)\n",
    "    )\n",
    "    return s * aux\n",
    "\n",
    "\n",
    "def D2b(s, j, alpha):  # Eq. 6.71\n",
    "    aux = (\n",
    "        Db(s + 1, j - 1, alpha)\n",
    "        - 2 * alpha * Db(s + 1, j, alpha)\n",
    "        - 2 * b(s + 1, j, alpha)\n",
    "        + Db(s + 1, j + 1, alpha)\n",
    "    )\n",
    "    return s * aux\n",
    "\n",
    "\n",
    "def f27lc(alpha, j):\n",
    "    \"\"\"\n",
    "    f27 in MD p543\n",
    "    (1/2)[−2 j − αD] b^(j)_{1/2}(α) x [e1cos(theta1)]\n",
    "    \"\"\"\n",
    "    return -0.5 * (-2 * (j + 1) * b(0.5, j + 1, alpha) - alpha * Db(0.5, j + 1, alpha))\n",
    "\n",
    "\n",
    "def f31lc(alpha, j):\n",
    "    \"\"\"\n",
    "    f31 in MD p543\n",
    "    (1/2)[−1 + 2 j + αD] b^(j-1)_{1/2}(α) x [e2cos(theta2)]\n",
    "    \"\"\"\n",
    "    return -0.5 * ((-1 + 2 * (j + 1)) * b(0.5, j, alpha) + alpha * Db(0.5, j, alpha))\n",
    "\n",
    "\n",
    "def sqr_ei_lc(alpha):\n",
    "    \"\"\"\n",
    "    MD p275\n",
    "    f3lc x [e1^2 + e2^2]\n",
    "    (1/8)[2α_12 D + α_12^2 D^2]b_{1/2}^(0)\n",
    "    \"\"\"\n",
    "    return 0.25 * alpha * Db(0.5, 0, alpha) + alpha**2 / 8 * 0.5 * (\n",
    "        Db(1.5, 1, alpha)\n",
    "        - 2 * alpha * Db(1.5, 0, alpha)\n",
    "        + Db(1.5, 1, alpha)\n",
    "        - 2 * b(1.5, 0, alpha)\n",
    "    )\n",
    "\n",
    "\n",
    "def eiej_lc(alpha):\n",
    "    \"\"\"\n",
    "    MD p275\n",
    "    f4lc x [e1e2]\n",
    "    (1/4)[2 − 2α_12 D − α_12^2 D^2]b_{1/2}(1)\n",
    "    \"\"\"\n",
    "    # These are the values given in Murray Dermott.\n",
    "    # signs on C and D are to be consistent with Laetitia's notes\n",
    "    # fs1\n",
    "    return (\n",
    "        0.5 * b(0.5, 1, alpha)\n",
    "        - 0.5 * alpha * Db(0.5, 1.0, alpha)\n",
    "        - 0.25\n",
    "        * alpha**2\n",
    "        * 0.5\n",
    "        * (\n",
    "            Db(1.5, 0, alpha)\n",
    "            - 2 * alpha * Db(1.5, 1, alpha)\n",
    "            + Db(1.5, 2, alpha)\n",
    "            - 2 * b(1.5, 1, alpha)\n",
    "        )\n",
    "    )\n"
   ]
  },
  {
   "cell_type": "markdown",
   "metadata": {},
   "source": [
    "# 8/30/23"
   ]
  },
  {
   "cell_type": "code",
   "execution_count": 10,
   "metadata": {},
   "outputs": [
    {
     "data": {
      "image/png": "[encoded data removed]",
      "text/latex": [
       "$\\displaystyle A Q + B R - \\frac{3 Q^{2} j^{\\frac{2}{3}} \\left(j + 1\\right)^{\\frac{4}{3}}}{2} - \\sqrt{2} \\sqrt{R} \\left(\\frac{K f_{2} \\cos{\\left(\\phi \\right)}}{f_{1}} + f_{1} \\cos{\\left(\\phi - \\theta_{0} \\right)}\\right)$"
      ],
      "text/plain": [
       "               2  2/3        4/3                                       \n",
       "            3⋅Q ⋅j   ⋅(j + 1)            ⎛K⋅f₂⋅cos(φ)                 ⎞\n",
       "A⋅Q + B⋅R - ──────────────────── - √2⋅√R⋅⎜─────────── + f₁⋅cos(φ - θ₀)⎟\n",
       "                     2                   ⎝     f₁                     ⎠"
      ]
     },
     "metadata": {},
     "output_type": "display_data"
    }
   ],
   "source": [
    "Q, R, th0, phi = symbols(\"Q R theta_0 phi\")\n",
    "A, B, K, f1, f2, j = symbols(\"A B K f_1 f_2 j\")\n",
    "H_expr = -Rational(3,2)*j**Rational(2,3)*(j+1)**Rational(4,3)*Q**2 + A*Q + B*R - sqrt(2*R)*(f1*cos(phi-th0)+f2/f1*K*cos(phi))\n",
    "display(H_expr)"
   ]
  },
  {
   "cell_type": "code",
   "execution_count": 28,
   "metadata": {},
   "outputs": [],
   "source": [
    "Y0, X0 = symbols(\"Y_0 X_0\")\n",
    "xi, eta = symbols(\"xi eta\")\n",
    "H1_expr = sm.expand_trig(H_expr).subs(sin(th0),-Y0/sqrt(X0**2+Y0**2)).subs(cos(th0),X0/sqrt(X0**2+Y0**2)).subs(Q,Rational(1,2)*(X0**2+Y0**2)).subs(cos(phi),xi/sqrt(xi**2+eta**2)).subs(sin(phi),-eta/sqrt(xi**2+eta**2)).subs(R,Rational(1,2)*(xi**2+eta**2))"
   ]
  },
  {
   "cell_type": "code",
   "execution_count": 35,
   "metadata": {},
   "outputs": [
    {
     "data": {
      "image/png": "[encoded data removed]",
      "text/latex": [
       "$\\displaystyle \\frac{A X_{0}^{2}}{2} + \\frac{A Y_{0}^{2}}{2} + \\frac{B \\eta^{2}}{2} + \\frac{B \\xi^{2}}{2} - \\frac{K f_{2} \\xi}{f_{1}} - \\frac{3 X_{0}^{4} j^{\\frac{5}{3}} \\sqrt[3]{j + 1}}{8} - \\frac{3 X_{0}^{4} j^{\\frac{2}{3}} \\sqrt[3]{j + 1}}{8} - \\frac{3 X_{0}^{2} Y_{0}^{2} j^{\\frac{5}{3}} \\sqrt[3]{j + 1}}{4} - \\frac{3 X_{0}^{2} Y_{0}^{2} j^{\\frac{2}{3}} \\sqrt[3]{j + 1}}{4} - \\frac{X_{0} f_{1} \\xi}{\\sqrt{X_{0}^{2} + Y_{0}^{2}}} - \\frac{3 Y_{0}^{4} j^{\\frac{5}{3}} \\sqrt[3]{j + 1}}{8} - \\frac{3 Y_{0}^{4} j^{\\frac{2}{3}} \\sqrt[3]{j + 1}}{8} - \\frac{Y_{0} \\eta f_{1}}{\\sqrt{X_{0}^{2} + Y_{0}^{2}}}$"
      ],
      "text/plain": [
       "    2       2      2      2                4  5/3 3 _______       4  2/3 3 ___\n",
       "A⋅X₀    A⋅Y₀    B⋅η    B⋅ξ    K⋅f₂⋅ξ   3⋅X₀ ⋅j   ⋅╲╱ j + 1    3⋅X₀ ⋅j   ⋅╲╱ j \n",
       "───── + ───── + ──── + ──── - ────── - ──────────────────── - ────────────────\n",
       "  2       2      2      2       f₁              8                      8      \n",
       "                                                                              \n",
       "                                                                              \n",
       "\n",
       "____       2   2  5/3 3 _______       2   2  2/3 3 _______                    \n",
       "+ 1    3⋅X₀ ⋅Y₀ ⋅j   ⋅╲╱ j + 1    3⋅X₀ ⋅Y₀ ⋅j   ⋅╲╱ j + 1       X₀⋅f₁⋅ξ       \n",
       "──── - ──────────────────────── - ──────────────────────── - ────────────── - \n",
       "                  4                          4                  ___________   \n",
       "                                                               ╱   2     2    \n",
       "                                                             ╲╱  X₀  + Y₀     \n",
       "\n",
       "    4  5/3 3 _______       4  2/3 3 _______                 \n",
       "3⋅Y₀ ⋅j   ⋅╲╱ j + 1    3⋅Y₀ ⋅j   ⋅╲╱ j + 1       Y₀⋅η⋅f₁    \n",
       "──────────────────── - ──────────────────── - ──────────────\n",
       "         8                      8                ___________\n",
       "                                                ╱   2     2 \n",
       "                                              ╲╱  X₀  + Y₀  "
      ]
     },
     "execution_count": 35,
     "metadata": {},
     "output_type": "execute_result"
    }
   ],
   "source": [
    "H1_expr.expand().simplify()"
   ]
  },
  {
   "cell_type": "code",
   "execution_count": 58,
   "metadata": {},
   "outputs": [],
   "source": [
    "a, e, ep, om2e, tau, pom, Phi = symbols(\"alpha e e_p \\omega_{2e} tau varpi Phi\")"
   ]
  },
  {
   "cell_type": "code",
   "execution_count": 59,
   "metadata": {},
   "outputs": [
    {
     "data": {
      "image/png": "[encoded data removed]",
      "text/latex": [
       "$\\displaystyle \\frac{\\sqrt[4]{\\alpha} e e_{p} f_{2} \\cos{\\left(\\omega_{2e} \\tau - \\varpi \\right)}}{f_{1}} + \\frac{\\sqrt{\\alpha} e^{2}}{2} + \\frac{e_{p}^{2} f_{2}^{2}}{2 f_{1}^{2}}$"
      ],
      "text/plain": [
       "4 ___                                          2     2   2\n",
       "╲╱ α ⋅e⋅eₚ⋅f₂⋅cos(\\omega_{2e}⋅τ - varpi)   √α⋅e    eₚ ⋅f₂ \n",
       "──────────────────────────────────────── + ───── + ───────\n",
       "                   f₁                        2          2 \n",
       "                                                    2⋅f₁  "
      ]
     },
     "metadata": {},
     "output_type": "display_data"
    }
   ],
   "source": [
    "Phi_expr = sqrt(a)*e**2/2 + a**Rational(1,4)*e*ep*f2*cos(om2e*tau-pom)/f1 + ep**2*f2**2/2/f1**2\n",
    "display(Phi_expr)"
   ]
  },
  {
   "cell_type": "code",
   "execution_count": 60,
   "metadata": {},
   "outputs": [],
   "source": [
    "e_expr = solve(Phi -Phi_expr,e)[0]"
   ]
  },
  {
   "cell_type": "code",
   "execution_count": 78,
   "metadata": {},
   "outputs": [
    {
     "data": {
      "image/png": "[encoded data removed]",
      "text/latex": [
       "$\\displaystyle - \\frac{\\sqrt[4]{\\alpha} e e_{p} f_{2} \\cos{\\left(\\omega_{2e} \\tau - \\varpi \\right)}}{T_{e} f_{1}} - \\frac{\\sqrt{\\alpha} e^{2}}{T_{e}}$"
      ],
      "text/plain": [
       "  4 ___                                          2\n",
       "  ╲╱ α ⋅e⋅eₚ⋅f₂⋅cos(\\omega_{2e}⋅τ - varpi)   √α⋅e \n",
       "- ──────────────────────────────────────── - ─────\n",
       "                   Tₑ⋅f₁                       Tₑ "
      ]
     },
     "execution_count": 78,
     "metadata": {},
     "output_type": "execute_result"
    }
   ],
   "source": [
    "Te, Tm = symbols(\"T_e T_m\")\n",
    "(Phi_expr.diff(e)*(-e/Te)).expand()"
   ]
  },
  {
   "cell_type": "markdown",
   "metadata": {},
   "source": [
    "## Dissipation: limit $e_p\\ll e$"
   ]
  },
  {
   "cell_type": "code",
   "execution_count": 90,
   "metadata": {},
   "outputs": [
    {
     "data": {
      "image/png": "[encoded data removed]",
      "text/latex": [
       "$\\displaystyle H = A Q + B R - \\frac{3 Q^{2} j^{\\frac{2}{3}} \\left(j + 1\\right)^{\\frac{4}{3}}}{2} - \\sqrt{2} \\sqrt{R} \\left(\\frac{K f_{2} \\cos{\\left(\\phi \\right)}}{f_{1}} + f_{1} \\cos{\\left(\\phi - \\theta_{0} \\right)}\\right)$"
      ],
      "text/plain": [
       "                   2  2/3        4/3                                       \n",
       "                3⋅Q ⋅j   ⋅(j + 1)            ⎛K⋅f₂⋅cos(φ)                 ⎞\n",
       "H = A⋅Q + B⋅R - ──────────────────── - √2⋅√R⋅⎜─────────── + f₁⋅cos(φ - θ₀)⎟\n",
       "                         2                   ⎝     f₁                     ⎠"
      ]
     },
     "metadata": {},
     "output_type": "display_data"
    },
    {
     "data": {
      "image/png": "[encoded data removed]",
      "text/latex": [
       "$\\displaystyle Q = \\frac{\\sqrt{\\alpha} j^{\\frac{2}{3}} - j \\sqrt[3]{j + 1}}{j^{\\frac{5}{3}} \\mu_{p}^{\\frac{2}{3}}}$"
      ],
      "text/plain": [
       "        2/3     3 _______\n",
       "    √α⋅j    - j⋅╲╱ j + 1 \n",
       "Q = ─────────────────────\n",
       "           5/3   2/3     \n",
       "          j   ⋅μₚ        "
      ]
     },
     "metadata": {},
     "output_type": "display_data"
    },
    {
     "data": {
      "image/png": "[encoded data removed]",
      "text/latex": [
       "$\\displaystyle R = \\frac{2 \\sqrt[4]{\\alpha} e e_{p} f_{1} f_{2} \\cos{\\left(\\omega_{2e} \\tau - \\varpi \\right)} + \\sqrt{\\alpha} e^{2} f_{1}^{2} + e_{p}^{2} f_{2}^{2}}{2 f_{1}^{2} \\mu_{p}^{\\frac{2}{3}}}$"
      ],
      "text/plain": [
       "      4 ___                                             2   2     2   2\n",
       "    2⋅╲╱ α ⋅e⋅eₚ⋅f₁⋅f₂⋅cos(\\omega_{2e}⋅τ - varpi) + √α⋅e ⋅f₁  + eₚ ⋅f₂ \n",
       "R = ───────────────────────────────────────────────────────────────────\n",
       "                                    2   2/3                            \n",
       "                                2⋅f₁ ⋅μₚ                               "
      ]
     },
     "metadata": {},
     "output_type": "display_data"
    }
   ],
   "source": [
    "Q, R, th0, phi, H = symbols(\"Q R theta_0 phi H\")\n",
    "A, B, K, f1, f2, j, mup, a, Te, Tm = symbols(\"A B K f_1 f_2 j mu_p alpha T_e T_m\")\n",
    "H_expr = -Rational(3,2)*j**Rational(2,3)*(j+1)**Rational(4,3)*Q**2 + A*Q + B*R - sqrt(2*R)*(f1*cos(phi-th0)+f2/f1*K*cos(phi))\n",
    "R_expr = ((sqrt(a)*e**2/2 + a**Rational(1,4)*e*ep*f2*cos(om2e*tau-pom)/f1 + ep**2*f2**2/2/f1**2)/mup**Rational(2,3)).simplify()\n",
    "Q_expr = ((sqrt(a)/j - 1/(j**Rational(2,3)/(j+1)**Rational(1,3)))/mup**Rational(2,3)).simplify()\n",
    "display(Eq(H,H_expr))\n",
    "display(Eq(Q,Q_expr))\n",
    "display(Eq(R,R_expr))"
   ]
  },
  {
   "cell_type": "code",
   "execution_count": 100,
   "metadata": {},
   "outputs": [
    {
     "data": {
      "image/png": "[encoded data removed]",
      "text/latex": [
       "$\\displaystyle - \\frac{\\sqrt{\\alpha} e^{2}}{T_{e} \\mu_{p}^{\\frac{2}{3}}}$"
      ],
      "text/plain": [
       "     2  \n",
       "-√α⋅e   \n",
       "────────\n",
       "     2/3\n",
       "Tₑ⋅μₚ   "
      ]
     },
     "metadata": {},
     "output_type": "display_data"
    },
    {
     "data": {
      "image/png": "[encoded data removed]",
      "text/latex": [
       "$\\displaystyle - \\frac{\\sqrt{\\alpha} e^{2}}{4 T_{m} \\mu_{p}^{\\frac{2}{3}}} - \\frac{\\sqrt{\\alpha} e^{4}}{4 T_{e} \\mu_{p}^{\\frac{2}{3}}}$"
      ],
      "text/plain": [
       "        2            4   \n",
       "    √α⋅e         √α⋅e    \n",
       "- ────────── - ──────────\n",
       "         2/3          2/3\n",
       "  4⋅Tₘ⋅μₚ      4⋅Tₑ⋅μₚ   "
      ]
     },
     "metadata": {},
     "output_type": "display_data"
    }
   ],
   "source": [
    "display((R_expr.diff(e)*(-e/Te)).subs(ep,0).expand())\n",
    "display((R_expr.diff(a)*(-a/Tm-a*e**2/Te)).subs(ep,0).expand())"
   ]
  },
  {
   "cell_type": "markdown",
   "metadata": {},
   "source": [
    "Limit of $e_p\\ll e\\Rightarrow \\dot Q_{\\rm dis}\\approx -2Q/T_e$ "
   ]
  },
  {
   "cell_type": "code",
   "execution_count": 97,
   "metadata": {},
   "outputs": [
    {
     "data": {
      "image/png": "[encoded data removed]",
      "text/latex": [
       "$\\displaystyle 0$"
      ],
      "text/plain": [
       "0"
      ]
     },
     "execution_count": 97,
     "metadata": {},
     "output_type": "execute_result"
    }
   ],
   "source": [
    "(Q_expr.diff(e)*(-e/Te)).expand()"
   ]
  },
  {
   "cell_type": "code",
   "execution_count": 102,
   "metadata": {},
   "outputs": [
    {
     "data": {
      "image/png": "[encoded data removed]",
      "text/latex": [
       "$\\displaystyle 0.0096548938460563$"
      ],
      "text/plain": [
       "0.009654893846056301"
      ]
     },
     "execution_count": 102,
     "metadata": {},
     "output_type": "execute_result"
    }
   ],
   "source": [
    "(1e-4/3)**(1./3)*0.3"
   ]
  },
  {
   "cell_type": "code",
   "execution_count": 3,
   "metadata": {},
   "outputs": [
    {
     "data": {
      "image/png": "[encoded data removed]",
      "text/latex": [
       "$\\displaystyle \\frac{\\sin{\\left(x \\right)}}{\\cos^{2}{\\left(x \\right)}}$"
      ],
      "text/plain": [
       " sin(x)\n",
       "───────\n",
       "   2   \n",
       "cos (x)"
      ]
     },
     "execution_count": 3,
     "metadata": {},
     "output_type": "execute_result"
    }
   ],
   "source": [
    "x = symbols(\"x\")\n",
    "(1/cos(x)).diff(x)"
   ]
  },
  {
   "cell_type": "code",
   "execution_count": 5,
   "metadata": {},
   "outputs": [
    {
     "name": "stdout",
     "output_type": "stream",
     "text": [
      "0.00223606797749979\n",
      "0.0021544346900318847\n"
     ]
    }
   ],
   "source": [
    "print((1e-4*0.05)**0.5)\n",
    "print(1e-4**(2./3))"
   ]
  },
  {
   "cell_type": "code",
   "execution_count": 9,
   "metadata": {},
   "outputs": [
    {
     "name": "stdout",
     "output_type": "stream",
     "text": [
      "0.00032863353450309965\n",
      "0.00033019272488946284\n"
     ]
    }
   ],
   "source": [
    "print((6e-6*0.018)**0.5)\n",
    "print(6e-6**(2./3))"
   ]
  },
  {
   "cell_type": "code",
   "execution_count": 8,
   "metadata": {},
   "outputs": [
    {
     "data": {
      "text/plain": [
       "0.0181712059283214"
      ]
     },
     "execution_count": 8,
     "metadata": {},
     "output_type": "execute_result"
    }
   ],
   "source": [
    "(6e-6)**(1./3)"
   ]
  },
  {
   "cell_type": "code",
   "execution_count": null,
   "metadata": {},
   "outputs": [],
   "source": []
  }
 ],
 "metadata": {
  "kernelspec": {
   "display_name": "Science",
   "language": "python",
   "name": "python3"
  },
  "language_info": {
   "codemirror_mode": {
    "name": "ipython",
    "version": 3
   },
   "file_extension": ".py",
   "mimetype": "text/x-python",
   "name": "python",
   "nbconvert_exporter": "python",
   "pygments_lexer": "ipython3",
   "version": "3.11.5"
  },
  "orig_nbformat": 4
 },
 "nbformat": 4,
 "nbformat_minor": 2
}
