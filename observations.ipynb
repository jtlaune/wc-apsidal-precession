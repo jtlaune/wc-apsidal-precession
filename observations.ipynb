{
 "cells": [
  {
   "cell_type": "markdown",
   "metadata": {},
   "source": [
    "# \"Highly dissipative\", \"low eccentricity\" -- \"low mass\"\n",
    "| **Parameter**                       | **Value**                  |\n",
    "| ----------------------------------- | -------------------------- |\n",
    "| $T_e$                               | $10^4\\times(2\\pi)$         |\n",
    "| $T_m$                               | $-2\\times10^7\\times(2\\pi)$ |\n",
    "| $T$                                 | $4\\times10^6\\times(2\\pi)$  |\n",
    "| $T_{\\rm measure}$                   | $3\\times10^6\\times(2\\pi)$  |\n",
    "| $h$                                 | $0.012$                    |\n",
    "| $\\omega$                            | $0$                        |\n",
    "| $\\mu_p$                             | $6\\times10^{-6}$           |\n",
    "| $a_0$, $a_{\\rm min}$, $a_{\\rm max}$ | $0.75, 0.7, 0.77$          |\n",
    "| $\\lambda_0$                         | $0$                        |\n",
    "| $\\varpi_{p,0}$, $\\varpi_{0}$        | $0,0$                      |\n",
    "| $e_0$                               | 0.001                      |"
   ]
  },
  {
   "cell_type": "code",
   "execution_count": 2,
   "metadata": {},
   "outputs": [
    {
     "data": {
      "text/plain": [
       "636619.783227144"
      ]
     },
     "execution_count": 2,
     "metadata": {},
     "output_type": "execute_result"
    }
   ],
   "source": [
    "4e6/(2*3.1415926)"
   ]
  },
  {
   "cell_type": "markdown",
   "metadata": {},
   "source": [
    "## Representative\n",
    "| $e_p$ | $\\omega_{p}$ |     | $a$        | $\\theta_1$ | $\\theta_2$ | $\\hat\\theta-\\varpi_p$ | $\\phi$    | $\\varpi_p-\\varpi$ |\n",
    "| ----- | ------------ | --- | ---------- | ---------- | ---------- | --------------------- | --------- | ----------------- |\n",
    "| 0.001 |              |     | 0.76289+0  | 181+5      |            | 186.0+.4              |           |                   |\n",
    "| 0.01  |              |     | 0.7624+1   |            |            | 180+8                 |           | 2+20              |\n",
    "| 0.02  |              |     | 0.76111+5  |            |            |                       | 143+2     | 57+3              |\n",
    "| 0.05  |              |     | 0.7603+6   |            |            |                       | 173+8     |                   |"
   ]
  },
  {
   "cell_type": "markdown",
   "metadata": {},
   "source": [
    "\n",
    "### Extras\n",
    "| $e_p$ | $\\omega_{p}$ |     | $a$        | $\\theta_1$ | $\\theta_2$ | $\\hat\\theta-\\varpi_p$ | $\\phi$    | $\\varpi_p-\\varpi$ |\n",
    "| ----- | ------------ | --- | ---------- | ---------- | ---------- | --------------------- | --------- | ----------------- |\n",
    "| 0.005 |              |     | 0.76286+.4 | 181+31     |            | 181+3                 |           |                   |\n",
    "| 0.004 |              |     | 0.76287+.3 | 181+23     |            | 181+1                 |           |                   |\n",
    "| 0.03  |              |     | 0.760+0    |            |            |                       | 160.3+0.7 | 102+2             |\n",
    "| 0.1   |              |     | 0.760+0    |            |            |                       | 178+4     |                   |"
   ]
  },
  {
   "cell_type": "markdown",
   "metadata": {},
   "source": [
    "## $e_p=0.001$\n",
    "| $e_p$ | $\\omega_{p}$ |     | $a$       | $\\theta_1$ | $\\theta_2$ | $\\hat\\theta-\\varpi_p$ | $\\phi$ | $\\varpi_p-\\varpi$ |\n",
    "| ----- | ------------ | --- | --------- | ---------- | ---------- | --------------------- | ------ | ----------------- |\n",
    "| 0.001 | 0.0001       |     | 0.76289+0 | 181+6      |            | 180.6+0.4             |        |                   |\n",
    "| 0.001 | 0.0004       |     | 0.7628+2  |            |            |                       |        |                   |\n",
    "| 0.001 | 0.001        |     | 0.76289+3 | 181+7      |            | 181+13                |        |                   |"
   ]
  },
  {
   "cell_type": "markdown",
   "metadata": {},
   "source": [
    "- $\\theta_1$ and $\\hat\\theta-\\varpi_p$ librate for $\\omega_p=0$\n",
    "- Cannot yet see the angle that librates for the captured case $\\omega_p=0.0004$\n",
    "- Did not observe escape, even for large $\\omega_p$"
   ]
  },
  {
   "cell_type": "code",
   "execution_count": 1,
   "metadata": {},
   "outputs": [
    {
     "data": {
      "text/plain": [
       "0.006"
      ]
     },
     "execution_count": 1,
     "metadata": {},
     "output_type": "execute_result"
    }
   ],
   "source": [
    "6e-6/0.001"
   ]
  },
  {
   "cell_type": "markdown",
   "metadata": {},
   "source": [
    "## $e_p=0.01$\n",
    "| $e_p$ | $\\omega_{p}$ |     | $a$         | $\\theta_1$ | $\\theta_2$ | $\\hat\\theta-\\varpi_p$ | $\\phi$ | $\\varpi_p-\\varpi$ |\n",
    "| ----- | ------------ | --- | ----------- | ---------- | ---------- | --------------------- | ------ | ----------------- |\n",
    "| 0.01  | 0.00001      |     | 0.76273+0.9 |            |            | 180+3                 |        | 2+19              |\n",
    "| 0.01  | 0.0001       |     | 0.7621+2    |            |            |                       | 169+16 | 161+34            |\n",
    "| 0.01  | 0.0003       |     | 0.7626+2    |            |            |                       | 177+21 |                   |\n",
    "| 0.01  | 0.0008       |     |             |            |            |                       |        |                   |\n",
    "| 0.01  | 0.0012       |     | 0.7629+2    |            |            |                       | 180+24 |                   |\n",
    "| 0.01  | 0.002        |     | 0.7629+1    | 181+16     |            |                       | 180+27 |                   |"
   ]
  },
  {
   "cell_type": "markdown",
   "metadata": {},
   "source": [
    "- $\\hat\\theta-\\varpi_p$ and $\\varpi_p-\\varpi$ librate for $\\omega_p=0$ (case studied in Laune et al. 2022)"
   ]
  },
  {
   "cell_type": "markdown",
   "metadata": {},
   "source": [
    "## $e_p=0.02$\n",
    "| $e_p$ | $\\omega_{p}$ |     | $a$         | $\\theta_1$ | $\\theta_2$ | $\\hat\\theta-\\varpi_p$ | $\\phi$  | $\\varpi_p-\\varpi$ |\n",
    "| ----- | ------------ | --- | ----------- | ---------- | ---------- | --------------------- | ------- | ----------------- |\n",
    "| 0.02  | 0.0001       |     | 0.7620+2    |            |            |                       | 175+8   | 167+23            |\n",
    "| 0.02  | 0.0002       |     | 0.7623+2    |            |            |                       | 178+10  |                   |\n",
    "| 0.02  | 0.0006       |     |             |            |            |                       |         |                   |\n",
    "| 0.02  | 0.003        |     | 0.7629+2    |            |            |                       | 180+15  |                   |\n",
    "| 0.02  | 0.005        |     | 0.7629+1    | 181+6      |            |                       | 180+14  |                   |\n",
    "| 0.02  | 0.1          |     | 0.75264+0.5 | 180.0+2    |            |                       | 180.0+3 |                   |"
   ]
  },
  {
   "cell_type": "markdown",
   "metadata": {},
   "source": [
    "- $\\phi$ and $\\varpi_p-\\varpi$ librate for $\\omega_p=0$\n",
    "- $\\omega_p$ disrupts $\\varpi_p-\\varpi$ but can still be captured\n",
    "- For large $\\omega_p$, $\\theta_1$ librates"
   ]
  },
  {
   "cell_type": "markdown",
   "metadata": {},
   "source": [
    "## $e_p=0.05$\n",
    "| $e_p$ | $\\omega_{p}$ |     | $a$      | $\\theta_1$ | $\\theta_2$ | $\\hat\\theta-\\varpi_p$ | $\\phi$ | $\\varpi_p-\\varpi$ |\n",
    "| ----- | ------------ | --- | -------- | ---------- | ---------- | --------------------- | ------ | ----------------- |\n",
    "| 0.05  | 0.00003      |     | 0.7611+2 |            |            |                       | 177+3  |                   |\n",
    "| 0.05  | 0.0001       |     | 0.7618+3 |            |            |                       | 178+3  | 172+15            |\n",
    "| 0.05  | 0.0004       |     | 0.7624+4 |            |            |                       | 180+5  |                   |\n",
    "| 0.05  | 0.0008       |     |          |            |            |                       |        |                   |\n",
    "| 0.05  | 0.005        |     | 0.7629+3 | 181+16     |            |                       | 180+5  |                   |"
   ]
  },
  {
   "cell_type": "markdown",
   "metadata": {},
   "source": [
    "- $\\phi$ librates for $\\omega_p=0$\n",
    "- $\\omega_p$ can make $\\varpi_p-\\varpi$ librate"
   ]
  },
  {
   "cell_type": "markdown",
   "metadata": {},
   "source": []
  }
 ],
 "metadata": {
  "kernelspec": {
   "display_name": "Science",
   "language": "python",
   "name": "python3"
  },
  "language_info": {
   "codemirror_mode": {
    "name": "ipython",
    "version": 3
   },
   "file_extension": ".py",
   "mimetype": "text/x-python",
   "name": "python",
   "nbconvert_exporter": "python",
   "pygments_lexer": "ipython3",
   "version": "3.12.0"
  }
 },
 "nbformat": 4,
 "nbformat_minor": 2
}
