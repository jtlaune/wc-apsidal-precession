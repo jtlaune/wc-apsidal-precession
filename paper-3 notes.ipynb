{
 "cells": [
  {
   "cell_type": "markdown",
   "metadata": {},
   "source": [
    "- Changes in migration rate is due to AM conservation of damping + secular eccentricity driving.\n",
    "\n",
    "- Tried computing secular Laplace Coefficients (LCs) live for mu3\n",
    "  - Increased integration time by ~50%\n",
    "  - Did not change outcome (escape from resonance for long Te) - but looks like *may* have changed time spent in resonance?\n",
    "\n",
    "- If I hold the m3 secular Laplace Coefficients constant at $a_1=\\alpha_0$ and $a_2=1$, something weird happens after sticking in resonance for a long time\n",
    "  - Eccentricity breaks out of libration around equilibrium and begins growing\n",
    "  - Larger libration in $\\alpha$\n",
    "  - Appears to migrate faster\n",
    "  - Effect disappears if I calculate the LCs with osculating SMAs\n",
    "\n",
    "- How to do the capture problem if GP secular e driving e1,e2 at capture? Random sampling from the time-averaged distribution? Check Michael's paper?\n",
    "  - Looks like there is an equilibrium w/ damping...\n",
    "  - Let's see what happens at capture time\n",
    "  - Current params: changing Te/Tm to 0.1 from 0.01 changes capture outcome.. but looks like e1,e2 hadn't settled down by capture time.. going to change e10,e20\n",
    "    - Changing e10,e20 did not change much\n",
    "      - Could be from varpi0s? Maybe try solving for equilibrium eccentricities and varpis?\n",
    "      - Resonance capture  can be temporary but for many thousands of orbits\n",
    "    - Going to try changing n10\n",
    "\n",
    "- With the fiducial Te/Tm<0.01, nothing interesting happens. But having weaker eccentricity dapming can interrupt capture for reasonable mu3 parameters.\n",
    "  - Maybe do the more realistic eccentricity damping?\n",
    "\n",
    "- For mu3=1e-3, a3=5, e3=0.3, Tm=1e6, Te=1e4 librations grow in amplitude and they escape from resonance around a1=0.2-0.4 or so..\n",
    "  - Also appears to occur without mu3 and without secular m1-m2\n",
    "  - Possible numerical effect or something?\n",
    "  - I wonder if it's overstable libration like Goldreich & Schlichting 2014?"
   ]
  },
  {
   "cell_type": "markdown",
   "metadata": {},
   "source": [
    "- Realistic ecc damping\n",
    "  - h=0.01 mu3=1e-2 a3=5 e3=0.3 Tm/P20=1e6\n",
    "    - 3e-6, 6e-6 capture\n",
    "    - 3e-5, 6e-5 capture"
   ]
  },
  {
   "cell_type": "markdown",
   "metadata": {},
   "source": [
    "- Very slow migration $\\Rightarrow$ weak ecc damping\n",
    "  - 1 and 2 $M_\\oplus$ planets\n",
    "  - mu3=1e-2 a3=5 e3=0.3 Tm/P20=1e8\n",
    "    - h=0.1 capture\n",
    "    - h=0.01 capture\n",
    "    - h=0.01 a3=3 disrupt\n",
    "    - h=0.1 a3=3 disrupt"
   ]
  },
  {
   "cell_type": "markdown",
   "metadata": {},
   "source": [
    "- Close in  giant planet with Cresswell & Nelson Tes\n",
    "  - 1 and 2 $M_\\oplus$ planets\n",
    "  - mu3=1e-2 a3=3 e3=0.3 Tm/P20=1e7 h=0.1\n",
    "    - disrupt\n",
    "  - mu3=1e-3\n",
    "    - disrupt\n",
    "  - mu3=1e-3 a3=4\n",
    "    - capture\n",
    "  - mu3=1e-3 e3=0.2\n",
    "    - disrupt\n",
    "  - mu3=1e-3 e3=0.1\n",
    "    - capture\n",
    "  - mu3=1e-2 e3=0.1\n",
    "    - capture\n",
    "  - mu3=1e-3 e3=0.2 with constant Te's\n",
    "    - capture\n",
    "  - mu3=1e-3 e3=0.3 with constant Te's\n",
    "    - capture\n",
    "  - mu3=1e-3 e3=0.2 h=0.03\n",
    "    - disrupt"
   ]
  },
  {
   "cell_type": "markdown",
   "metadata": {},
   "source": [
    "So if i want to do gas off after capture into resonance, for instability don't i need to do full Nbody? or is orbit crossing eccentricities sufficient?"
   ]
  },
  {
   "cell_type": "markdown",
   "metadata": {},
   "source": []
  },
  {
   "cell_type": "code",
   "execution_count": null,
   "metadata": {},
   "outputs": [],
   "source": []
  }
 ],
 "metadata": {
  "kernelspec": {
   "display_name": "Science",
   "language": "python",
   "name": "python3"
  },
  "language_info": {
   "codemirror_mode": {
    "name": "ipython",
    "version": 3
   },
   "file_extension": ".py",
   "mimetype": "text/x-python",
   "name": "python",
   "nbconvert_exporter": "python",
   "pygments_lexer": "ipython3",
   "version": "3.12.0"
  }
 },
 "nbformat": 4,
 "nbformat_minor": 2
}
