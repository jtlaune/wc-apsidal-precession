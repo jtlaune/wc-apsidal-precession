{
 "cells": [
  {
   "cell_type": "markdown",
   "metadata": {},
   "source": []
  },
  {
   "cell_type": "markdown",
   "metadata": {},
   "source": [
    "# Preamble"
   ]
  },
  {
   "cell_type": "code",
   "execution_count": 1,
   "metadata": {},
   "outputs": [
    {
     "name": "stdout",
     "output_type": "stream",
     "text": [
      "IPython console for SymPy 1.12 (Python 3.12.0-64-bit) (ground types: python)\n",
      "\n",
      "These commands were executed:\n",
      ">>> from sympy import *\n",
      ">>> x, y, z, t = symbols('x y z t')\n",
      ">>> k, m, n = symbols('k m n', integer=True)\n",
      ">>> f, g, h = symbols('f g h', cls=Function)\n",
      ">>> init_printing()\n",
      "\n",
      "Documentation can be found at https://docs.sympy.org/1.12/\n",
      "\n"
     ]
    }
   ],
   "source": [
    "from sympy import init_session\n",
    "import matplotlib as mpl\n",
    "import matplotlib.pyplot as plt\n",
    "from mpl_styles import analytic\n",
    "import numpy as npy\n",
    "import scipy as sp\n",
    "%matplotlib widget\n",
    "import os, glob, pathlib\n",
    "from loky import get_reusable_executor\n",
    "import dill as pickle\n",
    "from sympy.utilities.lambdify import lambdastr\n",
    "init_session()"
   ]
  },
  {
   "cell_type": "code",
   "execution_count": 2,
   "metadata": {},
   "outputs": [],
   "source": [
    "# Positive constant\n",
    "M, G, q, mu1, mu2, m1, m2, b1, b2, j, b1_3_2, b2_3_2 = symbols(\n",
    "    r\"M G q mu_1 mu_2 m_1, m_2, beta_1 beta_2 j b_{3/2}^{(1)}(\\alpha_0) b_{3/2}^{(2)}(\\alpha_0)\",\n",
    "    positive=True,\n",
    ")\n",
    "# Positive timescales\n",
    "Tm1, Tm2, Te1, Te2 = symbols(\n",
    "    r\"T_{m\\,1} T_{m\\,2} T_{e\\,1} T_{e\\,2}\",\n",
    "    positive=True,\n",
    ")\n",
    "# Precession frequencies\n",
    "om1, om2 = symbols(\"omega_1 omega_2\")\n",
    "# Angles of time\n",
    "l1, l2, pom1, pom2, th1, th2, th0 = symbols(\"l_1 l_2 varpi_1 varpi_2 theta_1 theta_2 theta_0\")\n",
    "# Positive functions of time\n",
    "e1, e2, a1, a2, n1, n2, alpha = symbols(\"e_1 e_2 a_1 a_2 n_1 n_2 alpha\", positive=True)\n",
    "# Actions\n",
    "Gam1, Gam2, Lam1, Lam2 = symbols(\"Gamma_1 Gamma_2 Lambda_1 Lambda_2\", positive=True)\n",
    "# Derivatives\n",
    "dth1, dth2 = symbols(r\"\\dot\\theta_1 \\dot\\theta_2\")"
   ]
  },
  {
   "cell_type": "code",
   "execution_count": 3,
   "metadata": {},
   "outputs": [],
   "source": [
    "EXPRS = {}\n",
    "EXPRS[th1] = (j + 1) * l2 - j * l1 - pom1\n",
    "EXPRS[th2] = (j + 1) * l2 - j * l1 - pom2\n",
    "EXPRS[Lam1] = q*sqrt(a1)\n",
    "EXPRS[Lam2] = sqrt(a2)\n",
    "EXPRS[Gam1] = Rational(1,2)*q*sqrt(a1)*e1**2\n",
    "EXPRS[Gam2] = Rational(1,2)*sqrt(a2)*e2**2"
   ]
  },
  {
   "cell_type": "code",
   "execution_count": 4,
   "metadata": {},
   "outputs": [
    {
     "data": {
      "image/png": "[encoded data removed]",
      "text/latex": [
       "$\\displaystyle \\frac{\\Lambda_{1}^{2}}{q^{2}}$"
      ],
      "text/plain": [
       "  2\n",
       "Λ₁ \n",
       "───\n",
       "  2\n",
       " q "
      ]
     },
     "metadata": {},
     "output_type": "display_data"
    },
    {
     "data": {
      "image/png": "[encoded data removed]",
      "text/latex": [
       "$\\displaystyle \\frac{\\sqrt{2} \\sqrt{\\Gamma_{1}}}{\\sqrt{\\Lambda_{1}}}$"
      ],
      "text/plain": [
       "     ____\n",
       "√2⋅╲╱ Γ₁ \n",
       "─────────\n",
       "    ____ \n",
       "  ╲╱ Λ₁  "
      ]
     },
     "metadata": {},
     "output_type": "display_data"
    },
    {
     "data": {
      "image/png": "[encoded data removed]",
      "text/latex": [
       "$\\displaystyle \\Lambda_{2}^{2}$"
      ],
      "text/plain": [
       "  2\n",
       "Λ₂ "
      ]
     },
     "metadata": {},
     "output_type": "display_data"
    },
    {
     "data": {
      "image/png": "[encoded data removed]",
      "text/latex": [
       "$\\displaystyle \\frac{\\sqrt{2} \\sqrt{\\Gamma_{2}}}{\\sqrt{\\Lambda_{2}}}$"
      ],
      "text/plain": [
       "     ____\n",
       "√2⋅╲╱ Γ₂ \n",
       "─────────\n",
       "    ____ \n",
       "  ╲╱ Λ₂  "
      ]
     },
     "metadata": {},
     "output_type": "display_data"
    }
   ],
   "source": [
    "CANON = {}\n",
    "CANON[a1] = solve(EXPRS[Lam1]-Lam1,a1)[0]\n",
    "CANON[e1] = solve(EXPRS[Gam1]-Gam1,e1)[0].subs(a1,CANON[a1])\n",
    "CANON[a2] = solve(EXPRS[Lam2]-Lam2,a2)[0]\n",
    "CANON[e2] = solve(EXPRS[Gam2]-Gam2,e2)[0].subs(a2,CANON[a2])\n",
    "display(CANON[a1])\n",
    "display(CANON[e1])\n",
    "display(CANON[a2])\n",
    "display(CANON[e2])"
   ]
  },
  {
   "cell_type": "code",
   "execution_count": 5,
   "metadata": {},
   "outputs": [],
   "source": [
    "def term_simplify(expr):\n",
    "    run = 0\n",
    "    for arg in expr.args:\n",
    "        run += arg.simplify()\n",
    "    return(run)\n",
    "\n",
    "def term_multiply(expr, mult):\n",
    "    run = 0\n",
    "    for term in expr.args:\n",
    "        run += term*mult\n",
    "    term_simplify(run)\n",
    "    return(run)\n",
    "\n",
    "def chain_rule(expr, var):\n",
    "    run = expr.diff(var)\n",
    "    for key in EXPRS.keys():\n",
    "        run += expr.diff(key)*EXPRS[key].diff(var)\n",
    "    for key in CANON.keys():\n",
    "        run += expr.diff(key)*CANON[key].diff(var)\n",
    "    return(run)\n",
    "\n",
    "def to_orbelts(expr):\n",
    "    for var in [Lam1, Lam2, Gam1, Gam2]:\n",
    "        expr = expr.subs(var,EXPRS[var])\n",
    "    return(expr)"
   ]
  },
  {
   "cell_type": "markdown",
   "metadata": {},
   "source": [
    "- Assume $a_2\\approx a_{2,0}[=1]$ in denominator of perturbation term.\n",
    "- $\\beta_1=-f_{27}(\\alpha_0)$ and $\\beta_2=f_{31}(\\alpha_0)$ "
   ]
  },
  {
   "cell_type": "code",
   "execution_count": 6,
   "metadata": {},
   "outputs": [
    {
     "data": {
      "image/png": "[encoded data removed]",
      "text/latex": [
       "$\\displaystyle - \\Gamma_{1} \\omega_{1} - \\Gamma_{2} \\omega_{2} + \\frac{\\beta_{1} e_{1} \\mu_{1} \\cos{\\left(\\theta_{1} \\right)}}{a_{2}} - \\frac{\\beta_{2} e_{2} \\mu_{1} \\cos{\\left(\\theta_{2} \\right)}}{a_{2}} - \\frac{1}{2 a_{2}} - \\frac{q}{2 a_{1}}$"
      ],
      "text/plain": [
       "                 β₁⋅e₁⋅μ₁⋅cos(θ₁)   β₂⋅e₂⋅μ₁⋅cos(θ₂)    1      q  \n",
       "-Γ₁⋅ω₁ - Γ₂⋅ω₂ + ──────────────── - ──────────────── - ──── - ────\n",
       "                        a₂                 a₂          2⋅a₂   2⋅a₁"
      ]
     },
     "execution_count": 6,
     "metadata": {},
     "output_type": "execute_result"
    }
   ],
   "source": [
    "H_expr = -Rational(1,2)*q/a1 - Rational(1,2)*1/a2 + mu1*b1*e1*cos(th1)/a2 - mu1*b2*e2*cos(th2)/a2 - Gam1*om1 - Gam2*om2 \n",
    "H_expr"
   ]
  },
  {
   "cell_type": "markdown",
   "metadata": {},
   "source": [
    "Doing 2 different R_i for each planet to reduce typos over from Murray & Dermott."
   ]
  },
  {
   "cell_type": "markdown",
   "metadata": {},
   "source": [
    "Units are in $[n_{2,0}]$, $[a_{2,0}]$, and $[M]$"
   ]
  },
  {
   "cell_type": "code",
   "execution_count": 7,
   "metadata": {},
   "outputs": [
    {
     "data": {
      "image/png": "[encoded data removed]",
      "text/latex": [
       "$\\displaystyle \\frac{a_{1}^{2} \\alpha^{2} b_{3/2}^{(1)}(\\alpha_0) e_{1}^{2} \\mu_{2} n_{1}^{2}}{8} - \\frac{a_{1}^{2} \\alpha^{2} b_{3/2}^{(2)}(\\alpha_0) e_{1} e_{2} \\mu_{2} n_{1}^{2} \\cos{\\left(\\varpi_{1} - \\varpi_{2} \\right)}}{4}$"
      ],
      "text/plain": [
       "  2  2                            2      2     2  2                           \n",
       "a₁ ⋅α ⋅b_{3/2}_0)__{(1)}(\\alpha⋅e₁ ⋅μ₂⋅n₁    a₁ ⋅α ⋅b_{3/2}_0)__{(2)}(\\alpha⋅e\n",
       "────────────────────────────────────────── - ─────────────────────────────────\n",
       "                    8                                                        4\n",
       "\n",
       "          2                     \n",
       "₁⋅e₂⋅μ₂⋅n₁ ⋅cos(varpi₁ - varpi₂)\n",
       "────────────────────────────────\n",
       "                                "
      ]
     },
     "metadata": {},
     "output_type": "display_data"
    },
    {
     "data": {
      "image/png": "[encoded data removed]",
      "text/latex": [
       "$\\displaystyle \\frac{a_{2}^{2} \\alpha b_{3/2}^{(1)}(\\alpha_0) e_{2}^{2} \\mu_{1} n_{2}^{2}}{8} - \\frac{a_{2}^{2} \\alpha b_{3/2}^{(2)}(\\alpha_0) e_{1} e_{2} \\mu_{1} n_{2}^{2} \\cos{\\left(\\varpi_{1} - \\varpi_{2} \\right)}}{4}$"
      ],
      "text/plain": [
       "  2                              2      2     2                               \n",
       "a₂ ⋅α⋅b_{3/2}_0)__{(1)}(\\alpha⋅e₂ ⋅μ₁⋅n₂    a₂ ⋅α⋅b_{3/2}_0)__{(2)}(\\alpha⋅e₁⋅\n",
       "───────────────────────────────────────── - ──────────────────────────────────\n",
       "                    8                                                      4  \n",
       "\n",
       "        2                     \n",
       "e₂⋅μ₁⋅n₂ ⋅cos(varpi₁ - varpi₂)\n",
       "──────────────────────────────\n",
       "                              "
      ]
     },
     "metadata": {},
     "output_type": "display_data"
    }
   ],
   "source": [
    "#A11 = Rational(1,4)*n1*m2/(M+m1)*alpha*alpha*b1_3_2\n",
    "#A12 = -Rational(1,4)*n1*m2/(M+m1)*alpha*alpha*b2_3_2\n",
    "#A21 = -Rational(1,4)*n2*m1/(M+m2)*alpha*b2_3_2\n",
    "#A22 = Rational(1,4)*n2*m1/(M+m2)*alpha*b1_3_2\n",
    "A11 = Rational(1,4)*n1*mu2*alpha*alpha*b1_3_2\n",
    "A12 = -Rational(1,4)*n1*mu2*alpha*alpha*b2_3_2\n",
    "A21 = -Rational(1,4)*n2*mu1*alpha*b2_3_2\n",
    "A22 = Rational(1,4)*n2*mu1*alpha*b1_3_2\n",
    "\n",
    "R1 = (n1*a1**2*(Rational(1,2)*A11*e1**2 + A12*e1*e2*cos(pom1-pom2))).expand()\n",
    "R2 = (n2*a2**2*(Rational(1,2)*A22*e2**2 + A21*e1*e2*cos(pom1-pom2))).expand()\n",
    "#term_multiply(R1.expand().subs(n1**2,G*M*m1/a1**3),1/(G*M*m2)).subs({m1:mu1*M,m2:mu2*M}).cancel()\n",
    "display(R1)\n",
    "display(R2)"
   ]
  },
  {
   "cell_type": "markdown",
   "metadata": {},
   "source": [
    "# Equations of motion"
   ]
  },
  {
   "cell_type": "markdown",
   "metadata": {},
   "source": [
    "## Resonant"
   ]
  },
  {
   "cell_type": "markdown",
   "metadata": {},
   "source": [
    "### $\\dot\\Lambda_1$, $\\dot\\Lambda_2$"
   ]
  },
  {
   "cell_type": "code",
   "execution_count": 8,
   "metadata": {},
   "outputs": [
    {
     "data": {
      "image/png": "[encoded data removed]",
      "text/latex": [
       "$\\displaystyle - \\frac{\\beta_{1} e_{1} j \\mu_{1} \\sin{\\left(\\theta_{1} \\right)}}{a_{2}} + \\frac{\\beta_{2} e_{2} j \\mu_{1} \\sin{\\left(\\theta_{2} \\right)}}{a_{2}}$"
      ],
      "text/plain": [
       "  β₁⋅e₁⋅j⋅μ₁⋅sin(θ₁)   β₂⋅e₂⋅j⋅μ₁⋅sin(θ₂)\n",
       "- ────────────────── + ──────────────────\n",
       "          a₂                   a₂        "
      ]
     },
     "execution_count": 8,
     "metadata": {},
     "output_type": "execute_result"
    }
   ],
   "source": [
    "Lam1_dot_res = -chain_rule(H_expr,l1)\n",
    "Lam1_dot_res"
   ]
  },
  {
   "cell_type": "code",
   "execution_count": 9,
   "metadata": {},
   "outputs": [
    {
     "data": {
      "image/png": "[encoded data removed]",
      "text/latex": [
       "$\\displaystyle \\frac{\\beta_{1} e_{1} \\mu_{1} \\left(j + 1\\right) \\sin{\\left(\\theta_{1} \\right)}}{a_{2}} - \\frac{\\beta_{2} e_{2} \\mu_{1} \\left(j + 1\\right) \\sin{\\left(\\theta_{2} \\right)}}{a_{2}}$"
      ],
      "text/plain": [
       "β₁⋅e₁⋅μ₁⋅(j + 1)⋅sin(θ₁)   β₂⋅e₂⋅μ₁⋅(j + 1)⋅sin(θ₂)\n",
       "──────────────────────── - ────────────────────────\n",
       "           a₂                         a₂           "
      ]
     },
     "execution_count": 9,
     "metadata": {},
     "output_type": "execute_result"
    }
   ],
   "source": [
    "Lam2_dot_res = -chain_rule(H_expr,l2)\n",
    "Lam2_dot_res"
   ]
  },
  {
   "cell_type": "markdown",
   "metadata": {},
   "source": [
    "### $\\dot n_1$, $\\dot n_2$"
   ]
  },
  {
   "cell_type": "code",
   "execution_count": null,
   "metadata": {},
   "outputs": [
    {
     "data": {
      "image/png": "[encoded data removed]",
      "text/latex": [
       "$\\displaystyle \\frac{3 \\beta_{1} e_{1} j \\mu_{1} \\sin{\\left(\\theta_{1} \\right)}}{a_{1}^{2} a_{2} q} - \\frac{3 \\beta_{2} e_{2} j \\mu_{1} \\sin{\\left(\\theta_{2} \\right)}}{a_{1}^{2} a_{2} q}$"
      ],
      "text/plain": [
       "3⋅β₁⋅e₁⋅j⋅μ₁⋅sin(θ₁)   3⋅β₂⋅e₂⋅j⋅μ₁⋅sin(θ₂)\n",
       "──────────────────── - ────────────────────\n",
       "        2                      2           \n",
       "      a₁ ⋅a₂⋅q               a₁ ⋅a₂⋅q      "
      ]
     },
     "execution_count": 34,
     "metadata": {},
     "output_type": "execute_result"
    }
   ],
   "source": [
    "n1_dot_res = term_multiply(Lam1_dot_res, -3*q**3 / Lam1**4).subs(Lam1,EXPRS[Lam1])\n",
    "n1_dot_res"
   ]
  },
  {
   "cell_type": "code",
   "execution_count": 35,
   "metadata": {},
   "outputs": [
    {
     "data": {
      "image/png": "[encoded data removed]",
      "text/latex": [
       "$\\displaystyle - \\frac{3 \\beta_{1} e_{1} \\mu_{1} \\left(j + 1\\right) \\sin{\\left(\\theta_{1} \\right)}}{a_{2}^{3}} + \\frac{3 \\beta_{2} e_{2} \\mu_{1} \\left(j + 1\\right) \\sin{\\left(\\theta_{2} \\right)}}{a_{2}^{3}}$"
      ],
      "text/plain": [
       "  3⋅β₁⋅e₁⋅μ₁⋅(j + 1)⋅sin(θ₁)   3⋅β₂⋅e₂⋅μ₁⋅(j + 1)⋅sin(θ₂)\n",
       "- ────────────────────────── + ──────────────────────────\n",
       "               3                            3            \n",
       "             a₂                           a₂             "
      ]
     },
     "execution_count": 35,
     "metadata": {},
     "output_type": "execute_result"
    }
   ],
   "source": [
    "n2_dot_res = term_multiply(Lam2_dot_res, -3 / Lam2**4).subs(Lam2,EXPRS[Lam2])\n",
    "n2_dot_res"
   ]
  },
  {
   "cell_type": "markdown",
   "metadata": {},
   "source": [
    "### $\\dot\\Gamma_1$, $\\dot\\Gamma_2$"
   ]
  },
  {
   "cell_type": "code",
   "execution_count": 12,
   "metadata": {},
   "outputs": [
    {
     "data": {
      "image/png": "[encoded data removed]",
      "text/latex": [
       "$\\displaystyle \\frac{\\beta_{1} e_{1} \\mu_{1} \\sin{\\left(\\theta_{1} \\right)}}{a_{2}}$"
      ],
      "text/plain": [
       "β₁⋅e₁⋅μ₁⋅sin(θ₁)\n",
       "────────────────\n",
       "       a₂       "
      ]
     },
     "execution_count": 12,
     "metadata": {},
     "output_type": "execute_result"
    }
   ],
   "source": [
    "Gam1_dot_res = chain_rule(H_expr,pom1)\n",
    "Gam1_dot_res"
   ]
  },
  {
   "cell_type": "code",
   "execution_count": 13,
   "metadata": {},
   "outputs": [
    {
     "data": {
      "image/png": "[encoded data removed]",
      "text/latex": [
       "$\\displaystyle - \\frac{\\beta_{2} e_{2} \\mu_{1} \\sin{\\left(\\theta_{2} \\right)}}{a_{2}}$"
      ],
      "text/plain": [
       "-β₂⋅e₂⋅μ₁⋅sin(θ₂) \n",
       "──────────────────\n",
       "        a₂        "
      ]
     },
     "execution_count": 13,
     "metadata": {},
     "output_type": "execute_result"
    }
   ],
   "source": [
    "Gam2_dot_res = chain_rule(H_expr,pom2)\n",
    "Gam2_dot_res"
   ]
  },
  {
   "cell_type": "markdown",
   "metadata": {},
   "source": [
    "### $\\dot\\varpi_1$, $\\dot\\varpi_2$"
   ]
  },
  {
   "cell_type": "code",
   "execution_count": 14,
   "metadata": {},
   "outputs": [
    {
     "data": {
      "image/png": "[encoded data removed]",
      "text/latex": [
       "$\\displaystyle - \\frac{\\alpha \\beta_{1} \\mu_{1} n_{1} \\cos{\\left(\\theta_{1} \\right)}}{e_{1} q} + \\omega_{1}$"
      ],
      "text/plain": [
       "  α⋅β₁⋅μ₁⋅n₁⋅cos(θ₁)     \n",
       "- ────────────────── + ω₁\n",
       "         e₁⋅q            "
      ]
     },
     "execution_count": 14,
     "metadata": {},
     "output_type": "execute_result"
    }
   ],
   "source": [
    "pom1_dot_res = to_orbelts(-chain_rule(H_expr,Gam1)).subs(a2, a1/alpha).subs(a1,n1**Rational(-2,3))\n",
    "pom1_dot_res"
   ]
  },
  {
   "cell_type": "code",
   "execution_count": 15,
   "metadata": {},
   "outputs": [
    {
     "data": {
      "image/png": "[encoded data removed]",
      "text/latex": [
       "$\\displaystyle \\frac{\\beta_{2} \\mu_{1} n_{2} \\cos{\\left(\\theta_{2} \\right)}}{e_{2}} + \\omega_{2}$"
      ],
      "text/plain": [
       "β₂⋅μ₁⋅n₂⋅cos(θ₂)     \n",
       "──────────────── + ω₂\n",
       "       e₂            "
      ]
     },
     "execution_count": 15,
     "metadata": {},
     "output_type": "execute_result"
    }
   ],
   "source": [
    "pom2_dot_res = to_orbelts(-chain_rule(H_expr,Gam2)).subs(a2,n2**Rational(-2,3))\n",
    "pom2_dot_res"
   ]
  },
  {
   "cell_type": "markdown",
   "metadata": {},
   "source": [
    "### $\\dot\\lambda_1$, $\\dot\\lambda_2$"
   ]
  },
  {
   "cell_type": "code",
   "execution_count": 16,
   "metadata": {},
   "outputs": [
    {
     "data": {
      "image/png": "[encoded data removed]",
      "text/latex": [
       "$\\displaystyle - \\frac{\\alpha \\beta_{1} e_{1} \\mu_{1} n_{1} \\cos{\\left(\\theta_{1} \\right)}}{2 q} + n_{1}$"
      ],
      "text/plain": [
       "  α⋅β₁⋅e₁⋅μ₁⋅n₁⋅cos(θ₁)     \n",
       "- ───────────────────── + n₁\n",
       "           2⋅q              "
      ]
     },
     "execution_count": 16,
     "metadata": {},
     "output_type": "execute_result"
    }
   ],
   "source": [
    "l1_dot_res = to_orbelts(chain_rule(H_expr,Lam1)).subs(a2, a1/alpha).subs(a1,n1**Rational(-2,3))\n",
    "l1_dot_res"
   ]
  },
  {
   "cell_type": "code",
   "execution_count": 17,
   "metadata": {},
   "outputs": [
    {
     "data": {
      "image/png": "[encoded data removed]",
      "text/latex": [
       "$\\displaystyle \\frac{\\beta_{2} e_{2} \\mu_{1} n_{2} \\cos{\\left(\\theta_{2} \\right)}}{2} + n_{2}$"
      ],
      "text/plain": [
       "β₂⋅e₂⋅μ₁⋅n₂⋅cos(θ₂)     \n",
       "─────────────────── + n₂\n",
       "         2              "
      ]
     },
     "execution_count": 17,
     "metadata": {},
     "output_type": "execute_result"
    }
   ],
   "source": [
    "l2_dot_res = to_orbelts(chain_rule(H_expr.subs(b2/a2,b2*alpha/a1).subs(b1/a2,b1*a1/alpha),Lam2)).subs(a1,alpha*a2).subs(a2,n2**Rational(-2,3))\n",
    "l2_dot_res"
   ]
  },
  {
   "cell_type": "markdown",
   "metadata": {},
   "source": [
    "### $\\dot e_1$, $\\dot e_2$"
   ]
  },
  {
   "cell_type": "code",
   "execution_count": 18,
   "metadata": {},
   "outputs": [
    {
     "data": {
      "image/png": "[encoded data removed]",
      "text/latex": [
       "$\\displaystyle \\frac{\\alpha \\beta_{1} e_{1}^{2} j \\mu_{1} n_{1} \\sin{\\left(\\theta_{1} \\right)}}{2 q} + \\frac{\\alpha \\beta_{1} \\mu_{1} n_{1} \\sin{\\left(\\theta_{1} \\right)}}{q} - \\frac{\\alpha \\beta_{2} e_{1} e_{2} j \\mu_{1} n_{1} \\sin{\\left(\\theta_{2} \\right)}}{2 q}$"
      ],
      "text/plain": [
       "       2                                                                  \n",
       "α⋅β₁⋅e₁ ⋅j⋅μ₁⋅n₁⋅sin(θ₁)   α⋅β₁⋅μ₁⋅n₁⋅sin(θ₁)   α⋅β₂⋅e₁⋅e₂⋅j⋅μ₁⋅n₁⋅sin(θ₂)\n",
       "──────────────────────── + ────────────────── - ──────────────────────────\n",
       "          2⋅q                      q                       2⋅q            "
      ]
     },
     "execution_count": 18,
     "metadata": {},
     "output_type": "execute_result"
    }
   ],
   "source": [
    "#edot = Gamdot/(Lam*e) - term_multiply(Lamdot, Rational(1,2)/Lam*e)\n",
    "e1_dot_res = to_orbelts(Gam1_dot_res/(Lam1*e1) - term_multiply(Lam1_dot_res, Rational(1,2)/Lam1*e1)).subs(a2,a1/alpha).subs(a1,n1**Rational(-2,3))\n",
    "e1_dot_res"
   ]
  },
  {
   "cell_type": "code",
   "execution_count": 19,
   "metadata": {},
   "outputs": [
    {
     "data": {
      "image/png": "[encoded data removed]",
      "text/latex": [
       "$\\displaystyle - \\frac{\\beta_{1} e_{1} e_{2} \\mu_{1} n_{2} \\left(j + 1\\right) \\sin{\\left(\\theta_{1} \\right)}}{2} + \\frac{\\beta_{2} e_{2}^{2} \\mu_{1} n_{2} \\left(j + 1\\right) \\sin{\\left(\\theta_{2} \\right)}}{2} - \\beta_{2} \\mu_{1} n_{2} \\sin{\\left(\\theta_{2} \\right)}$"
      ],
      "text/plain": [
       "                                        2                                     \n",
       "  β₁⋅e₁⋅e₂⋅μ₁⋅n₂⋅(j + 1)⋅sin(θ₁)   β₂⋅e₂ ⋅μ₁⋅n₂⋅(j + 1)⋅sin(θ₂)               \n",
       "- ────────────────────────────── + ──────────────────────────── - β₂⋅μ₁⋅n₂⋅sin\n",
       "                2                               2                             \n",
       "\n",
       "    \n",
       "    \n",
       "(θ₂)\n",
       "    "
      ]
     },
     "execution_count": 19,
     "metadata": {},
     "output_type": "execute_result"
    }
   ],
   "source": [
    "e2_dot_res = to_orbelts(Gam2_dot_res/(Lam2*e2) - term_multiply(Lam2_dot_res, Rational(1,2)/Lam2*e2)).subs(a2,n2**Rational(-2,3))\n",
    "e2_dot_res"
   ]
  },
  {
   "cell_type": "markdown",
   "metadata": {},
   "source": [
    "### $\\dot\\theta_0$"
   ]
  },
  {
   "cell_type": "code",
   "execution_count": 20,
   "metadata": {},
   "outputs": [
    {
     "data": {
      "image/png": "[encoded data removed]",
      "text/latex": [
       "$\\displaystyle \\frac{\\alpha \\beta_{1} e_{1} j \\mu_{1} n_{1} \\cos{\\left(\\theta_{1} \\right)}}{2 q} + \\frac{\\beta_{2} e_{2} \\mu_{1} n_{2} \\left(j + 1\\right) \\cos{\\left(\\theta_{2} \\right)}}{2} - j n_{1} + n_{2} \\left(j + 1\\right)$"
      ],
      "text/plain": [
       "α⋅β₁⋅e₁⋅j⋅μ₁⋅n₁⋅cos(θ₁)   β₂⋅e₂⋅μ₁⋅n₂⋅(j + 1)⋅cos(θ₂)                    \n",
       "─────────────────────── + ─────────────────────────── - j⋅n₁ + n₂⋅(j + 1)\n",
       "          2⋅q                          2                                 "
      ]
     },
     "execution_count": 20,
     "metadata": {},
     "output_type": "execute_result"
    }
   ],
   "source": [
    "th0_dot_res = term_multiply(l2_dot_res, j+1) - term_multiply(l1_dot_res,j)\n",
    "th0_dot_res"
   ]
  },
  {
   "cell_type": "markdown",
   "metadata": {},
   "source": [
    "## Secular"
   ]
  },
  {
   "cell_type": "markdown",
   "metadata": {},
   "source": [
    "### $\\dot e_{1,\\rm sec}$, $\\dot e_{2,\\rm sec}$"
   ]
  },
  {
   "cell_type": "code",
   "execution_count": 21,
   "metadata": {},
   "outputs": [
    {
     "data": {
      "image/png": "[encoded data removed]",
      "text/latex": [
       "$\\displaystyle - \\frac{a_{1}^{2} b_{3/2}^{(2)}(\\alpha_0) e_{2} \\mu_{2} n_{1} \\sin{\\left(\\varpi_{1} - \\varpi_{2} \\right)}}{4 a_{2}^{2}}$"
      ],
      "text/plain": [
       "   2                                                        \n",
       "-a₁ ⋅b_{3/2}_0)__{(2)}(\\alpha⋅e₂⋅μ₂⋅n₁⋅sin(varpi₁ - varpi₂) \n",
       "────────────────────────────────────────────────────────────\n",
       "                               2                            \n",
       "                           4⋅a₂                             "
      ]
     },
     "execution_count": 21,
     "metadata": {},
     "output_type": "execute_result"
    }
   ],
   "source": [
    "e1_dot_sec = -R1.diff(pom1).subs(alpha,a1/a2)/(n1*a1**2*e1)\n",
    "e1_dot_sec"
   ]
  },
  {
   "cell_type": "code",
   "execution_count": 22,
   "metadata": {},
   "outputs": [
    {
     "data": {
      "image/png": "[encoded data removed]",
      "text/latex": [
       "$\\displaystyle \\frac{a_{1} b_{3/2}^{(2)}(\\alpha_0) e_{1} \\mu_{1} n_{2} \\sin{\\left(\\varpi_{1} - \\varpi_{2} \\right)}}{4 a_{2}}$"
      ],
      "text/plain": [
       "a₁⋅b_{3/2}_0)__{(2)}(\\alpha⋅e₁⋅μ₁⋅n₂⋅sin(varpi₁ - varpi₂)\n",
       "─────────────────────────────────────────────────────────\n",
       "                           4⋅a₂                          "
      ]
     },
     "execution_count": 22,
     "metadata": {},
     "output_type": "execute_result"
    }
   ],
   "source": [
    "e2_dot_sec = -R2.diff(pom2).subs(alpha,a1/a2)/(n2*a2**2*e2)\n",
    "e2_dot_sec"
   ]
  },
  {
   "cell_type": "markdown",
   "metadata": {},
   "source": [
    "### $\\dot \\varpi_{1,\\rm sec}$, $\\dot \\varpi_{2,\\rm sec}$"
   ]
  },
  {
   "cell_type": "code",
   "execution_count": 23,
   "metadata": {},
   "outputs": [
    {
     "data": {
      "image/png": "[encoded data removed]",
      "text/latex": [
       "$\\displaystyle \\frac{a_{1}^{2} b_{3/2}^{(1)}(\\alpha_0) \\mu_{2} n_{1}}{4 a_{2}^{2}} - \\frac{a_{1}^{2} b_{3/2}^{(2)}(\\alpha_0) e_{2} \\mu_{2} n_{1} \\cos{\\left(\\varpi_{1} - \\varpi_{2} \\right)}}{4 a_{2}^{2} e_{1}}$"
      ],
      "text/plain": [
       "  2                                    2                                      \n",
       "a₁ ⋅b_{3/2}_0)__{(1)}(\\alpha⋅μ₂⋅n₁   a₁ ⋅b_{3/2}_0)__{(2)}(\\alpha⋅e₂⋅μ₂⋅n₁⋅cos\n",
       "────────────────────────────────── - ─────────────────────────────────────────\n",
       "                  2                                               2           \n",
       "              4⋅a₂                                            4⋅a₂ ⋅e₁        \n",
       "\n",
       "                 \n",
       "(varpi₁ - varpi₂)\n",
       "─────────────────\n",
       "                 \n",
       "                 "
      ]
     },
     "execution_count": 23,
     "metadata": {},
     "output_type": "execute_result"
    }
   ],
   "source": [
    "pom1_dot_sec = term_multiply(R1.diff(e1),1/(n1*a1**2*e1)).subs(alpha,a1/a2)\n",
    "pom1_dot_sec"
   ]
  },
  {
   "cell_type": "code",
   "execution_count": 24,
   "metadata": {},
   "outputs": [
    {
     "data": {
      "image/png": "[encoded data removed]",
      "text/latex": [
       "$\\displaystyle \\frac{a_{1} b_{3/2}^{(1)}(\\alpha_0) \\mu_{1} n_{2}}{4 a_{2}} - \\frac{a_{1} b_{3/2}^{(2)}(\\alpha_0) e_{1} \\mu_{1} n_{2} \\cos{\\left(\\varpi_{1} - \\varpi_{2} \\right)}}{4 a_{2} e_{2}}$"
      ],
      "text/plain": [
       "a₁⋅b_{3/2}_0)__{(1)}(\\alpha⋅μ₁⋅n₂   a₁⋅b_{3/2}_0)__{(2)}(\\alpha⋅e₁⋅μ₁⋅n₂⋅cos(v\n",
       "───────────────────────────────── - ──────────────────────────────────────────\n",
       "               4⋅a₂                                          4⋅a₂⋅e₂          \n",
       "\n",
       "arpi₁ - varpi₂)\n",
       "───────────────\n",
       "               "
      ]
     },
     "execution_count": 24,
     "metadata": {},
     "output_type": "execute_result"
    }
   ],
   "source": [
    "pom2_dot_sec = term_multiply(R2.diff(e2),1/(n2*a2**2*e2)).subs(alpha,a1/a2)\n",
    "pom2_dot_sec"
   ]
  },
  {
   "cell_type": "markdown",
   "metadata": {},
   "source": [
    "## Dissipative"
   ]
  },
  {
   "cell_type": "markdown",
   "metadata": {},
   "source": [
    "### $\\dot a_{1,\\rm dis}$, $\\dot a_{2,\\rm dis}$"
   ]
  },
  {
   "cell_type": "code",
   "execution_count": 25,
   "metadata": {},
   "outputs": [
    {
     "data": {
      "image/png": "[encoded data removed]",
      "text/latex": [
       "$\\displaystyle - \\frac{a_{1}}{T_{m,1}} - \\frac{2 a_{1} e_{1}^{2}}{T_{e,1}}$"
      ],
      "text/plain": [
       "                   2\n",
       "     a₁     2⋅a₁⋅e₁ \n",
       "- ─────── - ────────\n",
       "  T_{m,1}   T_{e,1} "
      ]
     },
     "execution_count": 25,
     "metadata": {},
     "output_type": "execute_result"
    }
   ],
   "source": [
    "a1_dot_dis = term_multiply(-1/Tm1 - 2*e1**2/Te1, a1)\n",
    "a1_dot_dis"
   ]
  },
  {
   "cell_type": "code",
   "execution_count": 26,
   "metadata": {},
   "outputs": [
    {
     "data": {
      "image/png": "[encoded data removed]",
      "text/latex": [
       "$\\displaystyle - \\frac{a_{2}}{T_{m,2}} - \\frac{2 a_{2} e_{2}^{2}}{T_{e,2}}$"
      ],
      "text/plain": [
       "                   2\n",
       "     a₂     2⋅a₂⋅e₂ \n",
       "- ─────── - ────────\n",
       "  T_{m,2}   T_{e,2} "
      ]
     },
     "execution_count": 26,
     "metadata": {},
     "output_type": "execute_result"
    }
   ],
   "source": [
    "a2_dot_dis = term_multiply(-1/Tm2 - 2*e2**2/Te2, a2)\n",
    "a2_dot_dis"
   ]
  },
  {
   "cell_type": "markdown",
   "metadata": {},
   "source": [
    "### $\\dot n_{1,\\rm dis}$, $\\dot n_{2,\\rm dis}$"
   ]
  },
  {
   "cell_type": "code",
   "execution_count": 30,
   "metadata": {},
   "outputs": [
    {
     "data": {
      "image/png": "[encoded data removed]",
      "text/latex": [
       "$\\displaystyle \\frac{3 n_{1}}{2 T_{m,1}} + \\frac{3 e_{1}^{2} n_{1}}{T_{e,1}}$"
      ],
      "text/plain": [
       "                2   \n",
       "   3⋅n₁     3⋅e₁ ⋅n₁\n",
       "───────── + ────────\n",
       "2⋅T_{m,1}   T_{e,1} "
      ]
     },
     "execution_count": 30,
     "metadata": {},
     "output_type": "execute_result"
    }
   ],
   "source": [
    "n1_dot_dis = term_multiply(a1_dot_dis, -Rational(3,2)*n1/a1)\n",
    "n1_dot_dis"
   ]
  },
  {
   "cell_type": "code",
   "execution_count": 31,
   "metadata": {},
   "outputs": [
    {
     "data": {
      "image/png": "[encoded data removed]",
      "text/latex": [
       "$\\displaystyle \\frac{3 n_{2}}{2 T_{m,2}} + \\frac{3 e_{2}^{2} n_{2}}{T_{e,2}}$"
      ],
      "text/plain": [
       "                2   \n",
       "   3⋅n₂     3⋅e₂ ⋅n₂\n",
       "───────── + ────────\n",
       "2⋅T_{m,2}   T_{e,2} "
      ]
     },
     "execution_count": 31,
     "metadata": {},
     "output_type": "execute_result"
    }
   ],
   "source": [
    "n2_dot_dis = term_multiply(a2_dot_dis, -Rational(3,2)*n2/a2)\n",
    "n2_dot_dis"
   ]
  },
  {
   "cell_type": "markdown",
   "metadata": {},
   "source": [
    "### $\\dot e_{1,\\rm dis}$, $\\dot e_{2,\\rm dis}$"
   ]
  },
  {
   "cell_type": "code",
   "execution_count": 27,
   "metadata": {},
   "outputs": [
    {
     "data": {
      "image/png": "[encoded data removed]",
      "text/latex": [
       "$\\displaystyle - \\frac{e_{1}}{T_{e,1}}$"
      ],
      "text/plain": [
       "  -e₁  \n",
       "───────\n",
       "T_{e,1}"
      ]
     },
     "execution_count": 27,
     "metadata": {},
     "output_type": "execute_result"
    }
   ],
   "source": [
    "e1_dot_dis = -e1/Te1\n",
    "e1_dot_dis"
   ]
  },
  {
   "cell_type": "code",
   "execution_count": 28,
   "metadata": {},
   "outputs": [
    {
     "data": {
      "image/png": "[encoded data removed]",
      "text/latex": [
       "$\\displaystyle - \\frac{e_{2}}{T_{e,2}}$"
      ],
      "text/plain": [
       "  -e₂  \n",
       "───────\n",
       "T_{e,2}"
      ]
     },
     "execution_count": 28,
     "metadata": {},
     "output_type": "execute_result"
    }
   ],
   "source": [
    "e2_dot_dis = -e2/Te2\n",
    "e2_dot_dis"
   ]
  },
  {
   "cell_type": "markdown",
   "metadata": {},
   "source": [
    "# RHS for integrations"
   ]
  },
  {
   "cell_type": "code",
   "execution_count": 37,
   "metadata": {},
   "outputs": [
    {
     "data": {
      "image/png": "[encoded data removed]",
      "text/latex": [
       "$\\displaystyle \\left[ 9.54929658551372 \\cdot 10^{-5} e_{1}^{2} n_{1} + \\frac{0.000463660251502976 e_{1} n_{1}^{\\frac{4}{3}} n_{2}^{\\frac{2}{3}} \\sin{\\left(\\theta_{0} - \\varpi_{1} \\right)}}{q} - \\frac{0.000568695222380864 e_{2} n_{1}^{\\frac{4}{3}} n_{2}^{\\frac{2}{3}} \\sin{\\left(\\theta_{0} - \\varpi_{2} \\right)}}{q} + 4.77464829275686 \\cdot 10^{-7} n_{1}, \\  - 0.000695490377254464 e_{1} n_{2}^{2} \\sin{\\left(\\theta_{0} - \\varpi_{1} \\right)} + 4.77464829275686 \\cdot 10^{-5} e_{2}^{2} n_{2} + 0.000853042833571296 e_{2} n_{2}^{2} \\sin{\\left(\\theta_{0} - \\varpi_{2} \\right)} + 2.38732414637843 \\cdot 10^{-7} n_{2}, \\  \\frac{7.72767085838294 \\cdot 10^{-5} \\alpha e_{1}^{2} n_{1} \\sin{\\left(\\theta_{0} - \\varpi_{1} \\right)}}{q} - \\frac{9.47825370634774 \\cdot 10^{-5} \\alpha e_{1} e_{2} n_{1} \\sin{\\left(\\theta_{0} - \\varpi_{2} \\right)}}{q} + \\frac{7.72767085838294 \\cdot 10^{-5} \\alpha n_{1} \\sin{\\left(\\theta_{0} - \\varpi_{1} \\right)}}{q} - 3.18309886183791 \\cdot 10^{-5} e_{1} - \\frac{0.00026214266854872 e_{2} n_{2}^{\\frac{4}{3}} \\sin{\\left(\\varpi_{1} - \\varpi_{2} \\right)}}{\\sqrt[3]{n_{1}}}, \\  - 0.000115915062875744 e_{1} e_{2} n_{2} \\sin{\\left(\\theta_{0} - \\varpi_{1} \\right)} + \\frac{0.00013107133427436 e_{1} n_{2}^{\\frac{5}{3}} \\sin{\\left(\\varpi_{1} - \\varpi_{2} \\right)}}{n_{1}^{\\frac{2}{3}}} + 0.000142173805595216 e_{2}^{2} n_{2} \\sin{\\left(\\theta_{0} - \\varpi_{2} \\right)} - 1.59154943091895 \\cdot 10^{-5} e_{2} - 9.47825370634774 \\cdot 10^{-5} n_{2} \\sin{\\left(\\theta_{0} - \\varpi_{2} \\right)}, \\  \\frac{7.72767085838294 \\cdot 10^{-5} \\alpha e_{1} n_{1} \\cos{\\left(\\theta_{0} - \\varpi_{1} \\right)}}{q} + 0.000142173805595216 e_{2} n_{2} \\cos{\\left(\\theta_{0} - \\varpi_{2} \\right)} - 2 n_{1} + 3 n_{2}, \\  - \\frac{7.72767085838294 \\cdot 10^{-5} \\alpha n_{1} \\cos{\\left(\\theta_{0} - \\varpi_{1} \\right)}}{e_{1} q} + \\omega_{1} + \\frac{0.000302119015511579 n_{2}^{\\frac{4}{3}}}{\\sqrt[3]{n_{1}}} - \\frac{0.00026214266854872 e_{2} n_{2}^{\\frac{4}{3}} \\cos{\\left(\\varpi_{1} - \\varpi_{2} \\right)}}{e_{1} \\sqrt[3]{n_{1}}}, \\  - \\frac{0.00013107133427436 e_{1} n_{2}^{\\frac{5}{3}} \\cos{\\left(\\varpi_{1} - \\varpi_{2} \\right)}}{e_{2} n_{1}^{\\frac{2}{3}}} + \\omega_{2} + \\frac{0.000151059507755789 n_{2}^{\\frac{5}{3}}}{n_{1}^{\\frac{2}{3}}} + \\frac{9.47825370634774 \\cdot 10^{-5} n_{2} \\cos{\\left(\\theta_{0} - \\varpi_{2} \\right)}}{e_{2}}\\right]$"
      ],
      "text/plain": [
       "⎡                                                       4/3   2/3             \n",
       "⎢                      2      0.000463660251502976⋅e₁⋅n₁   ⋅n₂   ⋅sin(θ₀ - var\n",
       "⎢9.54929658551372e-5⋅e₁ ⋅n₁ + ────────────────────────────────────────────────\n",
       "⎢                                                      q                      \n",
       "⎣                                                                             \n",
       "\n",
       "                                 4/3   2/3                                    \n",
       "pi₁)   0.000568695222380864⋅e₂⋅n₁   ⋅n₂   ⋅sin(θ₀ - varpi₂)                   \n",
       "──── - ──────────────────────────────────────────────────── + 4.77464829275686\n",
       "                                q                                             \n",
       "                                                                              \n",
       "\n",
       "                                                                              \n",
       "                                    2                                         \n",
       "e-7⋅n₁, - 0.000695490377254464⋅e₁⋅n₂ ⋅sin(θ₀ - varpi₁) + 4.77464829275686e-5⋅e\n",
       "                                                                              \n",
       "                                                                              \n",
       "\n",
       "                                                                              \n",
       " 2                                2                                           \n",
       "₂ ⋅n₂ + 0.000853042833571296⋅e₂⋅n₂ ⋅sin(θ₀ - varpi₂) + 2.38732414637843e-7⋅n₂,\n",
       "                                                                              \n",
       "                                                                              \n",
       "\n",
       "                         2                                                    \n",
       " 7.72767085838294e-5⋅α⋅e₁ ⋅n₁⋅sin(θ₀ - varpi₁)   9.47825370634774e-5⋅α⋅e₁⋅e₂⋅n\n",
       " ───────────────────────────────────────────── - ─────────────────────────────\n",
       "                       q                                                q     \n",
       "                                                                              \n",
       "\n",
       "                                                                              \n",
       "₁⋅sin(θ₀ - varpi₂)   7.72767085838294e-5⋅α⋅n₁⋅sin(θ₀ - varpi₁)                \n",
       "────────────────── + ───────────────────────────────────────── - 3.18309886183\n",
       "                                         q                                    \n",
       "                                                                              \n",
       "\n",
       "                                     4/3                                      \n",
       "            0.00026214266854872⋅e₂⋅n₂   ⋅sin(varpi₁ - varpi₂)                 \n",
       "791e-5⋅e₁ - ─────────────────────────────────────────────────, -0.000115915062\n",
       "                                  3 ____                                      \n",
       "                                  ╲╱ n₁                                       \n",
       "\n",
       "                                                            5/3               \n",
       "                                   0.00013107133427436⋅e₁⋅n₂   ⋅sin(varpi₁ - v\n",
       "875744⋅e₁⋅e₂⋅n₂⋅sin(θ₀ - varpi₁) + ───────────────────────────────────────────\n",
       "                                                           2/3                \n",
       "                                                         n₁                   \n",
       "\n",
       "                                                                              \n",
       "arpi₂)                          2                                             \n",
       "────── + 0.000142173805595216⋅e₂ ⋅n₂⋅sin(θ₀ - varpi₂) - 1.59154943091895e-5⋅e₂\n",
       "                                                                              \n",
       "                                                                              \n",
       "\n",
       "                                                                              \n",
       "                                            7.72767085838294e-5⋅α⋅e₁⋅n₁⋅cos(θ₀\n",
       " - 9.47825370634774e-5⋅n₂⋅sin(θ₀ - varpi₂), ──────────────────────────────────\n",
       "                                                                 q            \n",
       "                                                                              \n",
       "\n",
       "                                                                              \n",
       " - varpi₁)                                                                7.72\n",
       "────────── + 0.000142173805595216⋅e₂⋅n₂⋅cos(θ₀ - varpi₂) - 2⋅n₁ + 3⋅n₂, - ────\n",
       "                                                                              \n",
       "                                                                              \n",
       "\n",
       "                                                                    4/3       \n",
       "767085838294e-5⋅α⋅n₁⋅cos(θ₀ - varpi₁)        0.000302119015511579⋅n₂      0.00\n",
       "───────────────────────────────────── + ω₁ + ────────────────────────── - ────\n",
       "               e₁⋅q                                    3 ____                 \n",
       "                                                       ╲╱ n₁                  \n",
       "\n",
       "                     4/3                                                  5/3 \n",
       "026214266854872⋅e₂⋅n₂   ⋅cos(varpi₁ - varpi₂)    0.00013107133427436⋅e₁⋅n₂   ⋅\n",
       "─────────────────────────────────────────────, - ─────────────────────────────\n",
       "                   3 ____                                                  2/3\n",
       "                e₁⋅╲╱ n₁                                              e₂⋅n₁   \n",
       "\n",
       "                                                   5/3                        \n",
       "cos(varpi₁ - varpi₂)        0.000151059507755789⋅n₂      9.47825370634774e-5⋅n\n",
       "──────────────────── + ω₂ + ────────────────────────── + ─────────────────────\n",
       "                                        2/3                                 e₂\n",
       "                                      n₁                                      \n",
       "\n",
       "                  ⎤\n",
       "₂⋅cos(θ₀ - varpi₂)⎥\n",
       "──────────────────⎥\n",
       "                  ⎥\n",
       "                  ⎦"
      ]
     },
     "execution_count": 37,
     "metadata": {},
     "output_type": "execute_result"
    }
   ],
   "source": [
    "convs = {\n",
    "    th1: th0-pom1,\n",
    "    th2: th0-pom2,\n",
    "    a1:n1**-Rational(2,3),\n",
    "    a2:n2**-Rational(2,3)\n",
    "}\n",
    "params = {\n",
    "    j: 2,\n",
    "    mu1: 5e-5,\n",
    "    mu2: 1e-4,\n",
    "    b1: 1.5455341716765871,\n",
    "    b2: 1.8956507412695471,\n",
    "    b1_3_2: 12.08476062046314,\n",
    "    b2_3_2: 10.485706741948807,\n",
    "    Tm1: 0.5e6 * 2 * np.pi, # n_{2,0}^{-1}\n",
    "    Tm2: 1e6 * 2 * np.pi, \n",
    "}\n",
    "params[Te1] = params[Tm1] * 0.01\n",
    "params[Te2] = params[Tm2] * 0.01\n",
    "\n",
    "alpha0val = (params[j] / (params[j] + 1)) ** (2.0 / 3)\n",
    "\n",
    "funs = [\n",
    "    iterfun.subs(convs).subs(params)\n",
    "    for iterfun in [\n",
    "        n1_dot_res + n1_dot_dis,\n",
    "        n2_dot_res + n2_dot_dis,\n",
    "        e1_dot_res + e1_dot_sec + e1_dot_dis,\n",
    "        e2_dot_res + e2_dot_sec + e2_dot_dis,\n",
    "        th0_dot_res,\n",
    "        pom1_dot_res + pom1_dot_sec,\n",
    "        pom2_dot_res + pom2_dot_sec,\n",
    "        ]\n",
    "]\n",
    "funs"
   ]
  },
  {
   "cell_type": "code",
   "execution_count": null,
   "metadata": {},
   "outputs": [],
   "source": []
  }
 ],
 "metadata": {
  "kernelspec": {
   "display_name": "Science",
   "language": "python",
   "name": "python3"
  },
  "language_info": {
   "codemirror_mode": {
    "name": "ipython",
    "version": 3
   },
   "file_extension": ".py",
   "mimetype": "text/x-python",
   "name": "python",
   "nbconvert_exporter": "python",
   "pygments_lexer": "ipython3",
   "version": "3.12.0"
  }
 },
 "nbformat": 4,
 "nbformat_minor": 2
}
