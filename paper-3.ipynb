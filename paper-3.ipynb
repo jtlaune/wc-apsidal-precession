{
 "cells": [
  {
   "cell_type": "markdown",
   "metadata": {},
   "source": []
  },
  {
   "cell_type": "markdown",
   "metadata": {},
   "source": [
    "# Preamble"
   ]
  },
  {
   "cell_type": "code",
   "execution_count": 1,
   "metadata": {},
   "outputs": [
    {
     "name": "stdout",
     "output_type": "stream",
     "text": [
      "IPython console for SymPy 1.12 (Python 3.12.0-64-bit) (ground types: python)\n",
      "\n",
      "These commands were executed:\n",
      ">>> from sympy import *\n",
      ">>> x, y, z, t = symbols('x y z t')\n",
      ">>> k, m, n = symbols('k m n', integer=True)\n",
      ">>> f, g, h = symbols('f g h', cls=Function)\n",
      ">>> init_printing()\n",
      "\n",
      "Documentation can be found at https://docs.sympy.org/1.12/\n",
      "\n"
     ]
    }
   ],
   "source": [
    "from sympy import init_session\n",
    "import matplotlib as mpl\n",
    "import matplotlib.pyplot as plt\n",
    "from mpl_styles import analytic\n",
    "import numpy as npy\n",
    "import scipy as sp\n",
    "%matplotlib widget\n",
    "import os, glob, pathlib\n",
    "from loky import get_reusable_executor\n",
    "import dill as pickle\n",
    "from sympy.utilities.lambdify import lambdastr\n",
    "init_session()"
   ]
  },
  {
   "cell_type": "code",
   "execution_count": 2,
   "metadata": {},
   "outputs": [],
   "source": [
    "EXPRS = {}"
   ]
  },
  {
   "cell_type": "code",
   "execution_count": 3,
   "metadata": {},
   "outputs": [],
   "source": [
    "def term_simplify(expr):\n",
    "    run = 0\n",
    "    for arg in expr.args:\n",
    "        run += arg.simplify()\n",
    "    return(run)\n",
    "\n",
    "def term_multiply(expr, mult):\n",
    "    run = 0\n",
    "    for term in expr.args:\n",
    "        run += term*mult\n",
    "    term_simplify(run)\n",
    "    return(run)"
   ]
  },
  {
   "cell_type": "code",
   "execution_count": 34,
   "metadata": {},
   "outputs": [],
   "source": [
    "# Positive constant\n",
    "M, G, q, mu1, mu2, m1, m2, b1, b2, j, tm0, te0, b1_3_2, b2_3_2 = symbols(\n",
    "    r\"M G q mu_1 mu_2 m_1, m_2, beta_1 beta_2 j T_{m\\,0} T_{e\\,0} b_{3/2}^{(1)}(\\alpha_0) b_{3/2}^{(2)}(\\alpha_0)\",\n",
    "    positive=True,\n",
    ")\n",
    "# Precession frequencies\n",
    "om1, om2 = symbols(\"omega_1 omega_2\")\n",
    "# Angles of time\n",
    "l1, l2, pom1, pom2, th1, th2 = symbols(\"l_1 l_2 varpi_1 varpi_2 theta_1 theta_2\")\n",
    "# Positive functions of time\n",
    "e1, e2, a1, a2, n1, n2, alpha = symbols(\"e_1 e_2 a_1 a_2 n_1 n_2 alpha\", positive=True)\n",
    "# Actions\n",
    "Gam1, Gam2, Lam1, Lam2 = symbols(\"Gamma_1 Gamma_2 Lambda_1 Lambda_2\", positive=True)\n",
    "# Derivatives\n",
    "dth1, dth2 = symbols(r\"\\dot\\theta_1 \\dot\\theta_2\")"
   ]
  },
  {
   "cell_type": "code",
   "execution_count": 35,
   "metadata": {},
   "outputs": [],
   "source": [
    "EXPRS[th1] = (j + 1) * l2 - j * l1 - pom1\n",
    "EXPRS[th2] = (j + 1) * l2 - j * l1 - pom2\n",
    "EXPRS[Lam1] = q*sqrt(a1)\n",
    "EXPRS[Lam2] = sqrt(a1)\n",
    "EXPRS[Gam1] = Rational(1,2)*q*sqrt(a1)*e1**2\n",
    "EXPRS[Gam2] = Rational(1,2)*sqrt(a2)*e2**2"
   ]
  },
  {
   "cell_type": "markdown",
   "metadata": {},
   "source": [
    "- Assume $a_2\\approx a_{2,0}[=1]$ in denominator of perturbation term.\n",
    "- $\\beta_1=-f_{27}(\\alpha_0)$ and $\\beta_2=f_{31}(\\alpha_0)$ "
   ]
  },
  {
   "cell_type": "code",
   "execution_count": 36,
   "metadata": {},
   "outputs": [
    {
     "data": {
      "image/png": "[encoded data removed]",
      "text/latex": [
       "$\\displaystyle - \\Gamma_{1} \\omega_{1} - \\Gamma_{2} \\omega_{2} + \\beta_{1} e_{1} \\mu_{1} \\cos{\\left(\\theta_{1} \\right)} - \\beta_{2} e_{2} \\mu_{1} \\cos{\\left(\\theta_{2} \\right)} - \\frac{1}{2 a_{2}} - \\frac{q}{2 a_{1}}$"
      ],
      "text/plain": [
       "                                                        1      q  \n",
       "-Γ₁⋅ω₁ - Γ₂⋅ω₂ + β₁⋅e₁⋅μ₁⋅cos(θ₁) - β₂⋅e₂⋅μ₁⋅cos(θ₂) - ──── - ────\n",
       "                                                       2⋅a₂   2⋅a₁"
      ]
     },
     "execution_count": 36,
     "metadata": {},
     "output_type": "execute_result"
    }
   ],
   "source": [
    "H_expr = -Rational(1,2)*q/a1 - Rational(1,2)*1/a2 + mu1*b1*e1*cos(th1) - mu1*b2*e2*cos(th2) - Gam1*om1 - Gam2*om2 \n",
    "H_expr"
   ]
  },
  {
   "cell_type": "code",
   "execution_count": 37,
   "metadata": {},
   "outputs": [],
   "source": [
    "def diff(expr, var):\n",
    "    run = expr.diff(var)\n",
    "    for key in EXPRS.keys():\n",
    "        run += expr.diff(key)*EXPRS[key].diff(var)\n",
    "    return(run)"
   ]
  },
  {
   "cell_type": "markdown",
   "metadata": {},
   "source": [
    "Doing 2 different R_i for each planet to reduce typos over from Murray & Dermott."
   ]
  },
  {
   "cell_type": "markdown",
   "metadata": {},
   "source": [
    "Units are in $[n_{2,0}]$, $[a_{2,0}]$, and $[M]$"
   ]
  },
  {
   "cell_type": "code",
   "execution_count": 62,
   "metadata": {},
   "outputs": [
    {
     "data": {
      "image/png": "[encoded data removed]",
      "text/latex": [
       "$\\displaystyle \\frac{a_{1}^{2} \\alpha^{2} b_{3/2}^{(1)}(\\alpha_0) e_{1}^{2} \\mu_{2} n_{1}^{2}}{8} - \\frac{a_{1}^{2} \\alpha^{2} b_{3/2}^{(2)}(\\alpha_0) e_{1} e_{2} \\mu_{2} n_{1}^{2} \\cos{\\left(\\varpi_{1} - \\varpi_{2} \\right)}}{4}$"
      ],
      "text/plain": [
       "  2  2                            2      2     2  2                           \n",
       "a₁ ⋅α ⋅b_{3/2}_0)__{(1)}(\\alpha⋅e₁ ⋅μ₂⋅n₁    a₁ ⋅α ⋅b_{3/2}_0)__{(2)}(\\alpha⋅e\n",
       "────────────────────────────────────────── - ─────────────────────────────────\n",
       "                    8                                                        4\n",
       "\n",
       "          2                     \n",
       "₁⋅e₂⋅μ₂⋅n₁ ⋅cos(varpi₁ - varpi₂)\n",
       "────────────────────────────────\n",
       "                                "
      ]
     },
     "metadata": {},
     "output_type": "display_data"
    },
    {
     "data": {
      "image/png": "[encoded data removed]",
      "text/latex": [
       "$\\displaystyle \\frac{a_{2}^{2} \\alpha b_{3/2}^{(1)}(\\alpha_0) e_{2}^{2} \\mu_{1} n_{2}^{2}}{8} - \\frac{a_{2}^{2} \\alpha b_{3/2}^{(2)}(\\alpha_0) e_{1} e_{2} \\mu_{1} n_{2}^{2} \\cos{\\left(\\varpi_{1} - \\varpi_{2} \\right)}}{4}$"
      ],
      "text/plain": [
       "  2                              2      2     2                               \n",
       "a₂ ⋅α⋅b_{3/2}_0)__{(1)}(\\alpha⋅e₂ ⋅μ₁⋅n₂    a₂ ⋅α⋅b_{3/2}_0)__{(2)}(\\alpha⋅e₁⋅\n",
       "───────────────────────────────────────── - ──────────────────────────────────\n",
       "                    8                                                      4  \n",
       "\n",
       "        2                     \n",
       "e₂⋅μ₁⋅n₂ ⋅cos(varpi₁ - varpi₂)\n",
       "──────────────────────────────\n",
       "                              "
      ]
     },
     "metadata": {},
     "output_type": "display_data"
    }
   ],
   "source": [
    "#A11 = Rational(1,4)*n1*m2/(M+m1)*alpha*alpha*b1_3_2\n",
    "#A12 = -Rational(1,4)*n1*m2/(M+m1)*alpha*alpha*b2_3_2\n",
    "#A21 = -Rational(1,4)*n2*m1/(M+m2)*alpha*b2_3_2\n",
    "#A22 = Rational(1,4)*n2*m1/(M+m2)*alpha*b1_3_2\n",
    "A11 = Rational(1,4)*n1*mu2*alpha*alpha*b1_3_2\n",
    "A12 = -Rational(1,4)*n1*mu2*alpha*alpha*b2_3_2\n",
    "A21 = -Rational(1,4)*n2*mu1*alpha*b2_3_2\n",
    "A22 = Rational(1,4)*n2*mu1*alpha*b1_3_2\n",
    "\n",
    "R1 = (n1*a1**2*(Rational(1,2)*A11*e1**2 + A12*e1*e2*cos(pom1-pom2))).expand()\n",
    "R2 = (n2*a2**2*(Rational(1,2)*A22*e2**2 + A21*e1*e2*cos(pom1-pom2))).expand()\n",
    "#term_multiply(R1.expand().subs(n1**2,G*M*m1/a1**3),1/(G*M*m2)).subs({m1:mu1*M,m2:mu2*M}).cancel()\n",
    "display(R1)\n",
    "display(R2)"
   ]
  },
  {
   "cell_type": "markdown",
   "metadata": {},
   "source": [
    "# Equations of motion"
   ]
  },
  {
   "cell_type": "markdown",
   "metadata": {},
   "source": [
    "## Resonant"
   ]
  },
  {
   "cell_type": "code",
   "execution_count": null,
   "metadata": {},
   "outputs": [],
   "source": []
  },
  {
   "cell_type": "code",
   "execution_count": null,
   "metadata": {},
   "outputs": [],
   "source": [
    "\n",
    "#edot = Gamdot/(Lam*e) - term_multiply(Lamdot, Rational(1,2)/Lam*e)"
   ]
  },
  {
   "cell_type": "markdown",
   "metadata": {},
   "source": [
    "## Secular"
   ]
  },
  {
   "cell_type": "code",
   "execution_count": 65,
   "metadata": {},
   "outputs": [
    {
     "data": {
      "image/png": "[encoded data removed]",
      "text/latex": [
       "$\\displaystyle - \\frac{\\alpha^{2} b_{3/2}^{(2)}(\\alpha_0) e_{2} \\mu_{2} n_{1} \\sin{\\left(\\varpi_{1} - \\varpi_{2} \\right)}}{4}$"
      ],
      "text/plain": [
       "  2                                                        \n",
       "-α ⋅b_{3/2}_0)__{(2)}(\\alpha⋅e₂⋅μ₂⋅n₁⋅sin(varpi₁ - varpi₂) \n",
       "───────────────────────────────────────────────────────────\n",
       "                             4                             "
      ]
     },
     "execution_count": 65,
     "metadata": {},
     "output_type": "execute_result"
    }
   ],
   "source": [
    "e1_dot_sec = -R1.diff(pom1)/(n1*a1**2*e1)\n",
    "e1_dot_sec"
   ]
  },
  {
   "cell_type": "code",
   "execution_count": 66,
   "metadata": {},
   "outputs": [
    {
     "data": {
      "image/png": "[encoded data removed]",
      "text/latex": [
       "$\\displaystyle \\frac{\\alpha b_{3/2}^{(2)}(\\alpha_0) e_{1} \\mu_{1} n_{2} \\sin{\\left(\\varpi_{1} - \\varpi_{2} \\right)}}{4}$"
      ],
      "text/plain": [
       "α⋅b_{3/2}_0)__{(2)}(\\alpha⋅e₁⋅μ₁⋅n₂⋅sin(varpi₁ - varpi₂)\n",
       "────────────────────────────────────────────────────────\n",
       "                           4                            "
      ]
     },
     "execution_count": 66,
     "metadata": {},
     "output_type": "execute_result"
    }
   ],
   "source": [
    "e2_dot_sec = -R2.diff(pom2)/(n2*a2**2*e2)\n",
    "e2_dot_sec"
   ]
  },
  {
   "cell_type": "code",
   "execution_count": 68,
   "metadata": {},
   "outputs": [
    {
     "data": {
      "image/png": "[encoded data removed]",
      "text/latex": [
       "$\\displaystyle \\frac{\\alpha^{2} b_{3/2}^{(1)}(\\alpha_0) \\mu_{2} n_{1}}{4} - \\frac{\\alpha^{2} b_{3/2}^{(2)}(\\alpha_0) e_{2} \\mu_{2} n_{1} \\cos{\\left(\\varpi_{1} - \\varpi_{2} \\right)}}{4 e_{1}}$"
      ],
      "text/plain": [
       " 2                                   2                                        \n",
       "α ⋅b_{3/2}_0)__{(1)}(\\alpha⋅μ₂⋅n₁   α ⋅b_{3/2}_0)__{(2)}(\\alpha⋅e₂⋅μ₂⋅n₁⋅cos(v\n",
       "───────────────────────────────── - ──────────────────────────────────────────\n",
       "                4                                              4⋅e₁           \n",
       "\n",
       "               \n",
       "arpi₁ - varpi₂)\n",
       "───────────────\n",
       "               "
      ]
     },
     "execution_count": 68,
     "metadata": {},
     "output_type": "execute_result"
    }
   ],
   "source": [
    "pom1_dot_sec = term_multiply(R1.diff(e1),1/(n1*a1**2*e1))\n",
    "pom1_dot_sec"
   ]
  },
  {
   "cell_type": "code",
   "execution_count": 69,
   "metadata": {},
   "outputs": [
    {
     "data": {
      "image/png": "[encoded data removed]",
      "text/latex": [
       "$\\displaystyle \\frac{\\alpha b_{3/2}^{(1)}(\\alpha_0) \\mu_{1} n_{2}}{4} - \\frac{\\alpha b_{3/2}^{(2)}(\\alpha_0) e_{1} \\mu_{1} n_{2} \\cos{\\left(\\varpi_{1} - \\varpi_{2} \\right)}}{4 e_{2}}$"
      ],
      "text/plain": [
       "α⋅b_{3/2}_0)__{(1)}(\\alpha⋅μ₁⋅n₂   α⋅b_{3/2}_0)__{(2)}(\\alpha⋅e₁⋅μ₁⋅n₂⋅cos(var\n",
       "──────────────────────────────── - ───────────────────────────────────────────\n",
       "               4                                             4⋅e₂             \n",
       "\n",
       "pi₁ - varpi₂)\n",
       "─────────────\n",
       "             "
      ]
     },
     "execution_count": 69,
     "metadata": {},
     "output_type": "execute_result"
    }
   ],
   "source": [
    "pom2_dot_sec = term_multiply(R2.diff(e2),1/(n2*a2**2*e2))\n",
    "pom2_dot_sec"
   ]
  },
  {
   "cell_type": "code",
   "execution_count": null,
   "metadata": {},
   "outputs": [],
   "source": []
  }
 ],
 "metadata": {
  "kernelspec": {
   "display_name": "Science",
   "language": "python",
   "name": "python3"
  },
  "language_info": {
   "codemirror_mode": {
    "name": "ipython",
    "version": 3
   },
   "file_extension": ".py",
   "mimetype": "text/x-python",
   "name": "python",
   "nbconvert_exporter": "python",
   "pygments_lexer": "ipython3",
   "version": "3.12.0"
  }
 },
 "nbformat": 4,
 "nbformat_minor": 2
}
