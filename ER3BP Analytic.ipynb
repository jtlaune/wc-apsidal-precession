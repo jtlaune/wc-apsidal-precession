{
 "cells": [
  {
   "cell_type": "markdown",
   "metadata": {},
   "source": [
    "# Preamble"
   ]
  },
  {
   "cell_type": "code",
   "execution_count": 1,
   "metadata": {},
   "outputs": [
    {
     "name": "stdout",
     "output_type": "stream",
     "text": [
      "IPython console for SymPy 1.11.1 (Python 3.11.3-64-bit) (ground types: gmpy)\n",
      "\n",
      "These commands were executed:\n",
      ">>> from sympy import *\n",
      ">>> x, y, z, t = symbols('x y z t')\n",
      ">>> k, m, n = symbols('k m n', integer=True)\n",
      ">>> f, g, h = symbols('f g h', cls=Function)\n",
      ">>> init_printing()\n",
      "\n",
      "Documentation can be found at https://docs.sympy.org/1.11.1/\n",
      "\n"
     ]
    }
   ],
   "source": [
    "%matplotlib widget\n",
    "\n",
    "import os\n",
    "import sympy as sm\n",
    "import scipy as sp\n",
    "import numpy as np\n",
    "import matplotlib as mpl\n",
    "import matplotlib.ticker as ticker\n",
    "\n",
    "from matplotlib import pyplot as plt\n",
    "from mpl_styles import analytic\n",
    "from scipy.special import hyp2f1\n",
    "from sympy import init_printing, init_session\n",
    "\n",
    "plt.style.use(analytic)\n",
    "init_session()\n",
    "init_printing()\n",
    "\n",
    "def Pochhammer(a, k):\n",
    "    if k == 0:\n",
    "        return 1.0\n",
    "    else:\n",
    "        return (a + k - 1) * Pochhammer(a, k - 1)\n",
    "\n",
    "\n",
    "def b(s, j, alpha):\n",
    "    if j >= 0:  # Eq. 7.87\n",
    "        return (\n",
    "            2\n",
    "            * Pochhammer(s, j)\n",
    "            / Pochhammer(1, j)\n",
    "            * (alpha**j)\n",
    "            * hyp2f1(s, s + j, j + 1, alpha * alpha)\n",
    "        )\n",
    "    else:  # Eq. 6.69\n",
    "        return b(s, -j, alpha)\n",
    "\n",
    "\n",
    "def Db(s, j, alpha):  # Eq. 6.70\n",
    "    aux = (\n",
    "        b(s + 1, j - 1, alpha) - 2 * alpha * b(s + 1, j, alpha) + b(s + 1, j + 1, alpha)\n",
    "    )\n",
    "    return s * aux\n",
    "\n",
    "\n",
    "def D2b(s, j, alpha):  # Eq. 6.71\n",
    "    aux = (\n",
    "        Db(s + 1, j - 1, alpha)\n",
    "        - 2 * alpha * Db(s + 1, j, alpha)\n",
    "        - 2 * b(s + 1, j, alpha)\n",
    "        + Db(s + 1, j + 1, alpha)\n",
    "    )\n",
    "    return s * aux\n",
    "\n",
    "\n",
    "def f27lc(alpha, j):\n",
    "    \"\"\"\n",
    "    f27 in MD p543\n",
    "    (1/2)[−2 j − αD] b^(j)_{1/2}(α) x [e1cos(theta1)]\n",
    "    \"\"\"\n",
    "    return 0.5 * (-2 * (j + 1) * b(0.5, j + 1, alpha) - alpha * Db(0.5, j + 1, alpha))\n",
    "\n",
    "\n",
    "def f31lc(alpha, j):\n",
    "    \"\"\"\n",
    "    f31 in MD p543\n",
    "    (1/2)[−1 + 2 j + αD] b^(j-1)_{1/2}(α) x [e2cos(theta2)]\n",
    "    \"\"\"\n",
    "    return 0.5 * ((-1 + 2 * (j + 1)) * b(0.5, j, alpha) + alpha * Db(0.5, j, alpha))\n",
    "\n",
    "alpha0 = (2 / (2 + 1)) ** (2.0 / 3)\n",
    "\n",
    "############################################################\n",
    "# If test particle is outside, have to multiply by alpha_0 #\n",
    "############################################################\n",
    "\n",
    "f1val_outside = alpha0*f27lc(alpha0, 2)\n",
    "f2val_outside = alpha0*f31lc(alpha0, 2)"
   ]
  },
  {
   "cell_type": "markdown",
   "metadata": {},
   "source": [
    "# Poisson Bracket"
   ]
  },
  {
   "cell_type": "code",
   "execution_count": 2,
   "metadata": {},
   "outputs": [],
   "source": [
    "class PoissonBracket:\n",
    "    def __init__(self, q, p):\n",
    "        \"\"\"\n",
    "        q : list of canonical coordinates\n",
    "        p : list of canonical momenta\n",
    "        \"\"\"\n",
    "        self.dim = len(q)\n",
    "        if len(p) != self.dim:\n",
    "            raise Warning(\"Mismatch in canonical conjugate pair dimensions.\")\n",
    "        self.q = q\n",
    "        self.p = p\n",
    "    def __call__(self, f, g):\n",
    "        \"\"\"\n",
    "        f, g : Functions of canonical conjugate pairs p, q\n",
    "        \"\"\"\n",
    "        bracket = 0\n",
    "        for i in range(self.dim):\n",
    "            bracket += f.diff(self.p[i])*g.diff(self.q[i]) - g.diff(self.p[i])*f.diff(self.q[i])\n",
    "        return(bracket)"
   ]
  },
  {
   "cell_type": "markdown",
   "metadata": {},
   "source": [
    "# Outer TP Hamiltonian"
   ]
  },
  {
   "cell_type": "code",
   "execution_count": 3,
   "metadata": {},
   "outputs": [
    {
     "data": {
      "image/png": "[encoded data removed]",
      "text/latex": [
       "$\\displaystyle - \\frac{G M \\sqrt{a} e^{2} \\omega}{2 a_{p}^{\\frac{3}{2}}} - \\frac{G M}{2 a} - \\frac{G m_{p} \\left(e e_{p} f_{3} + f_{4} \\left(e^{2} + e_{p}^{2}\\right)\\right)}{a_{p}} - \\frac{G m_{p} \\left(e f_{2} \\cos{\\left(j \\tau - \\lambda \\left(j + 1\\right) + \\varpi \\right)} + e_{p} f_{1} \\cos{\\left(j \\tau - \\lambda \\left(j + 1\\right) + \\omega_{p} \\tau + \\varpi_{p} \\right)}\\right)}{a_{p}}$"
      ],
      "text/plain": [
       "          2                ⎛             ⎛ 2     2⎞⎞                          \n",
       "  G⋅M⋅√a⋅e ⋅ω   G⋅M   G⋅mₚ⋅⎝e⋅eₚ⋅f₃ + f₄⋅⎝e  + eₚ ⎠⎠   G⋅mₚ⋅(e⋅f₂⋅cos(j⋅τ - λ⋅\n",
       "- ─────────── - ─── - ────────────────────────────── - ───────────────────────\n",
       "        3/2     2⋅a                 aₚ                                        \n",
       "    2⋅aₚ                                                                      \n",
       "\n",
       "                                                              \n",
       "(j + 1) + varpi) + eₚ⋅f₁⋅cos(j⋅τ - λ⋅(j + 1) + ωₚ⋅τ + varpiₚ))\n",
       "──────────────────────────────────────────────────────────────\n",
       "                   aₚ                                         \n",
       "                                                              "
      ]
     },
     "metadata": {},
     "output_type": "display_data"
    },
    {
     "data": {
      "image/png": "[encoded data removed]",
      "text/latex": [
       "$\\displaystyle - \\frac{\\sqrt{a} e^{2} \\omega}{2 \\sqrt{a_{p}}} - e f_{2} \\mu_{p} \\cos{\\left(j \\lambda - j \\tau + \\lambda - \\varpi \\right)} - e_{p} f_{1} \\mu_{p} \\cos{\\left(- j \\lambda + j \\tau - \\lambda + \\omega_{p} \\tau + \\varpi_{p} \\right)} - \\frac{a_{p}}{2 a}$"
      ],
      "text/plain": [
       "      2                                                                       \n",
       "  √a⋅e ⋅ω                                                                     \n",
       "- ──────── - e⋅f₂⋅μₚ⋅cos(j⋅λ - j⋅τ + λ - varpi) - eₚ⋅f₁⋅μₚ⋅cos(-j⋅λ + j⋅τ - λ \n",
       "      ____                                                                    \n",
       "  2⋅╲╱ aₚ                                                                     \n",
       "\n",
       "                      \n",
       "                    aₚ\n",
       "+ ωₚ⋅τ + varpiₚ) - ───\n",
       "                   2⋅a\n",
       "                      "
      ]
     },
     "metadata": {},
     "output_type": "display_data"
    }
   ],
   "source": [
    "f1, f2, f3, f4, tau, l, pom, pom_p, g, om, om_p = sm.symbols(\n",
    "    \"f_1 f_2 f_3 f_4 tau lambda varpi varpi_p gamma omega omega_p\"\n",
    ")\n",
    "a, a_p, e, e_p, n, n_p, m_p, mu_p, L, G, Gconst, M, j = sm.symbols(\n",
    "    \"a a_p e e_p n n_p m_p mu_p Lambda Gamma G M j\", positive=True\n",
    ")\n",
    "X, Y, Te, Tm = sm.symbols(\"X Y T_e T_m\")\n",
    "\n",
    "H_scale_factor = Gconst * M / a_p\n",
    "t_scale_factor = sqrt(Gconst * M / a_p**3)  # = n_p\n",
    "L_scale_factor = H_scale_factor / t_scale_factor\n",
    "\n",
    "calH = (\n",
    "    -(Gconst * M) / (2 * a)\n",
    "    - Gconst\n",
    "    * m_p\n",
    "    / a_p\n",
    "    * (\n",
    "        e * f2 * sm.cos((j + 1) * l - j * tau - pom)\n",
    "        + e_p * f1 * sm.cos((j + 1) * l - j * tau - pom_p - om_p * tau)\n",
    "    )\n",
    "    - (Gconst * m_p / a_p * (f3 * e * e_p + f4 * (e**2 + e_p**2)))\n",
    "    - Rational(1, 2) * sqrt(Gconst * M * a) * e**2 * om * t_scale_factor\n",
    ")\n",
    "\n",
    "\n",
    "display(calH)\n",
    "calH = (\n",
    "    (calH / H_scale_factor)\n",
    "    .subs(m_p, mu_p * M)\n",
    "    .simplify()\n",
    "    .expand()\n",
    "    .subs({f3: 0, f4: 0})\n",
    "    #.subs(a, a * a_p)\n",
    ")\n",
    "display(calH)"
   ]
  },
  {
   "cell_type": "markdown",
   "metadata": {},
   "source": [
    "# Canonical variables and canonical transformations"
   ]
  },
  {
   "cell_type": "code",
   "execution_count": 4,
   "metadata": {},
   "outputs": [],
   "source": [
    "def to_canonical(expr):\n",
    "    return expr.subs({a: L**2, e: sqrt(2 * G / L), pom: -g})\n",
    "\n",
    "\n",
    "def to_orbelts(expr):\n",
    "    # This uses the approximation G=1/2*L*e^2\n",
    "    return expr.subs({g: -pom, G: Rational(1, 2) * L * e**2, L: sqrt(a)})\n",
    "\n",
    "\n",
    "def is_solve_multiple(sol):\n",
    "    if len(sol) > 1:\n",
    "        print(\n",
    "            f\"Solve for coordinate/momentum is multiple... {sol}, choosing the first solution.\"\n",
    "        )\n",
    "    return sol[0]\n",
    "\n",
    "\n",
    "def F2_canTran(H, F2, q, P, Q, p, t):\n",
    "    \"\"\"\n",
    "    F2: expression for generating function F_2(q,P)\n",
    "\n",
    "    q : list of old canonical coordinates\n",
    "    P : list of new canonical momenta\n",
    "\n",
    "    Q : list of new canonical coordinates\n",
    "    p : list of old canonical momenta\n",
    "    \"\"\"\n",
    "    N = len(q)\n",
    "\n",
    "    for var in [P, Q, p]:\n",
    "        if len(var) != N:\n",
    "            raise Warning(\"Must have same number of new and old variables.\")\n",
    "\n",
    "    Q_qP = []\n",
    "    p_qP = []\n",
    "    for i in range(len(q)):\n",
    "        Q_qP += [F2.diff(P[i])]\n",
    "        p_qP += [F2.diff(q[i])]\n",
    "\n",
    "    P_Qp = []\n",
    "    q_Qp = []\n",
    "    for i in range(N):\n",
    "        sol = solve([p[i] - p_qP[i], Q[i] - Q_qP[i]], [q[i], P[i]])\n",
    "        try:\n",
    "            q_Qp += [sol[q[i]]]\n",
    "            P_Qp += [sol[P[i]]]\n",
    "        except TypeError:\n",
    "            q_Qp += [is_solve_multiple(sol)[0]]\n",
    "            P_Qp += [is_solve_multiple(sol)[1]]\n",
    "\n",
    "    p_QP = []\n",
    "    q_QP = []\n",
    "    for i in range(N):\n",
    "        sol = solve(p[i] - p_qP[i].subs(q[i], q_Qp[i]), p[i])\n",
    "        p_QP += [is_solve_multiple(sol)]\n",
    "\n",
    "        sol = solve(q[i] - q_Qp[i].subs(p[i], p_qP[i]), q[i])\n",
    "        q_QP += [is_solve_multiple(sol)]\n",
    "\n",
    "    Q_qp = []\n",
    "    P_qp = []\n",
    "    for i in range(N):\n",
    "        sol = solve(Q[i] - Q_qP[i].subs(P[i], P_Qp[i]), Q[i])\n",
    "        Q_qp += [is_solve_multiple(sol)]\n",
    "\n",
    "        sol = solve(P[i] - P_Qp[i].subs(Q[i], Q_qP[i]), P[i])\n",
    "        P_qp += [is_solve_multiple(sol)]\n",
    "\n",
    "    new_H = H.copy() + F2.diff(t)\n",
    "    coords = {}\n",
    "    for i in range(N):\n",
    "        new_H = new_H.subs({q[i]: q_QP[i], p[i]: p_QP[i]})\n",
    "        coords[q[i]] = q_QP[i]\n",
    "        coords[p[i]] = p_QP[i]\n",
    "        coords[Q[i]] = Q_qp[i]\n",
    "        coords[P[i]] = P_qp[i]\n",
    "    \n",
    "\n",
    "    return coords, new_H"
   ]
  },
  {
   "cell_type": "code",
   "execution_count": 5,
   "metadata": {},
   "outputs": [],
   "source": [
    "# Not working currently... can't solve for g. Use PB instead to check canonical Cartesian trafo.\n",
    "#X, Y = symbols(\"X Y\")\n",
    "#genFunc = Rational(1, 2) * Y**2 * tan(g)\n",
    "#display(genFunc)\n",
    "#coords, H1 = F2_canTran(H, genFunc, [g], [Y], [X], [G])"
   ]
  },
  {
   "cell_type": "markdown",
   "metadata": {},
   "source": [
    "# Hamiltonian"
   ]
  },
  {
   "cell_type": "code",
   "execution_count": 6,
   "metadata": {},
   "outputs": [
    {
     "data": {
      "image/png": "[encoded data removed]",
      "text/latex": [
       "$\\displaystyle - \\frac{\\sqrt{2} \\sqrt{\\Gamma} f_{2} \\mu_{p} \\cos{\\left(\\gamma + \\theta \\right)}}{\\sqrt{\\Theta} \\sqrt{j + 1}} - \\frac{\\Gamma \\omega}{\\sqrt{a_{p}}} - \\Theta j - e_{p} f_{1} \\mu_{p} \\cos{\\left(\\omega_{p} \\tau - \\theta + \\varpi_{p} \\right)} - \\frac{a_{p}}{2 \\Theta^{2} \\left(j + 1\\right)^{2}}$"
      ],
      "text/plain": [
       "  √2⋅√Γ⋅f₂⋅μₚ⋅cos(γ + θ)    Γ⋅ω                                               \n",
       "- ────────────────────── - ────── - Θ⋅j - eₚ⋅f₁⋅μₚ⋅cos(ωₚ⋅τ - θ + varpiₚ) - ──\n",
       "            _______          ____                                             \n",
       "       √Θ⋅╲╱ j + 1         ╲╱ aₚ                                            2⋅\n",
       "\n",
       "    aₚ     \n",
       "───────────\n",
       " 2        2\n",
       "Θ ⋅(j + 1) "
      ]
     },
     "metadata": {},
     "output_type": "display_data"
    }
   ],
   "source": [
    "H = to_canonical(calH)\n",
    "th, Th = symbols(\"theta Theta\")\n",
    "genFunc = Th * ((j + 1) * l - j * tau)\n",
    "coords_thTh, H1 = F2_canTran(H, genFunc, [l], [Th], [th], [L], tau)\n",
    "H1 = H1.simplify()\n",
    "display(H1)"
   ]
  },
  {
   "cell_type": "markdown",
   "metadata": {},
   "source": [
    "# CER"
   ]
  },
  {
   "cell_type": "code",
   "execution_count": 7,
   "metadata": {},
   "outputs": [
    {
     "data": {
      "image/png": "[encoded data removed]",
      "text/latex": [
       "$\\displaystyle - \\frac{\\sqrt{2} \\sqrt{\\Gamma} f_{2} \\mu_{p} \\cos{\\left(\\gamma + \\theta \\right)}}{\\sqrt{\\Theta} \\sqrt{j + 1}} - \\frac{\\Gamma \\omega}{\\sqrt{a_{p}}} - \\Theta j - e_{p} f_{1} \\mu_{p} \\cos{\\left(\\omega_{p} \\tau - \\theta + \\varpi_{p} \\right)} - \\frac{a_{p}}{2 \\Theta^{2} \\left(j + 1\\right)^{2}}$"
      ],
      "text/plain": [
       "  √2⋅√Γ⋅f₂⋅μₚ⋅cos(γ + θ)    Γ⋅ω                                               \n",
       "- ────────────────────── - ────── - Θ⋅j - eₚ⋅f₁⋅μₚ⋅cos(ωₚ⋅τ - θ + varpiₚ) - ──\n",
       "            _______          ____                                             \n",
       "       √Θ⋅╲╱ j + 1         ╲╱ aₚ                                            2⋅\n",
       "\n",
       "    aₚ     \n",
       "───────────\n",
       " 2        2\n",
       "Θ ⋅(j + 1) "
      ]
     },
     "metadata": {},
     "output_type": "display_data"
    }
   ],
   "source": [
    "H = to_canonical(calH)\n",
    "th, Th = symbols(\"theta Theta\")\n",
    "genFunc = Th * ((j + 1) * l - j * tau)\n",
    "coords_thTh, H1 = F2_canTran(H, genFunc, [l], [Th], [th], [L], tau)\n",
    "H1 = H1.simplify()\n",
    "display(H1)"
   ]
  },
  {
   "cell_type": "code",
   "execution_count": 8,
   "metadata": {},
   "outputs": [
    {
     "data": {
      "image/png": "[encoded data removed]",
      "text/latex": [
       "$\\displaystyle - \\Theta j - e_{p} f_{1} \\mu_{p} \\cos{\\left(\\omega_{p} \\tau - \\theta \\right)} - \\frac{1}{2 \\Theta^{2} \\left(j + 1\\right)^{2}}$"
      ],
      "text/plain": [
       "                                      1      \n",
       "-Θ⋅j - eₚ⋅f₁⋅μₚ⋅cos(ωₚ⋅τ - θ) - ─────────────\n",
       "                                   2        2\n",
       "                                2⋅Θ ⋅(j + 1) "
      ]
     },
     "metadata": {},
     "output_type": "display_data"
    },
    {
     "data": {
      "image/png": "[encoded data removed]",
      "text/latex": [
       "$\\displaystyle \\theta = \\omega_{p} \\tau + \\theta_{1}$"
      ],
      "text/plain": [
       "θ = ωₚ⋅τ + θ₁"
      ]
     },
     "metadata": {},
     "output_type": "display_data"
    },
    {
     "data": {
      "image/png": "[encoded data removed]",
      "text/latex": [
       "$\\displaystyle \\Theta = \\Theta_{1}$"
      ],
      "text/plain": [
       "Θ = Θ₁"
      ]
     },
     "metadata": {},
     "output_type": "display_data"
    },
    {
     "data": {
      "image/png": "[encoded data removed]",
      "text/latex": [
       "$\\displaystyle \\theta_{1} \\left(\\Theta_{2} + \\Theta_{c}\\right)$"
      ],
      "text/plain": [
       "θ₁⋅(Θ₂ + Θ_c)"
      ]
     },
     "metadata": {},
     "output_type": "display_data"
    },
    {
     "data": {
      "image/png": "[encoded data removed]",
      "text/latex": [
       "$\\displaystyle \\theta_{1} = \\theta_{2}$"
      ],
      "text/plain": [
       "θ₁ = θ₂"
      ]
     },
     "metadata": {},
     "output_type": "display_data"
    },
    {
     "data": {
      "image/png": "[encoded data removed]",
      "text/latex": [
       "$\\displaystyle \\Theta_{2} = \\Theta_{1} - \\Theta_{c}$"
      ],
      "text/plain": [
       "Θ₂ = Θ₁ - Θ_c"
      ]
     },
     "metadata": {},
     "output_type": "display_data"
    },
    {
     "data": {
      "image/png": "[encoded data removed]",
      "text/latex": [
       "$\\displaystyle - e_{p} f_{1} \\mu_{p} \\cos{\\left(\\theta_{1} \\right)} - j \\left(\\Theta_{2} + \\Theta_{c}\\right) - \\omega_{p} \\left(\\Theta_{2} + \\Theta_{c}\\right) - \\frac{1}{2 \\left(\\Theta_{2} + \\Theta_{c}\\right)^{2} \\left(j + 1\\right)^{2}}$"
      ],
      "text/plain": [
       "                                                             1           \n",
       "-eₚ⋅f₁⋅μₚ⋅cos(θ₁) - j⋅(Θ₂ + Θ_c) - ωₚ⋅(Θ₂ + Θ_c) - ──────────────────────\n",
       "                                                               2        2\n",
       "                                                   2⋅(Θ₂ + Θ_c) ⋅(j + 1) "
      ]
     },
     "metadata": {},
     "output_type": "display_data"
    },
    {
     "data": {
      "image/png": "[encoded data removed]",
      "text/latex": [
       "$\\displaystyle \\Theta_{c} = \\frac{1}{\\left(j + 1\\right)^{\\frac{2}{3}} \\sqrt[3]{j + \\omega_{p}}}$"
      ],
      "text/plain": [
       "                1          \n",
       "Θ_c = ─────────────────────\n",
       "             2/3 3 ________\n",
       "      (j + 1)   ⋅╲╱ j + ωₚ "
      ]
     },
     "metadata": {},
     "output_type": "display_data"
    },
    {
     "data": {
      "image/png": "[encoded data removed]",
      "text/latex": [
       "$\\displaystyle 0$"
      ],
      "text/plain": [
       "0"
      ]
     },
     "metadata": {},
     "output_type": "display_data"
    },
    {
     "data": {
      "image/png": "[encoded data removed]",
      "text/latex": [
       "$\\displaystyle \\frac{2 \\sqrt{6} \\sqrt{e_{p}} \\sqrt{\\mu_{p}} \\sqrt{\\frac{f_{1}}{\\left(j + \\omega_{p}\\right)^{\\frac{4}{3}}}}}{3 \\sqrt[3]{j + 1}}$"
      ],
      "text/plain": [
       "                        _____________\n",
       "       ____   ____     ╱      f₁     \n",
       "2⋅√6⋅╲╱ eₚ ⋅╲╱ μₚ ⋅   ╱  ─────────── \n",
       "                     ╱           4/3 \n",
       "                   ╲╱    (j + ωₚ)    \n",
       "─────────────────────────────────────\n",
       "               3 _______             \n",
       "             3⋅╲╱ j + 1              "
      ]
     },
     "metadata": {},
     "output_type": "display_data"
    }
   ],
   "source": [
    "Hcer = H1.subs({f2:0,a_p:1,om:0,pom_p:0})\n",
    "display(Hcer)\n",
    "Th1, th1 = symbols(\"Theta_1 theta_1\")\n",
    "S1 = Th1*(th-om_p*tau)\n",
    "display(Eq(th,solve(th1-S1.diff(Th1),th)[0]))\n",
    "display(Eq(Th,S1.diff(th)))\n",
    "Hcer = Hcer.subs({Th:Th1,th:solve(th1-S1.diff(Th1),th)[0]}) + S1.diff(tau)\n",
    "\n",
    "Th2, th2, Thc = symbols(\"Theta_2 theta_2 Theta_c\")\n",
    "S2 = th1*(Th2+Thc)\n",
    "display(S2)\n",
    "display(Eq(th1, solve(th2-S2.diff(Th2),th1)[0] ))\n",
    "Th2_expr = solve(Th1-S2.diff(th1),Th2)[0]\n",
    "display(Eq(Th2, Th2_expr ))\n",
    "\n",
    "Hcer=Hcer.subs({Th1:solve(Th1-S2.diff(th1),Th1)[0]})\n",
    "display(Hcer)\n",
    "#\n",
    "Thc_expr = 1/(j+om_p)**Rational(1,3)/(j+1)**Rational(2,3)\n",
    "display(Eq(Thc,Thc_expr))\n",
    "display(Hcer.diff(Th2).subs(Th2,0).subs(Thc,Thc_expr))\n",
    "#\n",
    "Hcer0 = Hcer.taylor_term(0,Th2) + Hcer.taylor_term(1,Th2) + Hcer.taylor_term(2,Th2)\n",
    "Hcer0 = Hcer0-Hcer0.args[1]-Hcer0.args[2]-Hcer0.args[3]\n",
    "Hcer0 = Hcer0.subs(Thc,Thc_expr)\n",
    "#Hcer0 = Hcer0 #- Hcer0.args[0]- Hcer0.args[1]- Hcer0.args[2]\n",
    "WTh2 = 2*solve(Hcer0.subs(th1,pi),Th2)[1]\n",
    "display(WTh2)"
   ]
  },
  {
   "cell_type": "code",
   "execution_count": 9,
   "metadata": {},
   "outputs": [
    {
     "data": {
      "image/png": "[encoded data removed]",
      "text/latex": [
       "$\\displaystyle \\frac{\\sqrt{a}}{j + 1} - \\frac{1}{\\left(j + 1\\right)^{\\frac{2}{3}} \\sqrt[3]{j + \\omega_{p}}}$"
      ],
      "text/plain": [
       "  √a              1          \n",
       "───── - ─────────────────────\n",
       "j + 1          2/3 3 ________\n",
       "        (j + 1)   ⋅╲╱ j + ωₚ "
      ]
     },
     "execution_count": 9,
     "metadata": {},
     "output_type": "execute_result"
    }
   ],
   "source": [
    "Th2_expr.subs(Th1,Th).subs(Th,coords_thTh[Th].subs(L,sqrt(a))).subs(Thc,Thc_expr)"
   ]
  },
  {
   "cell_type": "markdown",
   "metadata": {},
   "source": [
    "# LER "
   ]
  },
  {
   "cell_type": "code",
   "execution_count": 10,
   "metadata": {},
   "outputs": [
    {
     "data": {
      "image/png": "[encoded data removed]",
      "text/latex": [
       "$\\displaystyle - \\frac{\\sqrt{2} \\sqrt{\\Gamma} f_{2} \\mu_{p} \\cos{\\left(\\gamma + \\theta \\right)}}{\\sqrt{\\Theta} \\sqrt{j + 1}} - \\frac{\\Gamma \\omega}{\\sqrt{a_{p}}} - \\Theta j - e_{p} f_{1} \\mu_{p} \\cos{\\left(\\omega_{p} \\tau - \\theta + \\varpi_{p} \\right)} - \\frac{a_{p}}{2 \\Theta^{2} \\left(j + 1\\right)^{2}}$"
      ],
      "text/plain": [
       "  √2⋅√Γ⋅f₂⋅μₚ⋅cos(γ + θ)    Γ⋅ω                                               \n",
       "- ────────────────────── - ────── - Θ⋅j - eₚ⋅f₁⋅μₚ⋅cos(ωₚ⋅τ - θ + varpiₚ) - ──\n",
       "            _______          ____                                             \n",
       "       √Θ⋅╲╱ j + 1         ╲╱ aₚ                                            2⋅\n",
       "\n",
       "    aₚ     \n",
       "───────────\n",
       " 2        2\n",
       "Θ ⋅(j + 1) "
      ]
     },
     "metadata": {},
     "output_type": "display_data"
    }
   ],
   "source": [
    "H = to_canonical(calH)\n",
    "th, Th = symbols(\"theta Theta\")\n",
    "genFunc = Th * ((j + 1) * l - j * tau)\n",
    "coords_thTh, H1 = F2_canTran(H, genFunc, [l], [Th], [th], [L], tau)\n",
    "H1 = H1.simplify()\n",
    "display(H1)"
   ]
  },
  {
   "cell_type": "code",
   "execution_count": 11,
   "metadata": {},
   "outputs": [
    {
     "data": {
      "image/png": "[encoded data removed]",
      "text/latex": [
       "$\\displaystyle - \\frac{\\sqrt{2} \\sqrt{\\Gamma} f_{2} \\mu_{p} \\cos{\\left(\\gamma + \\theta \\right)}}{\\sqrt{j + 1}} - \\Theta j - \\frac{1}{2 \\Theta^{2} \\left(j + 1\\right)^{2}}$"
      ],
      "text/plain": [
       "  √2⋅√Γ⋅f₂⋅μₚ⋅cos(γ + θ)               1      \n",
       "- ────────────────────── - Θ⋅j - ─────────────\n",
       "          _______                   2        2\n",
       "        ╲╱ j + 1                 2⋅Θ ⋅(j + 1) "
      ]
     },
     "metadata": {},
     "output_type": "display_data"
    },
    {
     "data": {
      "image/png": "[encoded data removed]",
      "text/latex": [
       "$\\displaystyle \\Gamma_{1} \\left(\\gamma + \\theta\\right) + \\Theta_{1} \\theta$"
      ],
      "text/plain": [
       "Γ₁⋅(γ + θ) + Θ₁⋅θ"
      ]
     },
     "metadata": {},
     "output_type": "display_data"
    },
    {
     "data": {
      "image/png": "[encoded data removed]",
      "text/latex": [
       "$\\displaystyle \\theta = \\theta_{1}$"
      ],
      "text/plain": [
       "θ = θ₁"
      ]
     },
     "metadata": {},
     "output_type": "display_data"
    },
    {
     "data": {
      "image/png": "[encoded data removed]",
      "text/latex": [
       "$\\displaystyle \\Theta_{1} = - \\Gamma_{1} + \\Theta$"
      ],
      "text/plain": [
       "Θ₁ = -Γ₁ + Θ"
      ]
     },
     "metadata": {},
     "output_type": "display_data"
    },
    {
     "data": {
      "image/png": "[encoded data removed]",
      "text/latex": [
       "$\\displaystyle \\Theta = \\Gamma_{1} + \\Theta_{1}$"
      ],
      "text/plain": [
       "Θ = Γ₁ + Θ₁"
      ]
     },
     "metadata": {},
     "output_type": "display_data"
    },
    {
     "data": {
      "image/png": "[encoded data removed]",
      "text/latex": [
       "$\\displaystyle \\Gamma = \\Gamma_{1}$"
      ],
      "text/plain": [
       "Γ = Γ₁"
      ]
     },
     "metadata": {},
     "output_type": "display_data"
    },
    {
     "data": {
      "image/png": "[encoded data removed]",
      "text/latex": [
       "$\\displaystyle \\gamma = \\gamma_{1} - \\theta$"
      ],
      "text/plain": [
       "γ = γ₁ - θ"
      ]
     },
     "metadata": {},
     "output_type": "display_data"
    },
    {
     "data": {
      "image/png": "[encoded data removed]",
      "text/latex": [
       "$\\displaystyle \\Gamma_{1} = \\Gamma$"
      ],
      "text/plain": [
       "Γ₁ = Γ"
      ]
     },
     "metadata": {},
     "output_type": "display_data"
    },
    {
     "data": {
      "image/png": "[encoded data removed]",
      "text/latex": [
       "$\\displaystyle - \\frac{\\sqrt{2} \\sqrt{\\Gamma_{1}} f_{2} \\mu_{p} \\cos{\\left(\\gamma_{1} \\right)}}{\\sqrt{j + 1}} - j \\left(\\Gamma_{1} + \\Theta_{1}\\right) - \\frac{1}{2 \\left(\\Gamma_{1} + \\Theta_{1}\\right)^{2} \\left(j + 1\\right)^{2}}$"
      ],
      "text/plain": [
       "       ____                                                    \n",
       "  √2⋅╲╱ Γ₁ ⋅f₂⋅μₚ⋅cos(γ₁)                           1          \n",
       "- ─────────────────────── - j⋅(Γ₁ + Θ₁) - ─────────────────────\n",
       "           _______                                   2        2\n",
       "         ╲╱ j + 1                         2⋅(Γ₁ + Θ₁) ⋅(j + 1) "
      ]
     },
     "metadata": {},
     "output_type": "display_data"
    },
    {
     "data": {
      "image/png": "[encoded data removed]",
      "text/latex": [
       "$\\displaystyle 0$"
      ],
      "text/plain": [
       "0"
      ]
     },
     "metadata": {},
     "output_type": "display_data"
    },
    {
     "data": {
      "image/png": "[encoded data removed]",
      "text/latex": [
       "$\\displaystyle - \\frac{\\sqrt{2} \\sqrt{\\Gamma_{1}} f_{2} \\mu_{p} \\cos{\\left(\\gamma_{1} \\right)}}{\\sqrt{j + 1}} - \\frac{3 \\Gamma_{1}^{2}}{2 \\Theta_{1}^{4} \\left(j + 1\\right)^{2}} + \\frac{\\Gamma_{1} \\left(- 2 j + \\frac{2}{\\Theta_{1}^{3} \\left(j + 1\\right)^{2}}\\right)}{2}$"
      ],
      "text/plain": [
       "                                                ⎛            2      ⎞\n",
       "                                             Γ₁⋅⎜-2⋅j + ────────────⎟\n",
       "       ____                         2           ⎜         3        2⎟\n",
       "  √2⋅╲╱ Γ₁ ⋅f₂⋅μₚ⋅cos(γ₁)       3⋅Γ₁            ⎝       Θ₁ ⋅(j + 1) ⎠\n",
       "- ─────────────────────── - ────────────── + ────────────────────────\n",
       "           _______              4        2              2            \n",
       "         ╲╱ j + 1           2⋅Θ₁ ⋅(j + 1)                            "
      ]
     },
     "metadata": {},
     "output_type": "display_data"
    },
    {
     "name": "stdout",
     "output_type": "stream",
     "text": [
      "- \\frac{\\sqrt{2} \\sqrt{\\Gamma_{1}} f_{2} \\mu_{p} \\cos{\\left(\\gamma_{1} \\right)}}{\\sqrt{j + 1}} - \\frac{3 \\Gamma_{1}^{2}}{2 \\Theta_{1}^{4} \\left(j + 1\\right)^{2}} + \\frac{\\Gamma_{1} \\left(- 2 j + \\frac{2}{\\Theta_{1}^{3} \\left(j + 1\\right)^{2}}\\right)}{2}\n"
     ]
    }
   ],
   "source": [
    "Hler = H1.subs({f1:0,a_p:1,om:0,pom_p:0,f2:f2*sqrt(Th)})\n",
    "display(Hler)\n",
    "\n",
    "G1, g1 = symbols(\"Gamma_1 gamma_1\")\n",
    "S1 = G1 * (th + g) + Th1 * th\n",
    "display(S1)\n",
    "th_expr = solve(th1 - S1.diff(Th1), th)[0]\n",
    "display(Eq(th, th_expr))\n",
    "Th1_expr = solve(Th - S1.diff(th), Th1)[0]\n",
    "display(Eq(Th1, Th1_expr))\n",
    "Th_expr = S1.diff(th)\n",
    "display(Eq(Th, Th_expr))\n",
    "G_expr = S1.diff(g)\n",
    "display(Eq(G, G_expr))\n",
    "\n",
    "g_expr = solve(g1 - S1.diff(G1), g)[0]\n",
    "display(Eq(g, g_expr))\n",
    "G1_expr = solve(G - S1.diff(g), G1)[0]\n",
    "display(Eq(G1, G1_expr))\n",
    "\n",
    "Hler = Hler.subs({g: g_expr, Th: Th_expr, G: G_expr})\n",
    "\n",
    "\n",
    "display(Hler)\n",
    "\n",
    "display(Hler.taylor_term(3, sqrt(G1)))\n",
    "Hler = (\n",
    "    #Hler.taylor_term(0, sqrt(G1))\n",
    "     Hler.taylor_term(1, sqrt(G1))\n",
    "    + Hler.taylor_term(2, sqrt(G1))\n",
    "    + Hler.taylor_term(3, sqrt(G1))\n",
    "    + Hler.taylor_term(4, sqrt(G1))\n",
    ")\n",
    "\n",
    "display(Hler)\n",
    "print(latex(Hler))\n",
    "\n",
    "\n",
    "#X, Y = symbols(\"X,Y\")\n",
    "#Hler = Hler.subs({G1:Rational(1,2)*(X**2+Y**2)})\n",
    "#\n",
    "#display(Hler.diff(Y).subs({X:0}))"
   ]
  },
  {
   "cell_type": "markdown",
   "metadata": {},
   "source": [
    "# Conserved Quantities"
   ]
  },
  {
   "cell_type": "code",
   "execution_count": 12,
   "metadata": {},
   "outputs": [
    {
     "data": {
      "image/png": "[encoded data removed]",
      "text/latex": [
       "$\\displaystyle K_{1} \\left(\\gamma + \\theta\\right) + K_{2} \\theta$"
      ],
      "text/plain": [
       "K₁⋅(γ + θ) + K₂⋅θ"
      ]
     },
     "execution_count": 12,
     "metadata": {},
     "output_type": "execute_result"
    }
   ],
   "source": [
    "Hcons = H1.subs({f1:0,a_p:1,om:0})\n",
    "K_1, K_2, k_1, k_2 = symbols(\"K_1 K_2 k_1 k_2\")\n",
    "genFunc1 = K_1*(th+g) + K_2*th\n",
    "genFunc1"
   ]
  },
  {
   "cell_type": "code",
   "execution_count": 13,
   "metadata": {},
   "outputs": [
    {
     "data": {
      "image/png": "[encoded data removed]",
      "text/latex": [
       "$\\displaystyle K_{1}$"
      ],
      "text/plain": [
       "K₁"
      ]
     },
     "execution_count": 13,
     "metadata": {},
     "output_type": "execute_result"
    }
   ],
   "source": [
    "genFunc1.diff(g)"
   ]
  },
  {
   "cell_type": "code",
   "execution_count": 14,
   "metadata": {},
   "outputs": [
    {
     "data": {
      "image/png": "[encoded data removed]",
      "text/latex": [
       "$\\displaystyle K_{1} + K_{2}$"
      ],
      "text/plain": [
       "K₁ + K₂"
      ]
     },
     "execution_count": 14,
     "metadata": {},
     "output_type": "execute_result"
    }
   ],
   "source": [
    "genFunc1.diff(th)"
   ]
  },
  {
   "cell_type": "code",
   "execution_count": 15,
   "metadata": {},
   "outputs": [
    {
     "data": {
      "image/png": "[encoded data removed]",
      "text/latex": [
       "$\\displaystyle - \\frac{\\sqrt{2} \\sqrt{K_{1}} f_{2} \\mu_{p} \\cos{\\left(k_{1} \\right)}}{\\sqrt{K_{1} + K_{2}} \\sqrt{j + 1}} - j \\left(K_{1} + K_{2}\\right) - \\frac{1}{2 \\left(K_{1} + K_{2}\\right)^{2} \\left(j + 1\\right)^{2}}$"
      ],
      "text/plain": [
       "       ____                                                    \n",
       "  √2⋅╲╱ K₁ ⋅f₂⋅μₚ⋅cos(k₁)                           1          \n",
       "- ─────────────────────── - j⋅(K₁ + K₂) - ─────────────────────\n",
       "     _________   _______                             2        2\n",
       "   ╲╱ K₁ + K₂ ⋅╲╱ j + 1                   2⋅(K₁ + K₂) ⋅(j + 1) "
      ]
     },
     "execution_count": 15,
     "metadata": {},
     "output_type": "execute_result"
    }
   ],
   "source": [
    "Hcons.subs(Th,genFunc1.diff(th)).subs(G,genFunc1.diff(g)).subs(g,k_1-th)"
   ]
  },
  {
   "cell_type": "code",
   "execution_count": 16,
   "metadata": {},
   "outputs": [
    {
     "data": {
      "image/png": "[encoded data removed]",
      "text/latex": [
       "$\\displaystyle - \\frac{\\sqrt{a} e^{2}}{2} + \\frac{\\sqrt{a}}{j + 1}$"
      ],
      "text/plain": [
       "      2        \n",
       "  √a⋅e      √a \n",
       "- ───── + ─────\n",
       "    2     j + 1"
      ]
     },
     "execution_count": 16,
     "metadata": {},
     "output_type": "execute_result"
    }
   ],
   "source": [
    "K2_expr = (Th-G).subs({G:Rational(1,2)*sqrt(a)*e**2,Th:sqrt(a)/(j+1)})\n",
    "K2_expr"
   ]
  }
 ],
 "metadata": {
  "kernelspec": {
   "display_name": "py311",
   "language": "python",
   "name": "python3"
  },
  "language_info": {
   "codemirror_mode": {
    "name": "ipython",
    "version": 3
   },
   "file_extension": ".py",
   "mimetype": "text/x-python",
   "name": "python",
   "nbconvert_exporter": "python",
   "pygments_lexer": "ipython3",
   "version": "3.11.3"
  }
 },
 "nbformat": 4,
 "nbformat_minor": 2
}
