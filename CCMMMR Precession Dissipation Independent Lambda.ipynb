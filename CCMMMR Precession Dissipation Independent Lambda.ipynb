{
 "cells": [
  {
   "cell_type": "markdown",
   "metadata": {},
   "source": [
    "# Preamble"
   ]
  },
  {
   "cell_type": "code",
   "execution_count": 1,
   "metadata": {},
   "outputs": [
    {
     "name": "stdout",
     "output_type": "stream",
     "text": [
      "IPython console for SymPy 1.11.1 (Python 3.11.3-64-bit) (ground types: gmpy)\n",
      "\n",
      "These commands were executed:\n",
      ">>> from sympy import *\n",
      ">>> x, y, z, t = symbols('x y z t')\n",
      ">>> k, m, n = symbols('k m n', integer=True)\n",
      ">>> f, g, h = symbols('f g h', cls=Function)\n",
      ">>> init_printing()\n",
      "\n",
      "Documentation can be found at https://docs.sympy.org/1.11.1/\n",
      "\n"
     ]
    }
   ],
   "source": [
    "%matplotlib widget\n",
    "\n",
    "import os, glob, pathlib\n",
    "import sympy as sm\n",
    "import scipy as sp\n",
    "import numpy as np\n",
    "import matplotlib as mpl\n",
    "import matplotlib.ticker as ticker\n",
    "\n",
    "from matplotlib import pyplot as plt\n",
    "from mpl_styles import analytic\n",
    "from scipy.special import hyp2f1\n",
    "from sympy import init_printing, init_session\n",
    "\n",
    "from loky import get_reusable_executor\n",
    "import dill as pickle\n",
    "\n",
    "plt.style.use(analytic)\n",
    "init_session()\n",
    "init_printing()\n",
    "\n",
    "def Pochhammer(a, k):\n",
    "    if k == 0:\n",
    "        return 1.0\n",
    "    else:\n",
    "        return (a + k - 1) * Pochhammer(a, k - 1)\n",
    "\n",
    "\n",
    "def b(s, j, alpha):\n",
    "    if j >= 0:  # Eq. 7.87\n",
    "        return (\n",
    "            2\n",
    "            * Pochhammer(s, j)\n",
    "            / Pochhammer(1, j)\n",
    "            * (alpha**j)\n",
    "            * hyp2f1(s, s + j, j + 1, alpha * alpha)\n",
    "        )\n",
    "    else:  # Eq. 6.69\n",
    "        return b(s, -j, alpha)\n",
    "\n",
    "\n",
    "def Db(s, j, alpha):  # Eq. 6.70\n",
    "    aux = (\n",
    "        b(s + 1, j - 1, alpha) - 2 * alpha * b(s + 1, j, alpha) + b(s + 1, j + 1, alpha)\n",
    "    )\n",
    "    return s * aux\n",
    "\n",
    "\n",
    "def D2b(s, j, alpha):  # Eq. 6.71\n",
    "    aux = (\n",
    "        Db(s + 1, j - 1, alpha)\n",
    "        - 2 * alpha * Db(s + 1, j, alpha)\n",
    "        - 2 * b(s + 1, j, alpha)\n",
    "        + Db(s + 1, j + 1, alpha)\n",
    "    )\n",
    "    return s * aux\n",
    "\n",
    "\n",
    "def f27lc(alpha, j):\n",
    "    \"\"\"\n",
    "    f27 in MD p543\n",
    "    (1/2)[−2 j − αD] b^(j)_{1/2}(α) x [e1cos(theta1)]\n",
    "    \"\"\"\n",
    "    return 0.5 * (-2 * (j + 1) * b(0.5, j + 1, alpha) - alpha * Db(0.5, j + 1, alpha))\n",
    "\n",
    "\n",
    "def f31lc(alpha, j):\n",
    "    \"\"\"\n",
    "    f31 in MD p543\n",
    "    (1/2)[−1 + 2 j + αD] b^(j-1)_{1/2}(α) x [e2cos(theta2)]\n",
    "    \"\"\"\n",
    "    return 0.5 * ((-1 + 2 * (j + 1)) * b(0.5, j, alpha) + alpha * Db(0.5, j, alpha))\n",
    "\n",
    "def fs1(alpha):\n",
    "    \"\"\"\n",
    "    fs,1 in MD table 8.4 p. 331\n",
    "    (1/8)*(2*α*D+α**2*D^2)*b^(0)_(1/2)(α)\n",
    "    \"\"\"\n",
    "    return 0.125 * (2*alpha*Db(0.5,0,alpha) + alpha**2*D2b(0.5,0,alpha))\n",
    "\n",
    "def fs2(alpha):\n",
    "    \"\"\" \n",
    "    fs,2 in MD table 8.4 p. 331\n",
    "    (1/4)*(2-2*α*D-α**2*D^2)*b^(1)_(1/2)(α)\n",
    "    \"\"\"\n",
    "    return 0.25*(2*b(0.5,1,alpha)-2*alpha*Db(0.5,1,alpha)-alpha**2*D2b(0.5,1,alpha))\n",
    "\n",
    "alpha0 = (2 / (2 + 1)) ** (2.0 / 3)\n",
    "\n",
    "############################################################\n",
    "# If test particle is outside, have to multiply by alpha_0 #\n",
    "############################################################\n",
    "\n",
    "f1val = f27lc(alpha0, 2)\n",
    "f2val = f31lc(alpha0, 2)\n",
    "f3val = fs1(alpha0)\n",
    "f4val = fs2(alpha0)"
   ]
  },
  {
   "cell_type": "code",
   "execution_count": 2,
   "metadata": {},
   "outputs": [
    {
     "data": {
      "image/png": "[encoded data removed]",
      "text/latex": [
       "$\\displaystyle \\left( -2.0252226899386, \\  2.48400518330394, \\  1.15279980000761, \\  -2.00052297512445\\right)$"
      ],
      "text/plain": [
       "(-2.0252226899385954, 2.4840051833039407, 1.1527998000076145, -2.0005229751244\n",
       "46)"
      ]
     },
     "execution_count": 2,
     "metadata": {},
     "output_type": "execute_result"
    }
   ],
   "source": [
    "f1val, f2val, f3val, f4val"
   ]
  },
  {
   "cell_type": "markdown",
   "metadata": {},
   "source": [
    "# Poisson Bracket"
   ]
  },
  {
   "cell_type": "code",
   "execution_count": 3,
   "metadata": {},
   "outputs": [],
   "source": [
    "class PoissonBracket:\n",
    "    def __init__(self, q, p):\n",
    "        \"\"\"\n",
    "        q : list of canonical coordinates\n",
    "        p : list of canonical momenta\n",
    "        \"\"\"\n",
    "        self.dim = len(q)\n",
    "        if len(p) != self.dim:\n",
    "            raise Warning(\"Mismatch in canonical conjugate pair dimensions.\")\n",
    "        self.q = q\n",
    "        self.p = p\n",
    "    def __call__(self, f, g):\n",
    "        \"\"\"\n",
    "        f, g : Functions of canonical conjugate pairs p, q\n",
    "        \"\"\"\n",
    "        bracket = 0\n",
    "        for i in range(self.dim):\n",
    "            bracket += f.diff(self.p[i])*g.diff(self.q[i]) - g.diff(self.p[i])*f.diff(self.q[i])\n",
    "        return(bracket)"
   ]
  },
  {
   "cell_type": "markdown",
   "metadata": {},
   "source": [
    "# Hamiltonian and Canonical Variables"
   ]
  },
  {
   "cell_type": "code",
   "execution_count": 4,
   "metadata": {},
   "outputs": [
    {
     "data": {
      "image/png": "[encoded data removed]",
      "text/latex": [
       "$\\displaystyle - \\frac{\\omega_{1\\rm{e}} \\sqrt{a_{1}} e_{1}^{2} q}{2} - \\frac{\\omega_{2\\rm{e}} \\sqrt{a_{2}} e_{2}^{2}}{2} - \\frac{e_{1} e_{2} f_{4} \\mu_{2} q \\cos{\\left(\\varpi_{1} - \\varpi_{2} \\right)}}{a_{2}} - \\frac{e_{1} f_{1} \\mu_{2} q \\cos{\\left(j \\lambda_{1} - \\lambda_{2} \\left(j + 1\\right) + \\varpi_{1} \\right)}}{a_{2}} - \\frac{e_{2} f_{2} \\mu_{2} q \\cos{\\left(j \\lambda_{1} - \\lambda_{2} \\left(j + 1\\right) + \\varpi_{2} \\right)}}{a_{2}} - \\frac{f_{3} \\mu_{2} q \\left(e_{1}^{2} + e_{2}^{2}\\right)}{a_{2}} - \\frac{1}{2 a_{2}} - \\frac{q}{2 a_{1}}$"
      ],
      "text/plain": [
       "                     ____   2                        ____   2                 \n",
       "  \\omega_{1\\rm{e}}⋅╲╱ a₁ ⋅e₁ ⋅q   \\omega_{2\\rm{e}}⋅╲╱ a₂ ⋅e₂    e₁⋅e₂⋅f₄⋅μ₂⋅q⋅\n",
       "- ───────────────────────────── - ─────────────────────────── - ──────────────\n",
       "                2                              2                              \n",
       "\n",
       "                                                                              \n",
       "cos(varpi₁ - varpi₂)   e₁⋅f₁⋅μ₂⋅q⋅cos(j⋅λ₁ - λ₂⋅(j + 1) + varpi₁)   e₂⋅f₂⋅μ₂⋅q\n",
       "──────────────────── - ────────────────────────────────────────── - ──────────\n",
       "  a₂                                       a₂                                 \n",
       "\n",
       "                                           ⎛  2     2⎞              \n",
       "⋅cos(j⋅λ₁ - λ₂⋅(j + 1) + varpi₂)   f₃⋅μ₂⋅q⋅⎝e₁  + e₂ ⎠    1      q  \n",
       "──────────────────────────────── - ─────────────────── - ──── - ────\n",
       "          a₂                                a₂           2⋅a₂   2⋅a₁"
      ]
     },
     "execution_count": 4,
     "metadata": {},
     "output_type": "execute_result"
    }
   ],
   "source": [
    "a1, a2, e1, e2, mu2, l1, l2, pom1, pom2, f1, f2, f3, f4, j, om1, om2 = symbols(\n",
    "    r\"a_1 a_2 e_1 e_2 mu_2 lambda_1 lambda_2 varpi_1 varpi_2 f_1 f_2 f_3 f_4 j \\omega_{1\\rm{e}} \\omega_{2\\rm{e}}\"\n",
    ")\n",
    "q = symbols(r\"q\", positive=True)\n",
    "calH = (\n",
    "    -q / (2 * a1)\n",
    "    - 1 / (2 * a2)\n",
    "    - q* mu2/ a2\n",
    "    * f1 * e1 * cos((j + 1) * l2 - j * l1 - pom1)\n",
    "    - q* mu2/ a2* f2 * e2 * cos((j + 1) * l2 - j * l1 - pom2)\n",
    "    -om1*Rational(1,2)*q*sqrt(a1)*e1**2\n",
    "    -om2*Rational(1,2)*sqrt(a2)*e2**2\n",
    "    -q*mu2/a2*f3*(e1**2+e2**2) -q*mu2/a2*f4*e1*e2*cos(pom1-pom2)\n",
    ")\n",
    "calH"
   ]
  },
  {
   "cell_type": "code",
   "execution_count": 5,
   "metadata": {},
   "outputs": [],
   "source": [
    "L1, L2, G1, G2 = symbols(\"Lambda_1 Lambda_2 Gamma_1 Gamma_2\", positive=True)\n",
    "g1, g2 = symbols(\"gamma_1 gamma_2\")"
   ]
  },
  {
   "cell_type": "code",
   "execution_count": 6,
   "metadata": {},
   "outputs": [],
   "source": [
    "def orbelts_to_delaunay(expr):\n",
    "    return expr.subs(\n",
    "        {\n",
    "            e1: sqrt(2 * G1 / L1),\n",
    "            e2: sqrt(2 * G2 / L2),\n",
    "            a1: L1**2/q**2,\n",
    "            a2: L2**2,\n",
    "            pom1: -g1,\n",
    "            pom2: -g2,\n",
    "        }\n",
    "    )\n",
    "\n",
    "\n",
    "def delaunay_to_orbelts(expr):\n",
    "    return expr.subs(\n",
    "        {\n",
    "            g1: -pom1,\n",
    "            g2: -pom2,\n",
    "            G1: Rational(1, 2) * L1 * e1**2,\n",
    "            G2: Rational(1, 2) * L2 * e2**2,\n",
    "            L1: q*sqrt(a1),\n",
    "            L2: sqrt(a2),\n",
    "        }\n",
    "    )"
   ]
  },
  {
   "cell_type": "markdown",
   "metadata": {},
   "source": [
    "# Canonical transformations for numerical experiments"
   ]
  },
  {
   "cell_type": "code",
   "execution_count": 7,
   "metadata": {},
   "outputs": [
    {
     "data": {
      "image/png": "[encoded data removed]",
      "text/latex": [
       "$\\displaystyle - \\frac{2 \\sqrt{\\Gamma_{1}} \\sqrt{\\Gamma_{2}} f_{4} \\mu_{2} q \\left(\\sin{\\left(\\gamma_{1} \\right)} \\sin{\\left(\\gamma_{2} \\right)} + \\cos{\\left(\\gamma_{1} \\right)} \\cos{\\left(\\gamma_{2} \\right)}\\right)}{\\sqrt{\\Lambda_{1}} \\Lambda_{2}^{\\frac{5}{2}}} - \\frac{\\sqrt{2} \\sqrt{\\Gamma_{1}} f_{1} \\mu_{2} q \\left(\\left(\\sin{\\left(j \\lambda_{1} \\right)} \\sin{\\left(\\lambda_{2} \\left(j + 1\\right) \\right)} + \\cos{\\left(j \\lambda_{1} \\right)} \\cos{\\left(\\lambda_{2} \\left(j + 1\\right) \\right)}\\right) \\cos{\\left(\\gamma_{1} \\right)} - \\left(- \\sin{\\left(j \\lambda_{1} \\right)} \\cos{\\left(\\lambda_{2} \\left(j + 1\\right) \\right)} + \\sin{\\left(\\lambda_{2} \\left(j + 1\\right) \\right)} \\cos{\\left(j \\lambda_{1} \\right)}\\right) \\sin{\\left(\\gamma_{1} \\right)}\\right)}{\\sqrt{\\Lambda_{1}} \\Lambda_{2}^{2}} - \\Gamma_{1} \\omega_{1\\rm{e}} - \\frac{\\sqrt{2} \\sqrt{\\Gamma_{2}} f_{2} \\mu_{2} q \\left(\\left(\\sin{\\left(j \\lambda_{1} \\right)} \\sin{\\left(\\lambda_{2} \\left(j + 1\\right) \\right)} + \\cos{\\left(j \\lambda_{1} \\right)} \\cos{\\left(\\lambda_{2} \\left(j + 1\\right) \\right)}\\right) \\cos{\\left(\\gamma_{2} \\right)} - \\left(- \\sin{\\left(j \\lambda_{1} \\right)} \\cos{\\left(\\lambda_{2} \\left(j + 1\\right) \\right)} + \\sin{\\left(\\lambda_{2} \\left(j + 1\\right) \\right)} \\cos{\\left(j \\lambda_{1} \\right)}\\right) \\sin{\\left(\\gamma_{2} \\right)}\\right)}{\\Lambda_{2}^{\\frac{5}{2}}} - \\Gamma_{2} \\omega_{2\\rm{e}} - \\frac{f_{3} \\mu_{2} q \\left(\\frac{2 \\Gamma_{1}}{\\Lambda_{1}} + \\frac{2 \\Gamma_{2}}{\\Lambda_{2}}\\right)}{\\Lambda_{2}^{2}} - \\frac{1}{2 \\Lambda_{2}^{2}} - \\frac{q^{3}}{2 \\Lambda_{1}^{2}}$"
      ],
      "text/plain": [
       "                                                                              \n",
       "      ____   ____                                                    ____     \n",
       "  2⋅╲╱ Γ₁ ⋅╲╱ Γ₂ ⋅f₄⋅μ₂⋅q⋅(sin(γ₁)⋅sin(γ₂) + cos(γ₁)⋅cos(γ₂))   √2⋅╲╱ Γ₁ ⋅f₁⋅μ\n",
       "- ─────────────────────────────────────────────────────────── - ──────────────\n",
       "                            ____   5/2                                        \n",
       "                          ╲╱ Λ₁ ⋅Λ₂                                           \n",
       "\n",
       "                                                                              \n",
       "                                                                              \n",
       "₂⋅q⋅((sin(j⋅λ₁)⋅sin(λ₂⋅(j + 1)) + cos(j⋅λ₁)⋅cos(λ₂⋅(j + 1)))⋅cos(γ₁) - (-sin(j\n",
       "──────────────────────────────────────────────────────────────────────────────\n",
       "                                                          ____   2            \n",
       "                                                        ╲╱ Λ₁ ⋅Λ₂             \n",
       "\n",
       "                                                                              \n",
       "                                                                              \n",
       "⋅λ₁)⋅cos(λ₂⋅(j + 1)) + sin(λ₂⋅(j + 1))⋅cos(j⋅λ₁))⋅sin(γ₁))                    \n",
       "────────────────────────────────────────────────────────── - Γ₁⋅\\omega_{1\\rm{e\n",
       "                                                                              \n",
       "                                                                              \n",
       "\n",
       "                                                                              \n",
       "          ____                                                                \n",
       "     √2⋅╲╱ Γ₂ ⋅f₂⋅μ₂⋅q⋅((sin(j⋅λ₁)⋅sin(λ₂⋅(j + 1)) + cos(j⋅λ₁)⋅cos(λ₂⋅(j + 1))\n",
       "}} - ─────────────────────────────────────────────────────────────────────────\n",
       "                                                                              \n",
       "                                                                             Λ\n",
       "\n",
       "                                                                              \n",
       "                                                                              \n",
       ")⋅cos(γ₂) - (-sin(j⋅λ₁)⋅cos(λ₂⋅(j + 1)) + sin(λ₂⋅(j + 1))⋅cos(j⋅λ₁))⋅sin(γ₂)) \n",
       "───────────────────────────────────────────────────────────────────────────── \n",
       " 5/2                                                                          \n",
       "₂                                                                             \n",
       "\n",
       "                                ⎛2⋅Γ₁   2⋅Γ₂⎞                \n",
       "                        f₃⋅μ₂⋅q⋅⎜──── + ────⎟              3 \n",
       "                                ⎝ Λ₁     Λ₂ ⎠     1       q  \n",
       "- Γ₂⋅\\omega_{2\\rm{e}} - ───────────────────── - ───── - ─────\n",
       "                                   2                2       2\n",
       "                                 Λ₂             2⋅Λ₂    2⋅Λ₁ "
      ]
     },
     "execution_count": 7,
     "metadata": {},
     "output_type": "execute_result"
    }
   ],
   "source": [
    "H1 = expand_trig(orbelts_to_delaunay(calH).subs({sqrt(L1**2):L1,sqrt(L2**2):L2}))\n",
    "H1"
   ]
  },
  {
   "cell_type": "code",
   "execution_count": 8,
   "metadata": {},
   "outputs": [
    {
     "data": {
      "image/png": "[encoded data removed]",
      "text/latex": [
       "$\\displaystyle 1$"
      ],
      "text/plain": [
       "1"
      ]
     },
     "metadata": {},
     "output_type": "display_data"
    },
    {
     "data": {
      "image/png": "[encoded data removed]",
      "text/latex": [
       "$\\displaystyle 1$"
      ],
      "text/plain": [
       "1"
      ]
     },
     "metadata": {},
     "output_type": "display_data"
    }
   ],
   "source": [
    "X1, X2, Y1, Y2 = symbols(\"X_1 X_2 Y_1 Y_2\")\n",
    "PBgG = PoissonBracket([g1, g2], [G1, G2])\n",
    "X1_expr, Y1_expr = sqrt(2*G1) * sin(g1), sqrt(2*G1) * cos(g1)\n",
    "X2_expr, Y2_expr = sqrt(2*G2) * sin(g2), sqrt(2*G2) * cos(g2)\n",
    "display(PBgG(Y1_expr,X1_expr).simplify())\n",
    "display(PBgG(Y2_expr,X2_expr).simplify())"
   ]
  },
  {
   "cell_type": "code",
   "execution_count": 9,
   "metadata": {},
   "outputs": [
    {
     "data": {
      "image/png": "[encoded data removed]",
      "text/latex": [
       "$\\displaystyle - \\frac{X_{1}^{2} \\omega_{1\\rm{e}}}{2} - \\frac{X_{2}^{2} \\omega_{2\\rm{e}}}{2} - \\frac{Y_{1}^{2} \\omega_{1\\rm{e}}}{2} - \\frac{Y_{2}^{2} \\omega_{2\\rm{e}}}{2} - \\frac{1}{2 \\Lambda_{2}^{2}} - \\frac{X_{2}^{2} f_{3} \\mu_{2} q}{\\Lambda_{2}^{3}} - \\frac{Y_{2}^{2} f_{3} \\mu_{2} q}{\\Lambda_{2}^{3}} + \\frac{X_{2} f_{2} \\mu_{2} q \\sin{\\left(- j \\lambda_{1} + j \\lambda_{2} + \\lambda_{2} \\right)}}{\\Lambda_{2}^{\\frac{5}{2}}} - \\frac{Y_{2} f_{2} \\mu_{2} q \\cos{\\left(- j \\lambda_{1} + j \\lambda_{2} + \\lambda_{2} \\right)}}{\\Lambda_{2}^{\\frac{5}{2}}} - \\frac{X_{1}^{2} f_{3} \\mu_{2} q}{\\Lambda_{1} \\Lambda_{2}^{2}} - \\frac{Y_{1}^{2} f_{3} \\mu_{2} q}{\\Lambda_{1} \\Lambda_{2}^{2}} - \\frac{q^{3}}{2 \\Lambda_{1}^{2}} + \\frac{X_{1} f_{1} \\mu_{2} q \\sin{\\left(- j \\lambda_{1} + j \\lambda_{2} + \\lambda_{2} \\right)}}{\\sqrt{\\Lambda_{1}} \\Lambda_{2}^{2}} - \\frac{Y_{1} f_{1} \\mu_{2} q \\cos{\\left(- j \\lambda_{1} + j \\lambda_{2} + \\lambda_{2} \\right)}}{\\sqrt{\\Lambda_{1}} \\Lambda_{2}^{2}} - \\frac{X_{1} X_{2} f_{4} \\mu_{2} q}{\\sqrt{\\Lambda_{1}} \\Lambda_{2}^{\\frac{5}{2}}} - \\frac{Y_{1} Y_{2} f_{4} \\mu_{2} q}{\\sqrt{\\Lambda_{1}} \\Lambda_{2}^{\\frac{5}{2}}}$"
      ],
      "text/plain": [
       "    2                      2                      2                      2    \n",
       "  X₁ ⋅\\omega_{1\\rm{e}}   X₂ ⋅\\omega_{2\\rm{e}}   Y₁ ⋅\\omega_{1\\rm{e}}   Y₂ ⋅\\om\n",
       "- ──────────────────── - ──────────────────── - ──────────────────── - ───────\n",
       "           2                      2                      2                    \n",
       "                                                                              \n",
       "\n",
       "                          2             2                                     \n",
       "ega_{2\\rm{e}}     1     X₂ ⋅f₃⋅μ₂⋅q   Y₂ ⋅f₃⋅μ₂⋅q   X₂⋅f₂⋅μ₂⋅q⋅sin(-j⋅λ₁ + j⋅λ\n",
       "───────────── - ───── - ─────────── - ─────────── + ──────────────────────────\n",
       "  2                 2         3             3                       5/2       \n",
       "                2⋅Λ₂        Λ₂            Λ₂                      Λ₂          \n",
       "\n",
       "                                                2             2              3\n",
       "₂ + λ₂)   Y₂⋅f₂⋅μ₂⋅q⋅cos(-j⋅λ₁ + j⋅λ₂ + λ₂)   X₁ ⋅f₃⋅μ₂⋅q   Y₁ ⋅f₃⋅μ₂⋅q     q \n",
       "─────── - ───────────────────────────────── - ─────────── - ─────────── - ────\n",
       "                          5/2                         2             2         \n",
       "                        Λ₂                       Λ₁⋅Λ₂         Λ₁⋅Λ₂      2⋅Λ₁\n",
       "\n",
       "                                                                              \n",
       "    X₁⋅f₁⋅μ₂⋅q⋅sin(-j⋅λ₁ + j⋅λ₂ + λ₂)   Y₁⋅f₁⋅μ₂⋅q⋅cos(-j⋅λ₁ + j⋅λ₂ + λ₂)   X₁\n",
       "─ + ───────────────────────────────── - ───────────────────────────────── - ──\n",
       "2                 ____   2                            ____   2                \n",
       "                ╲╱ Λ₁ ⋅Λ₂                           ╲╱ Λ₁ ⋅Λ₂                ╲\n",
       "\n",
       "                           \n",
       "⋅X₂⋅f₄⋅μ₂⋅q   Y₁⋅Y₂⋅f₄⋅μ₂⋅q\n",
       "─────────── - ─────────────\n",
       " ____   5/2      ____   5/2\n",
       "╱ Λ₁ ⋅Λ₂       ╲╱ Λ₁ ⋅Λ₂   "
      ]
     },
     "execution_count": 9,
     "metadata": {},
     "output_type": "execute_result"
    }
   ],
   "source": [
    "H2 = H1.subs(\n",
    "    {\n",
    "        sin(g1): X1 / sqrt(2 * G1),\n",
    "        cos(g1): Y1 / sqrt(2 * G1),\n",
    "        sin(g2): X2 / sqrt(2 * G2),\n",
    "        cos(g2): Y2 / sqrt(2 * G2),\n",
    "        G1:Rational(1,2)*(X1**2+Y1**2),\n",
    "        G2:Rational(1,2)*(X2**2+Y2**2),\n",
    "    }\n",
    ").trigsimp()#.simplify(deep=True).expand()\n",
    "H2"
   ]
  },
  {
   "cell_type": "code",
   "execution_count": 10,
   "metadata": {},
   "outputs": [
    {
     "data": {
      "image/png": "[encoded data removed]",
      "text/latex": [
       "$\\displaystyle - \\frac{X_{1}^{2} \\omega_{1\\rm{e}}}{2} - \\frac{X_{2}^{2} \\omega_{2\\rm{e}}}{2} - \\frac{Y_{1}^{2} \\omega_{1\\rm{e}}}{2} - \\frac{Y_{2}^{2} \\omega_{2\\rm{e}}}{2} - \\frac{1}{2 \\Lambda_{2}^{2}} - \\frac{X_{2}^{2} f_{3} \\mu_{2} q}{\\Lambda_{2}^{3}} - \\frac{Y_{2}^{2} f_{3} \\mu_{2} q}{\\Lambda_{2}^{3}} + \\frac{X_{2} f_{2} \\mu_{2} q \\sin{\\left(- j \\lambda_{1} + j \\lambda_{2} + \\lambda_{2} \\right)}}{\\Lambda_{2}^{\\frac{5}{2}}} - \\frac{Y_{2} f_{2} \\mu_{2} q \\cos{\\left(- j \\lambda_{1} + j \\lambda_{2} + \\lambda_{2} \\right)}}{\\Lambda_{2}^{\\frac{5}{2}}} - \\frac{X_{1}^{2} f_{3} \\mu_{2} q}{\\Lambda_{1} \\Lambda_{2}^{2}} - \\frac{Y_{1}^{2} f_{3} \\mu_{2} q}{\\Lambda_{1} \\Lambda_{2}^{2}} - \\frac{q^{3}}{2 \\Lambda_{1}^{2}} + \\frac{X_{1} f_{1} \\mu_{2} q \\sin{\\left(- j \\lambda_{1} + j \\lambda_{2} + \\lambda_{2} \\right)}}{\\sqrt{\\Lambda_{1}} \\Lambda_{2}^{2}} - \\frac{Y_{1} f_{1} \\mu_{2} q \\cos{\\left(- j \\lambda_{1} + j \\lambda_{2} + \\lambda_{2} \\right)}}{\\sqrt{\\Lambda_{1}} \\Lambda_{2}^{2}} - \\frac{X_{1} X_{2} f_{4} \\mu_{2} q}{\\sqrt{\\Lambda_{1}} \\Lambda_{2}^{\\frac{5}{2}}} - \\frac{Y_{1} Y_{2} f_{4} \\mu_{2} q}{\\sqrt{\\Lambda_{1}} \\Lambda_{2}^{\\frac{5}{2}}}$"
      ],
      "text/plain": [
       "    2                      2                      2                      2    \n",
       "  X₁ ⋅\\omega_{1\\rm{e}}   X₂ ⋅\\omega_{2\\rm{e}}   Y₁ ⋅\\omega_{1\\rm{e}}   Y₂ ⋅\\om\n",
       "- ──────────────────── - ──────────────────── - ──────────────────── - ───────\n",
       "           2                      2                      2                    \n",
       "                                                                              \n",
       "\n",
       "                          2             2                                     \n",
       "ega_{2\\rm{e}}     1     X₂ ⋅f₃⋅μ₂⋅q   Y₂ ⋅f₃⋅μ₂⋅q   X₂⋅f₂⋅μ₂⋅q⋅sin(-j⋅λ₁ + j⋅λ\n",
       "───────────── - ───── - ─────────── - ─────────── + ──────────────────────────\n",
       "  2                 2         3             3                       5/2       \n",
       "                2⋅Λ₂        Λ₂            Λ₂                      Λ₂          \n",
       "\n",
       "                                                2             2              3\n",
       "₂ + λ₂)   Y₂⋅f₂⋅μ₂⋅q⋅cos(-j⋅λ₁ + j⋅λ₂ + λ₂)   X₁ ⋅f₃⋅μ₂⋅q   Y₁ ⋅f₃⋅μ₂⋅q     q \n",
       "─────── - ───────────────────────────────── - ─────────── - ─────────── - ────\n",
       "                          5/2                         2             2         \n",
       "                        Λ₂                       Λ₁⋅Λ₂         Λ₁⋅Λ₂      2⋅Λ₁\n",
       "\n",
       "                                                                              \n",
       "    X₁⋅f₁⋅μ₂⋅q⋅sin(-j⋅λ₁ + j⋅λ₂ + λ₂)   Y₁⋅f₁⋅μ₂⋅q⋅cos(-j⋅λ₁ + j⋅λ₂ + λ₂)   X₁\n",
       "─ + ───────────────────────────────── - ───────────────────────────────── - ──\n",
       "2                 ____   2                            ____   2                \n",
       "                ╲╱ Λ₁ ⋅Λ₂                           ╲╱ Λ₁ ⋅Λ₂                ╲\n",
       "\n",
       "                           \n",
       "⋅X₂⋅f₄⋅μ₂⋅q   Y₁⋅Y₂⋅f₄⋅μ₂⋅q\n",
       "─────────── - ─────────────\n",
       " ____   5/2      ____   5/2\n",
       "╱ Λ₁ ⋅Λ₂       ╲╱ Λ₁ ⋅Λ₂   "
      ]
     },
     "execution_count": 10,
     "metadata": {},
     "output_type": "execute_result"
    }
   ],
   "source": [
    "H3 = 0\n",
    "for term in H2.args:\n",
    "    H3 += term.cancel().simplify(deep=True).factor()\n",
    "H3"
   ]
  },
  {
   "cell_type": "markdown",
   "metadata": {},
   "source": [
    "# Dissipation"
   ]
  },
  {
   "cell_type": "code",
   "execution_count": 11,
   "metadata": {},
   "outputs": [],
   "source": [
    "Te1, Te2, Tm1, Tm2 = symbols(r\"T_{\\rm{e}1} T_{\\rm{e}2} T_{\\rm{m}1} T_{\\rm{m}2}\")"
   ]
  },
  {
   "cell_type": "code",
   "execution_count": 12,
   "metadata": {},
   "outputs": [
    {
     "data": {
      "image/png": "[encoded data removed]",
      "text/latex": [
       "$\\displaystyle \\left( - \\frac{a_{1}}{T_{\\rm{m}1}} - \\frac{2 a_{1} e_{1}^{2}}{T_{\\rm{e}1}}, \\  - \\frac{e_{1}}{T_{\\rm{e}1}}, \\  - \\frac{a_{2}}{T_{\\rm{m}2}} - \\frac{2 a_{2} e_{2}^{2}}{T_{\\rm{e}2}}, \\  - \\frac{e_{2}}{T_{\\rm{e}2}}\\right)$"
      ],
      "text/plain": [
       "⎛                         2                                         2         \n",
       "⎜       a₁         2⋅a₁⋅e₁        -e₁             a₂         2⋅a₂⋅e₂        -e\n",
       "⎜- ─────────── - ───────────, ───────────, - ─────────── - ───────────, ──────\n",
       "⎝  T_{\\rm{m}1}   T_{\\rm{e}1}  T_{\\rm{e}1}    T_{\\rm{m}2}   T_{\\rm{e}2}  T_{\\rm\n",
       "\n",
       "     ⎞\n",
       "₂    ⎟\n",
       "─────⎟\n",
       "{e}2}⎠"
      ]
     },
     "execution_count": 12,
     "metadata": {},
     "output_type": "execute_result"
    }
   ],
   "source": [
    "a1dot_dis = -a1/Tm1 - 2*e1**2*a1/Te1\n",
    "a2dot_dis = -a2/Tm2 - 2*e2**2*a2/Te2\n",
    "\n",
    "e1dot_dis = -e1/Te1\n",
    "e2dot_dis = -e2/Te2\n",
    "\n",
    "a1dot_dis,e1dot_dis,a2dot_dis,e2dot_dis"
   ]
  },
  {
   "cell_type": "code",
   "execution_count": 13,
   "metadata": {},
   "outputs": [
    {
     "data": {
      "image/png": "[encoded data removed]",
      "text/latex": [
       "$\\displaystyle - \\frac{\\Lambda_{1}}{2 T_{\\rm{m}1}} - \\frac{X_{1}^{2}}{T_{\\rm{e}1}} - \\frac{Y_{1}^{2}}{T_{\\rm{e}1}}$"
      ],
      "text/plain": [
       "                        2             2    \n",
       "        Λ₁            X₁            Y₁     \n",
       "- ───────────── - ─────────── - ───────────\n",
       "  2⋅T_{\\rm{m}1}   T_{\\rm{e}1}   T_{\\rm{e}1}"
      ]
     },
     "execution_count": 13,
     "metadata": {},
     "output_type": "execute_result"
    }
   ],
   "source": [
    "L1dot_dis = orbelts_to_delaunay(delaunay_to_orbelts(L1).diff(a1)*a1dot_dis).subs({G1:Rational(1,2)*(X1**2+Y1**2)}).simplify()\n",
    "L1dot_dis"
   ]
  },
  {
   "cell_type": "code",
   "execution_count": 14,
   "metadata": {},
   "outputs": [
    {
     "data": {
      "image/png": "[encoded data removed]",
      "text/latex": [
       "$\\displaystyle - \\frac{\\Lambda_{2}}{2 T_{\\rm{m}2}} - \\frac{X_{2}^{2}}{T_{\\rm{e}2}} - \\frac{Y_{2}^{2}}{T_{\\rm{e}2}}$"
      ],
      "text/plain": [
       "                        2             2    \n",
       "        Λ₂            X₂            Y₂     \n",
       "- ───────────── - ─────────── - ───────────\n",
       "  2⋅T_{\\rm{m}2}   T_{\\rm{e}2}   T_{\\rm{e}2}"
      ]
     },
     "execution_count": 14,
     "metadata": {},
     "output_type": "execute_result"
    }
   ],
   "source": [
    "L2dot_dis = orbelts_to_delaunay(delaunay_to_orbelts(L2).diff(a2)*a2dot_dis).subs({G2:Rational(1,2)*(X2**2+Y2**2)}).simplify()\n",
    "L2dot_dis"
   ]
  },
  {
   "cell_type": "code",
   "execution_count": 15,
   "metadata": {},
   "outputs": [
    {
     "data": {
      "image/png": "[encoded data removed]",
      "text/latex": [
       "$\\displaystyle - \\frac{X_{1}}{4 T_{\\rm{m}1}} - \\frac{X_{1}}{T_{\\rm{e}1}} - \\frac{X_{1}^{3}}{2 \\Lambda_{1} T_{\\rm{e}1}} - \\frac{X_{1} Y_{1}^{2}}{2 \\Lambda_{1} T_{\\rm{e}1}}$"
      ],
      "text/plain": [
       "                                        3                    2     \n",
       "        X₁             X₁             X₁                X₁⋅Y₁      \n",
       "- ───────────── - ─────────── - ──────────────── - ────────────────\n",
       "  4⋅T_{\\rm{m}1}   T_{\\rm{e}1}   2⋅Λ₁⋅T_{\\rm{e}1}   2⋅Λ₁⋅T_{\\rm{e}1}"
      ]
     },
     "execution_count": 15,
     "metadata": {},
     "output_type": "execute_result"
    }
   ],
   "source": [
    "X1dot_dis = (\n",
    "    orbelts_to_delaunay(\n",
    "        delaunay_to_orbelts(X1_expr).diff(a1) * a1dot_dis\n",
    "        + delaunay_to_orbelts(X1_expr).diff(e1) * e1dot_dis\n",
    "    )\n",
    "    .subs({\n",
    "        sin(g1): X1 / sqrt(2 * G1),\n",
    "        G1: Rational(1,2)*(X1**2+Y1**2)\n",
    "        })\n",
    ").expand()\n",
    "X1dot_dis"
   ]
  },
  {
   "cell_type": "code",
   "execution_count": 16,
   "metadata": {},
   "outputs": [
    {
     "data": {
      "image/png": "[encoded data removed]",
      "text/latex": [
       "$\\displaystyle - \\frac{Y_{1}}{4 T_{\\rm{m}1}} - \\frac{Y_{1}}{T_{\\rm{e}1}} - \\frac{X_{1}^{2} Y_{1}}{2 \\Lambda_{1} T_{\\rm{e}1}} - \\frac{Y_{1}^{3}}{2 \\Lambda_{1} T_{\\rm{e}1}}$"
      ],
      "text/plain": [
       "                                       2                   3       \n",
       "        Y₁             Y₁            X₁ ⋅Y₁              Y₁        \n",
       "- ───────────── - ─────────── - ──────────────── - ────────────────\n",
       "  4⋅T_{\\rm{m}1}   T_{\\rm{e}1}   2⋅Λ₁⋅T_{\\rm{e}1}   2⋅Λ₁⋅T_{\\rm{e}1}"
      ]
     },
     "execution_count": 16,
     "metadata": {},
     "output_type": "execute_result"
    }
   ],
   "source": [
    "Y1dot_dis = (\n",
    "    orbelts_to_delaunay(\n",
    "        delaunay_to_orbelts(Y1_expr).diff(a1) * a1dot_dis\n",
    "        + delaunay_to_orbelts(Y1_expr).diff(e1) * e1dot_dis\n",
    "    )\n",
    "    .subs({\n",
    "        cos(g1): Y1 / sqrt(2 * G1),\n",
    "        G1: Rational(1,2)*(X1**2+Y1**2)\n",
    "        })\n",
    ").expand()\n",
    "Y1dot_dis"
   ]
  },
  {
   "cell_type": "code",
   "execution_count": 17,
   "metadata": {},
   "outputs": [
    {
     "data": {
      "image/png": "[encoded data removed]",
      "text/latex": [
       "$\\displaystyle - \\frac{X_{2}}{4 T_{\\rm{m}2}} - \\frac{X_{2}}{T_{\\rm{e}2}} - \\frac{X_{2}^{3}}{2 \\Lambda_{2} T_{\\rm{e}2}} - \\frac{X_{2} Y_{2}^{2}}{2 \\Lambda_{2} T_{\\rm{e}2}}$"
      ],
      "text/plain": [
       "                                        3                    2     \n",
       "        X₂             X₂             X₂                X₂⋅Y₂      \n",
       "- ───────────── - ─────────── - ──────────────── - ────────────────\n",
       "  4⋅T_{\\rm{m}2}   T_{\\rm{e}2}   2⋅Λ₂⋅T_{\\rm{e}2}   2⋅Λ₂⋅T_{\\rm{e}2}"
      ]
     },
     "execution_count": 17,
     "metadata": {},
     "output_type": "execute_result"
    }
   ],
   "source": [
    "X2dot_dis = (\n",
    "    orbelts_to_delaunay(\n",
    "        delaunay_to_orbelts(X2_expr).diff(a2) * a2dot_dis\n",
    "        + delaunay_to_orbelts(X2_expr).diff(e2) * e2dot_dis\n",
    "    )\n",
    "    .subs({\n",
    "        sin(g2): X2 / sqrt(2 * G2),\n",
    "        G2: Rational(1,2)*(X2**2+Y2**2)\n",
    "        })\n",
    ").simplify().expand()\n",
    "X2dot_dis"
   ]
  },
  {
   "cell_type": "code",
   "execution_count": 18,
   "metadata": {},
   "outputs": [
    {
     "data": {
      "image/png": "[encoded data removed]",
      "text/latex": [
       "$\\displaystyle - \\frac{Y_{2}}{4 T_{\\rm{m}2}} - \\frac{Y_{2}}{T_{\\rm{e}2}} - \\frac{X_{2}^{2} Y_{2}}{2 \\Lambda_{2} T_{\\rm{e}2}} - \\frac{Y_{2}^{3}}{2 \\Lambda_{2} T_{\\rm{e}2}}$"
      ],
      "text/plain": [
       "                                       2                   3       \n",
       "        Y₂             Y₂            X₂ ⋅Y₂              Y₂        \n",
       "- ───────────── - ─────────── - ──────────────── - ────────────────\n",
       "  4⋅T_{\\rm{m}2}   T_{\\rm{e}2}   2⋅Λ₂⋅T_{\\rm{e}2}   2⋅Λ₂⋅T_{\\rm{e}2}"
      ]
     },
     "execution_count": 18,
     "metadata": {},
     "output_type": "execute_result"
    }
   ],
   "source": [
    "Y2dot_dis = (\n",
    "    orbelts_to_delaunay(\n",
    "        delaunay_to_orbelts(Y2_expr).diff(a2) * a2dot_dis\n",
    "        + delaunay_to_orbelts(Y2_expr).diff(e2) * e2dot_dis\n",
    "    )\n",
    "    .subs({\n",
    "        cos(g2): Y2 / sqrt(2 * G2),\n",
    "        G2: Rational(1,2)*(X2**2+Y2**2)\n",
    "        })\n",
    ").simplify().expand()\n",
    "Y2dot_dis"
   ]
  },
  {
   "cell_type": "markdown",
   "metadata": {},
   "source": [
    "# Numerical Integration "
   ]
  },
  {
   "cell_type": "code",
   "execution_count": 101,
   "metadata": {},
   "outputs": [],
   "source": [
    "qval = 0.5\n",
    "\n",
    "l1_dot = H3.diff(L1)\n",
    "l2_dot = H3.diff(L2)\n",
    "L1_dot = -H3.diff(l1) + L1dot_dis\n",
    "L2_dot = -H3.diff(l2) + L2dot_dis\n",
    "X1_dot = H3.diff(Y1) + X1dot_dis\n",
    "X2_dot = H3.diff(Y2) + X2dot_dis\n",
    "Y1_dot = -H3.diff(X1) + Y1dot_dis\n",
    "Y2_dot = -H3.diff(X2) + Y2dot_dis\n",
    "\n",
    "\n",
    "def plugin(expr):\n",
    "    return expr.subs(\n",
    "        {\n",
    "            mu2: 6e-6,\n",
    "            q: qval,\n",
    "            f1: f1val,\n",
    "            f2: f2val,\n",
    "            f3: f3val,\n",
    "            f4: f4val,\n",
    "            j: 2,\n",
    "            Tm1: np.inf,\n",
    "            Tm2: 1e7,\n",
    "            Te1: 2e3,\n",
    "            Te2: 1e3,\n",
    "            om1: -1e-4,\n",
    "            om2: -2e-4,\n",
    "        }\n",
    "    )\n",
    "\n",
    "\n",
    "l1_eom = lambdify([l1, l2, L1, L2, X1, X2, Y1, Y2], plugin(l1_dot))\n",
    "l2_eom = lambdify([l1, l2, L1, L2, X1, X2, Y1, Y2], plugin(l2_dot))\n",
    "L1_eom = lambdify([l1, l2, L1, L2, X1, X2, Y1, Y2], plugin(L1_dot))\n",
    "L2_eom = lambdify([l1, l2, L1, L2, X1, X2, Y1, Y2], plugin(L2_dot))\n",
    "X1_eom = lambdify([l1, l2, L1, L2, X1, X2, Y1, Y2], plugin(X1_dot))\n",
    "X2_eom = lambdify([l1, l2, L1, L2, X1, X2, Y1, Y2], plugin(X2_dot))\n",
    "Y1_eom = lambdify([l1, l2, L1, L2, X1, X2, Y1, Y2], plugin(Y1_dot))\n",
    "Y2_eom = lambdify([l1, l2, L1, L2, X1, X2, Y1, Y2], plugin(Y2_dot))\n",
    "\n",
    "\n",
    "def f(t, Y):\n",
    "    Y = np.float64(Y)\n",
    "    return np.float64(\n",
    "        [\n",
    "            l1_eom(*Y),  # 0\n",
    "            l2_eom(*Y),  # 1\n",
    "            L1_eom(*Y),  # 2\n",
    "            L2_eom(*Y),  # 3\n",
    "            X1_eom(*Y),  # 4\n",
    "            X2_eom(*Y),  # 5\n",
    "            Y1_eom(*Y),  # 6\n",
    "            Y2_eom(*Y),  # 7\n",
    "        ]\n",
    "    )"
   ]
  },
  {
   "cell_type": "code",
   "execution_count": 102,
   "metadata": {},
   "outputs": [],
   "source": [
    "T = 1e6\n",
    "sol = sp.integrate.solve_ivp(\n",
    "    f,\n",
    "    (0, T),\n",
    "    [0, 0, qval * np.sqrt(0.73), np.sqrt(1), 0, 0, 0, 0],\n",
    "    t_eval=np.linspace(0, T, 10000),\n",
    "    rtol=1e-9,\n",
    "    atol=1e-9,\n",
    ")\n",
    "a1sol = sol.y[2, :] ** 2 / qval**2\n",
    "a2sol = sol.y[3, :] ** 2\n",
    "pom1sol = -np.arctan2(sol.y[4, :], sol.y[6, :])\n",
    "pom2sol = -np.arctan2(sol.y[5, :], sol.y[7, :])\n",
    "e1sol = np.sqrt((sol.y[4, :] ** 2 + sol.y[6, :] ** 2) / sol.y[2, :])\n",
    "e2sol = np.sqrt((sol.y[5, :] ** 2 + sol.y[7, :] ** 2) / sol.y[3, :])\n",
    "th1sol = (3 * sol.y[1, :] - 2 * sol.y[0, :] - pom1sol) % (2 * np.pi)\n",
    "th2sol = (3 * sol.y[1, :] - 2 * sol.y[0, :] - pom2sol) % (2 * np.pi)"
   ]
  },
  {
   "cell_type": "code",
   "execution_count": 103,
   "metadata": {},
   "outputs": [
    {
     "data": {
      "text/plain": [
       "<matplotlib.collections.PathCollection at 0x7f02b4c7b2d0>"
      ]
     },
     "execution_count": 103,
     "metadata": {},
     "output_type": "execute_result"
    },
    {
     "data": {
      "application/vnd.jupyter.widget-view+json": {
       "model_id": "eae3c087daef4539ac56bea902eaad5c",
       "version_major": 2,
       "version_minor": 0
      },
      "image/png": "[encoded data removed]",
      "text/html": [
       "\n",
       "            <div style=\"display: inline-block;\">\n",
       "                <div class=\"jupyter-widgets widget-label\" style=\"text-align: center;\">\n",
       "                    Figure\n",
       "                </div>\n",
       "                <img src='data:image/png;base64,iVBORw0KGgoAAAANSUhEUgAAAlgAAAH0CAYAAADhUFPUAAAAOXRFWHRTb2Z0d2FyZQBNYXRwbG90bGliIHZlcnNpb24zLjcuMSwgaHR0cHM6Ly9tYXRwbG90bGliLm9yZy/bCgiHAAAACXBIWXMAAA9hAAAPYQGoP6dpAABmZ0lEQVR4nO3deXhTVeI//neWJmkLXehGaSk7RSwKBYRBcVh0RNCCgoA6gAiOO+OujIMwPxHRYdCRr4o6DIsjjIILWpaPgAU6oKAFsYCAUKTSljalK23TZrm/P9JekjTLbXuTlOT9ep48vcu555xgb+/bu5yrEARBABERERHJRunvDhAREREFGgYsIiIiIpkxYBERERHJjAGLiIiISGYMWEREREQyY8AiIiIikhkDFhEREZHMGLCIiIiIZMaARURERCQzBiwiIiIimTFgEREREcmMAYuIiIhIZgxYRERERDJjwCIiIiKSGQMWERERkcwYsIiIiIhkxoBFREREJDMGLCIiIiKZMWARERERyYwBi4iIiEhmDFhEREREMmPAIiIiIpIZAxYRERGRzBiwiIiIiGTGgEVEREQkMwYsIiIiIpkxYBERERHJjAGLiIiISGYMWEREREQyY8AiIiIikhkDFhEREZHMGLCIiIiIZMaARURERCQzBiwiIiIimTFgEREREcmMAYuIiIhIZgxYRERERDJjwCIiIiKSGQMWERERkcwYsIiIiIhkxoBFREREJDMGLCIiIiKZMWARERERyYwBi4iIiEhmDFhEREREMmPAIiIiIpIZAxYRERGRzBiwiIiIiGTGgEVEREQkMwYsIiIiIpkxYBERERHJjAGLiIiISGZiwNLr9Zg2bRoUCgUUCgV2797t9cZNJhM2bNiACRMmoFu3btDpdEhKSsKYMWPw/vvvo7a2tlX17t27F7NmzULfvn0RFhaG2NhYDBkyBC+//DIKCgpk/hZERERE9hSCIAgbNmzAvHnzUFpaKq7IysrCqFGjvNbw2bNncffdd+PAgQMAgIEDB6Jv377Iz8/Hd999BwBITU3Fhg0bMGjQIEl11tTU4PHHH8fq1asBACkpKRgyZAiqq6uRnZ0Ng8GAiIgIrFy5Enfffbd3vhgREREFPfXEiRPx5ZdfQq1W+6zRkpISjB49GufOnUN4eDg++eQTjB8/Xlz//fff4/bbb8fJkycxZswYfPfdd0hNTXVbp8ViwfTp05GZmQkAWLx4MZ5//nnxe124cAGTJ0/G/v37ce+990KpVGLatGne+5JEREQUtJRffvkl0tPT8f333/us0XvuuQfnzp0DAHzwwQd24QoAhg4dis8++wwKhQIVFRWYNGkSTCaT2zqXLFkihqs//elPePHFF+1CY+fOnbFlyxbEx8dDEATcd999OH36tMzfjIiIiAhQLlmyBAcOHMDAgQN90uCWLVuwa9cuAMCgQYNcXqobMWIEMjIyAAAnTpzABx984LLOkpISvPbaawAAjUaDxYsXOy0XFRWF+fPnAwAMBgNefPHFVn8PIiIiIleU8+fP9+nlwWXLlonTM2bMcFt25syZTrdz9O677+LSpUsAgHHjxiEuLs5l2XvuuQcqlQoAsHHjRvFMGhEREZFcfJesYD3TlJ2dLc6PHTvWbfnRo0eL03l5eTh06BDS09Obldu0aZPkOuPj45GWloYjR45AEAR8+umneOqppzz2PTw8HAaDASqVCvHx8R7LExERkVVJSQnMZjN0Oh1qamr83R2f8GnA2rFjB8xmMwBAp9Ohf//+bstHR0ejV69eOHPmDABg+/btzQJWQUEBjh49Ks4PHjzYYz+GDBmCI0eOiHVKCVgGgwEWiwUWi4VDPRAREbWCwWDwdxd8xqcBKzc3V5xOSUmRdGmyR48eYsCy3d5ZnQDQs2dPSXW62t4VlUoFi8UCpVKJxMRESdu4YrFYUFRUZLcsMTERSiXHfSVqKe5PRPLw5r5UVFQEi8Ui3qITDHwasI4fPy5OJyUlSdrGtpzt9s6WqVQqJCQktKjOCxcuoLy8HNHR0W63iY+PR0FBARISEnD48OFm693d9+VIr9ejV3I8aoyARbAuO3LkSIvqICIrvV7f7LI99yeilpNjX9Lr9U6XX3vttSgqKgqqW2x8GrBs/+GjoqIkbWNbznYgVGd1RkRESErajm2XlpZ6DFhNXP2CCIIgafsm++4PR/84JcrqBOhrBUR+djcQ1RkIiwXCYoDwxp9207FAiK5F7RAREflKMAUoT3wasKqrq8VprVYraRud7nKgsN1erjpd1ettceEKqJQKxIUrEBcOoOh7oMjjZkBIOBAe4zmIhccCYZ0AXRSgUHj52xAREZEtnwasuro6cVqj0Ujaxracs3cTtrVOV/V6lWBBbFgrQ4+xBqioASrypZVXqoHQTk6CWFNAi7EPZaGdALW0f0ciIiJyzqcBKzQ0VJxuaGiQtI1tubCwMNnrdFWvNynqq6FW+uisksUE1JRYP1JpI61nv9wFMduwpunAs2REREQ2fBqwOnbsKE7X19dL2sb2kU7b7eWq01W9riQmJopDPLRWbFJP4KkTQG0pUFMK1F68/KkptS6vLbOfFsxtarNF6iutn/Kz0sqrNA5BzPbyZSeHUNa4TBk8T5KQd8XFxbX4Hkgiak6OfamkxPn/zDfd5B5MfBqwbJ9EqKiokLRNZWWlOB0bG+u2zqqqKnEoBal1uqrXFaVS2fank5RKICLR+pHCYgEMFdagZRfKSoGai5enay82zpcCRh9e9jQ3ANWF1o8kCiA0SsJ9ZDZnzTS+PctIREQt5+r4GIzDpvg0YPXv3x9fffUVAEgerNO2nLOBSW2Xmc1mFBcXexynyrbOzp07S36C0G+UysYzQZ0A9Ja2TUOtk+B1sflZs6bpunIAvjoLIFjbqysHLv4ibZOQsMshzO4+sk5Obu6Psd7cH4Q7NBERtQ8+DVgDBgwQp/Pz82E2mz0OOpaXl+d0e1fL8vLyPAYsT3UGBE2Y9RPVVVp5s8l6lky8LHnReRATz5qVWs9c+YqxFqisBSp/k1ZeoWoMpTEOQczN5Uu1tKdQiYiIPPFpwLr55puhVCphsVhgMBhw7NgxXHPNNS7Ll5eX24WhcePGNSuTlJSEtLQ08XU5OTk5uP76693244cffnBbZ1BSqa1BI1zi5VJBABou2V+WtLuHzPGs2UXrfV2+IpiBGr31I5Wmo4ub+11cytRG8OZ+IiJyyqcBKz4+HjfeeCN2794NANi1a5fbgJWVlSXecNejRw+nL3oGgClTpogBa9euXZg3b57LOktKSsSyCoUCkydPbs1XIYUC0Ha0fqK7S9vG1ADUldmfDbO7mf9i85v+LSavfg07DdXWT8U5aeWVITaBy1kQ62R/WTO0EweKJSIKEj4NWADwzDPPiAHrww8/xJNPPumy7Lp16+y2c+Whhx7CsmXLcOnSJWzfvh16vd7ljXbr168XXzg9ZcoUdOvWrRXfglpFrQE6drZ+pBAEwFDZ/BKl08uXjWGt4ZJ3v4MtixG4dMH6kUrTwT54hdqGMIdA1rRMFeK970BERF6hEGyeyVTYXO7IysrCqFGjJFVSUVGBe++9F3v27EF6ejo++ugjdO3q+t6fm266Cbt27QIAbNiwAdOnT29WZv/+/bjhhhsgCAL69euH3Nxcty+HXrx4MRYsWAAAePDBB7Fy5Uqn/UxNTUVJSQl0Oh1yc3PRu7e0m8aTk5NRUFCApKQknD9/XtI25AdGg8PN/E6evHQcAsNnN/e3UtO4ZM0CmLNA1niDv8rn/+9ERORSMB5DZfkrvHz5cmzduhUAkJ2djRdffNHu7JOjjz76CMOGDcO5c+cwd+5cREREYPz48eL6H374AXfeeScEQUBUVBS++OILt+EKAObPn49vv/0WW7duxXvvvYeUlBQ8//zz4k30Fy5cwJQpU8QxOlavXi05XNEVJEQHRCZZP1JYzEBdhZMnLN0MgWEyeKxWVi0dlwywhixnZ8NczfOpSyIiWanvu+8+pyuWLl2KNWvWiPOTJk3CpEmTnJZ1HJhM4eHG34SEBHzzzTe4++67cfDgQUyYMAGDBg1Cnz598Ntvv+G7776DIAjo27cvNmzYgNTUVI9fRKVS4ZNPPsGjjz6KtWvX4sUXX8T777+PIUOGoLq6GtnZ2airq0NERATeffddp2fNKAgpVdb7p8JjAPT1XF4QrE80NhsQ1jGglV2+hOnTITAaGSqsn7Iz0sorlEBotPMAFuoimOkieZM/EZELCkj8y79w4UIsWrTI6bqmS4S7d+/G4MGDPV4ibGIymfDJJ5/gww8/xNGjR1FSUoKYmBj07dsXd999N2bMmNGq19js2bMHq1atwv79+1FYWIjQ0FB069YNEydOxNy5c5GUJPHsho1gPL1JMmk6S1ZnE7rsPmXNpw0V/u61Z03vuRSDl2NAs7nPTBdpfSBCFwGodQxmREEmGI+hdvdgkWvB+MtBfmQ2Wc98uQpkzcJaGVBf5e9eS6MMsQYtbUfrUBe6SOvPpgDWNN20XtsR0Ha4vEzT+FOtZVAjukIE4zGUd8IStUcqNdAhzvqRqmkYjGZnxpydOWtcZqzx3ndwxWK83I+2UIbYhC+bUKbp4BDQbOdtAprth+/GJCKZMWARBYqWDoMBWJ+6dHY2zOl8mX9u8nfFYrT2va6s7XWFhLUynDmEu5AwnlUjIgAMWETBLUQHhHQBIrpI30Z8z6W7S5YOwcxc773vIAdjbeML0ovbVo9C6RDCnFzadBXOxHDXuEytkeWrEZF/MGARUcu09D2XAGCqB+qrrQPH1lcBhirrvDhd5TBdDdRfavxZfXmZYPbe95KDYLk8rEZbqTRuzp45hDF3Z940HXgJlMgPGLCIyPvUWutH6rsunREE6+VJMXQ5fBocl12yCWvV1lH+bafbO3ODPPeqAUBIuMSzZ04+tsEuJJSXQIkkYsAioiuDQmE9wIeEAh3i21aXxdI8cNmGMfHsWVXzcFZfZX92rb1f/gSsDzMYa1r2WidnFKqWPVSgcShruy1fAUUBjgGLiIKPUmkdEkIX0fa6TA0OAa0F4cwx3AmWtvfHmwSz9TKvQYZLoGpd2x4qaNpW04FvIaB2iQGLiKgt1BpA3fiuyLYQBMBYZx/GGhzCWLPLoi7OvPlj+I2WMhmsn9rSttel6egknNmePevgsMzFPJ8CJRkxYBERtQcKxeUHCDomtK0ui7n14cw23BmqrMNhtHcNjffgVRe1rR7xKdAO9mfJtB1szqYxrJE0DFhERIFGqbKOkK+LbHtdTU+ANgtnNpdBnYUzZw8c+PqdnC0l51Og7sKaNsJhvqN9gGNYCwgMWERE5JocT4AC1kugDTWtCGdOwp2xVp7v5k3tJaw5zjOs+QwDFhEReZ9C0XjA79Cytw04YzY1Dsvh+MCAs1DW+GCBGNwu2Qc5c4M838+b/BnW0mfxic9WYsAiIqIri0oNhEZbP21lqm8MYA73otnOO55VC6awNni2d/sTwBiwiIgoeImXQGPaXpeUsGb3gIHtfDsMayHhfAtAGzBgERERyaHdhDWHy6StfRJU26Ht3yOIMWARERG1N94Ia+IZMolhTY6BeIMYAxYREVEgkzOskWR8vwARERGRzBiwiIiIiGTGgEVEREQkMwYsIiIiIpkxYBERERHJjAGLiIiISGYMWEREREQyY8AiIiIikhkDFhEREZHMGLCIiIiIZMaARURERCQzBiwiIiIimTFgEREREcmMAYuIiIhIZgxYRERERDJjwCIiIiKSGQMWERERkcwYsIiIiIhkxoBFREREJDMGLCIiIiKZMWARERERyYwBi4iIiEhmDFhEREREMmPAIiIiIpIZAxYRERGRzBiwiIiIiGTGgEVEREQkMwYsIiIiIpkxYBERERHJjAGLiIiISGYMWEREREQyY8AiIiIikhkDFhEREZHMGLCIiIiIZMaARURERCQzBiwiIiIimTFgEREREcmMAYuIiIhIZgxYRERERDJjwCIiIiKSGQMWERERkcwYsIiIiIhkxoBFREREJDMlAGRmZuKuu+5Cz549ERoais6dO2PEiBF44403UFZWJltja9asgUKhaPXnvvvuc1l3S+vS6XSyfS8iIiIiW8oJEybg9ttvx6ZNm6DRaHDbbbfhqquuwsGDB/HUU08hLS0Nu3bt8nc/AQAqlcrfXSAiIiLySL1161aoVCq8//77mD17NhQKBQDgl19+wW233YZTp05h/Pjx2LlzJ0aOHClLozExMYiNjZVUtqamBufPnwcATJgwwW3Z0NBQpKSkSKpXq9VKKkdERETUUmoAePnll3H//ffbrejTpw+2bduGq6++GgaDAXfeeSdOnTqF6OjoNjf62GOPYdGiRZLKvvjii1iyZAm6dOmCjIwMt2Wvu+467N69u839IyIiImoLZUJCAp5++mmnK3v27IkHH3wQAFBaWoqlS5f6sm8wGo1YtWoVAOCBBx6AWq32aftEREREraGcNm0aNBqNywIzZ84Up99++23U1dW1urHQ0FAkJCSgQ4cOksp/9tlnKC4uhkqlwgMPPNDqdomIiIh8STl27Fi3BQYNGoSoqCgA1vuhtm3b1urGpk2bhgsXLuCZZ56RVP7dd98FAGRkZCApKanV7RIRERH5knLw4MFuCygUCtiW2b59u7f7BAD4+eefsWfPHgDAww8/7JM2iYiIiOSglnJmqEePHuJ0bm6uN/sjWrlyJQCgd+/euOmmmyRvJwgC9u3bh/379yM/Px8NDQ3o1KkTevbsiVGjRqFv377e6jIRERERgManCD2xDWHHjx/3Wmea1NbWYt26dQCAhx56SBw6wpNff/0VV199NX7++WeXZUaOHImlS5dixIgRreqbxWKBXq9vtjwuLq5V9REREQUKZ8dHwHrsDDaSAlbTPVgAUFVVBaPRiJCQEG/1CRs2bEBFRQV0Op3b0dsdnTt3DjqdDs8//zymTZuG3r17Q6lU4uTJk/jwww/x9ttvIzs7G7///e/x5ptv4tFHH21x34qKihAfH99suSAILa6LiIgokDg7PgYrSQHL8bUy1dXV6NSpk1c6BFy+uX3q1KmIiYmRvF1cXBy++eYbpKWl2S1PT09Heno6br31Vtx2220wGo14/PHHkZSUhEmTJsnZdSIiIiJpL3t2HMahtrbWK50BgO+//x45OTkAWnZze25uLo4ePdosXNn6wx/+gCeffBKA9YzTY489BoPB0LYOExERETmQFLAaGhrs5sPCwrzSGeDy2auBAwdi+PDhkrdLS0uTdGpy3rx5UCqtX7ugoAAbN25sXUeJiIiIXJAUsBzP8nTs2NErnamoqMB///tfAN4bmiEpKcnuScIdO3a0aPvExESUlJQ0+xAREQU7Z8fHkpISJCYm+rtrPifpHqzKykpxOiIiwms3uK9ZswZ1dXWIiIjAPffc45U2AOt7Fk+cOAEAOHXqVIu2VSqVfGKQiIjICVfHx6YrR8FE0jcuKCgQp/v37++1zrz33nsAgBkzZkh+nU5rREREiNNlZWVea4eIiIiCk7qgoMDja2jy8vLE6QEDBnilI1lZWeJZpYceesgrbTSxveQZHh7u1bZcefDDH2Aw2o8L4my4L2cjgDmOC+a8jLNWmy90LCe1LoVDSadlJGznrFEp39lZudb++zktJ7Hvcv37Oa3Lx/8NpdfleVy65vUooFErERqigi5ECZ3dz8aPWolQjQphGut8aIgKYRo1tGollEppY+EREbUX6pycHLcBSxAE8ak+ABg3bpxXOtJ0c/vIkSPdPgnozOLFixEREYF58+ZJKl9YWChOd+nSpUVtyeV/v5SipsHsl7aJrjShISqEalTOf4Y0hjKNCmGNy3WNy2zLhWnUCNUoG9ep7daFqBSSBzQmIpJCvWvXLmRkZLgscPjwYVRUVACwnu259dZbZe/EhQsX8MUXXwBo3c3tCxYsQHh4OB5//HGPfyTr6+tx5MgRcX7kyJEtbo+IfKvOaEad0Xv/Q6JSKhAW0hjSGkOXs5AWqrENbLblrOEtNERtt15n81PFs3BEQUX98ccf4+9//3uzsa6aNL2yBgAeeeQRhIaGyt6Jf/3rXzAajYiLi8PkyZNbVUdNTQ1ycnIwZMgQt+U+/fRTcRwvtVqNu+66q1XtEVHgMFsEVNebUF1v8lob2sZLoPZn1WwvhzYtbwprKoQ2nmkTy2mchL7Gaa1aybNwRO2Iuri4GMuXL8cLL7zQbOXZs2fFG89jY2Mxf/58p5VUVFTg3nvvxZ49e5Ceno6PPvoIXbt2ldQBs9mMDz74AAAwZ84cl0FPioULFyIzM9PlH5mysjK77zB37lz06tWr1e21xdN/SIXJ5t1Mzt604+zlO47lBCelpL61x/H1Pt7ug9NuOfZBQnvO2mxt353V5WxD53X59t/PmWZ9kNCeszbb8u/nWNJZGYsgoN5kgcFohsHY9LNx2mSdrmsww2CyoMEUmO8sqzdZUG+yoAJGr9SvVFy+lOrqEqk1pCnF6TCHkGZ7uTXUSR1qVfA9CUbUWmrAeoktISEBs2fPFlecPn0at912GwwGAzQaDT777DNER0c7rWT58uXYunUrACA7Oxsvvvii3Zkvd7Zs2YL8/HwolUo8+OCDbfoyW7duxdSpU/Hmm282u6/s0KFDuO+++5Cfnw8AGDFiBN544402tdcW99/Qw29tE7VnJrMFBpMFdQ3W0FVnNKO2wWS9TNg4b/uztqExoBmt0+J6h7JN5WobTLAE4KtDLQJQ02D26r2dISqFGLjEwBbiJLBpXJ+ls71Xjg80UCBT33rrrdi2bRvuv/9+vP766xgwYABKS0uRnZ0Nk8mExMRErFu3zu29So7/F92S09RNN7ePGzcO3bt3b9WXeOaZZ7B27Vro9Xps2rQJX3zxBQYPHozu3bvDbDbj5MmTyM3NBQCoVCo88MADeOONN5q9Y5GI/E+tUqKDSokOWknD9LWYIAhoMFtgaLCg1mhyGcSawpvLdUYzDA1msQ6D0SIGQccnhAOF0SzAaDahymACUO+VNuR4oME2vPGBBvIXhSAIwldffYU1a9bg0KFDKCoqQkREBHr16oUpU6Zg9uzZHl/s3HSJcPfu3Rg8eLDkS4Rnz55Fr169IAgCvvrqK9x2222t/iINDQ3Ys2cPtm/fjpycHJw6dUoc4yo6Ohp9+/bFjTfeiNmzZ6Nnz54trj85ORlNQ1qcP3++1f0kosBnsQgwmOzPsIlhzeYMW1NIczzDVmdsPIPXGN4c6zAYzTCaA/A0nA/wgQb/CMZjqEJwPP1ETgXjLwcRtV9Gs6XZ5dBmQazBNrCZxIBnV84xANoEQR4dWkejVjq5By64H2gIxmOod87BExGRV4WolAhRKRGh886ry4TGBxOazrTZ3ddmNIuBzW1I83CvXKA+0NDQ+LCGvx5osA1vl++Vc/bgAx9o8CYGLD/Q6/WIj4+3W1ZSUsJ3HBK1Avcn71AoFOIo+84fb2o7PtDQOr54oEEwG2Ex1uP7+aPROSHe8wbUDAMWERH5RXt5oKHWTUgL1gcaFKoQKAXwfrI2YMAiIqKApFAooFWroFWrEAnvXEqV54EGU7OzdO3hgQaL0eC5ELnEgEVERNRKSqUCYRo1wjRqxHipDX890CCYvDMUR7BgwCIiImrHfPVAw29FxbgqbSAUIVooQ7SAQgksGu+VNoMBAxYREVEQa3qgISo0BOZqvb+7EzA4DpZEGo0GRqMRSqUSiYmJbarLYrGgqKjIblliYiKUSj4WS9RS3J+I5OHNfamoqAgWiwUhISFoaGhoc31XAgYsiVQqFSyWwHxahIiIyBeUSiXMZu8NL9Ge8BKhRDqdDgaDASqVqtmYO0RERORaSUkJzGZzUL0DmGewiIiIiGTGmxSIiIiIZMaARURERCQzBiwiIiIimTFgEREREcmMAasVMjMzcdddd6Fnz54IDQ1F586dMWLECLzxxhsoKyvzWrsmkwkbNmzAhAkT0K1bN+h0OiQlJWHMmDF4//33UVtb67W2ibzBl/vS7t27oVAoWvQZN26crH0g8ia9Xo9p06aJv7+7d+/2eps8LrkhkGR6vV4YP368AEAAIKSmpgpTpkwRRo0aJahUKgGAkJiYKOzcuVP2tvPy8oRhw4aJbQ8cOFCYOnWqMHz4cLv+HDp0SPa2ieTmj30pKytLbE/q55ZbbpGtfSJvWr9+vRAbG2v3+5uVleXVNnlcco8BS6Kamhph8ODBAgBBpVIJq1atEiwWi7j+1KlTQt++fQUAgkajEfbu3Stb28XFxUK3bt0EAEJ4eLiwZcsWu/UHDx4UEhISBABCVFSUcOLECdnaJpKbv/alpoAVExMjpKamSvrMnTtXlraJvKWwsFDIyMgQAAhqtdpnAYvHJc8YsCSaM2eO+Eu7ZMkSp2XOnDkj6HQ6AYAQGxsrlJWVydL22LFjxbbXr1/vtMy+ffsEhUIhABD69esnGI1GWdomkpu/9qWmgLVw4cI210XUHqxevVqIiooSAAjp6enC4cOHfRaweFzyjAFLgp9++klQKpUCACEhIUGor693WfbPf/6z+Ev33HPPtbntzMxMsb5Bgwa5LTtx4kSx7DvvvNPmtonk5s99iQGLAk1kZKSg1WqFJUuWiOHFFwGLxyVpeJO7BMuXLxffQzht2jRoNBqXZWfOnClOv/3226irq2tT28uWLROnZ8yY4basbdu22xG1F/7cl4gCzQ033IAff/wR8+fPh1rtuzff8bgkDQOWByaTCZs3bxbnx44d67b8oEGDEBUVBQCoqanBtm3bWt12SUkJsrOzJbc9evRocTovLw+HDh1qddtEcvPnvkQUiDIzM9GvXz+ftsnjknQMWB4cOHAA5eXl4vzgwYPdllcoFHZltm/f3uq2d+zYIb51XKfToX///m7LR0dHo1evXrK0TSQ3f+5LRCQPHpek8905xStUbm6uOK3VapGUlORxmx49ejjdvi1tp6SkSDoF3KNHD5w5c6bNbRPJzZ/7kiODwYCvv/4aOTk5KC4uhlKpRExMDNLS0jBq1CgkJCTI1hZRIOFxSToGLA+OHz8uTnfp0kXSNrYHDtvt29K2lIORnG0Tyc2f+5Ktbdu2YcWKFS4HMlWpVJg+fTpeffVVdO3aVZY2iQIFj0vS8RKhB3q9Xpxuuh/EE9tyVVVVMBqNfmm7tLS0Ve0SeYM/9yVbBw8ehE6nw1tvvYXTp0/DYDCgrKwMO3bsQEZGBsxmMz766COkp6dj3759bW6PKJDwuCQdA5YH1dXV4rRWq5W0jU6nc1mHL9tubbtE3uDPfcnW8OHDcfz4cTz++OPo1asXtFotoqOjcdNNN2Hz5s146aWXAFgPBBkZGcjLy2tzm0SBgscl6RiwPLB9NNzdI+W2HMu19l1MbW07qN8BRe2OP/clABg6dChyc3Oxc+dOREZGuiy3aNEiDB8+HABQVlaGZ599ttVtEgUaHpekY8DyIDQ0VJxuaGiQtI1jubCwML+03dp2ibzBn/sSAISHhyMtLQ3h4eFuyykUCsybN0+c//zzz5Gfn9/qdokCCY9L0jFgedCxY0dxur6+XtI2BoPBZR2+bLu17RJ5gz/3pZYaM2aMOC0IAnbu3OmTdonaOx6XpFMIgiD4uxPt2bx587BixQpxPiQkBPHx8W63qaqqEq8zKxQKyU9MObp48aL4i6nVahEbG+txm/LycvEUrJS+EvlKRUUFampqAFif1OvcubPHbeTal1qjsLAQTX8eO3To4PayIlF7UVBQIE7HxsZKvk9KqrYelxQKhfg2h0DHgOXBypUr8fDDD/u7G0RERAEhWGIHx8HyYMCAAXbzSqUSiYmJbarTYrGgqKjIblliYiKUSl6xJWop7k9E8vDmvlRUVASLxRJU+yXPYHlgMpkQHx8vvuIjKSkJ58+fb1Oder2+2aW7kpISxMXFtaleokBltggwmi2wOPlzpdeX2o34DgBnz55FjIRLF22lkLMumSpTyNgrufokp0D+d5L396nlten1+mYnEEqKL8hybEpOTkZBQQHi4+NRXFzc5vquBDyD5YFarcbEiROxZs0af3eFKGDV1Juw8+diHDpXjhMXqqG/VI+ymgbUNphhMltg8fC/gSlPbbKb//2KHC/2lihwdXvuS3HaUi//kAohISGy19leMWBJ8NRTTzFgEXmBwWjGO1mn8a//nUVtg9nf3SEikg0DlgQDBgxAWFhYUA2QRuRtJdUGzF79PY4VVvm7K0REsgueu83aSOo7l4jIs7oGM2b9m+GKiAIXz2BJ1JobBl2Ji4sLmsdUiZxZvOU4fi6yD1dKBXBDnzhc1z0a3WLCEROuQbhWDY1aiRCVEiEqBZQKhdMbil3tn968R1vOPViuvwft8c+KnH0SZPpXl7dPMtUjY6fkqkkBIC6ug0y1BR8GLCLyqRMXqrDhoP2rZ1I6heH9mYPRr3OEn3pFRCQvBiwi8qkVu07bPRUYGqLC6tlD0Yv/p0xEAYT3YBGRz5RUGfB/xy7YLfvTjT0Zrogo4DBgEZHPfHqoACab01e6ECXuv6GHmy2IiK5MDFhE5DNfH7c/e3X7NV0QGRo8Aw8SUfBgwCIin9BX1+PH3yrslt12bRf/dIaIyMsYsIjIJ7JOltg9Hh+uUWF4z07+6xARkRcxYBGRTxzIK7ObH9knDlq1yk+9ISLyLgYsIvKJnHP2Aet3vWL81BMiIu9jwCIir9NX1+PXi/bv8hzcLdpPvSEi8j4GLCLyOsezV+EaFfp17uin3hAReR8DFhF53ZHzlXbzg1KioVbxzw8RBS7+hSMir/ul+JLdfFpSpJ96QkTkGwxYROR1p0uq7eb7xPPVOEQU2CQHrL1792LWrFno27cvwsLCEBsbiyFDhuDll19GQUGB5AYFQcD//vc/PPPMM7jxxhvRuXNnaLVadOzYEd27d8cdd9yB9957D5cuXfJcWaNFixZBoVC06LN06VLJ9RNR6xmMZuSX2d/g3ieBAYuIApvHgFVTU4P7778fv//977Fu3TrU19fj1ltvRXp6Oo4dO4aXXnoJ/fv3x4YNG9zWYzQasXLlSvTu3RsjR47EP/7xDxw+fBhpaWmYMmUKRo8ejbq6OnzxxRd46KGH0L17d2zcuFG2L0pE/pGnr4HN6wcBgC93JqKAp3a30mKxYPr06cjMzAQALF68GM8//zzUautmFy5cwOTJk7F//37ce++9UCqVmDZtmtO6jh07hocfflicf+GFF/Diiy+iQ4fLf2hNJhNWrFiBZ599FhcvXsTUqVOxcuVKPPjgg5K+TNeuXREWFiapbEwMx+Ah8oVfHC4PJkWFIlzr9k8PEdEVz+1fuSVLlojh6k9/+hNefPFFu/WdO3fGli1bkJqaipKSEtx3330YPHgwevfu7bbRJ598Eq+++mrzzqjVePLJJyEIAp5++mkAwLx58zB69Gj07dvX45dZt24dRo0a5bEcEfnO6RL7y/28PEhEwcDlJcKSkhK89tprAACNRoPFixc7LRcVFYX58+cDAAwGQ7MQ5kij0eCll15yW2bevHno0sX6EtiGhgb885//dFueiNovxycIeYM7EQUDlwHr3XffFW80HzduHOLi4lxWcs8990Clsr5TbOPGjTh37pzLssOHD0dUVJTbTqnVaowePVqc37lzp9vyRNR+OV4i7BPPAUaJKPApDx065HTFpk2bxOmxY8e6rSQ+Ph5paWkArE8Jfvrpp83K9OrVC9u2bcOKFSskdaxr167i9Pnz5yVtQ0TtS4PJ0uwVOb14BouIgoBy+/btzRYWFBTg6NGj4vzgwYM9VjRkyBBx2lmdHTt2xLhx43DNNddI6pjFYhGnm86OEdGV5deLNTA7PELYmwGLiIKAOjc3t9lCx2U9e/b0WFGPHj1cbt8a+fn54vSgQYMkb6fX67Ft2zYcO3YM5eXl0Ol0iIuLw3XXXYcbbrgB4eHhbe4bEUnjeP9VQoQWkaEhfuoNEZHvqI8fP95soe0ylUqFhIQEjxUlJSWJ0xcuXEB5eTmio6Nb3bFvv/1WnJ4+fbqkbRYvXow9e/bAZDI5XR8ZGYnHHnsMf/3rX6HT6VrdNyKShvdfEVGwUpaWljZbqNfrxemIiAgolZ4HfHe8cd1ZvVLt379fvFG+S5cuuO+++yRtt2vXLqSnp2PDhg0oLCxEfX09ioqKsGHDBqSlpaGyshKvvPIKRowYgQsXLrSqbxaLBXq9vtmHiJpzHKKBlweJApuz46Ner7e77SdYqKurq5sttF2m1WolVeR4RshZvVItWbJEnH7jjTcQGhoqabvHHnsM//znP+0CYefOnTF9+nTccccdyMjIwNdff43Dhw9j0qRJ2Lt3LzQaTYv6VlRUhPj4+GbLBUFwUpoouHEMLKLg4uz4GKyUtbW1zRbW1dWJ01IDiGM5Z/VK8eWXX2LLli0AgBkzZmDq1Kket3nkkUdw9OhRvPXWWy7Ptmm1Wqxbtw4REREAgAMHDuC9995rVR+JyDOT2YI8fY3dMl4iJKJgoXT2ahnbM0YNDQ2SKnIsJ/WVNbbOnz+PBx54AACQnp6OlStXStouPj4eV199NRQKhdtyCQkJdvdzvfnmmy3uIxFJk19Wiwaz/WUBDjJKRMFC2bFj8/+jtF1WX18vqSKDweCyDikuXbqEiRMnoqSkBD179kRmZmarQponY8aMEafz8vKQl5cnextEBPzicHkwtoMG0eEtuyRPRHSlUsfGxjZbaDtqe1VVFSwWi8cb3SsrK+3mndXrisFgwKRJk3Do0CGkpKRg165dSExMlLx9S/Tp08du/tSpU5KGoWiSmJiII0eOyN0tooDjeP9VrzievSIKdCUlJU6XX3vttSgqKvJxb/xL3b9//2YLbZeZzWYUFxd7DDwFBQXidOfOnSUP0VBfX48777wTu3btQrdu3bB79250795dWu9boekerCZlZWUt2l6pVLp9bRARWf1S7DBEA29wJwp4ro6PUkYjCDTKAQMGNFvouEzKZTTbMs7qdKahoQGTJ0/Gtm3bkJKSgqysLK+GK6D5pUwOPErkHY6XCHmDOxEFE+W4ceOaLUxKShLfLQgAOTk5Hiv64YcfxGlndTpqaGjAlClTsGXLFnTt2hVZWVl2o8FLtXfvXixevBg//vijpPKFhYV28126dGlxm0TkntkiNB+igTe4E1EQUaanpztdMWXKFHF6165dbispKSkR312oUCgwefJkt+WNRiOmTp2Kr776CsnJycjKynJ5H9Tf//533HTTTS7ve/rmm2+wYMEC7Nixw22bTQ4ePChOd+jQAQMHDpS0HRFJV1Beh3qT/ROEvXmJkIiCiMuLog899BA6dLD+Qdy+fbvb0crXr18Ps9kMwBrMunXr5rKsyWTCtGnTsHnzZiQlJSErKwu9evVyWf7YsWPYtWsXysvL3X6RPXv2uF0PWEdh/89//iPOT5kyBSEhfC8akdwcX5ETGRqCuA7SBi0mIgoELgNWQkICnn/+eQDWy3kLFixwWq6iogKvvvoqAOto7rajsDsymUy4++678fnnn6NLly7IyspC796929J/0bZt2+zeX+jM8uXLcfLkSQDWe69cfSciapvm91918DhOHRFRIFG7Wzl//nx8++232Lp1K9577z2kpKTg+eefh0qlAmB9qfOUKVPExzJXr17tMjCZzWbcc8892LRpEwAgJiYGTz75pMcOSh0SwWKx4LbbbsO7776LKVOm2D2xYDAY8Prrr2PRokUAALVajf/85z8tGp6BiKT7pZjvICSi4OY2YKlUKnzyySd49NFHsXbtWrz44ot4//33MWTIEFRXVyM7Oxt1dXWIiIjAu+++azdKuqOPP/4YGzduFOdzc3ORm5vb5i8wbtw47N27F7t370ZZWRmmTZuGxMREDB48GJGRkSgtLcX+/fvFdyP26NEDa9euxciRI9vcNhE5d8phiIa+CXyCkIiCi9uABVgvpa1ZswazZ8/GqlWrsH//fmzduhWhoaHo168fJk6ciLlz5yIpKcltPVJfudNSw4cPxzfffINz585hy5Yt2LNnD44ePYrs7GxcunQJHTp0QGJiIiZOnIjbbrsNkydPhlrt8WsTUStZnDxByIBFRMFGIQiC4O9OXAmSk5NRUFCApKQknD9/3t/dIWq38i/W4sa/Z9ktO/iXsYiP0PmpR0Tkb8F4DA2+oVWJyKtOOlwejAoLQVxHPkFIRMGFAYuIZNXs/qv4jnyCkIiCDm9GIiJZOb6DsG9niU8QGuuAit+A6kKgocY6b6wFLGYAAiBYgKY7GsRp4fIyv2sv/YCf/0382LbfvrcP2/Xld1RpgN894rv2AgwDFhHJ6mRxC25wr/gNyFkN/PI1cOEo2lVIIQp2mo4MWG3AgEVEsjGZLTijlxCwzEZgz2vA/94ALCYf9Y6IyHcYsIhINmf0NWhweAdhs4Blqgc+ngH88n8+7BkRkW8xYBGRbI4WVNrNJ0WFolO4xr7QV0+4D1e6KCA0CggJB0J0gFINQAEolIBC0TjdeNO8onG5V3nxBn2v3vzvxwcL/PpQg5/aDsQHOdQcWqUtGLCISDa5DgHr6i4R9gWOfgYcWW+/TKkGBs8G0u4EOg8AtByUlIiufAxYRCSbY4X2AWtAUuTlGaMB+NrhBeuaDsAfPwVShvugd0REvsNxsIhIFmaLgGOFVXbL0mwDVs5qoMphBOfb3mS4IqKAxIBFRLI4W1qD2gaz3TIxYFkswHfv2m/Q7QZgwBQf9Y6IyLcYsIhIFj+dr7CbT4jQXn5FTt43QMU5+w3GvBiYNwYTEYEBi4hk8sO5crv5a5KjLs/krLEvnJAGpPzO630iIvIXBiwikkXOr/YBa2j3aOtE/SXg1Nf2hQffx7NXRBTQGLCIqM0qa4046fAOwiHdO1knTu8AzPWXVyjVvPeKiAIeAxYRtVlOfpndvFatRFqXxhvcf/7KvnCPG4HQaB/1jIjIPxiwiKjNDp61vzw4sGsUNGqldeyrUw6jtl91uw97RkTkHwxYRNRm2b/o7eaHNl0ePLsXaLB9+bMCSJ3gu44REfkJAxYRtYm+ur7ZAKMj+8RaJ35xuLm96zCgY4KPekZE5D8MWETUJv87bX/2qoNWjfRu0YAgNH+pc99bfNgzIiL/YcAiojbZe6rUbv53vWIQolICpaeAinz7wn3+4MOeERH5DwMWEbVag8mCXT8X2y27sW+cdcLx8mBEEpBwtY96RkTkXwxYRNRq+8+Uospgsls2pl+8dcLx6cE+N3NwUSIKGgxYRNRqW3OL7OYHdo1CUlQoYKgC8r+1L8zLg0QURBiwiKhVGkwWfH3c/vLghAGJ1om83YDF5syWMgTo8XvfdY6IyM8YsIioVXYcL0ZFrdFu2bi0ztYJx6cHu18PaDv4qGdERP7HgEVErfLf7+2fELyueyd07RQGWCzALzvsC/fh8AxEFFwYsIioxX4rq0X2L/bDM0y/rmvjygPAJftLh7z/ioiCDQMWEbXYqv+dtZuP0Kkxvun+q5+/tC8c3x+I7e2jnhERtQ8MWETUIhcv1Te7PDh5cDJ0ISrr6O0/f2W/wVUZPuwdEVH7wIBFRC3y731nYTBaxHm1UoE5N/SwzhQcAip/s9+gPwMWEQUfBiwikqyosq7Z5cGMgV2QHB1mnTmy3n6DTr2slwiJiIIMAxYRSfaPr0/Znb1SKoBHRvWyzhgNQO5G+w2umcrR24koKDFgEZEk3+VdxKac83bLpg1NQe/4jtaZk1sAQ6X9Rtfe7aPeERG1LwxYRORRbYMJz236yW5ZuEaFp27ue3nBwQ/sN+pxIxDdzQe9IyJqfxiwiMgtQRCwcPMx5JfV2i1/8ua+iOuotc789n3zdw8OmumjHhIRtT8MWETk1vqD+djocGlwSLdozL6+x+UF+9+y36hjF+DqSd7vHBFRO8WARUQuZZ0swcLNx+yWhWlUeH3KNVApG29eLzjUfHDR4Q8DqhAf9ZKIqP1hwCIipw7kXcRDH+bAZBHslv99yrXoGdf44mZBAHYutN9QGwkMnuWjXhIRtU8MWETUzI7jxZj574OoN1nslj94Y09MuCbx8oKjnwJn99pvPPIpQBfpg14SEbVfan93gIjaD0EQsOp/Z7Fk689wOHGFOwcl4flx/S4vuKQHtj1nXygiGRj2oPc7SkTUzjFgEREAoLLWiOc+PYL/O1bcbN0f+ifg9SnXQNl035XZBHw2F6i9aF/wlleAkFAf9JaIqH1jwCIKcoIg4KufivD/fXUcpZfqm62fOiQZr9wxAGqVsmkD631XebvtC16VwScHiYgaMWARBbEff6vA69tPYP+Zi07X/3lsHzxxUx8obF93s3cZ8O3/sy/YoTMw4R9e7CkR0ZWFAYsoyAiCgEP55Vi5Jw87jje/HAgA0WEheGPaQIxKjb+80GKxnrlyHPNKGQJM+xDoEA8iIrJiwCIKErUNJmw/egFr9v+Kn85Xuix301UJWDwpDZ0jdZcX1lwEvnwMOLm1+QYZbwFdr/NCj4mIrlwMWEQBrMFkwb7Tpdj8YwG+Pl6M2gazy7KdI3RYlNEft1zd+fIlQUGwhqrMJ4FLTs52jV8GDLzHS70nIrpySQ5Ye/fuxapVq/Dtt9/i/PnzCAsLQ/fu3TFx4kTcf//9SEpKanHjv/zyC/71r39h27ZtyM/Ph9lsRnJyMsaMGYO5c+di0KBBLa6zvLwca9aswcaNG5GXl4fKykokJiYiPT0ds2bNwu23397iOomuJEWVddh9Uo+sEyXYd7oUNW5CFWC9HPjIqN6Y8btu0IWoLq8oPAzseKn5OFcAoFQDt70JpM+Qt/NERAFCIQiC4K5ATU0NHn/8caxevRoAkJKSgiFDhqC6uhrZ2dkwGAyIiIjAypUrcffdd0tu+M0338QLL7yA+vp6REZGYsSIEdBoNPj2229RUlICpVKJZ599Fq+88gpUKpXnCgHs2rULM2bMQFFREdRqNW644QbExsYiNzcXJ0+eBACMHz8ea9euRWxsrOS+AkBycjIKCgqQlJSE8+fPe96AyAcsFgFn9Jfw/a/l+OFcGX74tbzZS5ldSY4Oxazfdcf067qio67xtTYWM3DmG2D/CuDsHucbhnYC7loN9Bwlz5cgooAXjMdQt2ewLBYLpk+fjszMTADA4sWL8fzzz0Ottm524cIFTJ48Gfv378e9994LpVKJadOmeWz0tddewwsvvAAAmDRpElavXo2oqCgAQF1dHZ555hm88847eO2111BVVYV33nnHY53Z2dkYP348Ghoa0LdvX2RmZqJPnz4ArDf1rlmzBg888AC2bt2KcePGYe/evQgLC/NYL1F7UddgxqniavxcVIXjRVX4uagKJ4qqUV1vklyHSqnA9b1jcc91Kbi5f4L1fYKCABT9BORutH6qi1xX0PtmYOLbQMcEGb4REVHgcnsGa/HixViwYAEA4E9/+hPee++9ZmUqKiqQmpqKkpIS6HQ65Obmonfv3i4b3Lt3L0aNGgVBEHD11Vfj8OHDCAlp/lLYW265BV9//TUA4MMPP8Qf//hHl3WWl5ejb9++KC0thU6nw7Fjx9CzZ89m5V599VX85S9/AQDMmTMH//rXv1zW6SgY0zf5nsFoxvnyOvxaWoNfL9bgbKn182tpDYqqDHB/vtm1QSlRmHhtF0y4pgviOmqB6mIgfz9weidwepf7UAUAEUnATYuAAXcBtkM2EBFJEIzHUJcBq6SkBL169cKlS5eg0Whw/vx5xMXFOa3kzTffxJNPPgkAmDp1Kj7++GOXDQ4bNgwHDx4EAHzxxReYOHGi03JHjhzBwIEDAVgvS546dQpardZp2WeffRbLli0DADzxxBN44403nJarr69HSkqKeAnyyJEjSEtLc9lXW8H4y0HyEQQBVQYTLl6qx4VKA4oqDbhQZUBhRZ04X1RZh/JaoyztRYaG4Ma+cRjVJxa/TwZia/OA4mNAwQ/Ab98DlfnSKgqPB4Y/BAx7GNDwjC8RtU4wHkNdBqy//e1vWLRoEQAgIyMDmzdvdllJSUkJunTpArPZDIVCgbNnz6Jbt27Nyu3ZswejRo0CAMTExKCoqMjp2asm11xzDXJzcwEAa9euxcyZM5uVqa2tRXx8PGpqagAAhw4dcntz/Lx587BixQoAwOzZs/Hvf//bZVlbwfjLQc6ZLQKqDUZUG0yoMhhRVWdCeW0Dymoufy7WNKCsph4XL1nny2sbYDS38vSTRwKuijBiTKIBQ6Nq0C+0HPGmIij1J4CSn4G6spZX2fkaYOhc4JppQIjOc3kiIjeC8RiqPnToENLT05ut2LRpkzg9duxYt5XEx8cjLS0NR44cgSAI+PTTT/HUU0+5rfPGG290G64AYMyYMWLA2rRpk9OAtW3bNjFcderUyeOTh2PGjBED1ubNm2EymcR7yigwNZgsqGswo9ZoQm2D2TrdYEZtg+nytNGMuobL62saTKiqM6HaYESVwXQ5UNUZPT6VJxc1TIhEDWIVlYhVVCIOlYhTVqJXaC2662qQqK5GjKUUYbUFUDbUAudg/bRWVDfg6juAa6cD8VfJ9TWIiIKSevv27c0CVkFBAY4ePSrODx482GNFQ4YMwZEjRwAA27dvdxqwtm/f3uI6m+zYsQNms7nZE4W2dToLiu7qLCsrw8GDBzFixAiP28nt4qV6DF68EwAwY3g3vDxJ2qXKK4kgCDBZBJjMAowWCxpM1k+96fJ0g9mMeqMF9ebm6+pNZptyl9fVO1tntP40GB0ClNHsxTNHTr81tDAiDAaEoR6hinqEoR5hinqEomnagA6oQwRqEamoQYSiFpGoQYSiBhGoQaSiBpGKWoTD4LwJY+OnrTQdrAOE9r4Z6HMzENOb91cREclE3XSGyJbjMmc3jDvq0aOHy+0B66W8vLy8VtdpMBhw+vRppKamuuyrlDqTkpKg0WjQ0NAgbu+PgNUUrgDgw+/O4cPvzuHpm/uKryaxCALMggCLRYC56dMYWCyWyz/NwuX1dutsltuuM1oEmMwWmC0CjGYBJosFRrMAs8XSGISs00aztVxTQLpcToBRXG6/XgxTjcvNFrmCjQAlBKhggRIWqBo/zqaVCuvPMFjQoWm9wro+BGZoYIJGYYQGRus0jNAoTNA2zlt/GhvLmC6XUxihtZ2HEVqF0RqiUI9whQGhjdMqhS8DnURqHRDbF+g8AEgeag1Wcf0ApbQhUIiIqGXUx48fb7bQdplKpUJCgudHsm0HGr1w4QLKy8sRHR0tLjtx4gQsFovT8lLqbOqXY8Cy7auUOhUKBRITE3Hu3Llm2/tSH8V57NA+J85Prl+I7TvP4uudDkFC4SJIOAsaCotdEGleVoASFqhhgVbhoS4noeXyMmsbimZlBWtZpfXjtt8u2xfEabH+9hhY2iOFEohIBqJSgKiu1jNS8VdZg1R0d4YpIiIfUpeWljZbqNfrxemIiAgolUqPFTWNY9WktLTULmDZ1umsvNQ6bdXX16O6urpFdTaVawpYzr6/OxaLpdl3AeDyCUtXbMMVAHyq/VuLtqcgE9rJ+jLlDvHWJ/s6xAPhcUDHzkBkV2uoiugCqNzf10hE5E3Ojo8A7E6wBAu1bUBpYrvM1dAIjnQ6+yeNHOt1nJdSrzfqdKzX2fd3p6ioCPHx8c2WexgQ345er0fL4hhd0dQ6ICQM0IQ3/gyz3v+kiwR0UUBo1OVpXWTjvM10WAyDkxt6vb7ZPllSUtLi/+khCnZy7EvOjo/BSl1b2/y1GnV1deK0RqORVJFjOcd6beuUWq836nQs5+z7U4BRqKyXz1QhgEpjDTxqDaDSAmpt4zLHnzoX67T229qGppDwxp+2YSqcl+aIiIKQ2tnrYkJDQ8XpppvBPXEs51ivbZ1S6/VGnY7l2tPrcgSVBgqF0hoIlI2hQKmymVcBSqXDfONPhcJJ2RbWoVRay7e5DmfbOKtDynLHdjy062w5ERGRj6k7duzYbKHtsvr6ekkVGQz2j5Q71us4L6Veb9TpWK+z7+91ZiOMggohisvjKR0atxnpw0f5vi9EREQkO3VsbGyzhbbXW6uqqmCxWDze6F5ZWWk371iv4zXciooKj53zVKdWq0XHjh3F+6ik1OlYr7Pv705iYqI43lerqUKgWVwFjVqNDqFqdNSp8O0Drt/fSEREdCUoKSlxuvzaa69FUZGHd54GGHX//v2bLbRdZjabUVxcjMTERLcVFRQUiNOdO3e2e4IQAPr16welUik+SWBbXkqdjv2yXXbgwAHJdQqCgMLCQrd1uqNUKuW5edZiRkODGWUN9SirBNQaaTfoExERtVeujo9SRiMINOoBAwY0W+i4LC8vz2PAsh1E1FmdYWFh6NmzJ06fPt2svJQ6dTodevdufpZnwIABYsCSUmdBQYHdPVjO+upMUyovKipCcnKypG1ccfa46rXXXhuUv4BEbcX9iUge3tyXms5euTrDFYjU48aNa7YwKSkJaWlp4utycnJycP3117ut6IcffhCnndXZtPz//b//J9bpiW2dN998c7PX5DTV+a9//QuA9UXPLamzU6dOuO666zxuA1jP5AHWX0ApZ8paKthOnRJ5E/cnInnIvS81HUuDgdrV+/umTJkiBqxdu3Zh3rx5LispKSkRyyoUCkyePNllnU0Ba+/evTAajW5f+PzNN9/YbevMrbfeirCwMNTW1qKsrAyHDx92+8Jn2zonTpwo+UXPOp0OBoMBKpWK43wQERG1QElJCcxmc7PxLQOa4MKFCxeEDh06CAAEjUYjlJSUuCoqvPHGGwIAAYBw1113uSxnsViEoUOHimW/+OILl2V//PFHsVzXrl2Furo6l2WfeeYZsewTTzzhslx9fb0QHx8vABCUSqWQm5vrsiwRERFRa7m8sJqQkIDnn38egHXcqAULFjgtV1FRgVdffRWA9SzPkiVLXIY5hUKBZcuWQaFQAAD++te/wmg0Oi3b1DYALFmyxG3q/ctf/iI+Dbhy5UqcPXvWabl//OMf4vXf2bNnIy0tzWWdRERERK3mLn2ZTCZh/Pjx4tmhV155RTCZTOL6oqIi4frrrxfXb9iwQVKqe/XVV8Vt7rjjDqGiokJcV1dXJzzyyCPi+oceekhSnXv27BE0Go0AQEhNTRVOnTplt3716tWCWq0WAAjp6elCTU2NpHqJiIiIWkohCO5foldTU4NHH30Ua9euBQB069YNQ4YMQXV1NbKzs1FXV4eIiAi8++67uOeeeyQHu+XLl2P+/PloaGhAVFQUrr/+eqjVanz33XcoLi6GUqnEM888g1deeUXyfVI7d+7EzJkzUVRUBLVajZEjRyI2Nha5ubk4ceIEAOs9W2vXruV7yoiIiMhrPAasJnv27MGqVauwf/9+FBYWIjQ0FN26dcPEiRMxd+5cJCUltbjxX375Be+//z62b9+O/Px8mM1mJCcnY/To0XjggQfg6gZ8d8rKyrB69Wps2rQJZ86cQVVVFRITE5Geno5Zs2YhIyOjxXUSERERtYTkgEWXZWZmYu3atcjJyUFRUREiIyPRs2dP3HXXXZg1axY6derklXZNJhM2btyI//znPzh69CiKi4sRExOD1NRUTJ8+HX/84x/b1bsViTzx5b60e/dujB49ukXb3HLLLdi+fbtsfSDyJr1ej8ceewyffPIJACArKwujRo3yaps8Lrnhz+uTVxq9Xm93T1pqaqowZcoUYdSoUYJKpRIACImJicLOnTtlbzsvL08YNmyY2PbAgQOFqVOnCsOHD7frz6FDh2Rvm0hu/tiXsrKyxPakfm655RbZ2ifypvXr1wuxsbF2v79ZWVlebZPHJfcYsCSqqakRBg8eLAAQVCqVsGrVKsFisYjrT506JfTt21cc1mLv3r2ytV1cXCx069ZNACCEh4cLW7ZssVt/8OBBISEhQQAgREVFCSdOnJCtbSK5+WtfagpYMTExQmpqqqTP3LlzZWmbyFsKCwuFjIwMAYD4IJcvAhaPS54xYEk0Z84c8Zd2yZIlTsucOXNG0Ol0AgAhNjZWKCsrk6XtsWPHim2vX7/eaZl9+/YJCoVCACD069dPMBqNsrRNJDd/7UtNAWvhwoVtrouoPVi9erUQFRUlPh1/+PBhnwUsHpc8Y8CS4KeffhKUSqUAQEhISBDq6+tdlv3zn/8s/tI999xzbW47MzNTrG/QoEFuy06cOFEs+84777S5bSK5+XNfYsCiQBMZGSlotVphyZIlYnjxRcDicUkavg1VguXLl4svwZw2bRo0Go3LsjNnzhSn3377bdTV1bWp7WXLlonTM2bMcFvWtm3b7YjaC3/uS0SB5oYbbsCPP/6I+fPnSx7OSA48LknDgOWByWTC5s2bxfmxY8e6LT9o0CBERUUBsI4htm3btla3XVJSguzsbMlt2z4hlZeXJ+nl10S+4s99iSgQZWZmol+/fj5tk8cl6RiwPDhw4ADKy8vF+cGDB7str1Ao7Mq05RHvHTt2iG8e1+l06N+/v9vy0dHR6NWrlyxtE8nNn/sSEcmDxyXpfHdO8QqVm5srTmu1WkkDqvbo0cPp9m1pOyUlRdIp4B49euDMmTNtbptIbv7clxwZDAZ8/fXXyMnJEd8cERMTg7S0NIwaNQoJCQmytUUUSHhcko4By4Pjx4+L0126dJG0je2Bw3b7trQtdaR8udomkps/9yVb27Ztw4oVK1BWVuZ0vUqlwvTp0/Hqq6+ia9eusrRJFCh4XJKOlwg90Ov14nTT/SCe2JarqqqC0Wj0S9ulpaWtapfIG/y5L9k6ePAgdDod3nrrLZw+fRoGgwFlZWXYsWMHMjIyYDab8dFHHyE9PR379u1rc3tEgYTHJekYsDyorq4Wp7VaraRtdDqdyzp82XZr2yXyBn/uS7aGDx+O48eP4/HHH0evXr2g1WoRHR2Nm266CZs3b8ZLL70EwHogyMjIQF5eXpvbJAoUPC5Jx4Dlge2j4e4eKbflWK62ttYvbbe2XSJv8Oe+BABDhw5Fbm4udu7cicjISJflFi1ahOHDhwOwvjz+2WefbXWbRIGGxyXpGLA8CA0NFacbGhokbeNYrrUvumxr20H7gk1ql/y5LwFAeHg40tLSEB4e7racQqHAvHnzxPnPP/8c+fn5rW6XKJDwuCQdA5YHHTt2FKfr6+slbWMwGFzW4cu2W9sukTf4c19qqTFjxojTgiBg586dPmmXqL3jcUk6hSAIgr870Z7NmzcPK1asEOdDQkIQHx/vdpuqqirxOrNCoZD8xJSjixcvir+YWq0WsbGxHrcpLy8XT8FK6SuRr1RUVKCmpgaA9Um9zp07e9xGrn2pNQoLC9H057FDhw5uLysStRcFBQXidGxsrOT7pKRq63FJoVCIb3MIdAxYHqxcuRIPP/ywv7tBREQUEIIldnAcLA8GDBhgN69UKpGYmNimOi0WC4qKiuyWJSYmQqnkFVuiluL+RCQPb+5LRUVFsFgsQbVf8gyWByaTCfHx8eIrPpKSknD+/Pk21anX65tduispKUFcXFyb6iUKRtyfiOThzX0pOTkZBQUFiI+PR3FxcZvruxIET5RsJbVajYkTJ3q9nf9+dw43vLwFg/+2FX/94ggqagyeNyIiIrqChISE+LsLPsOAJcFTTz3l9TZe33EK52uAi3UC/vPdeQx8eRdDFhER0RWKAUuCAQMG+GXsjv9895vP2yQiIqK2Y8CSSOo7l+T0x+F80SwREdGViE8RSqRQKGSrKy4uDnX1Rlz90v/B7GT9vcOS8ewfUhEVrnOylohsxcXFBc1j30TexH1JXgxYflJYaXAarn54cTRiOwbPqwSIiIgCES8R+klKpzAkdrR/muKFP/RluCIiIgoADFh+olYp8fa9g+2W/a6351cOEBERUfvHgOVHYVr7M1jaEJWfekJERERyYsDyI8ebCVVK+W6kJyIiIv8JqID166+/QqFQtOjTr18/v/TVZLbguU0/ifNXd4lAj9hwv/SFiIiI5BVQAetKkl9Wi9zCKnHeaHL2TCERERFdiQJymIaIiAgkJiZKKtuzZ08v98a5lE5hSI3vgJMllwAAp0pqkF9Wi55xHfzSHyIiIpJPQAasO+64A2vWrPF3N9xSq5TY/Nj1mPj2PpwsvoRrkiOR0olDNBAREQWCgAxYVwqdRo0t80Yiv6wWKZ3CoFbxii0REVEgYMDyM7VKycuCREREAYanTPzIZLYgT38JJrPF310hIiIiGfEMlp+YzBbc+c5+/FRQiWuSIvHZIyN4iZCIiChABGzAMplMyMrKwoEDB1BYWAiz2YyYmBikpqZi9OjRSElJ8Wv/8stq8VNBJQDgp4JKPkFIREQUQAIyYOXk5KBHjx44f/680/UKhQITJkzA0qVLcfXVV/u4d1YpncJwTVKk9QwWnyAkIiIKKAEZsI4ePYqoqCi88soruOOOO9C9e3cYjUYcPXoUH3zwAdauXYvMzEx88803+M9//oM77rhDct0WiwV6vb7Z8ri4uBb1Ua1S4rNHRvAJQiIiChjOjo+A9dgZbBSC4wvxrmC//vorevTogd69e2P37t1ISkpyWm716tW4//77AQBarRZ79uzBsGHD3NadnJyMgoICl+sD6J+RiIioVRQK9+/UTUpKcnl1KdAE1GmTpKQk5Obm4uDBgy7DFQDMnj0bU6dOBQDU19fj0Ucf9VUXiYiIKAgEVMAKCQlBWloaoqOjPZZ94oknxOmcnBxkZ2d7sWdEREQUTAIqYLXEsGHDEB4eLs7v2LHDj70hIiKiQBKQN7lLoVQq0bNnT+Tm5gIATp06JWm7xMREHDlyxJtdIyIiuiKVlJQ4XX7ttdeiqKjIx73xr6ANWAAQEREhTpeVlUnaRqlUtviJQSIiomDg6vioVAbfBbPg+8Y2DAaDOG17uZCIiIioLQImYFVWVmLx4sVYu3at5G0KCwvF6S5dunijW0RERBSEAiZglZeXY8GCBXj99dcllT9//rzd9eCRI0d6q2tEREQUZAImYDU5ceKEy5vsbK1bt06cjoqKwq233urNbhEREVEQCbiAZbFYsHDhQrdl8vLysHTpUnH+hRdeQGRkpLe7RkREREEi4AIWAKxcuRKPPfaY0ycDv/nmG4waNQrV1dUAgClTpuC5557zdReJiIgogAXMMA1xcXF48MEHsX79elRXV+Ptt9/GqlWrMHToUCQnJ8NgMCA3NxenT58GYH0H4QsvvICXXnrJ47uTiIiIiFoioF72DAC1tbXYuXMn/u///g+HDx/GmTNnUFFRAZVKhU6dOuHqq6/GqFGjMHv2bHTu3FlyvU0vew6mF1USERHJIRiPoQFzBqtJWFgYMjIykJGR4e+uEBERUZAKyHuwiIiIiPyJAYuIiIhIZgxYRERERDJjwPInswkoPW39SURERAEj4G5yv2KYTcCqm4DCw0CXQcCcnYCK/zmIiIgCAc9g+Uv5r9ZwBVh/lv/qz94QERGRjBiw/CUyGQgJtU6HhFrniYiIKCAwYPlL5XnAWGedNtZZ54mIiCggMGD5S3R3671XgPVndHd/9oaIiIhkxLuq/UWlBmZvB37dB3S/nje4ExERBRAe1f3FbAJWj+NThERERAGIR3R/cXyK8OJpIL6fX7tE5DdHPgM+n+3vXrihACavBQZM9HdHiOgKwYDlL9Hdgc4DgQs/Wuc/exB4YBfPYlHgKfgB+OAWAFfygLoC8OlM4FN/94PIR6J6AjM2AjG9/d2TKxaP5v5kqrs8feFHnsWiwJC72RpGiOjKVZEHrBgMPJ7DkNVKDFj+Uv4rUHrSfpmp3i9dIZLk523Ax9P93Qsi8qXPHwbm7vB3L65IDFj+Et0diOgGVJ27vOz9G/3WHSIiombueNffPbhiMWD5i0oNDJoJ7HnZ3z0hah/GLgZGPNz+7kM0GoCvXwG+f8vfPSHyHd6D1Wbt7C9ZkCk85O8eEPlGeAIw8zMgIc3fPWm5EB0w4WXrh4hIIgYsfzGbgLP/83cviLzjd08BY563hhMioiDEgOUv5b8Cpkp/94KoZfpNAib+EwiN8ndPiIjaNQYsf4lMBqACYL68LGMlkH63v3pEREREMuHLnv2l8jzswpVSAwy4w2/dISIiIvkwYPlLdHeg87WX5+OuApQ8oUhERBQIGLD8ydxwebr4iPW+LCIiIrriMWD5S/mvgP7ny/Px/a1ntYiIiOiKx4DlL9HdgS6DrNPxVwEPZLW/ARaJiIioVXhE9xeVGpiz03omK7o7wxUREVEA4VHdn1RqIJavISAiIgo0vERIREREJDMGLH8ym4DS09afREREFDB4idBfzCZg1U1A4WHrze5zdvI+LCIiogDBM1j+Uv6rNVwB1p8cA4uIiChgMGD5i+0wDV0GcQwsIiKiAMJrUv7CYRqIiIgCFo/q/sRhGoiIiAISLxESERERyYwBi4iIiEhmDFhEREREMmPAIiIiIpIZAxYRERGRzBiwiIiIiGTGgEVEREQkMwYsIiIiIpkxYBERERHJjAGLiIiISGYMWEREREQyY8AiIiIikhkDFhEREZHMGLCIiIiIZMaARURERCQzBiwiIiIimTFgEREREcmMAcuPTGYL8vSXYDJb/N0VIiIikpHa3x0IViazBXe+sx8/FVTimqRIfPbICKhVzLtERESBgEd0P8kvq8VPBZUAgJ8KKpFfVuvnHhEREZFcGLD8JKVTGK5JigQAXJMciZROYX7uEREREcklYC8RZmZmYu3atcjJyUFRUREiIyPRs2dP3HXXXZg1axY6derk1/6pVUp88uBwHDhbhmE9OvHyIBERUQAJuKN6aWkpJkyYgNtvvx2bNm2CRqPBbbfdhquuugoHDx7EU089hbS0NOzatcuv/TSZLZj63neYtfp7TPx/+2BoMPm1P0RERCSfgApYtbW1GDduHLZu3QqVSoVVq1bh559/xsaNG5GVlYWff/4Zffv2RVFREcaPH4/s7Gy/9dX2HqyTJZcw8e19fJqQiIgoQARUwJo3bx5ycnIAAC+//DLuv/9+KBQKcX2fPn2wbds26HQ6NDQ04M4770R5eblf+tolUget+vI//8niS7zRnYiIKEAETMDKzc3F6tWrAQAJCQl4+umnnZbr2bMnHnzwQQDWy4lLly71WR9tFVYaUG+6fMZKq1aiS6TOL30hIiIieQVMwFq+fDksFmtgmTZtGjQajcuyM2fOFKfffvtt1NXVeb1/jlI6hSE1voM4X2+yoLDS4PN+EBERkfwCImCZTCZs3rxZnB87dqzb8oMGDUJUVBQAoKamBtu2bfNm95xSq5TY/Nj16B0bCgC4OrEDh2ogIiIKEAERsA4cOGB3L9XgwYPdllcoFHZltm/f7rW+uWMyW3Cm1Hr27HjRJT5JSEREFCACImDl5uaK01qtFklJSR636dGjh9PtfemzQ+chNE4LAD7/sdAv/SAiIiJ5BcRAo8ePHxenu3TpImkb2xBmu72vmMwWfLDnjP1CjtJAAebH3y5i0tvf+bsbRNRC3aJ1WHX/EPSOi/R3V65YARGw9Hq9ON10b5UntuWqqqpgNBoREhLicTuLxWLXXpO4uDhJ7TbJL6vFb1UNdssWfHUM/ZM7YHC32BbVRSS30/pKzPzn/1DIq9ZEQelcuQE3/eN/2Pn0DS0KWc6OjwDEh9CCSUAErOrqanFaq9VK2kansx8Sobq6WtLrc4qKihAfH99suSAITko7p9fr0cuhjuTHP4IqLBKT3z0guR4iAsy1lTi/4l67ZU37ExFJ52xf+nPkl9gy/3bJdTg7PgargLgHy3aYBXfDM9hyLFdb699BPlUw+7V9IiIiRy9N6u/vLlyxAiJghYaGitMNDQ1uSl7mWC4szL9DJCQpSv3aPhERkaOesRH+7sIVKyAuEXbs2FGcrq+vl7SNwWA/qKdtHf5QIPC+KwpM8R1CsGbOUPRPjPZK/Xq9HvEr7JcdWnBzi++LJAp2zvYlar2ACFi2f0grKiokbVNZWSlOR0RESLrBHQASExNx5MiRFvVPir9NvAb7LtRib24ZOJ47tQcdQpRYO3coH7ogIslKSkqcLr/22mtRVFTk4974V0AErP79L18jLiyUNpZUQUGB0+09USqVXvk/4/HXdMGssfw/biIiunK5Oj4qlQFxR1KLBETAGjBggDhdX1+PgoICj4ON5uXlOd3elaZUXlRUhOTk5Fb21MrZ46rXXnttUP4CErUV9ycieXhzX2o6e+XqDFcgCoiANWzYMERHR4uvy8nJyXEbsARBQE5Ojjg/btw4j22Yzdan/CwWi93ZL7kE26lTIm/i/kQkD7n3paZjaTAIiIClVqsxceJErFmzBgCwa9cuZGRkuCx/+PBh8V6t8PBw3HrrrR7b0Ol0MBgMUKlUHOeDiIioBUpKSmA2m5uNQRnIFEJLRshsx3JzczFw4EBYLBYkJCQgPz/f5ZhYTzzxBP75z38CAJ599lm8/vrrvuwqERERBbiAuUlhwIABmD17NgCguLgYy5cvd1ru7NmzeO+99wAAsbGxmD9/vs/6SERERMEhYAIWALz11ltIT08HACxYsACrV6+2W3/69GnceuutMBgM0Gg0+OyzzxAd7Z2xeYiIiCh4BcwlwiZ6vR6zZs3Ctm3bAAD9+vXDgAEDUFpaiuzsbJhMJiQmJmLdunW46aab/NxbIiIiCkQBF7CafPXVV1izZg0OHTqEoqIiREREoFevXpgyZQpmz54t6cXORERERK0RUJcIbd1+++349NNPcfbsWRgMBpSUlODbb7/F008/3eZwlZmZibvuugs9e/ZEaGgoOnfujBEjRuCNN95AWVmZTN+gOZPJhA0bNmDChAno1q0bdDodkpKSMGbMGLz//vt+f2E1UUv5cl/avXs3FApFiz5ShnAhai/0ej2mTZsm/v7u3r3b623yuOSGQJLp9Xph/PjxAgABgJCamipMmTJFGDVqlKBSqQQAQmJiorBz507Z287LyxOGDRsmtj1w4EBh6tSpwvDhw+36c+jQIdnbJpKbP/alrKwssT2pn1tuuUW29om8af369UJsbKzd729WVpZX2+RxyT0GLIlqamqEwYMHCwAElUolrFq1SrBYLOL6U6dOCX379hUACBqNRti7d69sbRcXFwvdunUTAAjh4eHCli1b7NYfPHhQSEhIEAAIUVFRwokTJ2Rrm0hu/tqXmgJWTEyMkJqaKukzd+5cWdom8pbCwkIhIyNDACCo1WqfBSwelzxjwJJozpw54i/tkiVLnJY5c+aMoNPpBABCbGysUFZWJkvbY8eOFdtev3690zL79u0TFAqFAEDo16+fYDQaZWmbSG7+2peaAtbChQvbXBdRe7B69WohKipKACCkp6cLhw8f9lnA4nHJMwYsCX766SdBqVQKAISEhAShvr7eZdk///nP4i/dc8891+a2MzMzxfoGDRrktuzEiRPFsu+8806b2yaSmz/3JQYsCjSRkZGCVqsVlixZIoYXXwQsHpekCdib3OW0fPly8SWY06ZNczlCPADMnDlTnH777bdRV1fXpraXLVsmTs+YMcNtWdu2bbcjai/8uS8RBZobbrgBP/74I+bPnw+12ndvvuNxSRoGLA9MJhM2b94szo8dO9Zt+UGDBiEqKgoAUFNTI47H1RolJSXIzs6W3Pbo0aPF6by8PBw6dKjVbRPJzZ/7ElEgyszMRL9+/XzaJo9L0jFgeXDgwAGUl5eL84MHD3ZbXqFQ2JXZvn17q9vesWOH+OZxnU6H/v37uy0fHR2NXr16ydI2kdz8uS8RkTx4XJLOd+cUr1C5ubnitFarRVJSksdtevTo4XT7trSdkpIi6RRwjx49cObMmTa3TSQ3f+5LjgwGA77++mvk5OSguLgYSqUSMTExSEtLw6hRo5CQkCBbW0SBhMcl6RiwPDh+/Lg43aVLF0nb2B44bLdvS9tSDkZytk0kN3/uS7a2bduGFStWuBzIVKVSYfr06Xj11VfRtWtXWdokChQ8LknHS4Qe6PV6cbrpfhBPbMtVVVXBaDT6pe3S0tJWtUvkDf7cl2wdPHgQOp0Ob731Fk6fPg2DwYCysjLs2LEDGRkZMJvN+Oijj5Ceno59+/a1uT2iQMLjknQMWB5UV1eL01qtVtI2Op3OZR2+bLu17RJ5gz/3JVvDhw/H8ePH8fjjj6NXr17QarWIjo7GTTfdhM2bN+Oll14CYD0QZGRkIC8vr81tEgUKHpekY8DywPbRcHePlNtyLNfadzG1te2gfgcUtTv+3JcAYOjQocjNzcXOnTsRGRnpstyiRYswfPhwAEBZWRmeffbZVrdJFGh4XJKOAcuD0NBQcbqhoUHSNo7lwsLC/NJ2a9sl8gZ/7ksAEB4ejrS0NISHh7stp1AoMG/ePHH+888/R35+fqvbJQokPC5Jx4DlQceOHcXp+vp6SdsYDAaXdfiy7da2S+QN/tyXWmrMmDHitCAI2Llzp0/aJWrveFySjgHLg7i4OHG6oqJC0jaVlZXidEREBEJCQvzSdmxsbKvaJfIGf+5LLZWQkGB3IDh16pRP2iVq73hcko4BywPbQdQKCwslbVNQUOB0+7a0bVunL9omkps/96XWiIiIEKddDelAFGx4XJKOAcuDAQMGiNP19fWSfqFsnzqy3b4tbefn54uj5/qibSK5+XNfag3byxqe7tsiChY8LknHgOXBsGHDEB0dLc7n5OS4LS8Igl2ZcePGtbrtm2++GUql9T+RwWDAsWPH3JYvLy+3+0VuS9tEcvPnvnTu3DksXrzY7l2I7tTV1dm91kfqwKhEgY7HJekYsDxQq9WYOHGiOL9r1y635Q8fPixelw4PD8ett97a6rbj4+Nx4403Sm47KysLgiAAsL6aID09vdVtE8nNn/vS2bNnsWDBArz//vuSyufk5MBisYjzI0eObHXbRIGExyXpGLAkeOqpp8TE/vHHH7t9NHXdunXi9COPPGL3SGtrPPPMM+L0hx9+6Lasbdu22xG1F/7clwDgu+++k/RouW3bvXr1wtChQ9vcNlGg4HFJIoEkmTNnjgBAACC8+uqrTsvk5eUJOp1OACDExsYKZWVlTsuVl5cL48ePF8LDw4WRI0cK+fn5btseO3as2PaGDRucltm3b5+gUCgEAEK/fv0Eo9HYsi9I5CP+2JeysrLENpcuXeq2f99++62gUqnE8v/9739b9gWJ/Kjp9xaAkJWVJXk7Hpfkx4AlUU1NjZCeni4AENRqtfDvf//bbv0vv/wipKamCgAEjUYj7N2712VdCxYssNsJZsyY4bbtCxcuCN26dRMACOHh4cKWLVvs1n///fdCQkKCAECIiooSTpw40fovSuRl/tiXbAOWUqkU/va3vwmXLl1qVm7jxo1CVFSUWPbpp59u25cl8rHWBiwel+Sn9tKJsYATFhaG7du3Y9asWdi2bRvuv/9+vP766xgwYABKS0uRnZ0Nk8mExMRErFu3zu09G0Lj9egmCoXCbdsJCQn45ptvcPfdd+PgwYOYMGECBg0ahD59+uC3337Dd999B0EQ0LdvX2zYsAGpqamyfGcib/DHvpSamop77rkHn376Kerr67Fw4UIsW7YM1113HRISElBTU4MffvhBfLKxY8eOeO211/Dwww/L98WJZHbixAksXbrU5fqlS5dizZo14vykSZMwadIkp2V5XPICv8a7K9SXX34p3HnnnUL37t0FrVYrxMXFCcOHDxeWLVsmXLx40eP2Tadiw8LCJJ2KbWI0GoWPPvpIGDdunJCcnCxoNBohMTFR+P3vfy+sXLlSqKmpaetXI/IpX+9L5eXlwoYNG4Q5c+YIQ4YMEWJiYoSQkBAhPDxcSElJEW6//XbhzTffFCoqKuT6ikReY3tmVspn4cKFLuvicUl+CkFwiK1ERERE1CZ8ipCIiIhIZgxYRERERDJjwCIiIiKSGQMWERERkcwYsIiIiIhkxoBFREREJDMGLCIiIiKZMWARERERyYwBi4iIiEhmDFhEREREMmPAIiIiakf0ej2mTZsGhUIBhUKB3bt3+7tLIovFgq1bt2LOnDlIS0tDbGwsdDodUlJScN111+FPf/oTNmzYgKKiIn931e/4LkIiIqJ2YsOGDZg3bx5KS0vFZVlZWRg1apT/OtXoyJEjeOCBB/D9999DrVZj6NCh6Nq1Ky5duoTjx4/j119/FcteffXVOHr0qP862w6o/d0BIiKiYFdUVISHHnoIX375JdTq9ndo3r17N8aPH4+6ujo89NBDePnllxEbGyuuFwQBGzZswOzZs9HQ0ODHnrYfvERIRETkR2vWrEH//v3x5ZdfIj09Hd9//72/u2Tn2LFjuP3221FXV4eFCxfi3XfftQtXAKBQKHDPPffg5Zdf9lMv25/2F5OJiIiCyBNPPAGDwYAlS5bg2WefbXdnsB555BFcunQJAwYMwEsvveS27N13342vv/4aPXr08FHv2q/29V+RiIgoyNxwww1YtmwZ+vXr5++uNLN582bs3bsXAPDUU09BqXR/4atr167YuXOnL7rW7jFgERER+VFmZqa/u+DS6tWrAVgvAU6YMMHPvbmy8B4sIiKiALR//348/PDDuOqqqxAZGYnQ0FAkJydjwoQJePvtt1FbW+t2+8rKSmzbtg2A9cxUXFycL7odMHgGi4iIKIDU1NRgzpw5+PjjjwEA8fHxGD16NLRaLU6cOIGtW7di69atWLx4MT766COMGTPGaT05OTniE4F9+/YVl+fl5WHr1q04e/YsLl26hNjYWAwYMAA333wzYmJivP8FrxAMWERERAGipqYGo0aNwg8//AAAWLhwIf7617/a3Ti/f/9+3HXXXSgsLMS4ceOQmZmJP/zhD83q+vHHH8Xp6OhoFBUV4YknnsAnn3zitG2dTodHHnkEixcvRmhoqLxf7ArES4REREQB4rHHHhPD1WOPPYZFixY1eypxxIgR+Oqrr6BSqWA0GjFz5kxUVFQ0q+vkyZPi9IULFzB8+HB88skn+OMf/4jvv/8etbW1KC8vx5dffolrrrkGBoMBy5cvx6hRo5zWF2wYsIiIiAJAbm4u1qxZA8B6NmnRokUuy6anp2P8+PEAgOLiYqxatapZmcrKSnE6Ozsb+fn5+Mtf/oIPP/wQQ4YMQWhoKKKionD77bfj22+/xdChQwEABw8exOzZs+X7Yleo/x8R/CTKpeCIdgAAAABJRU5ErkJggg==' width=600.0/>\n",
       "            </div>\n",
       "        "
      ],
      "text/plain": [
       "Canvas(toolbar=Toolbar(toolitems=[('Home', 'Reset original view', 'home', 'home'), ('Back', 'Back to previous …"
      ]
     },
     "metadata": {},
     "output_type": "display_data"
    }
   ],
   "source": [
    "fig, ax = plt.subplots(3)\n",
    "ax[0].plot(sol.t, a1sol)\n",
    "ax[0].plot(sol.t, a2sol)\n",
    "ax[1].plot(sol.t, e1sol)\n",
    "ax[1].plot(sol.t, e2sol)\n",
    "ax[2].scatter(sol.t, th1sol,s=2)\n",
    "ax[2].scatter(sol.t, th2sol,s=2)"
   ]
  },
  {
   "cell_type": "code",
   "execution_count": 40,
   "metadata": {},
   "outputs": [
    {
     "name": "stdout",
     "output_type": "stream",
     "text": [
      "\u001b[0;31mSignature:\u001b[0m\n",
      "\u001b[0msp\u001b[0m\u001b[0;34m.\u001b[0m\u001b[0mintegrate\u001b[0m\u001b[0;34m.\u001b[0m\u001b[0msolve_ivp\u001b[0m\u001b[0;34m(\u001b[0m\u001b[0;34m\u001b[0m\n",
      "\u001b[0;34m\u001b[0m    \u001b[0mfun\u001b[0m\u001b[0;34m,\u001b[0m\u001b[0;34m\u001b[0m\n",
      "\u001b[0;34m\u001b[0m    \u001b[0mt_span\u001b[0m\u001b[0;34m,\u001b[0m\u001b[0;34m\u001b[0m\n",
      "\u001b[0;34m\u001b[0m    \u001b[0my0\u001b[0m\u001b[0;34m,\u001b[0m\u001b[0;34m\u001b[0m\n",
      "\u001b[0;34m\u001b[0m    \u001b[0mmethod\u001b[0m\u001b[0;34m=\u001b[0m\u001b[0;34m'RK45'\u001b[0m\u001b[0;34m,\u001b[0m\u001b[0;34m\u001b[0m\n",
      "\u001b[0;34m\u001b[0m    \u001b[0mt_eval\u001b[0m\u001b[0;34m=\u001b[0m\u001b[0;32mNone\u001b[0m\u001b[0;34m,\u001b[0m\u001b[0;34m\u001b[0m\n",
      "\u001b[0;34m\u001b[0m    \u001b[0mdense_output\u001b[0m\u001b[0;34m=\u001b[0m\u001b[0;32mFalse\u001b[0m\u001b[0;34m,\u001b[0m\u001b[0;34m\u001b[0m\n",
      "\u001b[0;34m\u001b[0m    \u001b[0mevents\u001b[0m\u001b[0;34m=\u001b[0m\u001b[0;32mNone\u001b[0m\u001b[0;34m,\u001b[0m\u001b[0;34m\u001b[0m\n",
      "\u001b[0;34m\u001b[0m    \u001b[0mvectorized\u001b[0m\u001b[0;34m=\u001b[0m\u001b[0;32mFalse\u001b[0m\u001b[0;34m,\u001b[0m\u001b[0;34m\u001b[0m\n",
      "\u001b[0;34m\u001b[0m    \u001b[0margs\u001b[0m\u001b[0;34m=\u001b[0m\u001b[0;32mNone\u001b[0m\u001b[0;34m,\u001b[0m\u001b[0;34m\u001b[0m\n",
      "\u001b[0;34m\u001b[0m    \u001b[0;34m**\u001b[0m\u001b[0moptions\u001b[0m\u001b[0;34m,\u001b[0m\u001b[0;34m\u001b[0m\n",
      "\u001b[0;34m\u001b[0m\u001b[0;34m)\u001b[0m\u001b[0;34m\u001b[0m\u001b[0;34m\u001b[0m\u001b[0m\n",
      "\u001b[0;31mDocstring:\u001b[0m\n",
      "Solve an initial value problem for a system of ODEs.\n",
      "\n",
      "This function numerically integrates a system of ordinary differential\n",
      "equations given an initial value::\n",
      "\n",
      "    dy / dt = f(t, y)\n",
      "    y(t0) = y0\n",
      "\n",
      "Here t is a 1-D independent variable (time), y(t) is an\n",
      "N-D vector-valued function (state), and an N-D\n",
      "vector-valued function f(t, y) determines the differential equations.\n",
      "The goal is to find y(t) approximately satisfying the differential\n",
      "equations, given an initial value y(t0)=y0.\n",
      "\n",
      "Some of the solvers support integration in the complex domain, but note\n",
      "that for stiff ODE solvers, the right-hand side must be\n",
      "complex-differentiable (satisfy Cauchy-Riemann equations [11]_).\n",
      "To solve a problem in the complex domain, pass y0 with a complex data type.\n",
      "Another option always available is to rewrite your problem for real and\n",
      "imaginary parts separately.\n",
      "\n",
      "Parameters\n",
      "----------\n",
      "fun : callable\n",
      "    Right-hand side of the system. The calling signature is ``fun(t, y)``.\n",
      "    Here `t` is a scalar, and there are two options for the ndarray `y`:\n",
      "    It can either have shape (n,); then `fun` must return array_like with\n",
      "    shape (n,). Alternatively, it can have shape (n, k); then `fun`\n",
      "    must return an array_like with shape (n, k), i.e., each column\n",
      "    corresponds to a single column in `y`. The choice between the two\n",
      "    options is determined by `vectorized` argument (see below). The\n",
      "    vectorized implementation allows a faster approximation of the Jacobian\n",
      "    by finite differences (required for stiff solvers).\n",
      "t_span : 2-member sequence\n",
      "    Interval of integration (t0, tf). The solver starts with t=t0 and\n",
      "    integrates until it reaches t=tf. Both t0 and tf must be floats\n",
      "    or values interpretable by the float conversion function.\n",
      "y0 : array_like, shape (n,)\n",
      "    Initial state. For problems in the complex domain, pass `y0` with a\n",
      "    complex data type (even if the initial value is purely real).\n",
      "method : string or `OdeSolver`, optional\n",
      "    Integration method to use:\n",
      "\n",
      "        * 'RK45' (default): Explicit Runge-Kutta method of order 5(4) [1]_.\n",
      "          The error is controlled assuming accuracy of the fourth-order\n",
      "          method, but steps are taken using the fifth-order accurate\n",
      "          formula (local extrapolation is done). A quartic interpolation\n",
      "          polynomial is used for the dense output [2]_. Can be applied in\n",
      "          the complex domain.\n",
      "        * 'RK23': Explicit Runge-Kutta method of order 3(2) [3]_. The error\n",
      "          is controlled assuming accuracy of the second-order method, but\n",
      "          steps are taken using the third-order accurate formula (local\n",
      "          extrapolation is done). A cubic Hermite polynomial is used for the\n",
      "          dense output. Can be applied in the complex domain.\n",
      "        * 'DOP853': Explicit Runge-Kutta method of order 8 [13]_.\n",
      "          Python implementation of the \"DOP853\" algorithm originally\n",
      "          written in Fortran [14]_. A 7-th order interpolation polynomial\n",
      "          accurate to 7-th order is used for the dense output.\n",
      "          Can be applied in the complex domain.\n",
      "        * 'Radau': Implicit Runge-Kutta method of the Radau IIA family of\n",
      "          order 5 [4]_. The error is controlled with a third-order accurate\n",
      "          embedded formula. A cubic polynomial which satisfies the\n",
      "          collocation conditions is used for the dense output.\n",
      "        * 'BDF': Implicit multi-step variable-order (1 to 5) method based\n",
      "          on a backward differentiation formula for the derivative\n",
      "          approximation [5]_. The implementation follows the one described\n",
      "          in [6]_. A quasi-constant step scheme is used and accuracy is\n",
      "          enhanced using the NDF modification. Can be applied in the\n",
      "          complex domain.\n",
      "        * 'LSODA': Adams/BDF method with automatic stiffness detection and\n",
      "          switching [7]_, [8]_. This is a wrapper of the Fortran solver\n",
      "          from ODEPACK.\n",
      "\n",
      "    Explicit Runge-Kutta methods ('RK23', 'RK45', 'DOP853') should be used\n",
      "    for non-stiff problems and implicit methods ('Radau', 'BDF') for\n",
      "    stiff problems [9]_. Among Runge-Kutta methods, 'DOP853' is recommended\n",
      "    for solving with high precision (low values of `rtol` and `atol`).\n",
      "\n",
      "    If not sure, first try to run 'RK45'. If it makes unusually many\n",
      "    iterations, diverges, or fails, your problem is likely to be stiff and\n",
      "    you should use 'Radau' or 'BDF'. 'LSODA' can also be a good universal\n",
      "    choice, but it might be somewhat less convenient to work with as it\n",
      "    wraps old Fortran code.\n",
      "\n",
      "    You can also pass an arbitrary class derived from `OdeSolver` which\n",
      "    implements the solver.\n",
      "t_eval : array_like or None, optional\n",
      "    Times at which to store the computed solution, must be sorted and lie\n",
      "    within `t_span`. If None (default), use points selected by the solver.\n",
      "dense_output : bool, optional\n",
      "    Whether to compute a continuous solution. Default is False.\n",
      "events : callable, or list of callables, optional\n",
      "    Events to track. If None (default), no events will be tracked.\n",
      "    Each event occurs at the zeros of a continuous function of time and\n",
      "    state. Each function must have the signature ``event(t, y)`` and return\n",
      "    a float. The solver will find an accurate value of `t` at which\n",
      "    ``event(t, y(t)) = 0`` using a root-finding algorithm. By default, all\n",
      "    zeros will be found. The solver looks for a sign change over each step,\n",
      "    so if multiple zero crossings occur within one step, events may be\n",
      "    missed. Additionally each `event` function might have the following\n",
      "    attributes:\n",
      "\n",
      "        terminal: bool, optional\n",
      "            Whether to terminate integration if this event occurs.\n",
      "            Implicitly False if not assigned.\n",
      "        direction: float, optional\n",
      "            Direction of a zero crossing. If `direction` is positive,\n",
      "            `event` will only trigger when going from negative to positive,\n",
      "            and vice versa if `direction` is negative. If 0, then either\n",
      "            direction will trigger event. Implicitly 0 if not assigned.\n",
      "\n",
      "    You can assign attributes like ``event.terminal = True`` to any\n",
      "    function in Python.\n",
      "vectorized : bool, optional\n",
      "    Whether `fun` is implemented in a vectorized fashion. Default is False.\n",
      "args : tuple, optional\n",
      "    Additional arguments to pass to the user-defined functions.  If given,\n",
      "    the additional arguments are passed to all user-defined functions.\n",
      "    So if, for example, `fun` has the signature ``fun(t, y, a, b, c)``,\n",
      "    then `jac` (if given) and any event functions must have the same\n",
      "    signature, and `args` must be a tuple of length 3.\n",
      "**options\n",
      "    Options passed to a chosen solver. All options available for already\n",
      "    implemented solvers are listed below.\n",
      "first_step : float or None, optional\n",
      "    Initial step size. Default is `None` which means that the algorithm\n",
      "    should choose.\n",
      "max_step : float, optional\n",
      "    Maximum allowed step size. Default is np.inf, i.e., the step size is not\n",
      "    bounded and determined solely by the solver.\n",
      "rtol, atol : float or array_like, optional\n",
      "    Relative and absolute tolerances. The solver keeps the local error\n",
      "    estimates less than ``atol + rtol * abs(y)``. Here `rtol` controls a\n",
      "    relative accuracy (number of correct digits), while `atol` controls\n",
      "    absolute accuracy (number of correct decimal places). To achieve the\n",
      "    desired `rtol`, set `atol` to be smaller than the smallest value that\n",
      "    can be expected from ``rtol * abs(y)`` so that `rtol` dominates the\n",
      "    allowable error. If `atol` is larger than ``rtol * abs(y)`` the\n",
      "    number of correct digits is not guaranteed. Conversely, to achieve the\n",
      "    desired `atol` set `rtol` such that ``rtol * abs(y)`` is always smaller\n",
      "    than `atol`. If components of y have different scales, it might be\n",
      "    beneficial to set different `atol` values for different components by\n",
      "    passing array_like with shape (n,) for `atol`. Default values are\n",
      "    1e-3 for `rtol` and 1e-6 for `atol`.\n",
      "jac : array_like, sparse_matrix, callable or None, optional\n",
      "    Jacobian matrix of the right-hand side of the system with respect\n",
      "    to y, required by the 'Radau', 'BDF' and 'LSODA' method. The\n",
      "    Jacobian matrix has shape (n, n) and its element (i, j) is equal to\n",
      "    ``d f_i / d y_j``.  There are three ways to define the Jacobian:\n",
      "\n",
      "        * If array_like or sparse_matrix, the Jacobian is assumed to\n",
      "          be constant. Not supported by 'LSODA'.\n",
      "        * If callable, the Jacobian is assumed to depend on both\n",
      "          t and y; it will be called as ``jac(t, y)``, as necessary.\n",
      "          For 'Radau' and 'BDF' methods, the return value might be a\n",
      "          sparse matrix.\n",
      "        * If None (default), the Jacobian will be approximated by\n",
      "          finite differences.\n",
      "\n",
      "    It is generally recommended to provide the Jacobian rather than\n",
      "    relying on a finite-difference approximation.\n",
      "jac_sparsity : array_like, sparse matrix or None, optional\n",
      "    Defines a sparsity structure of the Jacobian matrix for a finite-\n",
      "    difference approximation. Its shape must be (n, n). This argument\n",
      "    is ignored if `jac` is not `None`. If the Jacobian has only few\n",
      "    non-zero elements in *each* row, providing the sparsity structure\n",
      "    will greatly speed up the computations [10]_. A zero entry means that\n",
      "    a corresponding element in the Jacobian is always zero. If None\n",
      "    (default), the Jacobian is assumed to be dense.\n",
      "    Not supported by 'LSODA', see `lband` and `uband` instead.\n",
      "lband, uband : int or None, optional\n",
      "    Parameters defining the bandwidth of the Jacobian for the 'LSODA'\n",
      "    method, i.e., ``jac[i, j] != 0 only for i - lband <= j <= i + uband``.\n",
      "    Default is None. Setting these requires your jac routine to return the\n",
      "    Jacobian in the packed format: the returned array must have ``n``\n",
      "    columns and ``uband + lband + 1`` rows in which Jacobian diagonals are\n",
      "    written. Specifically ``jac_packed[uband + i - j , j] = jac[i, j]``.\n",
      "    The same format is used in `scipy.linalg.solve_banded` (check for an\n",
      "    illustration).  These parameters can be also used with ``jac=None`` to\n",
      "    reduce the number of Jacobian elements estimated by finite differences.\n",
      "min_step : float, optional\n",
      "    The minimum allowed step size for 'LSODA' method.\n",
      "    By default `min_step` is zero.\n",
      "\n",
      "Returns\n",
      "-------\n",
      "Bunch object with the following fields defined:\n",
      "t : ndarray, shape (n_points,)\n",
      "    Time points.\n",
      "y : ndarray, shape (n, n_points)\n",
      "    Values of the solution at `t`.\n",
      "sol : `OdeSolution` or None\n",
      "    Found solution as `OdeSolution` instance; None if `dense_output` was\n",
      "    set to False.\n",
      "t_events : list of ndarray or None\n",
      "    Contains for each event type a list of arrays at which an event of\n",
      "    that type event was detected. None if `events` was None.\n",
      "y_events : list of ndarray or None\n",
      "    For each value of `t_events`, the corresponding value of the solution.\n",
      "    None if `events` was None.\n",
      "nfev : int\n",
      "    Number of evaluations of the right-hand side.\n",
      "njev : int\n",
      "    Number of evaluations of the Jacobian.\n",
      "nlu : int\n",
      "    Number of LU decompositions.\n",
      "status : int\n",
      "    Reason for algorithm termination:\n",
      "\n",
      "        * -1: Integration step failed.\n",
      "        *  0: The solver successfully reached the end of `tspan`.\n",
      "        *  1: A termination event occurred.\n",
      "\n",
      "message : string\n",
      "    Human-readable description of the termination reason.\n",
      "success : bool\n",
      "    True if the solver reached the interval end or a termination event\n",
      "    occurred (``status >= 0``).\n",
      "\n",
      "References\n",
      "----------\n",
      ".. [1] J. R. Dormand, P. J. Prince, \"A family of embedded Runge-Kutta\n",
      "       formulae\", Journal of Computational and Applied Mathematics, Vol. 6,\n",
      "       No. 1, pp. 19-26, 1980.\n",
      ".. [2] L. W. Shampine, \"Some Practical Runge-Kutta Formulas\", Mathematics\n",
      "       of Computation,, Vol. 46, No. 173, pp. 135-150, 1986.\n",
      ".. [3] P. Bogacki, L.F. Shampine, \"A 3(2) Pair of Runge-Kutta Formulas\",\n",
      "       Appl. Math. Lett. Vol. 2, No. 4. pp. 321-325, 1989.\n",
      ".. [4] E. Hairer, G. Wanner, \"Solving Ordinary Differential Equations II:\n",
      "       Stiff and Differential-Algebraic Problems\", Sec. IV.8.\n",
      ".. [5] `Backward Differentiation Formula\n",
      "        <https://en.wikipedia.org/wiki/Backward_differentiation_formula>`_\n",
      "        on Wikipedia.\n",
      ".. [6] L. F. Shampine, M. W. Reichelt, \"THE MATLAB ODE SUITE\", SIAM J. SCI.\n",
      "       COMPUTE., Vol. 18, No. 1, pp. 1-22, January 1997.\n",
      ".. [7] A. C. Hindmarsh, \"ODEPACK, A Systematized Collection of ODE\n",
      "       Solvers,\" IMACS Transactions on Scientific Computation, Vol 1.,\n",
      "       pp. 55-64, 1983.\n",
      ".. [8] L. Petzold, \"Automatic selection of methods for solving stiff and\n",
      "       nonstiff systems of ordinary differential equations\", SIAM Journal\n",
      "       on Scientific and Statistical Computing, Vol. 4, No. 1, pp. 136-148,\n",
      "       1983.\n",
      ".. [9] `Stiff equation <https://en.wikipedia.org/wiki/Stiff_equation>`_ on\n",
      "       Wikipedia.\n",
      ".. [10] A. Curtis, M. J. D. Powell, and J. Reid, \"On the estimation of\n",
      "        sparse Jacobian matrices\", Journal of the Institute of Mathematics\n",
      "        and its Applications, 13, pp. 117-120, 1974.\n",
      ".. [11] `Cauchy-Riemann equations\n",
      "         <https://en.wikipedia.org/wiki/Cauchy-Riemann_equations>`_ on\n",
      "         Wikipedia.\n",
      ".. [12] `Lotka-Volterra equations\n",
      "        <https://en.wikipedia.org/wiki/Lotka%E2%80%93Volterra_equations>`_\n",
      "        on Wikipedia.\n",
      ".. [13] E. Hairer, S. P. Norsett G. Wanner, \"Solving Ordinary Differential\n",
      "        Equations I: Nonstiff Problems\", Sec. II.\n",
      ".. [14] `Page with original Fortran code of DOP853\n",
      "        <http://www.unige.ch/~hairer/software.html>`_.\n",
      "\n",
      "Examples\n",
      "--------\n",
      "Basic exponential decay showing automatically chosen time points.\n",
      "\n",
      ">>> import numpy as np\n",
      ">>> from scipy.integrate import solve_ivp\n",
      ">>> def exponential_decay(t, y): return -0.5 * y\n",
      ">>> sol = solve_ivp(exponential_decay, [0, 10], [2, 4, 8])\n",
      ">>> print(sol.t)\n",
      "[ 0.          0.11487653  1.26364188  3.06061781  4.81611105  6.57445806\n",
      "  8.33328988 10.        ]\n",
      ">>> print(sol.y)\n",
      "[[2.         1.88836035 1.06327177 0.43319312 0.18017253 0.07483045\n",
      "  0.03107158 0.01350781]\n",
      " [4.         3.7767207  2.12654355 0.86638624 0.36034507 0.14966091\n",
      "  0.06214316 0.02701561]\n",
      " [8.         7.5534414  4.25308709 1.73277247 0.72069014 0.29932181\n",
      "  0.12428631 0.05403123]]\n",
      "\n",
      "Specifying points where the solution is desired.\n",
      "\n",
      ">>> sol = solve_ivp(exponential_decay, [0, 10], [2, 4, 8],\n",
      "...                 t_eval=[0, 1, 2, 4, 10])\n",
      ">>> print(sol.t)\n",
      "[ 0  1  2  4 10]\n",
      ">>> print(sol.y)\n",
      "[[2.         1.21305369 0.73534021 0.27066736 0.01350938]\n",
      " [4.         2.42610739 1.47068043 0.54133472 0.02701876]\n",
      " [8.         4.85221478 2.94136085 1.08266944 0.05403753]]\n",
      "\n",
      "Cannon fired upward with terminal event upon impact. The ``terminal`` and\n",
      "``direction`` fields of an event are applied by monkey patching a function.\n",
      "Here ``y[0]`` is position and ``y[1]`` is velocity. The projectile starts\n",
      "at position 0 with velocity +10. Note that the integration never reaches\n",
      "t=100 because the event is terminal.\n",
      "\n",
      ">>> def upward_cannon(t, y): return [y[1], -0.5]\n",
      ">>> def hit_ground(t, y): return y[0]\n",
      ">>> hit_ground.terminal = True\n",
      ">>> hit_ground.direction = -1\n",
      ">>> sol = solve_ivp(upward_cannon, [0, 100], [0, 10], events=hit_ground)\n",
      ">>> print(sol.t_events)\n",
      "[array([40.])]\n",
      ">>> print(sol.t)\n",
      "[0.00000000e+00 9.99900010e-05 1.09989001e-03 1.10988901e-02\n",
      " 1.11088891e-01 1.11098890e+00 1.11099890e+01 4.00000000e+01]\n",
      "\n",
      "Use `dense_output` and `events` to find position, which is 100, at the apex\n",
      "of the cannonball's trajectory. Apex is not defined as terminal, so both\n",
      "apex and hit_ground are found. There is no information at t=20, so the sol\n",
      "attribute is used to evaluate the solution. The sol attribute is returned\n",
      "by setting ``dense_output=True``. Alternatively, the `y_events` attribute\n",
      "can be used to access the solution at the time of the event.\n",
      "\n",
      ">>> def apex(t, y): return y[1]\n",
      ">>> sol = solve_ivp(upward_cannon, [0, 100], [0, 10],\n",
      "...                 events=(hit_ground, apex), dense_output=True)\n",
      ">>> print(sol.t_events)\n",
      "[array([40.]), array([20.])]\n",
      ">>> print(sol.t)\n",
      "[0.00000000e+00 9.99900010e-05 1.09989001e-03 1.10988901e-02\n",
      " 1.11088891e-01 1.11098890e+00 1.11099890e+01 4.00000000e+01]\n",
      ">>> print(sol.sol(sol.t_events[1][0]))\n",
      "[100.   0.]\n",
      ">>> print(sol.y_events)\n",
      "[array([[-5.68434189e-14, -1.00000000e+01]]), array([[1.00000000e+02, 1.77635684e-15]])]\n",
      "\n",
      "As an example of a system with additional parameters, we'll implement\n",
      "the Lotka-Volterra equations [12]_.\n",
      "\n",
      ">>> def lotkavolterra(t, z, a, b, c, d):\n",
      "...     x, y = z\n",
      "...     return [a*x - b*x*y, -c*y + d*x*y]\n",
      "...\n",
      "\n",
      "We pass in the parameter values a=1.5, b=1, c=3 and d=1 with the `args`\n",
      "argument.\n",
      "\n",
      ">>> sol = solve_ivp(lotkavolterra, [0, 15], [10, 5], args=(1.5, 1, 3, 1),\n",
      "...                 dense_output=True)\n",
      "\n",
      "Compute a dense solution and plot it.\n",
      "\n",
      ">>> t = np.linspace(0, 15, 300)\n",
      ">>> z = sol.sol(t)\n",
      ">>> import matplotlib.pyplot as plt\n",
      ">>> plt.plot(t, z.T)\n",
      ">>> plt.xlabel('t')\n",
      ">>> plt.legend(['x', 'y'], shadow=True)\n",
      ">>> plt.title('Lotka-Volterra System')\n",
      ">>> plt.show()\n",
      "\u001b[0;31mFile:\u001b[0m      ~/opt/miniconda3/envs/py311/lib/python3.11/site-packages/scipy/integrate/_ivp/ivp.py\n",
      "\u001b[0;31mType:\u001b[0m      function"
     ]
    }
   ],
   "source": [
    "sp.integrate.solve_ivp?"
   ]
  }
 ],
 "metadata": {
  "kernelspec": {
   "display_name": "py311",
   "language": "python",
   "name": "python3"
  },
  "language_info": {
   "codemirror_mode": {
    "name": "ipython",
    "version": 3
   },
   "file_extension": ".py",
   "mimetype": "text/x-python",
   "name": "python",
   "nbconvert_exporter": "python",
   "pygments_lexer": "ipython3",
   "version": "3.11.3"
  }
 },
 "nbformat": 4,
 "nbformat_minor": 2
}
