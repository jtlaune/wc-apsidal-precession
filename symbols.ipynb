{
 "cells": [
  {
   "cell_type": "code",
   "execution_count": 1,
   "metadata": {},
   "outputs": [
    {
     "name": "stderr",
     "output_type": "stream",
     "text": [
      "<>:5: SyntaxWarning: invalid escape sequence '\\,'\n",
      "<>:5: SyntaxWarning: invalid escape sequence '\\,'\n",
      "/var/folders/rv/30_ngz5x5l5djjdvflk_6wwm0000gn/T/ipykernel_4943/1608348942.py:5: SyntaxWarning: invalid escape sequence '\\,'\n",
      "  \"f_1 f_2 f_3 f_4 tau lambda varpi varpi_p gamma \\\\omega_{\\\\rm{ext}} \\\\omega_{\\\\rm{p\\,ext}} theta Theta phi\"\n"
     ]
    },
    {
     "name": "stdout",
     "output_type": "stream",
     "text": [
      "IPython console for SymPy 1.12 (Python 3.12.0-64-bit) (ground types: python)\n",
      "\n",
      "These commands were executed:\n",
      ">>> from sympy import *\n",
      ">>> x, y, z, t = symbols('x y z t')\n",
      ">>> k, m, n = symbols('k m n', integer=True)\n",
      ">>> f, g, h = symbols('f g h', cls=Function)\n",
      ">>> init_printing()\n",
      "\n",
      "Documentation can be found at https://docs.sympy.org/1.12/\n",
      "\n"
     ]
    }
   ],
   "source": [
    "import sympy as sm\n",
    "from sympy import init_session\n",
    "init_session()\n",
    "f1, f2, f3, f4, tau, l, pom, pom_p, g, om, om_p, th, Th, phi = sm.symbols(\n",
    "    \"f_1 f_2 f_3 f_4 tau lambda varpi varpi_p gamma \\\\omega_{\\\\rm{ext}} \\\\omega_{\\\\rm{p\\,ext}} theta Theta phi\"\n",
    ")\n",
    "a, a_p, e, e_p, n, n_p, m_p, mu_p, L, G, Gconst, M, j, alpha0, Phi = sm.symbols(\n",
    "    \"a a_p e e_p n n_p m_p mu_p Lambda Gamma G M j alpha_0 Phi\", positive=True\n",
    ")\n",
    "X, Y, Te, Tm = sm.symbols(\"X Y T_e T_m\")\n"
   ]
  },
  {
   "cell_type": "code",
   "execution_count": 2,
   "metadata": {},
   "outputs": [],
   "source": [
    "alpha0val = (2./3)**(2./3)"
   ]
  },
  {
   "cell_type": "code",
   "execution_count": 3,
   "metadata": {},
   "outputs": [],
   "source": [
    "from scipy.special import hyp2f1\n",
    "from sympy import init_printing, init_session\n",
    "\n",
    "def Pochhammer(a, k):\n",
    "    if k == 0:\n",
    "        return 1.0\n",
    "    else:\n",
    "        return (a + k - 1) * Pochhammer(a, k - 1)\n",
    "\n",
    "\n",
    "def b(s, j, alpha):\n",
    "    if j >= 0:  # Eq. 7.87\n",
    "        return (\n",
    "            2\n",
    "            * Pochhammer(s, j)\n",
    "            / Pochhammer(1, j)\n",
    "            * (alpha**j)\n",
    "            * hyp2f1(s, s + j, j + 1, alpha * alpha)\n",
    "        )\n",
    "    else:  # Eq. 6.69\n",
    "        return b(s, -j, alpha)\n",
    "\n",
    "\n",
    "def Db(s, j, alpha):  # Eq. 6.70\n",
    "    aux = (\n",
    "        b(s + 1, j - 1, alpha) - 2 * alpha * b(s + 1, j, alpha) + b(s + 1, j + 1, alpha)\n",
    "    )\n",
    "    return s * aux\n",
    "\n",
    "\n",
    "def D2b(s, j, alpha):  # Eq. 6.71\n",
    "    aux = (\n",
    "        Db(s + 1, j - 1, alpha)\n",
    "        - 2 * alpha * Db(s + 1, j, alpha)\n",
    "        - 2 * b(s + 1, j, alpha)\n",
    "        + Db(s + 1, j + 1, alpha)\n",
    "    )\n",
    "    return s * aux\n",
    "\n",
    "\n",
    "def f27lc(alpha, j):\n",
    "    \"\"\"\n",
    "    f27 in MD p543\n",
    "    (1/2)[−2 j − αD] b^(j)_{1/2}(α) x [e1cos(theta1)]\n",
    "    \"\"\"\n",
    "    return 0.5 * (-2 * (j + 1) * b(0.5, j + 1, alpha) - alpha * Db(0.5, j + 1, alpha))\n",
    "\n",
    "\n",
    "def f31lc(alpha, j):\n",
    "    \"\"\"\n",
    "    f31 in MD p543\n",
    "    (1/2)[−1 + 2 j + αD] b^(j-1)_{1/2}(α) x [e2cos(theta2)]\n",
    "    \"\"\"\n",
    "    return 0.5 * ((-1 + 2 * (j + 1)) * b(0.5, j, alpha) + alpha * Db(0.5, j, alpha))\n",
    "\n",
    "############################################################\n",
    "# If test particle is outside, have to multiply by alpha_0 #\n",
    "############################################################\n",
    "\n",
    "f1val_outside = alpha0val*f27lc(alpha0val, 2)\n",
    "f2val_outside = alpha0val*f31lc(alpha0val, 2)"
   ]
  },
  {
   "cell_type": "code",
   "execution_count": 4,
   "metadata": {},
   "outputs": [
    {
     "name": "stdout",
     "output_type": "stream",
     "text": [
      "-2.0252226899385954\n",
      "2.4840051833039407\n"
     ]
    }
   ],
   "source": [
    "print(f27lc(alpha0val, 2))\n",
    "print(f31lc(alpha0val, 2))"
   ]
  },
  {
   "cell_type": "code",
   "execution_count": 8,
   "metadata": {},
   "outputs": [
    {
     "name": "stdout",
     "output_type": "stream",
     "text": [
      "-1.5455341716765871\n",
      "1.8956507412695471\n",
      "0.7631428283688879\n"
     ]
    }
   ],
   "source": [
    "print(f1val_outside)\n",
    "print(f2val_outside)\n",
    "print(alpha0val)"
   ]
  },
  {
   "cell_type": "code",
   "execution_count": 8,
   "metadata": {},
   "outputs": [
    {
     "name": "stdout",
     "output_type": "stream",
     "text": [
      "9.222398400061197\n",
      "8.002091900497529\n"
     ]
    }
   ],
   "source": [
    "print(alpha0val*b(1.5, 1, alpha0val))\n",
    "print(alpha0val*b(1.5, 2, alpha0val))"
   ]
  },
  {
   "cell_type": "code",
   "execution_count": 4,
   "metadata": {},
   "outputs": [],
   "source": [
    "def term_simplify(expr):\n",
    "    run = 0\n",
    "    for arg in expr.args:\n",
    "        run += arg.simplify()\n",
    "    return(run)"
   ]
  },
  {
   "cell_type": "code",
   "execution_count": 5,
   "metadata": {},
   "outputs": [],
   "source": [
    "def to_canonical(expr):\n",
    "    return expr.subs({a: L**2, e: sqrt(2 * G / L), pom: -g})\n",
    "def to_orbelts(expr):\n",
    "    # This uses the approximation G=1/2*L*e^2\n",
    "    return expr.subs({g: -pom, G: Rational(1, 2) * L * e**2, L: sqrt(a)})"
   ]
  },
  {
   "cell_type": "code",
   "execution_count": 6,
   "metadata": {},
   "outputs": [],
   "source": [
    "class PoissonBracket:\n",
    "    def __init__(self, q, p):\n",
    "        \"\"\"\n",
    "        q : list of canonical coordinates\n",
    "        p : list of canonical momenta\n",
    "        \"\"\"\n",
    "        self.dim = len(q)\n",
    "        if len(p) != self.dim:\n",
    "            raise Warning(\"Mismatch in canonical conjugate pair dimensions.\")\n",
    "        self.q = q\n",
    "        self.p = p\n",
    "    def __call__(self, f, g):\n",
    "        \"\"\"\n",
    "        f, g : Functions of canonical conjugate pairs p, q\n",
    "        \"\"\"\n",
    "        bracket = 0\n",
    "        for i in range(self.dim):\n",
    "            bracket += f.diff(self.p[i])*g.diff(self.q[i]) - g.diff(self.p[i])*f.diff(self.q[i])\n",
    "        return(bracket)"
   ]
  }
 ],
 "metadata": {
  "kernelspec": {
   "display_name": "Science",
   "language": "python",
   "name": "python3"
  },
  "language_info": {
   "codemirror_mode": {
    "name": "ipython",
    "version": 3
   },
   "file_extension": ".py",
   "mimetype": "text/x-python",
   "name": "python",
   "nbconvert_exporter": "python",
   "pygments_lexer": "ipython3",
   "version": "3.12.0"
  }
 },
 "nbformat": 4,
 "nbformat_minor": 2
}
