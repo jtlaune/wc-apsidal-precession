{
 "cells": [
  {
   "cell_type": "code",
   "execution_count": 5,
   "metadata": {},
   "outputs": [],
   "source": [
    "import pde\n",
    "import numpy as np"
   ]
  },
  {
   "cell_type": "code",
   "execution_count": 4,
   "metadata": {},
   "outputs": [],
   "source": [
    "from pde import CartesianGrid"
   ]
  },
  {
   "cell_type": "code",
   "execution_count": 6,
   "metadata": {},
   "outputs": [],
   "source": [
    "grid = CartesianGrid([(0.1,2),(-np.pi,np.pi)], [64,128], [False,True])"
   ]
  },
  {
   "cell_type": "code",
   "execution_count": null,
   "metadata": {},
   "outputs": [],
   "source": [
    "initial_state = ScalarField.from_expression(grid,\"exp(-((x-0.5)**2+y**2)/0.25)\")\n",
    "initial_state /= np.sqrt(initial_state.to_scalar(\"norm_squared\").integral.real)"
   ]
  },
  {
   "cell_type": "code",
   "execution_count": null,
   "metadata": {},
   "outputs": [],
   "source": []
  },
  {
   "cell_type": "code",
   "execution_count": null,
   "metadata": {},
   "outputs": [],
   "source": []
  },
  {
   "cell_type": "code",
   "execution_count": null,
   "metadata": {},
   "outputs": [],
   "source": []
  },
  {
   "cell_type": "code",
   "execution_count": null,
   "metadata": {},
   "outputs": [],
   "source": []
  },
  {
   "cell_type": "code",
   "execution_count": 1,
   "metadata": {},
   "outputs": [],
   "source": [
    "import numpy as np\n",
    "import matplotlib.pyplot as plt"
   ]
  },
  {
   "cell_type": "code",
   "execution_count": 2,
   "metadata": {},
   "outputs": [
    {
     "name": "stdout",
     "output_type": "stream",
     "text": [
      "IPython console for SymPy 1.12 (Python 3.11.6-64-bit) (ground types: gmpy)\n",
      "\n",
      "These commands were executed:\n",
      ">>> from sympy import *\n",
      ">>> x, y, z, t = symbols('x y z t')\n",
      ">>> k, m, n = symbols('k m n', integer=True)\n",
      ">>> f, g, h = symbols('f g h', cls=Function)\n",
      ">>> init_printing()\n",
      "\n",
      "Documentation can be found at https://docs.sympy.org/1.12/\n",
      "\n"
     ]
    }
   ],
   "source": [
    "%matplotlib inline\n",
    "from sympy import init_session; init_session()"
   ]
  },
  {
   "cell_type": "code",
   "execution_count": 3,
   "metadata": {},
   "outputs": [],
   "source": [
    "class PoissonBracket:\n",
    "    def __init__(self, q, p):\n",
    "        \"\"\"\n",
    "        q : list of canonical coordinates\n",
    "        p : list of canonical momenta\n",
    "        \"\"\"\n",
    "        self.dim = len(q)\n",
    "        if len(p) != self.dim:\n",
    "            raise Warning(\"Mismatch in canonical conjugate pair dimensions.\")\n",
    "        self.q = q\n",
    "        self.p = p\n",
    "    def __call__(self, f, g):\n",
    "        \"\"\"\n",
    "        f, g : Functions of canonical conjugate pairs p, q\n",
    "        \"\"\"\n",
    "        bracket = 0\n",
    "        for i in range(self.dim):\n",
    "            bracket += f.diff(self.p[i])*g.diff(self.q[i]) - g.diff(self.p[i])*f.diff(self.q[i])\n",
    "        return(bracket)"
   ]
  },
  {
   "cell_type": "code",
   "execution_count": 4,
   "metadata": {},
   "outputs": [
    {
     "data": {
      "image/png": "[encoded data removed]",
      "text/latex": [
       "$\\displaystyle \\frac{\\dot{x}^{2} m}{2} - \\frac{k x^{2}}{2}$"
      ],
      "text/plain": [
       "       2        2\n",
       "\\dot{x} ⋅m   k⋅x \n",
       "────────── - ────\n",
       "    2         2  "
      ]
     },
     "execution_count": 4,
     "metadata": {},
     "output_type": "execute_result"
    }
   ],
   "source": [
    "x, xd, k, m = symbols(r\"x \\dot{x} k m\")\n",
    "L_x_xd = Rational(1,2)*m*xd**2 - Rational(1,2)*k*x**2\n",
    "L_x_xd"
   ]
  },
  {
   "cell_type": "code",
   "execution_count": 5,
   "metadata": {},
   "outputs": [
    {
     "data": {
      "image/png": "[encoded data removed]",
      "text/latex": [
       "$\\displaystyle \\frac{k x^{2}}{2} + \\frac{p_{x}^{2}}{2 m}$"
      ],
      "text/plain": [
       "   2     2\n",
       "k⋅x    pₓ \n",
       "──── + ───\n",
       " 2     2⋅m"
      ]
     },
     "execution_count": 5,
     "metadata": {},
     "output_type": "execute_result"
    }
   ],
   "source": [
    "px = symbols(r\"p_x\")\n",
    "xd_px = solve(L_x_xd.diff(xd)-px, xd)[0]\n",
    "px_xd = solve(L_x_xd.diff(xd)-px, px)[0]\n",
    "H_x_px = px*xd_px-L_x_xd.subs(xd,xd_px)\n",
    "H_x_px"
   ]
  },
  {
   "cell_type": "code",
   "execution_count": 6,
   "metadata": {},
   "outputs": [],
   "source": [
    "PB_x_px = PoissonBracket([x], [px])"
   ]
  },
  {
   "cell_type": "code",
   "execution_count": 7,
   "metadata": {},
   "outputs": [],
   "source": [
    "rho_x_px = Function(\"rho\")(x,px)"
   ]
  },
  {
   "cell_type": "code",
   "execution_count": 8,
   "metadata": {},
   "outputs": [
    {
     "data": {
      "image/png": "[encoded data removed]",
      "text/latex": [
       "$\\displaystyle - k x \\frac{\\partial}{\\partial p_{x}} \\rho{\\left(x,p_{x} \\right)} + \\frac{p_{x} \\frac{\\partial}{\\partial x} \\rho{\\left(x,p_{x} \\right)}}{m}$"
      ],
      "text/plain": [
       "                         ∂           \n",
       "                      pₓ⋅──(ρ(x, pₓ))\n",
       "       ∂                 ∂x          \n",
       "- k⋅x⋅───(ρ(x, pₓ)) + ───────────────\n",
       "      ∂pₓ                    m       "
      ]
     },
     "execution_count": 8,
     "metadata": {},
     "output_type": "execute_result"
    }
   ],
   "source": [
    "PB_x_px(H_x_px,rho_x_px)"
   ]
  },
  {
   "cell_type": "code",
   "execution_count": 9,
   "metadata": {},
   "outputs": [],
   "source": [
    "from pde import PDE, CartesianGrid, ScalarField, MemoryStorage"
   ]
  },
  {
   "cell_type": "code",
   "execution_count": 10,
   "metadata": {},
   "outputs": [],
   "source": [
    "grid = CartesianGrid([(-2,2),(-2,2)], [64,64], [False,False])"
   ]
  },
  {
   "cell_type": "code",
   "execution_count": 11,
   "metadata": {},
   "outputs": [],
   "source": [
    "initial_state = ScalarField.from_expression(grid,\"exp(-((x-0.5)**2+y**2)/0.25)\")\n",
    "initial_state /= np.sqrt(initial_state.to_scalar(\"norm_squared\").integral.real)"
   ]
  },
  {
   "cell_type": "code",
   "execution_count": 12,
   "metadata": {},
   "outputs": [],
   "source": [
    "m0, k0 = 1,1\n",
    "eq = PDE({\"ρ\":f\"-x*{k0}*d_dy(ρ)+y/{m0}*d_dx(ρ)\"})"
   ]
  },
  {
   "cell_type": "code",
   "execution_count": 41,
   "metadata": {},
   "outputs": [
    {
     "data": {
      "application/vnd.jupyter.widget-view+json": {
       "model_id": "92a12b540b404c4c9d8c348a2f10664d",
       "version_major": 2,
       "version_minor": 0
      },
      "text/plain": [
       "  0%|          | 0/2.5 [00:00<?, ?it/s]"
      ]
     },
     "metadata": {},
     "output_type": "display_data"
    }
   ],
   "source": [
    "storage = MemoryStorage()\n",
    "sol = eq.solve(initial_state, t_range=2.5, dt=1e-5, tracker=[\"progress\", storage.tracker(0.5)])"
   ]
  },
  {
   "cell_type": "code",
   "execution_count": 42,
   "metadata": {},
   "outputs": [],
   "source": [
    "for i,t in enumerate(storage.times):\n",
    "    fig, ax = plt.subplots()\n",
    "    ax.pcolormesh(grid.axes_coords[0],grid.axes_coords[1],storage.data[i].T)\n",
    "    ax.set_title(f\"t={t:0.2f}\")\n",
    "    fig.savefig(f\"{t:0.2f}.png\")"
   ]
  },
  {
   "cell_type": "code",
   "execution_count": 46,
   "metadata": {},
   "outputs": [
    {
     "data": {
      "image/png": "[encoded data removed]",
      "text/latex": [
       "$\\displaystyle 1.00001231285955$"
      ],
      "text/plain": [
       "1.0000123128595517"
      ]
     },
     "execution_count": 46,
     "metadata": {},
     "output_type": "execute_result"
    }
   ],
   "source": [
    "np.sqrt(sol.to_scalar(\"norm_squared\").integral.real)"
   ]
  },
  {
   "cell_type": "code",
   "execution_count": null,
   "metadata": {},
   "outputs": [],
   "source": []
  }
 ],
 "metadata": {
  "kernelspec": {
   "display_name": "Python 3",
   "language": "python",
   "name": "python3"
  },
  "language_info": {
   "codemirror_mode": {
    "name": "ipython",
    "version": 3
   },
   "file_extension": ".py",
   "mimetype": "text/x-python",
   "name": "python",
   "nbconvert_exporter": "python",
   "pygments_lexer": "ipython3",
   "version": "3.11.6"
  }
 },
 "nbformat": 4,
 "nbformat_minor": 2
}
