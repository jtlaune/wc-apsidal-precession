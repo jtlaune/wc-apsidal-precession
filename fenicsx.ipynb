{
 "cells": [
  {
   "cell_type": "code",
   "execution_count": 11,
   "metadata": {},
   "outputs": [],
   "source": [
    "from __future__ import annotations\n",
    "\n",
    "from pathlib import Path\n",
    "from typing import Union\n",
    "\n",
    "from mpi4py import MPI\n",
    "from petsc4py import PETSc\n",
    "\n",
    "import dolfinx.fem as fem\n",
    "import numpy as np\n",
    "import scipy.sparse.linalg\n",
    "from dolfinx import default_scalar_type\n",
    "from dolfinx.common import Timer, TimingType, list_timings\n",
    "from dolfinx.io import XDMFFile\n",
    "from dolfinx.mesh import create_unit_square, locate_entities_boundary\n",
    "from ufl import (SpatialCoordinate, TestFunction, TrialFunction, as_vector, dx,\n",
    "                 exp, grad, inner, pi, sin)\n",
    "\n",
    "import dolfinx_mpc.utils\n",
    "from dolfinx_mpc import LinearProblem, MultiPointConstraint"
   ]
  },
  {
   "cell_type": "code",
   "execution_count": 12,
   "metadata": {},
   "outputs": [],
   "source": [
    "# Get PETSc int and scalar types\n",
    "complex_mode = True if np.dtype(default_scalar_type).kind == 'c' else False"
   ]
  },
  {
   "cell_type": "code",
   "execution_count": 13,
   "metadata": {},
   "outputs": [],
   "source": [
    "NX = 50\n",
    "NY = 100\n",
    "mesh = create_unit_square(MPI.COMM_WORLD, NX, NY)\n",
    "V = fem.functionspace(mesh, (\"Lagrange\", 1, (mesh.geometry.dim, )))\n",
    "tol = 250 * np.finfo(default_scalar_type).resolution"
   ]
  },
  {
   "cell_type": "code",
   "execution_count": 14,
   "metadata": {},
   "outputs": [],
   "source": [
    "def dirichletboundary(x):\n",
    "    return np.logical_or(np.isclose(x[1], 0, atol=tol), np.isclose(x[1], 1, atol=tol))"
   ]
  },
  {
   "cell_type": "code",
   "execution_count": 15,
   "metadata": {},
   "outputs": [],
   "source": [
    "facets = locate_entities_boundary(mesh, 1, dirichletboundary)\n",
    "topological_dofs = fem.locate_dofs_topological(V, 1, facets)\n",
    "zero = np.array([0, 0], dtype=default_scalar_type)\n",
    "bc = fem.dirichletbc(zero, topological_dofs, V)\n",
    "bcs = [bc]"
   ]
  },
  {
   "cell_type": "code",
   "execution_count": 16,
   "metadata": {},
   "outputs": [],
   "source": [
    "def periodic_boundary(x):\n",
    "    return np.isclose(x[0], 1, atol=tol)\n",
    "def periodic_relation(x):\n",
    "    out_x = np.zeros_like(x)\n",
    "    out_x[0] = 1 - x[0]\n",
    "    out_x[1] = x[1]\n",
    "    out_x[2] = x[2]\n",
    "    return out_x\n",
    "with Timer(\"~PERIODIC: Initialize MPC\"):\n",
    "    mpc = MultiPointConstraint(V)\n",
    "    mpc.create_periodic_constraint_geometrical(V, periodic_boundary, periodic_relation, bcs)\n",
    "    mpc.finalize()"
   ]
  },
  {
   "cell_type": "code",
   "execution_count": 17,
   "metadata": {},
   "outputs": [],
   "source": [
    "u = TrialFunction(V)\n",
    "v = TestFunction(V)\n",
    "a = inner(grad(u), grad(v)) * dx"
   ]
  },
  {
   "cell_type": "code",
   "execution_count": 19,
   "metadata": {},
   "outputs": [],
   "source": [
    "x = SpatialCoordinate(mesh)\n",
    "dx_ = x[0] - 0.9\n",
    "dy_ = x[1] - 0.5\n",
    "f = as_vector((x[0] * sin(5.0 * pi * x[1]) + 1.0 * exp(-(dx_ * dx_ + dy_ * dy_) / 0.02), 0.3 * x[1]))\n",
    "rhs = inner(f, v) * dx\n",
    "# Setup MPC system\n",
    "with Timer(\"~PERIODIC: Initialize varitional problem\"):\n",
    "    problem = LinearProblem(a, rhs, mpc, bcs=bcs)\n",
    "solver = problem.solver\n",
    "solver_prefix = \"dolfinx_mpc_solve_{}\".format(id(solver))\n",
    "solver.setOptionsPrefix(solver_prefix)\n",
    "petsc_options: dict[str, Union[str, int, float]]\n",
    "if complex_mode or default_scalar_type == np.float32:\n",
    "    petsc_options = {\"ksp_type\": \"preonly\", \"pc_type\": \"lu\"}\n",
    "else:\n",
    "    petsc_options = {\"ksp_type\": \"cg\", \"ksp_rtol\": 1e-6, \"pc_type\": \"hypre\", \"pc_hypre_type\": \"boomeramg\",\n",
    "                     \"pc_hypre_boomeramg_max_iter\": 1, \"pc_hypre_boomeramg_cycle_type\": \"v\"  # ,\n",
    "                     # \"pc_hypre_boomeramg_print_statistics\": 1\n",
    "                     }"
   ]
  },
  {
   "cell_type": "code",
   "execution_count": 20,
   "metadata": {},
   "outputs": [],
   "source": [
    "# Set PETSc options\n",
    "opts = PETSc.Options()  # type: ignore\n",
    "opts.prefixPush(solver_prefix)\n",
    "if petsc_options is not None:\n",
    "    for k, v in petsc_options.items():\n",
    "        opts[k] = v\n",
    "opts.prefixPop()\n",
    "solver.setFromOptions()"
   ]
  },
  {
   "cell_type": "code",
   "execution_count": 28,
   "metadata": {},
   "outputs": [
    {
     "name": "stdout",
     "output_type": "stream",
     "text": [
      "Constrained solver iterations 1\n"
     ]
    }
   ],
   "source": [
    "with Timer(\"~PERIODIC: Assemble and solve MPC problem\"):\n",
    "    uh = problem.solve()\n",
    "    # solver.view()\n",
    "    it = solver.getIterationNumber()\n",
    "    print(\"Constrained solver iterations {0:d}\".format(it))"
   ]
  },
  {
   "cell_type": "markdown",
   "metadata": {},
   "source": [
    "# Poisson non-periodic"
   ]
  },
  {
   "cell_type": "code",
   "execution_count": 1,
   "metadata": {},
   "outputs": [],
   "source": [
    "from mpi4py import MPI\n",
    "from dolfinx.io import XDMFFile, gmshio\n",
    "from dolfinx_mpc import LinearProblem, MultiPointConstraint\n",
    "from petsc4py.PETSc import ScalarType\n",
    "import numpy as np\n",
    "import ufl\n",
    "from dolfinx import fem, io, mesh, plot, default_scalar_type\n",
    "from dolfinx.common import Timer\n",
    "from ufl import ds, dx, grad, inner\n",
    "from typing import Union"
   ]
  },
  {
   "cell_type": "code",
   "execution_count": 2,
   "metadata": {},
   "outputs": [
    {
     "name": "stdout",
     "output_type": "stream",
     "text": [
      "True\n"
     ]
    }
   ],
   "source": [
    "# Get PETSc int and scalar types\n",
    "complex_mode = True if np.dtype(default_scalar_type).kind == 'c' else False\n",
    "print(complex_mode)"
   ]
  },
  {
   "cell_type": "code",
   "execution_count": 3,
   "metadata": {},
   "outputs": [],
   "source": [
    "msh = mesh.create_rectangle(\n",
    "    comm=MPI.COMM_WORLD,\n",
    "    points=((0.0, 0.0), (2.0, 1.0)),\n",
    "    n=(64, 32),\n",
    "    cell_type=mesh.CellType.triangle,\n",
    ")\n",
    "V = fem.functionspace(msh, (\"Lagrange\", 1))"
   ]
  },
  {
   "cell_type": "code",
   "execution_count": 4,
   "metadata": {},
   "outputs": [],
   "source": [
    "facets = mesh.locate_entities_boundary(\n",
    "    msh,\n",
    "    dim=(msh.topology.dim - 1),\n",
    "    marker=lambda x: np.logical_or(np.isclose(x[1], 0.0), np.isclose(x[1], 1.0)),\n",
    ")\n",
    "dofs = fem.locate_dofs_topological(V=V, entity_dim=1, entities=facets)\n",
    "bc = fem.dirichletbc(value=ScalarType(0), dofs=dofs, V=V)\n",
    "bcs=[]"
   ]
  },
  {
   "cell_type": "code",
   "execution_count": 8,
   "metadata": {},
   "outputs": [],
   "source": [
    "tol = 250 * np.finfo(default_scalar_type).resolution"
   ]
  },
  {
   "cell_type": "code",
   "execution_count": 15,
   "metadata": {},
   "outputs": [
    {
     "ename": "TypeError",
     "evalue": "MultiPointConstraint.create_periodic_constraint_geometrical() missing 1 required positional argument: 'bcs'",
     "output_type": "error",
     "traceback": [
      "\u001b[0;31m---------------------------------------------------------------------------\u001b[0m",
      "\u001b[0;31mTypeError\u001b[0m                                 Traceback (most recent call last)",
      "\u001b[1;32m/Users/jtlaune/wc-apsidal-precession/fenicsx.ipynb Cell 20\u001b[0m line \u001b[0;36m1\n\u001b[1;32m      <a href='vscode-notebook-cell:/Users/jtlaune/wc-apsidal-precession/fenicsx.ipynb#X55sZmlsZQ%3D%3D?line=8'>9</a>\u001b[0m \u001b[39mwith\u001b[39;00m Timer(\u001b[39m\"\u001b[39m\u001b[39m~PERIODIC: Initialize MPC\u001b[39m\u001b[39m\"\u001b[39m):\n\u001b[1;32m     <a href='vscode-notebook-cell:/Users/jtlaune/wc-apsidal-precession/fenicsx.ipynb#X55sZmlsZQ%3D%3D?line=9'>10</a>\u001b[0m     mpc \u001b[39m=\u001b[39m MultiPointConstraint(V)\n\u001b[0;32m---> <a href='vscode-notebook-cell:/Users/jtlaune/wc-apsidal-precession/fenicsx.ipynb#X55sZmlsZQ%3D%3D?line=10'>11</a>\u001b[0m     mpc\u001b[39m.\u001b[39;49mcreate_periodic_constraint_geometrical(V, periodic_boundary, periodic_relation)\n\u001b[1;32m     <a href='vscode-notebook-cell:/Users/jtlaune/wc-apsidal-precession/fenicsx.ipynb#X55sZmlsZQ%3D%3D?line=11'>12</a>\u001b[0m     mpc\u001b[39m.\u001b[39mfinalize()\n",
      "\u001b[0;31mTypeError\u001b[0m: MultiPointConstraint.create_periodic_constraint_geometrical() missing 1 required positional argument: 'bcs'"
     ]
    }
   ],
   "source": [
    "def periodic_boundary(x):\n",
    "    return np.isclose(x[0], 2, atol=tol)\n",
    "def periodic_relation(x):\n",
    "    out_x = np.zeros_like(x)\n",
    "    out_x[0] = 2 - x[0]\n",
    "    out_x[1] = x[1]\n",
    "    out_x[2] = x[2]\n",
    "    return out_x\n",
    "with Timer(\"~PERIODIC: Initialize MPC\"):\n",
    "    mpc = MultiPointConstraint(V)\n",
    "    mpc.create_periodic_constraint_geometrical(V, periodic_boundary, periodic_relation, bcs)\n",
    "    mpc.finalize()"
   ]
  },
  {
   "cell_type": "code",
   "execution_count": 16,
   "metadata": {},
   "outputs": [
    {
     "name": "stdout",
     "output_type": "stream",
     "text": [
      "\u001b[0;31mSignature:\u001b[0m\n",
      "\u001b[0mmpc\u001b[0m\u001b[0;34m.\u001b[0m\u001b[0mcreate_periodic_constraint_geometrical\u001b[0m\u001b[0;34m(\u001b[0m\u001b[0;34m\u001b[0m\n",
      "\u001b[0;34m\u001b[0m    \u001b[0mV\u001b[0m\u001b[0;34m:\u001b[0m \u001b[0;34m'_fem.FunctionSpaceBase'\u001b[0m\u001b[0;34m,\u001b[0m\u001b[0;34m\u001b[0m\n",
      "\u001b[0;34m\u001b[0m    \u001b[0mindicator\u001b[0m\u001b[0;34m:\u001b[0m \u001b[0;34m'Callable[[numpy.ndarray], numpy.ndarray]'\u001b[0m\u001b[0;34m,\u001b[0m\u001b[0;34m\u001b[0m\n",
      "\u001b[0;34m\u001b[0m    \u001b[0mrelation\u001b[0m\u001b[0;34m:\u001b[0m \u001b[0;34m'Callable[[numpy.ndarray], numpy.ndarray]'\u001b[0m\u001b[0;34m,\u001b[0m\u001b[0;34m\u001b[0m\n",
      "\u001b[0;34m\u001b[0m    \u001b[0mbcs\u001b[0m\u001b[0;34m:\u001b[0m \u001b[0;34m'List[_fem.DirichletBC]'\u001b[0m\u001b[0;34m,\u001b[0m\u001b[0;34m\u001b[0m\n",
      "\u001b[0;34m\u001b[0m    \u001b[0mscale\u001b[0m\u001b[0;34m:\u001b[0m \u001b[0;34m'_float_classes'\u001b[0m \u001b[0;34m=\u001b[0m \u001b[0;34m(\u001b[0m\u001b[0;36m1\u001b[0m\u001b[0;34m+\u001b[0m\u001b[0;36m0j\u001b[0m\u001b[0;34m)\u001b[0m\u001b[0;34m,\u001b[0m\u001b[0;34m\u001b[0m\n",
      "\u001b[0;34m\u001b[0m\u001b[0;34m)\u001b[0m\u001b[0;34m\u001b[0m\u001b[0;34m\u001b[0m\u001b[0m\n",
      "\u001b[0;31mDocstring:\u001b[0m\n",
      "Create a periodic condition for all degrees of freedom whose physical location satisfies\n",
      ":math:`indicator(x_i)==True`, i.e.\n",
      ":math:`u(x_i) = scale * u(relation(x_i))` for all :math:`x_i`\n",
      "\n",
      "Args:\n",
      "    V: The function space to assign the condition to. Should either be the space of the MPC or a sub space.\n",
      "    indicator: Lambda-function to locate degrees of freedom that should be slaves\n",
      "    relation: Lambda-function describing the geometrical relation to master dofs\n",
      "    bcs: Dirichlet boundary conditions for the problem\n",
      "         (Periodic constraints will be ignored for these dofs)\n",
      "    scale: Float for scaling bc\n",
      "\u001b[0;31mFile:\u001b[0m      ~/micromamba/envs/FEniCSx/lib/python3.11/site-packages/dolfinx_mpc/multipointconstraint.py\n",
      "\u001b[0;31mType:\u001b[0m      method"
     ]
    }
   ],
   "source": [
    "mpc.create_periodic_constraint_geometrical?"
   ]
  },
  {
   "cell_type": "code",
   "execution_count": 10,
   "metadata": {},
   "outputs": [],
   "source": [
    "u = ufl.TrialFunction(V)\n",
    "v = ufl.TestFunction(V)\n",
    "x = ufl.SpatialCoordinate(msh)\n",
    "f = 10 * ufl.exp(-((x[0] - 0.5) ** 2 + (x[1] - 0.5) ** 2) / 0.02)\n",
    "g = ufl.sin(np.pi)\n",
    "a = inner(grad(u), grad(v)) * dx\n",
    "L = inner(f, v) * dx + inner(g, v) * ds"
   ]
  },
  {
   "cell_type": "code",
   "execution_count": 13,
   "metadata": {},
   "outputs": [
    {
     "name": "stdout",
     "output_type": "stream",
     "text": [
      "Constrained solver iterations 10000\n"
     ]
    }
   ],
   "source": [
    "with Timer(\"~PERIODIC: Initialize varitional problem\"):\n",
    "    problem = LinearProblem(a, L, mpc, bcs=bcs)\n",
    "solver = problem.solver\n",
    "petsc_options: dict[str, Union[str, int, float]]\n",
    "if complex_mode or default_scalar_type == np.float32:\n",
    "    petsc_options = {\"ksp_type\": \"preonly\", \"pc_type\": \"lu\"}\n",
    "else:\n",
    "    petsc_options = {\"ksp_type\": \"cg\", \"ksp_rtol\": 1e-6, \"pc_type\": \"hypre\", \"pc_hypre_type\": \"boomeramg\",\n",
    "                     \"pc_hypre_boomeramg_max_iter\": 1, \"pc_hypre_boomeramg_cycle_type\": \"v\"  # ,\n",
    "                     # \"pc_hypre_boomeramg_print_statistics\": 1\n",
    "                     }\n",
    "with Timer(\"~PERIODIC: Assemble and solve MPC problem\"):\n",
    "    uh = problem.solve()\n",
    "    # solver.view()\n",
    "    it = solver.getIterationNumber()\n",
    "    print(\"Constrained solver iterations {0:d}\".format(it))"
   ]
  },
  {
   "cell_type": "code",
   "execution_count": null,
   "metadata": {},
   "outputs": [],
   "source": [
    "import pyvista\n",
    "cells, types, x = plot.vtk_mesh(V)\n",
    "grid = pyvista.UnstructuredGrid(cells, types, x)\n",
    "grid.point_data[\"u\"] = uh.x.array.real\n",
    "grid.set_active_scalars(\"u\")\n",
    "plotter = pyvista.Plotter()\n",
    "plotter.add_mesh(grid, show_edges=True)\n",
    "warped = grid.warp_by_scalar()\n",
    "plotter.add_mesh(warped)\n",
    "if pyvista.OFF_SCREEN:\n",
    "    pyvista.start_xvfb(wait=0.1)\n",
    "    plotter.screenshot(\"uh_poisson.png\")\n",
    "else:\n",
    "    plotter.show()"
   ]
  },
  {
   "cell_type": "markdown",
   "metadata": {},
   "source": [
    "# Liouville"
   ]
  },
  {
   "cell_type": "code",
   "execution_count": null,
   "metadata": {},
   "outputs": [],
   "source": []
  },
  {
   "cell_type": "code",
   "execution_count": 1,
   "metadata": {},
   "outputs": [],
   "source": [
    "from mpi4py import MPI\n",
    "from dolfinx.io import XDMFFile, gmshio\n",
    "from dolfinx_mpc import LinearProblem, MultiPointConstraint\n",
    "from petsc4py.PETSc import ScalarType\n",
    "import numpy as np\n",
    "import ufl\n",
    "from dolfinx import fem, io, mesh, plot, default_scalar_type\n",
    "from dolfinx.common import Timer\n",
    "from ufl import ds, dx, grad, inner\n",
    "from typing import Union"
   ]
  },
  {
   "cell_type": "code",
   "execution_count": 9,
   "metadata": {},
   "outputs": [],
   "source": [
    "msh = mesh.create_rectangle(\n",
    "    comm=MPI.COMM_WORLD,\n",
    "    points=((0.0, 0.5), (2.0*np.pi, 1.0)),\n",
    "    n=(64, 32),\n",
    "    cell_type=mesh.CellType.triangle,\n",
    ")\n",
    "V = fem.functionspace(msh, (\"Lagrange\", 1))"
   ]
  },
  {
   "cell_type": "code",
   "execution_count": 10,
   "metadata": {},
   "outputs": [],
   "source": [
    "facets = mesh.locate_entities_boundary(\n",
    "    msh,\n",
    "    dim=(msh.topology.dim - 1),\n",
    "    marker=lambda x: np.logical_or(np.isclose(x[1], 0.0), np.isclose(x[1], 1.0)),\n",
    ")\n",
    "dofs = fem.locate_dofs_topological(V=V, entity_dim=1, entities=facets)\n",
    "bc = fem.dirichletbc(value=ScalarType(0), dofs=dofs, V=V)\n",
    "bcs=[bc]"
   ]
  },
  {
   "cell_type": "code",
   "execution_count": 11,
   "metadata": {},
   "outputs": [],
   "source": [
    "tol = 250 * np.finfo(default_scalar_type).resolution\n",
    "def periodic_boundary(x):\n",
    "    return np.isclose(x[0], 2, atol=tol)\n",
    "def periodic_relation(x):\n",
    "    out_x = np.zeros_like(x)\n",
    "    out_x[0] = 2 - x[0]\n",
    "    out_x[1] = x[1]\n",
    "    out_x[2] = x[2]\n",
    "    return out_x\n",
    "with Timer(\"~PERIODIC: Initialize MPC\"):\n",
    "    mpc = MultiPointConstraint(V)\n",
    "    mpc.create_periodic_constraint_geometrical(V, periodic_boundary, periodic_relation, bcs)\n",
    "    mpc.finalize()"
   ]
  },
  {
   "cell_type": "code",
   "execution_count": 12,
   "metadata": {},
   "outputs": [],
   "source": [
    "lmbda = 1.0e-02  # surface parameter\n",
    "dt = 5.0e-06  # time step\n",
    "theta = 0.5  # time stepping family, e.g. theta=1 -> backward Euler, theta=0.5 -> Crank-Nicholson"
   ]
  },
  {
   "cell_type": "code",
   "execution_count": 16,
   "metadata": {},
   "outputs": [],
   "source": [
    "u = fem.Function(V)\n",
    "v = ufl.TestFunction(V)"
   ]
  },
  {
   "cell_type": "code",
   "execution_count": 15,
   "metadata": {},
   "outputs": [],
   "source": [
    "x = ufl.SpatialCoordinate(msh)\n",
    "u0= exp(-(x[1]-0.75)**2/0.1)"
   ]
  },
  {
   "cell_type": "code",
   "execution_count": null,
   "metadata": {},
   "outputs": [],
   "source": [
    "\n",
    "x = ufl.SpatialCoordinate(msh)\n",
    "f = 10 * ufl.exp(-((x[0] - 0.5) ** 2 + (x[1] - 0.5) ** 2) / 0.02)\n",
    "g = ufl.sin(np.pi)\n",
    "a = inner(grad(u), grad(v)) * dx\n",
    "L = inner(f, v) * dx + inner(g, v) * ds"
   ]
  }
 ],
 "metadata": {
  "kernelspec": {
   "display_name": "Python 3",
   "language": "python",
   "name": "python3"
  },
  "language_info": {
   "codemirror_mode": {
    "name": "ipython",
    "version": 3
   },
   "file_extension": ".py",
   "mimetype": "text/x-python",
   "name": "python",
   "nbconvert_exporter": "python",
   "pygments_lexer": "ipython3",
   "version": "3.11.6"
  }
 },
 "nbformat": 4,
 "nbformat_minor": 2
}
