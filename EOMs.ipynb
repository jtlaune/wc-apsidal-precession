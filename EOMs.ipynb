{
 "cells": [
  {
   "cell_type": "markdown",
   "metadata": {},
   "source": [
    "# Preamble"
   ]
  },
  {
   "cell_type": "code",
   "execution_count": 1,
   "metadata": {},
   "outputs": [
    {
     "name": "stdout",
     "output_type": "stream",
     "text": [
      "IPython console for SymPy 1.12 (Python 3.12.0-64-bit) (ground types: python)\n",
      "\n",
      "These commands were executed:\n",
      ">>> from sympy import *\n",
      ">>> x, y, z, t = symbols('x y z t')\n",
      ">>> k, m, n = symbols('k m n', integer=True)\n",
      ">>> f, g, h = symbols('f g h', cls=Function)\n",
      ">>> init_printing()\n",
      "\n",
      "Documentation can be found at https://docs.sympy.org/1.12/\n",
      "\n",
      "IPython console for SymPy 1.12 (Python 3.12.0-64-bit) (ground types: python)\n",
      "\n",
      "These commands were executed:\n",
      ">>> from sympy import *\n",
      ">>> x, y, z, t = symbols('x y z t')\n",
      ">>> k, m, n = symbols('k m n', integer=True)\n",
      ">>> f, g, h = symbols('f g h', cls=Function)\n",
      ">>> init_printing()\n",
      "\n",
      "Documentation can be found at https://docs.sympy.org/1.12/\n",
      "\n"
     ]
    }
   ],
   "source": [
    "from sympy import init_session\n",
    "import matplotlib as mpl\n",
    "import matplotlib.pyplot as plt\n",
    "from mpl_styles import analytic\n",
    "import numpy as npy\n",
    "import scipy as sp\n",
    "from scipy.optimize import brentq\n",
    "%matplotlib widget\n",
    "import os, glob, pathlib\n",
    "from loky import get_reusable_executor\n",
    "import dill as pickle\n",
    "from sympy.utilities.lambdify import lambdastr\n",
    "import subprocess\n",
    "init_session()\n",
    "def save_to_clipboard(dpi=300):\n",
    "    plt.savefig(\"/tmp/clipboard.png\", format=\"png\", bbox_inches=\"tight\", dpi=dpi)\n",
    "    subprocess.run(\n",
    "        [\n",
    "            \"osascript\",\n",
    "            \"-e\",\n",
    "            f'set the clipboard to (read (POSIX file \"/tmp/clipboard.png\") as «class PNGf»)',\n",
    "        ]\n",
    "    )\n",
    "init_session()"
   ]
  },
  {
   "cell_type": "code",
   "execution_count": 2,
   "metadata": {},
   "outputs": [],
   "source": [
    "EXPRS = {}"
   ]
  },
  {
   "cell_type": "code",
   "execution_count": 3,
   "metadata": {},
   "outputs": [],
   "source": [
    "def term_simplify(expr):\n",
    "    run = 0\n",
    "    for arg in expr.args:\n",
    "        run += arg.simplify()\n",
    "    return(run)\n",
    "\n",
    "def term_multiply(expr, mult):\n",
    "    run = 0\n",
    "    for term in expr.args:\n",
    "        run += term*mult\n",
    "    term_simplify(run)\n",
    "    return(run)"
   ]
  },
  {
   "cell_type": "code",
   "execution_count": 4,
   "metadata": {},
   "outputs": [],
   "source": [
    "# Positive constant\n",
    "G, M, mp, ep, b, bp, j, mup, tm, b1_3_2, b2_3_2 = symbols(\"G M m_p e_p beta beta_p j mu_p tau_m b_{3/2}^{(1)}(\\\\alpha_0) b_{3/2}^{(2)}(\\\\alpha_0)\", positive=True)\n",
    "# Precession frequencies\n",
    "om, omp = symbols(\"omega omega_p\")\n",
    "# Functions of time\n",
    "lp, np, l, pom, th, thp = symbols(\"lambda_p n_p lambda varpi theta theta_p\") \n",
    "ap, a, alpha = symbols(\"a_p a alpha\", positive=True)\n",
    "# Positive functions of time\n",
    "e = symbols(\"e\", positive=True)\n",
    "# Actions\n",
    "Gam, Lam = symbols(\"Gamma Lambda\", positive=True)\n",
    "# Derivatives\n",
    "dth, dthp = symbols(r\"\\dot\\theta \\dot\\theta_p\")"
   ]
  },
  {
   "cell_type": "code",
   "execution_count": 5,
   "metadata": {},
   "outputs": [],
   "source": [
    "EXPRS[thp] =  (j + 1) * l - j * lp - omp * t\n",
    "EXPRS[th] = (j + 1) * l - j * lp - pom"
   ]
  },
  {
   "cell_type": "code",
   "execution_count": 6,
   "metadata": {},
   "outputs": [
    {
     "data": {
      "image/png": "[encoded data removed]",
      "text/latex": [
       "$\\displaystyle - \\frac{\\sqrt{G} \\sqrt{M} \\sqrt{a} e^{2} \\omega}{2} - \\frac{G M}{2 a} - \\frac{G \\beta e m_{p} \\cos{\\left(\\theta \\right)}}{a_{p}} + \\frac{G \\beta_{p} e_{p} m_{p} \\cos{\\left(\\theta_{p} \\right)}}{a_{p}}$"
      ],
      "text/plain": [
       "            2                                               \n",
       "  √G⋅√M⋅√a⋅e ⋅ω   G⋅M   G⋅β⋅e⋅mₚ⋅cos(θ)   G⋅βₚ⋅eₚ⋅mₚ⋅cos(θₚ)\n",
       "- ───────────── - ─── - ─────────────── + ──────────────────\n",
       "        2         2⋅a          aₚ                 aₚ        "
      ]
     },
     "execution_count": 6,
     "metadata": {},
     "output_type": "execute_result"
    }
   ],
   "source": [
    "H_expr = - G*M/(2*a) - Rational(1,2)*sqrt(G*M*a)*e**2*om + G*mp/ap*bp*ep*cos(thp) - G*mp/ap*b*e*cos(th)\n",
    "H_expr"
   ]
  },
  {
   "cell_type": "code",
   "execution_count": 7,
   "metadata": {},
   "outputs": [
    {
     "data": {
      "image/png": "[encoded data removed]",
      "text/latex": [
       "$\\displaystyle - \\frac{G^{2} M^{2}}{2 \\Lambda^{2}} - \\frac{\\sqrt{2} G \\sqrt{\\Gamma} \\beta m_{p} \\cos{\\left(\\theta \\right)}}{\\sqrt{\\Lambda} a_{p}} + \\frac{G \\beta_{p} e_{p} m_{p} \\cos{\\left(\\theta_{p} \\right)}}{a_{p}} - \\Gamma \\omega$"
      ],
      "text/plain": [
       "   2  2                                                 \n",
       "  G ⋅M    √2⋅G⋅√Γ⋅β⋅mₚ⋅cos(θ)   G⋅βₚ⋅eₚ⋅mₚ⋅cos(θₚ)      \n",
       "- ───── - ─────────────────── + ────────────────── - Γ⋅ω\n",
       "      2          √Λ⋅aₚ                  aₚ              \n",
       "   2⋅Λ                                                  "
      ]
     },
     "execution_count": 7,
     "metadata": {},
     "output_type": "execute_result"
    }
   ],
   "source": [
    "H = H_expr.subs(\n",
    "    {\n",
    "        Rational(1, 2) * sqrt(G * M * a) * e**2: Gam,\n",
    "        e: sqrt(2 * Gam / Lam),\n",
    "        a: Lam**2 / (G * M),\n",
    "    }\n",
    ")\n",
    "H = term_simplify(H)\n",
    "H"
   ]
  },
  {
   "cell_type": "code",
   "execution_count": 8,
   "metadata": {},
   "outputs": [],
   "source": [
    "def diff(expr, var):\n",
    "    run = expr.diff(var)\n",
    "    for key in EXPRS.keys():\n",
    "        run += expr.diff(key)*EXPRS[key].diff(var)\n",
    "    return(run)"
   ]
  },
  {
   "cell_type": "markdown",
   "metadata": {},
   "source": [
    "Right now, keeping ALL terms, and removing $\\mathcal O(\\mu_p^2)$ in the Latex document"
   ]
  },
  {
   "cell_type": "code",
   "execution_count": 9,
   "metadata": {},
   "outputs": [
    {
     "data": {
      "image/png": "[encoded data removed]",
      "text/latex": [
       "$\\displaystyle \\frac{a a_{p} b_{3/2}^{(1)}(\\alpha_0) e^{2} \\mu_{p} n^{2}}{8} - \\frac{a a_{p} b_{3/2}^{(2)}(\\alpha_0) e e_{p} \\mu_{p} n^{2} \\cos{\\left(\\omega_{p} t - \\varpi \\right)}}{4}$"
      ],
      "text/plain": [
       "                               2     2                                        \n",
       "a⋅aₚ⋅b_{3/2}_0)__{(1)}(\\alpha⋅e ⋅μₚ⋅n    a⋅aₚ⋅b_{3/2}_0)__{(2)}(\\alpha⋅e⋅eₚ⋅μₚ\n",
       "────────────────────────────────────── - ─────────────────────────────────────\n",
       "                  8                                                  4        \n",
       "\n",
       "  2                  \n",
       "⋅n ⋅cos(ωₚ⋅t - varpi)\n",
       "─────────────────────\n",
       "                     "
      ]
     },
     "execution_count": 9,
     "metadata": {},
     "output_type": "execute_result"
    }
   ],
   "source": [
    "R = mup*n**2*a**2*Rational(1,8)*(ap/a)*b1_3_2*e**2 - mup*n**2*a**2*Rational(1,4)*(ap/a)*b2_3_2*e*ep*cos(omp*t-pom)\n",
    "R"
   ]
  },
  {
   "cell_type": "markdown",
   "metadata": {},
   "source": [
    "## Physical sources of apsidal precession"
   ]
  },
  {
   "cell_type": "code",
   "execution_count": 10,
   "metadata": {},
   "outputs": [
    {
     "data": {
      "image/png": "[encoded data removed]",
      "text/latex": [
       "$\\displaystyle 6.85234416098428 \\cdot 10^{-5}$"
      ],
      "text/plain": [
       "6.852344160984275e-05"
      ]
     },
     "execution_count": 10,
     "metadata": {},
     "output_type": "execute_result"
    }
   ],
   "source": [
    "MUJUP = 9.55e-4\n",
    "MUURN = 4.366e-5\n",
    "MUSAT = 2.858e-4\n",
    "SMAJUP = 5.20\n",
    "SMAURN = 9.54\n",
    "SMASAT = 19.19\n",
    "def nep_omp_np(smaext, muext):\n",
    "    SMANEP = 30.07\n",
    "    return 0.75 * muext * (smaext / SMANEP) ** 2\n",
    "alpha0val = (2 / (2 + 1)) ** (2.0 / 3)\n",
    "0.75*(1-alpha0val**3.5)\n",
    "DPOM_GPS = (nep_omp_np(SMAJUP,MUJUP)+nep_omp_np(SMASAT,MUSAT)+nep_omp_np(SMAURN,MUURN))*(1-alpha0val**(3.5))\n",
    "DPOM_GPS"
   ]
  },
  {
   "cell_type": "markdown",
   "metadata": {},
   "source": [
    "# EOMs"
   ]
  },
  {
   "cell_type": "markdown",
   "metadata": {},
   "source": [
    "## $\\dot \\Lambda$"
   ]
  },
  {
   "cell_type": "code",
   "execution_count": 11,
   "metadata": {},
   "outputs": [
    {
     "data": {
      "image/png": "[encoded data removed]",
      "text/latex": [
       "$\\displaystyle - \\frac{a^{3} \\beta e \\mu_{p} n^{2} \\left(j + 1\\right) \\sin{\\left(\\theta \\right)}}{a_{p}} + \\frac{a^{3} \\beta_{p} e_{p} \\mu_{p} n^{2} \\left(j + 1\\right) \\sin{\\left(\\theta_{p} \\right)}}{a_{p}}$"
      ],
      "text/plain": [
       "   3         2                   3           2                \n",
       "  a ⋅β⋅e⋅μₚ⋅n ⋅(j + 1)⋅sin(θ)   a ⋅βₚ⋅eₚ⋅μₚ⋅n ⋅(j + 1)⋅sin(θₚ)\n",
       "- ─────────────────────────── + ──────────────────────────────\n",
       "               aₚ                             aₚ              "
      ]
     },
     "execution_count": 11,
     "metadata": {},
     "output_type": "execute_result"
    }
   ],
   "source": [
    "Lamdot = (\n",
    "    -diff(H, l)\n",
    "    .subs(mp, mup * M)\n",
    "    .subs({sqrt(Gam): sqrt(Lam / 2) * e})\n",
    "    .subs({Lam: sqrt(G * M * a)})\n",
    "    .subs({sqrt(G * M): n * a ** Rational(3, 2)})\n",
    ")\n",
    "Lamdot"
   ]
  },
  {
   "cell_type": "markdown",
   "metadata": {},
   "source": [
    "## $\\dot n$"
   ]
  },
  {
   "cell_type": "code",
   "execution_count": 12,
   "metadata": {},
   "outputs": [
    {
     "data": {
      "image/png": "[encoded data removed]",
      "text/latex": [
       "$\\displaystyle \\frac{3 a \\beta e \\mu_{p} n^{2} \\left(j + 1\\right) \\sin{\\left(\\theta \\right)}}{a_{p}} - \\frac{3 a \\beta_{p} e_{p} \\mu_{p} n^{2} \\left(j + 1\\right) \\sin{\\left(\\theta_{p} \\right)}}{a_{p}}$"
      ],
      "text/plain": [
       "            2                                2                \n",
       "3⋅a⋅β⋅e⋅μₚ⋅n ⋅(j + 1)⋅sin(θ)   3⋅a⋅βₚ⋅eₚ⋅μₚ⋅n ⋅(j + 1)⋅sin(θₚ)\n",
       "──────────────────────────── - ───────────────────────────────\n",
       "             aₚ                               aₚ              "
      ]
     },
     "execution_count": 12,
     "metadata": {},
     "output_type": "execute_result"
    }
   ],
   "source": [
    "ndot = term_multiply(Lamdot, -3 * n**2 * a / (G * M))\n",
    "ndot = (\n",
    "    ndot.subs({sqrt(2 * Gam / Lam): e})\n",
    "    .subs({sqrt(Gam): sqrt(Lam / 2) * e})\n",
    "    .subs({Lam: sqrt(G * M * a)})\n",
    "    .subs({sqrt(G * M): n * a ** Rational(3, 2)})\n",
    ")\n",
    "ndot"
   ]
  },
  {
   "cell_type": "markdown",
   "metadata": {},
   "source": [
    "## $\\dot a$"
   ]
  },
  {
   "cell_type": "code",
   "execution_count": 13,
   "metadata": {},
   "outputs": [
    {
     "data": {
      "image/png": "[encoded data removed]",
      "text/latex": [
       "$\\displaystyle - \\frac{2 a^{2} \\beta e \\mu_{p} n \\left(j + 1\\right) \\sin{\\left(\\theta \\right)}}{a_{p}} + \\frac{2 a^{2} \\beta_{p} e_{p} \\mu_{p} n \\left(j + 1\\right) \\sin{\\left(\\theta_{p} \\right)}}{a_{p}}$"
      ],
      "text/plain": [
       "     2                              2                           \n",
       "  2⋅a ⋅β⋅e⋅μₚ⋅n⋅(j + 1)⋅sin(θ)   2⋅a ⋅βₚ⋅eₚ⋅μₚ⋅n⋅(j + 1)⋅sin(θₚ)\n",
       "- ──────────────────────────── + ───────────────────────────────\n",
       "               aₚ                               aₚ              "
      ]
     },
     "execution_count": 13,
     "metadata": {},
     "output_type": "execute_result"
    }
   ],
   "source": [
    "adot = term_multiply(Lamdot, 2/(n*a))\n",
    "adot"
   ]
  },
  {
   "cell_type": "markdown",
   "metadata": {},
   "source": [
    "## $\\dot \\Gamma$"
   ]
  },
  {
   "cell_type": "code",
   "execution_count": 14,
   "metadata": {},
   "outputs": [
    {
     "data": {
      "image/png": "[encoded data removed]",
      "text/latex": [
       "$\\displaystyle - \\frac{a^{3} \\beta e \\mu_{p} n^{2} \\sin{\\left(\\theta \\right)}}{a_{p}}$"
      ],
      "text/plain": [
       "  3         2        \n",
       "-a ⋅β⋅e⋅μₚ⋅n ⋅sin(θ) \n",
       "─────────────────────\n",
       "          aₚ         "
      ]
     },
     "execution_count": 14,
     "metadata": {},
     "output_type": "execute_result"
    }
   ],
   "source": [
    "Gamdot = (\n",
    "    diff(H, pom)\n",
    "    .subs(mp, mup * M)\n",
    "    .subs({sqrt(Gam): sqrt(Lam / 2) * e})\n",
    "    .subs({Lam: sqrt(G * M * a)})\n",
    "    .subs({sqrt(G * M): n * a ** Rational(3, 2)})\n",
    ")\n",
    "Gamdot"
   ]
  },
  {
   "cell_type": "markdown",
   "metadata": {},
   "source": [
    "## $\\dot e$"
   ]
  },
  {
   "cell_type": "code",
   "execution_count": 15,
   "metadata": {},
   "outputs": [
    {
     "data": {
      "image/png": "[encoded data removed]",
      "text/latex": [
       "$\\displaystyle \\frac{a \\beta e^{2} \\mu_{p} n \\left(j + 1\\right) \\sin{\\left(\\theta \\right)}}{2 a_{p}} - \\frac{a \\beta \\mu_{p} n \\sin{\\left(\\theta \\right)}}{a_{p}} - \\frac{a \\beta_{p} e e_{p} \\mu_{p} n \\left(j + 1\\right) \\sin{\\left(\\theta_{p} \\right)}}{2 a_{p}}$"
      ],
      "text/plain": [
       "     2                                                                       \n",
       "a⋅β⋅e ⋅μₚ⋅n⋅(j + 1)⋅sin(θ)   a⋅β⋅μₚ⋅n⋅sin(θ)   a⋅βₚ⋅e⋅eₚ⋅μₚ⋅n⋅(j + 1)⋅sin(θₚ)\n",
       "────────────────────────── - ─────────────── - ──────────────────────────────\n",
       "           2⋅aₚ                     aₚ                      2⋅aₚ             "
      ]
     },
     "execution_count": 15,
     "metadata": {},
     "output_type": "execute_result"
    }
   ],
   "source": [
    "edot = Gamdot/(Lam*e) - term_multiply(Lamdot, Rational(1,2)/Lam*e)\n",
    "edot = edot.subs({sqrt(2*Gam/Lam):e})\n",
    "edot = edot.subs({Lam:sqrt(G*M*a)}).subs({sqrt(G*M):n*a**Rational(3,2)})\n",
    "edot"
   ]
  },
  {
   "cell_type": "markdown",
   "metadata": {},
   "source": [
    "## $\\dot \\varpi$"
   ]
  },
  {
   "cell_type": "code",
   "execution_count": 16,
   "metadata": {},
   "outputs": [
    {
     "data": {
      "image/png": "[encoded data removed]",
      "text/latex": [
       "$\\displaystyle \\frac{a \\beta \\mu_{p} n \\cos{\\left(\\theta \\right)}}{a_{p} e} + \\omega$"
      ],
      "text/plain": [
       "a⋅β⋅μₚ⋅n⋅cos(θ)    \n",
       "─────────────── + ω\n",
       "      aₚ⋅e         "
      ]
     },
     "execution_count": 16,
     "metadata": {},
     "output_type": "execute_result"
    }
   ],
   "source": [
    "pomdot = (\n",
    "    (-diff(H, Gam))\n",
    "    .subs(mp, mup * M)\n",
    "    .subs({sqrt(Gam): sqrt(Lam / 2) * e})\n",
    "    .subs({Lam: sqrt(G * M * a)})\n",
    "    .subs({sqrt(G * M): n * a ** Rational(3, 2)})\n",
    ")\n",
    "pomdot"
   ]
  },
  {
   "cell_type": "markdown",
   "metadata": {},
   "source": [
    "## $\\dot \\lambda$"
   ]
  },
  {
   "cell_type": "code",
   "execution_count": 17,
   "metadata": {},
   "outputs": [
    {
     "data": {
      "image/png": "[encoded data removed]",
      "text/latex": [
       "$\\displaystyle \\frac{a \\beta e \\mu_{p} n \\cos{\\left(\\theta \\right)}}{2 a_{p}} + n$"
      ],
      "text/plain": [
       "a⋅β⋅e⋅μₚ⋅n⋅cos(θ)    \n",
       "───────────────── + n\n",
       "       2⋅aₚ          "
      ]
     },
     "execution_count": 17,
     "metadata": {},
     "output_type": "execute_result"
    }
   ],
   "source": [
    "ldot = (\n",
    "    diff(H, Lam)\n",
    "    .subs(mp, mup * M)\n",
    "    .subs({sqrt(Gam): sqrt(Lam / 2) * e})\n",
    "    .subs({Lam: sqrt(G * M * a)})\n",
    "    .subs({sqrt(G * M): n * a ** Rational(3, 2)})\n",
    ")\n",
    "\n",
    "ldot"
   ]
  },
  {
   "cell_type": "markdown",
   "metadata": {},
   "source": [
    "## $\\dot \\theta_p$"
   ]
  },
  {
   "cell_type": "markdown",
   "metadata": {},
   "source": [
    "## $\\ddot\\lambda$"
   ]
  },
  {
   "cell_type": "code",
   "execution_count": 18,
   "metadata": {},
   "outputs": [
    {
     "data": {
      "image/png": "[encoded data removed]",
      "text/latex": [
       "$\\displaystyle \\frac{a \\beta e \\mu_{p} n \\cos{\\left(\\theta \\right)}}{2 a_{p}} + n$"
      ],
      "text/plain": [
       "a⋅β⋅e⋅μₚ⋅n⋅cos(θ)    \n",
       "───────────────── + n\n",
       "       2⋅aₚ          "
      ]
     },
     "execution_count": 18,
     "metadata": {},
     "output_type": "execute_result"
    }
   ],
   "source": [
    "ldot"
   ]
  },
  {
   "cell_type": "code",
   "execution_count": 19,
   "metadata": {},
   "outputs": [
    {
     "data": {
      "image/png": "[encoded data removed]",
      "text/latex": [
       "$\\displaystyle - \\frac{\\dot\\theta a \\beta e \\mu_{p} n \\sin{\\left(\\theta \\right)}}{2 a_{p}} + \\frac{3 a^{2} \\beta^{2} e^{2} \\mu_{p}^{2} n^{2} \\left(j + 1\\right) \\sin{\\left(\\theta \\right)} \\cos{\\left(\\theta \\right)}}{4 a_{p}^{2}} - \\frac{a^{2} \\beta^{2} \\mu_{p}^{2} n^{2} \\sin{\\left(\\theta \\right)} \\cos{\\left(\\theta \\right)}}{2 a_{p}^{2}} - \\frac{3 a^{2} \\beta \\beta_{p} e e_{p} \\mu_{p}^{2} n^{2} \\left(j + 1\\right) \\sin{\\left(\\theta_{p} \\right)} \\cos{\\left(\\theta \\right)}}{4 a_{p}^{2}} + \\frac{3 a \\beta e \\mu_{p} n^{2} \\left(j + 1\\right) \\sin{\\left(\\theta \\right)}}{a_{p}} + \\frac{a \\beta e \\mu_{p} n \\cos{\\left(\\theta \\right)}}{3 a_{p} \\tau_{m}} - \\frac{3 a \\beta_{p} e_{p} \\mu_{p} n^{2} \\left(j + 1\\right) \\sin{\\left(\\theta_{p} \\right)}}{a_{p}}$"
      ],
      "text/plain": [
       "                                    2  2  2   2  2                          2 \n",
       "  \\dot\\theta⋅a⋅β⋅e⋅μₚ⋅n⋅sin(θ)   3⋅a ⋅β ⋅e ⋅μₚ ⋅n ⋅(j + 1)⋅sin(θ)⋅cos(θ)   a ⋅\n",
       "- ──────────────────────────── + ─────────────────────────────────────── - ───\n",
       "              2⋅aₚ                                    2                       \n",
       "                                                  4⋅aₚ                        \n",
       "\n",
       " 2   2  2                    2             2  2                               \n",
       "β ⋅μₚ ⋅n ⋅sin(θ)⋅cos(θ)   3⋅a ⋅β⋅βₚ⋅e⋅eₚ⋅μₚ ⋅n ⋅(j + 1)⋅sin(θₚ)⋅cos(θ)   3⋅a⋅β\n",
       "─────────────────────── - ──────────────────────────────────────────── + ─────\n",
       "           2                                     2                            \n",
       "       2⋅aₚ                                  4⋅aₚ                             \n",
       "\n",
       "       2                                                    2                \n",
       "⋅e⋅μₚ⋅n ⋅(j + 1)⋅sin(θ)   a⋅β⋅e⋅μₚ⋅n⋅cos(θ)   3⋅a⋅βₚ⋅eₚ⋅μₚ⋅n ⋅(j + 1)⋅sin(θₚ)\n",
       "─────────────────────── + ───────────────── - ───────────────────────────────\n",
       "        aₚ                     3⋅aₚ⋅τₘ                       aₚ              \n",
       "                                                                             "
      ]
     },
     "execution_count": 19,
     "metadata": {},
     "output_type": "execute_result"
    }
   ],
   "source": [
    "lddot = (\n",
    "    (\n",
    "        diff(ldot, th) * dth \n",
    "        +term_multiply(adot,diff(ldot, a))\n",
    "        +term_multiply(edot,diff(ldot, e))\n",
    "        +term_multiply(ndot,diff(ldot, n).args[0])\n",
    "        +term_multiply(ndot,diff(ldot, n).args[1])\n",
    "        +diff(ldot,ap)*(-2*ap/(3*tm))\n",
    "    )\n",
    ") \n",
    "lddot"
   ]
  },
  {
   "cell_type": "code",
   "execution_count": 20,
   "metadata": {},
   "outputs": [],
   "source": [
    "#lddot = (lddot + O(mup**2)).removeO() # first order in mu_p since theres not 1/e terms\n",
    "#lddot"
   ]
  },
  {
   "cell_type": "code",
   "execution_count": 21,
   "metadata": {},
   "outputs": [
    {
     "data": {
      "image/png": "[encoded data removed]",
      "text/latex": [
       "$\\displaystyle \\frac{a \\beta e \\mu_{p} n \\left(j + 1\\right) \\cos{\\left(\\theta \\right)}}{2 a_{p}} - j n_{p} + n \\left(j + 1\\right) - \\omega_{p}$"
      ],
      "text/plain": [
       "a⋅β⋅e⋅μₚ⋅n⋅(j + 1)⋅cos(θ)                        \n",
       "───────────────────────── - j⋅nₚ + n⋅(j + 1) - ωₚ\n",
       "           2⋅aₚ                                  "
      ]
     },
     "execution_count": 21,
     "metadata": {},
     "output_type": "execute_result"
    }
   ],
   "source": [
    "thpdot = term_multiply(ldot,(j+1)) - j*np - omp\n",
    "thpdot"
   ]
  },
  {
   "cell_type": "code",
   "execution_count": 22,
   "metadata": {},
   "outputs": [
    {
     "name": "stdout",
     "output_type": "stream",
     "text": [
      "\\frac{a \\beta e \\mu_{p} n \\left(j + 1\\right) \\cos{\\left(\\theta \\right)}}{2 a_{p}} - j n_{p} + n \\left(j + 1\\right) - \\omega_{p}\n"
     ]
    }
   ],
   "source": [
    "print(latex(thpdot))"
   ]
  },
  {
   "cell_type": "markdown",
   "metadata": {},
   "source": [
    "## $\\ddot\\theta_p$"
   ]
  },
  {
   "cell_type": "code",
   "execution_count": 23,
   "metadata": {},
   "outputs": [
    {
     "data": {
      "image/png": "[encoded data removed]",
      "text/latex": [
       "$\\displaystyle - \\frac{3 a \\beta_{p} e_{p} \\mu_{p} n^{2} \\left(j + 1\\right)^{2} \\sin{\\left(\\theta_{p} \\right)}}{a_{p}} - \\frac{j n_{p}}{\\tau_{m}}$"
      ],
      "text/plain": [
       "                2        2               \n",
       "  3⋅a⋅βₚ⋅eₚ⋅μₚ⋅n ⋅(j + 1) ⋅sin(θₚ)   j⋅nₚ\n",
       "- ──────────────────────────────── - ────\n",
       "                 aₚ                   τₘ "
      ]
     },
     "execution_count": 23,
     "metadata": {},
     "output_type": "execute_result"
    }
   ],
   "source": [
    "thpddot = term_multiply(lddot,(j+1)) - j*np/tm\n",
    "thpddot.subs(b,0)"
   ]
  },
  {
   "cell_type": "code",
   "execution_count": 24,
   "metadata": {},
   "outputs": [
    {
     "name": "stdout",
     "output_type": "stream",
     "text": [
      "- \\frac{\\dot\\theta \\beta e \\mu_{p} n \\left(j + 1\\right) \\sin{\\left(\\theta \\right)}}{2 \\alpha} - \\frac{j n_{p}}{\\tau_{m}} + \\frac{3 \\beta e \\mu_{p} n^{2} \\left(j + 1\\right)^{2} \\sin{\\left(\\theta \\right)}}{\\alpha} + \\frac{\\beta e \\mu_{p} n \\left(j + 1\\right) \\cos{\\left(\\theta \\right)}}{3 \\alpha \\tau_{m}} - \\frac{3 \\beta_{p} e_{p} \\mu_{p} n^{2} \\left(j + 1\\right)^{2} \\sin{\\left(\\theta_{p} \\right)}}{\\alpha} + \\frac{3 \\beta^{2} e^{2} \\mu_{p}^{2} n^{2} \\left(j + 1\\right)^{2} \\sin{\\left(\\theta \\right)} \\cos{\\left(\\theta \\right)}}{4 \\alpha^{2}} - \\frac{\\beta^{2} \\mu_{p}^{2} n^{2} \\left(j + 1\\right) \\sin{\\left(\\theta \\right)} \\cos{\\left(\\theta \\right)}}{2 \\alpha^{2}} - \\frac{3 \\beta \\beta_{p} e e_{p} \\mu_{p}^{2} n^{2} \\left(j + 1\\right)^{2} \\sin{\\left(\\theta_{p} \\right)} \\cos{\\left(\\theta \\right)}}{4 \\alpha^{2}}\n"
     ]
    }
   ],
   "source": [
    "print(latex(thpddot.subs(a/ap,alpha**(-1))))"
   ]
  },
  {
   "cell_type": "markdown",
   "metadata": {},
   "source": [
    "## $\\dot\\varpi_{\\rm sec}$"
   ]
  },
  {
   "cell_type": "code",
   "execution_count": 25,
   "metadata": {},
   "outputs": [
    {
     "data": {
      "image/png": "[encoded data removed]",
      "text/latex": [
       "$\\displaystyle \\frac{a_{p} b_{3/2}^{(1)}(\\alpha_0) \\mu_{p} n}{4 a} - \\frac{a_{p} b_{3/2}^{(2)}(\\alpha_0) e_{p} \\mu_{p} n \\cos{\\left(\\omega_{p} t - \\varpi \\right)}}{4 a e}$"
      ],
      "text/plain": [
       "aₚ⋅b_{3/2}_0)__{(1)}(\\alpha⋅μₚ⋅n   aₚ⋅b_{3/2}_0)__{(2)}(\\alpha⋅eₚ⋅μₚ⋅n⋅cos(ωₚ⋅\n",
       "──────────────────────────────── - ───────────────────────────────────────────\n",
       "              4⋅a                                          4⋅a⋅e              \n",
       "\n",
       "t - varpi)\n",
       "──────────\n",
       "          "
      ]
     },
     "execution_count": 25,
     "metadata": {},
     "output_type": "execute_result"
    }
   ],
   "source": [
    "pomdsec = term_multiply(diff(R,e),1/(n*a**2*e))\n",
    "pomdsec"
   ]
  },
  {
   "cell_type": "markdown",
   "metadata": {},
   "source": [
    "## $\\dot e_{\\rm sec}$"
   ]
  },
  {
   "cell_type": "code",
   "execution_count": 26,
   "metadata": {},
   "outputs": [
    {
     "data": {
      "image/png": "[encoded data removed]",
      "text/latex": [
       "$\\displaystyle \\frac{a_{p} b_{3/2}^{(2)}(\\alpha_0) e_{p} \\mu_{p} n \\sin{\\left(\\omega_{p} t - \\varpi \\right)}}{4 a}$"
      ],
      "text/plain": [
       "aₚ⋅b_{3/2}_0)__{(2)}(\\alpha⋅eₚ⋅μₚ⋅n⋅sin(ωₚ⋅t - varpi)\n",
       "─────────────────────────────────────────────────────\n",
       "                         4⋅a                         "
      ]
     },
     "execution_count": 26,
     "metadata": {},
     "output_type": "execute_result"
    }
   ],
   "source": [
    "edsec = -diff(R,pom)/(n*a**2*e)\n",
    "edsec"
   ]
  }
 ],
 "metadata": {
  "kernelspec": {
   "display_name": "Science",
   "language": "python",
   "name": "python3"
  },
  "language_info": {
   "codemirror_mode": {
    "name": "ipython",
    "version": 3
   },
   "file_extension": ".py",
   "mimetype": "text/x-python",
   "name": "python",
   "nbconvert_exporter": "python",
   "pygments_lexer": "ipython3",
   "version": "3.12.0"
  }
 },
 "nbformat": 4,
 "nbformat_minor": 2
}
